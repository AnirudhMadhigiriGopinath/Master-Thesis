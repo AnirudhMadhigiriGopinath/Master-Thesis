{
 "cells": [
  {
   "cell_type": "code",
   "execution_count": null,
   "id": "75e56c7a-9138-4d2e-855f-e832f9a7b3be",
   "metadata": {},
   "outputs": [],
   "source": [
    "import pandas as pd\n",
    "import numpy as np\n",
    "pd.set_option('display.max_columns', 50000)\n",
    "pd.set_option('display.max_rows', 1000000)\n",
    "pd.set_option('display.max_colwidth',None)\n",
    "pd.set_option('display.float_format',lambda x: '%.4f' % x)\n",
    "import warnings\n",
    "warnings.filterwarnings(\"ignore\")\n",
    "import matplotlib.pyplot as plt\n",
    "import seaborn as sns\n",
    "import plotly as pl\n",
    "import plotly.express as px\n",
    "import plotly.graph_objects as go\n",
    "from matplotlib.pyplot import figure\n",
    "import matplotlib.pylab as pll\n",
    "from collections import Counter\n",
    "from datetime import datetime\n",
    "import time\n",
    "import random\n",
    "import math\n",
    "import os\n",
    "import itertools\n",
    "from matplotlib import ticker\n",
    "import matplotlib.colors as colors\n",
    "from pylab import rcParams"
   ]
  },
  {
   "cell_type": "code",
   "execution_count": null,
   "id": "01323237-4263-4ae5-86bc-37359a057386",
   "metadata": {
    "scrolled": true,
    "tags": []
   },
   "outputs": [],
   "source": [
    "slurm1 = pd.read_csv('SlurmPlot2.csv')\n",
    "slurm1.tail(100)"
   ]
  },
  {
   "cell_type": "code",
   "execution_count": null,
   "id": "a72ad645-e85d-40bf-8de9-5a7fb3886443",
   "metadata": {},
   "outputs": [],
   "source": [
    "slurm1.head(2)"
   ]
  },
  {
   "cell_type": "code",
   "execution_count": null,
   "id": "5c237d09-312c-49ab-b127-f3a957061230",
   "metadata": {
    "scrolled": true,
    "tags": []
   },
   "outputs": [],
   "source": [
    "slurm = slurm1[['UID','JobID','Account','Submittimestamp','Start','End','Eligibletimestamp','Starttimestamp','Endtimestamp','AllocNodes','AllocCPUS','TimelimitRaw', 'NNodes','Submit','State','ExitCode','QOS','QOSRAW','Partition','TRESAllocMem','TRESINMaxUsagemem','TotalCPUtime']]"
   ]
  },
  {
   "cell_type": "code",
   "execution_count": null,
   "id": "4e87a32e-ff0a-4546-a696-5c05144f334b",
   "metadata": {},
   "outputs": [],
   "source": [
    "slurm = slurm[slurm[\"Starttimestamp\"] != 'Unknown']\n",
    "slurm = slurm[slurm[\"Endtimestamp\"] != 'Unknown']\n",
    "slurm['JobLen'] = slurm['Endtimestamp'].astype(float) - slurm['Starttimestamp'].astype(float)\n",
    "slurm['Totalres'] = slurm['JobLen'] * slurm['NNodes']\n",
    "slurm['JobID'] = slurm['JobID'].astype(str)"
   ]
  },
  {
   "cell_type": "code",
   "execution_count": null,
   "id": "03d6914e-3fa0-483a-8c95-4a735e3834ae",
   "metadata": {
    "scrolled": true,
    "tags": []
   },
   "outputs": [],
   "source": [
    "discard = [\".\"]\n",
    "waittime = slurm[~slurm.JobID.str.contains('|'.join(discard),regex = False)]\n",
    "waittime['Jcount'] = 1\n",
    "waittime['Waittime'] = waittime['Starttimestamp'].astype(float) - waittime['Submittimestamp'].astype(float)"
   ]
  },
  {
   "cell_type": "code",
   "execution_count": null,
   "id": "a6d545e7-5d5c-4ee5-bc0d-77d5d5db43b4",
   "metadata": {},
   "outputs": [],
   "source": [
    "waittime['year'] = pd.DatetimeIndex(waittime['Submit']).year\n",
    "waittime['month'] = pd.DatetimeIndex(waittime['Submit']).month\n",
    "waittime['year'] = waittime['year'].apply(str)\n",
    "waittime['month'] = waittime['month'].apply(str)\n",
    "waittime['yearmonth'] = waittime['year'] + '-' + waittime['month']"
   ]
  },
  {
   "cell_type": "code",
   "execution_count": null,
   "id": "43fafbb4-937d-40c7-bf2d-9baf2fec4399",
   "metadata": {},
   "outputs": [],
   "source": [
    "waittime.head()"
   ]
  },
  {
   "cell_type": "code",
   "execution_count": null,
   "id": "86efa14a-9295-4cbb-9204-49d47bfc72aa",
   "metadata": {},
   "outputs": [],
   "source": [
    "waittime = waittime.loc[waittime.JobLen >= 0]"
   ]
  },
  {
   "cell_type": "code",
   "execution_count": null,
   "id": "c711bda9-8d24-4dd3-8baf-41aaabc14979",
   "metadata": {},
   "outputs": [],
   "source": [
    "waittime.info()"
   ]
  },
  {
   "cell_type": "code",
   "execution_count": null,
   "id": "8667b68d-65d0-488d-bc66-7d7137daf796",
   "metadata": {},
   "outputs": [],
   "source": []
  },
  {
   "cell_type": "code",
   "execution_count": null,
   "id": "c0730cc8-7075-4145-a961-0772adbb8092",
   "metadata": {},
   "outputs": [],
   "source": [
    "waittime.head(2)"
   ]
  },
  {
   "cell_type": "markdown",
   "id": "c9fe35c5-aa24-42f4-8240-b0254596f2f6",
   "metadata": {},
   "source": [
    "## Histogram of timelimit for each project"
   ]
  },
  {
   "cell_type": "code",
   "execution_count": null,
   "id": "70c57a56-5062-44bb-84ff-596b7af07f64",
   "metadata": {},
   "outputs": [],
   "source": [
    "maxxt = waittime.TimelimitRaw.values.max()\n",
    "meant = waittime.TimelimitRaw.values.mean()\n",
    "print(maxxt)\n",
    "print(meant)"
   ]
  },
  {
   "cell_type": "code",
   "execution_count": null,
   "id": "306919e6-5873-4c30-ba01-b02c3d80b110",
   "metadata": {},
   "outputs": [],
   "source": []
  },
  {
   "cell_type": "code",
   "execution_count": null,
   "id": "f3d3f4b5-e5ad-4ffd-9fc6-1dd30353ed3b",
   "metadata": {},
   "outputs": [],
   "source": []
  },
  {
   "cell_type": "code",
   "execution_count": null,
   "id": "7aec5be4-d021-425b-b503-0e42b2b08d02",
   "metadata": {},
   "outputs": [],
   "source": [
    "smaller = []\n",
    "smaller = np.linspace(0, meant, 30,endpoint=False)\n",
    "smaller = [l.tolist() for l in smaller]\n",
    "smaller1 = np.linspace(0, smaller[1], 15 ,endpoint=False)\n",
    "smaller1 = [l.tolist() for l in smaller1]\n",
    "smaller1 = [ '%.1f' % elem for elem in smaller1 ]\n",
    "smaller1"
   ]
  },
  {
   "cell_type": "code",
   "execution_count": null,
   "id": "a99fe9c5-15a6-4b20-a892-e5a042d10111",
   "metadata": {},
   "outputs": [],
   "source": [
    "del smaller1[0]"
   ]
  },
  {
   "cell_type": "code",
   "execution_count": null,
   "id": "c4c4d18e-5b7d-4e45-945e-790a7e1df060",
   "metadata": {},
   "outputs": [],
   "source": [
    "waittimets = waittime[['Account','TimelimitRaw']]\n",
    "smaller1 = np.asarray(smaller1, dtype = float)\n",
    "coun = 0\n",
    "for idx,row in waittimets.iterrows():\n",
    "    for index, elem in enumerate(smaller1):\n",
    "        if waittimets.loc[idx,'TimelimitRaw'] <= smaller1[0]:\n",
    "            waittimets.loc[idx,'Ts 0-{}'.format(smaller1[0])] = 1    \n",
    "        else:\n",
    "            waittimets.loc[idx,'Ts 0-{}'.format(smaller1[0])] = 0   \n",
    "        prevele = smaller1[index - 1]      \n",
    "        if waittimets.loc[idx,'TimelimitRaw'] > prevele and waittimets.loc[idx,'TimelimitRaw'] <= elem:\n",
    "            waittimets.loc[idx,'Ts {}-{}'.format(prevele,elem)] = 1\n",
    "        else:\n",
    "            waittimets.loc[idx,'Ts {}-{}'.format(prevele,elem)] = 0\n",
    "    coun = coun + 1\n",
    "    if coun % 10000 == 0:\n",
    "        print(coun)"
   ]
  },
  {
   "cell_type": "code",
   "execution_count": null,
   "id": "fabf96ca-54e2-42d8-b44d-3506dc212b08",
   "metadata": {},
   "outputs": [],
   "source": [
    "waittimets.head()"
   ]
  },
  {
   "cell_type": "code",
   "execution_count": null,
   "id": "e141fcd3-1821-4f05-913c-72b15bab84c0",
   "metadata": {},
   "outputs": [],
   "source": [
    "waittimets = waittimets.drop(['Ts 15.8-1.1'], axis=1)\n",
    "colets = waittimets.columns\n",
    "colets = colets.tolist()\n",
    "colets"
   ]
  },
  {
   "cell_type": "code",
   "execution_count": null,
   "id": "dc113d69-02e4-4d96-9171-9701f5b95be2",
   "metadata": {},
   "outputs": [],
   "source": [
    "cts = waittimets.groupby('Account', as_index=False)[\n",
    " 'Ts 0-1.1',\n",
    " 'Ts 1.1-2.3',\n",
    " 'Ts 2.3-3.4',\n",
    " 'Ts 3.4-4.5',\n",
    " 'Ts 4.5-5.6',\n",
    " 'Ts 5.6-6.8',\n",
    " 'Ts 6.8-7.9',\n",
    " 'Ts 7.9-9.0',\n",
    " 'Ts 9.0-10.1',\n",
    " 'Ts 10.1-11.3',\n",
    " 'Ts 11.3-12.4',\n",
    " 'Ts 12.4-13.5',\n",
    " 'Ts 13.5-14.6',\n",
    " 'Ts 14.6-15.8'].sum()"
   ]
  },
  {
   "cell_type": "code",
   "execution_count": null,
   "id": "d56dfce7-3c6d-4f41-a576-fd3a2b13d915",
   "metadata": {},
   "outputs": [],
   "source": [
    "coun = 0\n",
    "rcParams['figure.figsize'] = 20, 10\n",
    "for idx,row in cts.iterrows():\n",
    "        count = row.Account\n",
    "        temp = row.drop(labels = ['Account'])\n",
    "        print(temp)\n",
    "        fig,ax = plt.subplots()\n",
    "        ax.grid(False)\n",
    "        ax.set_title(\"Number of jobs according to Time limit for the Account {}\".format(str(count)),size=18)\n",
    "        width = .5 \n",
    "        temp.plot(kind = 'bar')\n",
    "        ax.set_xlabel('Time limit criteria', fontsize=18)\n",
    "        ax.set_ylabel('Number of jobs', fontsize=18)\n",
    "        ax.set_xticklabels([\n",
    " '0-44',\n",
    " '44-89',\n",
    " '89-134',\n",
    " '134-179',\n",
    " '179-224',\n",
    " '224-269',\n",
    " '269-314',\n",
    " '314-358',\n",
    " '358-403',\n",
    " '403-448',\n",
    " '448-493',\n",
    " '493-538',\n",
    " '538-583',\n",
    " '583-627'],size = 18)\n",
    "        for tick in ax.get_yticklabels():\n",
    "            tick.set_fontsize(\"18\")\n",
    "        plt.show()\n",
    "        coun = coun + 1\n",
    "        if not os.path.exists('Histogram_timelimit_sub'):\n",
    "            os.makedirs('Histogram_timelimit_sub')\n",
    "        fig.savefig('Histogram_timelimit_sub/{}.png'.format(str(coun)),bbox_inches='tight', dpi=100)"
   ]
  },
  {
   "cell_type": "code",
   "execution_count": null,
   "id": "24dd9b00-f58c-48c2-897f-dce39c0fc138",
   "metadata": {},
   "outputs": [],
   "source": []
  },
  {
   "cell_type": "code",
   "execution_count": null,
   "id": "5934ed3a-d18f-4272-bcf0-0ee98340c331",
   "metadata": {},
   "outputs": [],
   "source": []
  },
  {
   "cell_type": "code",
   "execution_count": null,
   "id": "6700c1d0-3de6-4703-857d-8ac302c1710f",
   "metadata": {},
   "outputs": [],
   "source": []
  },
  {
   "cell_type": "code",
   "execution_count": null,
   "id": "29b31951-da16-4267-8854-86c494a1f2fb",
   "metadata": {},
   "outputs": [],
   "source": []
  },
  {
   "cell_type": "code",
   "execution_count": null,
   "id": "b34bfb90-c038-4f07-ad73-a5aa3b670cf9",
   "metadata": {},
   "outputs": [],
   "source": []
  },
  {
   "cell_type": "code",
   "execution_count": null,
   "id": "2c80651d-cba2-4d12-bda2-f78e7077c5fb",
   "metadata": {},
   "outputs": [],
   "source": []
  },
  {
   "cell_type": "code",
   "execution_count": null,
   "id": "78767e6a-2a9a-4ecb-b650-fe1ad1f8e833",
   "metadata": {},
   "outputs": [],
   "source": [
    "partst = []\n",
    "parts1t = []\n",
    "parts2t = []\n",
    "parts3t = []\n",
    "partst = np.linspace(0, meant, 30,endpoint=False)\n",
    "parts1t = np.linspace(meant, maxxt, 3)\n",
    "partst = [l.tolist() for l in partst]\n",
    "parts1t = [l.tolist() for l in parts1t]\n",
    "parts2t.append(np.linspace(parts1t[0], parts1t[1], 10,endpoint=False))\n",
    "parts3t.append(np.linspace(parts1t[1], parts1t[2], 10,endpoint=False))\n",
    "parts2t = [l2.tolist() for l2 in parts2t]\n",
    "parts2t = list(np.concatenate(parts2t).flat)\n",
    "parts3t = [l3.tolist() for l3 in parts3t]\n",
    "parts3t = list(np.concatenate(parts3t).flat)"
   ]
  },
  {
   "cell_type": "code",
   "execution_count": null,
   "id": "30ac43c1-372f-4b57-804c-e2c96eb918aa",
   "metadata": {
    "scrolled": true,
    "tags": []
   },
   "outputs": [],
   "source": [
    "partst = partst + parts2t + parts3t\n",
    "del partst[0]\n",
    "partst"
   ]
  },
  {
   "cell_type": "code",
   "execution_count": null,
   "id": "20c73063-ec5c-4d95-bc21-882b362ddb8c",
   "metadata": {},
   "outputs": [],
   "source": [
    "partst = [ '%.2f' % elem for elem in partst ]\n"
   ]
  },
  {
   "cell_type": "code",
   "execution_count": null,
   "id": "217ade46-2220-4d5f-b578-e1928f9bd2c6",
   "metadata": {
    "scrolled": true,
    "tags": []
   },
   "outputs": [],
   "source": [
    "partst"
   ]
  },
  {
   "cell_type": "code",
   "execution_count": null,
   "id": "94f078a5-e60d-4d23-b2ee-14c10deeb138",
   "metadata": {},
   "outputs": [],
   "source": [
    "partst = np.asarray(partst, dtype = float)"
   ]
  },
  {
   "cell_type": "code",
   "execution_count": null,
   "id": "a8a8932b-79c0-4d24-97bb-5fc7a5cc1a8d",
   "metadata": {
    "scrolled": true,
    "tags": []
   },
   "outputs": [],
   "source": [
    "waittimet = waittime[['Account','TimelimitRaw']]\n",
    "coun = 0\n",
    "for idx,row in waittimet.iterrows():\n",
    "    for index, elem in enumerate(partst):\n",
    "        if waittimet.loc[idx,'TimelimitRaw'] <= partst[0]:\n",
    "            waittimet.loc[idx,'T 0-{}'.format(partst[0])] = 1    \n",
    "        else:\n",
    "            waittimet.loc[idx,'T 0-{}'.format(partst[0])] = 0   \n",
    "        prevele = partst[index - 1]      \n",
    "        if waittimet.loc[idx,'TimelimitRaw'] > prevele and waittimet.loc[idx,'TimelimitRaw'] <= elem:\n",
    "            waittimet.loc[idx,'T {}-{}'.format(prevele,elem)] = 1\n",
    "        else:\n",
    "            waittimet.loc[idx,'T {}-{}'.format(prevele,elem)] = 0\n",
    "    coun = coun + 1\n",
    "    if coun % 10000 == 0:\n",
    "        print(coun)"
   ]
  },
  {
   "cell_type": "code",
   "execution_count": null,
   "id": "1b50e4c2-2e1e-477f-991c-0db49280a0e6",
   "metadata": {},
   "outputs": [],
   "source": [
    "waittimet.head()"
   ]
  },
  {
   "cell_type": "code",
   "execution_count": null,
   "id": "794a1034-30e1-402d-b36c-db8c1dd64ef1",
   "metadata": {
    "tags": []
   },
   "outputs": [],
   "source": [
    "waittimet1 = waittimet.drop(['T 28753.35-16.9'], axis=1)\n",
    "colt = waittimet1.columns\n",
    "colt = colt.tolist()\n",
    "colt"
   ]
  },
  {
   "cell_type": "code",
   "execution_count": null,
   "id": "a8c4b8d3-203a-4bf2-a371-d5dbaec79411",
   "metadata": {},
   "outputs": [],
   "source": [
    "ccc = waittimet1.groupby('Account', as_index=False)[\n",
    " 'T 0-16.9',\n",
    " 'T 16.9-33.8',\n",
    " 'T 33.8-50.7',\n",
    " 'T 50.7-67.61',\n",
    " 'T 67.61-84.51',\n",
    " 'T 84.51-101.41',\n",
    " 'T 101.41-118.31',\n",
    " 'T 118.31-135.21',\n",
    " 'T 135.21-152.11',\n",
    " 'T 152.11-169.02',\n",
    " 'T 169.02-185.92',\n",
    " 'T 185.92-202.82',\n",
    " 'T 202.82-219.72',\n",
    " 'T 219.72-236.62',\n",
    " 'T 236.62-253.52',\n",
    " 'T 253.52-270.42',\n",
    " 'T 270.42-287.33',\n",
    " 'T 287.33-304.23',\n",
    " 'T 304.23-321.13',\n",
    " 'T 321.13-338.03',\n",
    " 'T 338.03-354.93',\n",
    " 'T 354.93-371.83',\n",
    " 'T 371.83-388.74',\n",
    " 'T 388.74-405.64',\n",
    " 'T 405.64-422.54',\n",
    " 'T 422.54-439.44',\n",
    " 'T 439.44-456.34',\n",
    " 'T 456.34-473.24',\n",
    " 'T 473.24-490.14',\n",
    " 'T 490.14-507.05',\n",
    " 'T 507.05-1993.69',\n",
    " 'T 1993.69-3480.34',\n",
    " 'T 3480.34-4966.99',\n",
    " 'T 4966.99-6453.64',\n",
    " 'T 6453.64-7940.28',\n",
    " 'T 7940.28-9426.93',\n",
    " 'T 9426.93-10913.58',\n",
    " 'T 10913.58-12400.23',\n",
    " 'T 12400.23-13886.88',\n",
    " 'T 13886.88-15373.52',\n",
    " 'T 15373.52-16860.17',\n",
    " 'T 16860.17-18346.82',\n",
    " 'T 18346.82-19833.47',\n",
    " 'T 19833.47-21320.11',\n",
    " 'T 21320.11-22806.76',\n",
    " 'T 22806.76-24293.41',\n",
    " 'T 24293.41-25780.06',\n",
    " 'T 25780.06-27266.7',\n",
    " 'T 27266.7-28753.35'].sum()"
   ]
  },
  {
   "cell_type": "code",
   "execution_count": null,
   "id": "f94f8423-8b40-451c-a3f0-402731c31669",
   "metadata": {
    "scrolled": true,
    "tags": []
   },
   "outputs": [],
   "source": [
    "coun = 0\n",
    "rcParams['figure.figsize'] = 20, 10\n",
    "for idx,row in ccc.iterrows():\n",
    "        count = row.Account\n",
    "        temp = row.drop(labels = ['Account'])\n",
    "        print(temp)\n",
    "        fig,ax = plt.subplots()\n",
    "        ax.grid(False)\n",
    "        ax.set_title(\"Number of jobs according to Time limit for the Account {}\".format(str(count)),size=18)\n",
    "        width = .5 \n",
    "        temp.plot(kind = 'bar')\n",
    "        ax.set_xlabel('Time limit criteria', fontsize=18)\n",
    "        ax.set_ylabel('Number of jobs', fontsize=18)\n",
    "        ax.set_xticklabels( [\n",
    " '0-16',\n",
    " '16-33',\n",
    " '33-50',\n",
    " '50-67',\n",
    " '67-84',\n",
    " '84-101',\n",
    " '101-118',\n",
    " '118-135',\n",
    " '135-152',\n",
    " '152-169',\n",
    " '169-185',\n",
    " '185-202',\n",
    " '202-219',\n",
    " '219-236',\n",
    " '236-253',\n",
    " '253-270',\n",
    " '270-287',\n",
    " '287-304',\n",
    " '304-321',\n",
    " '321-338',\n",
    " '338-354',\n",
    " '354-371',\n",
    " '371-388',\n",
    " '388-405',\n",
    " '405-422',\n",
    " '422-439',\n",
    " '439-456',\n",
    " '456-473',\n",
    " '473-490',\n",
    " '490-507',\n",
    " '507-1993',\n",
    " '1993-3480',\n",
    " '3480-4966',\n",
    " '4966-6453',\n",
    " '6453-7940',\n",
    " '7940-9426',\n",
    " '9426-10913',\n",
    " '10913-12400',\n",
    " '12400-13886',\n",
    " '13886-15373',\n",
    " '15373-16860',\n",
    " '16860-18346',\n",
    " '18346-19833',\n",
    " '19833-21320',\n",
    " '21320-22806',\n",
    " '22806-24293',\n",
    " '24293-25780',\n",
    " '25780-27266',\n",
    " '27266-28753'],size = 16)\n",
    "        for tick in ax.get_yticklabels():\n",
    "            tick.set_fontsize(\"16\")\n",
    "        plt.show()\n",
    "        coun = coun + 1\n",
    "        if not os.path.exists('Histogram_timelimit'):\n",
    "            os.makedirs('Histogram_timelimit')\n",
    "        fig.savefig('Histogram_timelimit/{}.png'.format(str(coun)),bbox_inches='tight', dpi=100)"
   ]
  },
  {
   "cell_type": "markdown",
   "id": "e998ec0b-e46a-4e1d-90d7-ede2bc001d09",
   "metadata": {},
   "source": [
    "## Timelimit estimation histogram for each project"
   ]
  },
  {
   "cell_type": "code",
   "execution_count": null,
   "id": "a2406283-1fac-4e01-954b-74950f24d018",
   "metadata": {},
   "outputs": [],
   "source": [
    "waittimef = waittime.loc[(waittime.State == \"COMPLETED\")]"
   ]
  },
  {
   "cell_type": "code",
   "execution_count": null,
   "id": "42fb113b-6a93-491c-a921-1417fc664266",
   "metadata": {
    "scrolled": true,
    "tags": []
   },
   "outputs": [],
   "source": [
    "waittimef.head(100)"
   ]
  },
  {
   "cell_type": "code",
   "execution_count": null,
   "id": "36f3267e-2c89-451b-90ee-76176b7a8aa1",
   "metadata": {},
   "outputs": [],
   "source": [
    "waittimef['Estimation'] =  waittimef['TimelimitRaw'] / (waittimef['JobLen']/60) "
   ]
  },
  {
   "cell_type": "code",
   "execution_count": null,
   "id": "289637cb-cfba-4922-9780-190602a3042a",
   "metadata": {},
   "outputs": [],
   "source": [
    "for idx, row in waittimef.iterrows():\n",
    "    if  waittimef.loc[idx,'JobLen'] == 0:\n",
    "        waittimef.loc[idx,'Estimation'] = waittimef.loc[idx,'TimelimitRaw']"
   ]
  },
  {
   "cell_type": "code",
   "execution_count": null,
   "id": "e0452b38-6288-4d06-a667-4abcb82e88f4",
   "metadata": {},
   "outputs": [],
   "source": [
    "waittimef = waittimef[['UID','Account','JobID','TimelimitRaw','NNodes','QOS','Partition','JobLen','Jcount','Estimation','month','yearmonth','year']]"
   ]
  },
  {
   "cell_type": "code",
   "execution_count": null,
   "id": "4bde81ec-bcef-490f-b76f-ffbb39dcae30",
   "metadata": {},
   "outputs": [],
   "source": [
    "waittimefe = waittimef[['Account','Estimation']]"
   ]
  },
  {
   "cell_type": "code",
   "execution_count": null,
   "id": "9febbf86-f8f5-40fc-aadf-6b2859c61d8e",
   "metadata": {},
   "outputs": [],
   "source": [
    "waittimefer = waittimef[['Account','Estimation']]"
   ]
  },
  {
   "cell_type": "code",
   "execution_count": null,
   "id": "a850e667-0825-454a-ad49-6ff549e3305e",
   "metadata": {},
   "outputs": [],
   "source": [
    "maxxe = waittimefe.Estimation.values.max()\n",
    "meane = waittimefe.Estimation.values.mean()\n",
    "print(maxxe)\n",
    "print(meane)"
   ]
  },
  {
   "cell_type": "code",
   "execution_count": null,
   "id": "2c82b41a-3c40-44af-8056-22cb3f021aa9",
   "metadata": {},
   "outputs": [],
   "source": [
    "smallerbins = []\n",
    "smallerbins = np.linspace(0, meane, 30,endpoint=False)\n",
    "smallerbins = [l.tolist() for l in smallerbins]\n",
    "smallerbin1 = np.linspace(0, smallerbins[1], 15 ,endpoint=False)\n",
    "smallerbin1 = [l.tolist() for l in smallerbin1]\n",
    "smallerbin1 = [ '%.1f' % elem for elem in smallerbin1 ]\n",
    "smallerbin1"
   ]
  },
  {
   "cell_type": "code",
   "execution_count": null,
   "id": "e4b765ec-f01f-425f-b8f7-4d27606747d3",
   "metadata": {},
   "outputs": [],
   "source": [
    "del smallerbin1[0]"
   ]
  },
  {
   "cell_type": "code",
   "execution_count": null,
   "id": "9699cbf7-5597-4aa8-ad7e-6c8f8914dba5",
   "metadata": {},
   "outputs": [],
   "source": [
    "smallerbin1"
   ]
  },
  {
   "cell_type": "code",
   "execution_count": null,
   "id": "7ca7f94e-a965-49cf-80ce-72e1fef724b1",
   "metadata": {},
   "outputs": [],
   "source": [
    "smallerbin1 = np.asarray(smallerbin1, dtype = float)\n",
    "coun = 0\n",
    "for idx,row in waittimefer.iterrows():\n",
    "    for index, elem in enumerate(smallerbin1):\n",
    "        if waittimefer.loc[idx,'Estimation'] <= smallerbin1[0]:\n",
    "            waittimefer.loc[idx,'E 0-{}'.format(smallerbin1[0])] = 1    \n",
    "        else:\n",
    "            waittimefer.loc[idx,'E 0-{}'.format(smallerbin1[0])] = 0   \n",
    "        prevele = smallerbin1[index - 1]      \n",
    "        if waittimefer.loc[idx,'Estimation'] > prevele and waittimefer.loc[idx,'Estimation'] <= elem:\n",
    "            waittimefer.loc[idx,'E {}-{}'.format(prevele,elem)] = 1\n",
    "        else:\n",
    "            waittimefer.loc[idx,'E {}-{}'.format(prevele,elem)] = 0\n",
    "    coun = coun + 1\n",
    "    if coun % 10000 == 0:\n",
    "        print(coun)"
   ]
  },
  {
   "cell_type": "code",
   "execution_count": null,
   "id": "b4075824-8d01-4b5c-8f5e-0c01caaf2355",
   "metadata": {},
   "outputs": [],
   "source": [
    "waittimefer.head()"
   ]
  },
  {
   "cell_type": "code",
   "execution_count": null,
   "id": "132830ca-1fbc-4703-9aa6-5b2744c9de03",
   "metadata": {},
   "outputs": [],
   "source": [
    "waittimefer = waittimefer.drop(['E 17.1-1.2'], axis=1)\n",
    "coler = waittimefer.columns\n",
    "coler = coler.tolist()\n",
    "coler"
   ]
  },
  {
   "cell_type": "code",
   "execution_count": null,
   "id": "ff45b238-089d-400b-a5f1-195740915953",
   "metadata": {},
   "outputs": [],
   "source": [
    "cr = waittimefer.groupby('Account', as_index=False)[\n",
    " 'E 0-1.2',\n",
    " 'E 1.2-2.4',\n",
    " 'E 2.4-3.7',\n",
    " 'E 3.7-4.9',\n",
    " 'E 4.9-6.1',\n",
    " 'E 6.1-7.3',\n",
    " 'E 7.3-8.5',\n",
    " 'E 8.5-9.8',\n",
    " 'E 9.8-11.0',\n",
    " 'E 11.0-12.2',\n",
    " 'E 12.2-13.4',\n",
    " 'E 13.4-14.6',\n",
    " 'E 14.6-15.9',\n",
    " 'E 15.9-17.1'].sum()"
   ]
  },
  {
   "cell_type": "code",
   "execution_count": null,
   "id": "0b5fb6d1-98c6-4dd1-a012-92def4e3cce8",
   "metadata": {
    "scrolled": true,
    "tags": []
   },
   "outputs": [],
   "source": [
    "coun = 0\n",
    "rcParams['figure.figsize'] = 20, 10\n",
    "for idx,row in cr.iterrows():\n",
    "        count = row.Account\n",
    "        temp = row.drop(labels = ['Account'])\n",
    "        print(temp)\n",
    "        fig,ax = plt.subplots()\n",
    "        ax.grid(False)\n",
    "        ax.set_title(\"Number of jobs according to time limit estimation for the Account {}\".format(str(count)),size=18)\n",
    "        width = .5 \n",
    "        temp.plot(kind = 'bar')\n",
    "        ax.set_xlabel('Estimation criteria', fontsize=18)\n",
    "        ax.set_ylabel('Number of jobs', fontsize=18)\n",
    "        ax.set_xticklabels([\n",
    " '0-1',\n",
    " '1-2',\n",
    " '2-3',\n",
    " '3-4',\n",
    " '4-6',\n",
    " '6-7',\n",
    " '7-8',\n",
    " '8-9',\n",
    " '9-11',\n",
    " '11-12',\n",
    " '12-13',\n",
    " '13-14',\n",
    " '14-15',\n",
    " '15-17'],size = 18)\n",
    "        for tick in ax.get_yticklabels():\n",
    "            tick.set_fontsize(\"18\")\n",
    "        plt.show()\n",
    "        coun = coun + 1\n",
    "        if not os.path.exists('Histogram_Estimation_sub'):\n",
    "            os.makedirs('Histogram_Estimation_sub')\n",
    "        fig.savefig('Histogram_Estimation_sub/{}.png'.format(str(coun)),bbox_inches='tight', dpi=100)"
   ]
  },
  {
   "cell_type": "code",
   "execution_count": null,
   "id": "a7317029-9b53-4b4f-bfa7-ca6101d5c878",
   "metadata": {},
   "outputs": [],
   "source": [
    "partse = []\n",
    "parts1e = []\n",
    "parts2e = []\n",
    "parts3e = []\n",
    "partse = np.linspace(0, meane, 30,endpoint=False)\n",
    "parts1e = np.linspace(meane, maxxe, 3)\n",
    "partse = [l.tolist() for l in partse]\n",
    "parts1e = [l.tolist() for l in parts1e]\n",
    "parts2e.append(np.linspace(parts1e[0], parts1e[1], 10,endpoint=False))\n",
    "parts3e.append(np.linspace(parts1e[1], parts1e[2], 10,endpoint=False))\n",
    "parts2e = [l2.tolist() for l2 in parts2e]\n",
    "parts2e = list(np.concatenate(parts2e).flat)\n",
    "parts3e = [l3.tolist() for l3 in parts3e]\n",
    "parts3e = list(np.concatenate(parts3e).flat)"
   ]
  },
  {
   "cell_type": "code",
   "execution_count": null,
   "id": "5daaa875-ba6e-4f5a-b37f-70fa210575ca",
   "metadata": {},
   "outputs": [],
   "source": [
    "partse = partse + parts2e + parts3e\n",
    "del partse[0]\n"
   ]
  },
  {
   "cell_type": "code",
   "execution_count": null,
   "id": "9e967ed9-4a19-4ecd-8466-6b30dfac3122",
   "metadata": {},
   "outputs": [],
   "source": [
    "partse = [ '%.2f' % elem for elem in partse ]\n",
    "partse"
   ]
  },
  {
   "cell_type": "code",
   "execution_count": null,
   "id": "ea26a829-8638-4cb9-8f31-a97976407d3b",
   "metadata": {},
   "outputs": [],
   "source": [
    "partse = np.asarray(partse, dtype = float)"
   ]
  },
  {
   "cell_type": "code",
   "execution_count": null,
   "id": "d6018e1e-b2f0-4662-af9d-ea8f6a32d719",
   "metadata": {},
   "outputs": [],
   "source": [
    "coun = 0\n",
    "for idx,row in waittimefe.iterrows():\n",
    "    for index, elem in enumerate(partse):\n",
    "        if waittimefe.loc[idx,'Estimation'] <= partse[0]:\n",
    "            waittimefe.loc[idx,'E 0-{}'.format(partse[0])] = 1    \n",
    "        else:\n",
    "            waittimefe.loc[idx,'E 0-{}'.format(partse[0])] = 0   \n",
    "        prevele = partse[index - 1]      \n",
    "        if waittimefe.loc[idx,'Estimation'] > prevele and waittimefe.loc[idx,'Estimation'] <= elem:\n",
    "            waittimefe.loc[idx,'E {}-{}'.format(prevele,elem)] = 1\n",
    "        else:\n",
    "            waittimefe.loc[idx,'E {}-{}'.format(prevele,elem)] = 0\n",
    "    coun = coun + 1\n",
    "    if coun % 10000 == 0:\n",
    "        print(coun)"
   ]
  },
  {
   "cell_type": "code",
   "execution_count": null,
   "id": "19b65096-e6d0-4af1-94fd-78b519d84f07",
   "metadata": {},
   "outputs": [],
   "source": [
    "waittimefe.head()"
   ]
  },
  {
   "cell_type": "code",
   "execution_count": null,
   "id": "a7202d5b-9bfa-4c23-948e-3e36bf30a8b6",
   "metadata": {},
   "outputs": [],
   "source": [
    "waittimefe = waittimefe.drop(['E 1716867.47-18.31'], axis=1)\n",
    "cole = waittimefe.columns\n",
    "cole = cole.tolist()\n",
    "cole"
   ]
  },
  {
   "cell_type": "code",
   "execution_count": null,
   "id": "a590af90-7187-4d63-b070-97f460b67ee9",
   "metadata": {},
   "outputs": [],
   "source": [
    "cccc = waittimefe.groupby('Account', as_index=False)[\n",
    " 'E 0-18.31',\n",
    " 'E 18.31-36.62',\n",
    " 'E 36.62-54.94',\n",
    " 'E 54.94-73.25',\n",
    " 'E 73.25-91.56',\n",
    " 'E 91.56-109.87',\n",
    " 'E 109.87-128.18',\n",
    " 'E 128.18-146.5',\n",
    " 'E 146.5-164.81',\n",
    " 'E 164.81-183.12',\n",
    " 'E 183.12-201.43',\n",
    " 'E 201.43-219.74',\n",
    " 'E 219.74-238.06',\n",
    " 'E 238.06-256.37',\n",
    " 'E 256.37-274.68',\n",
    " 'E 274.68-292.99',\n",
    " 'E 292.99-311.3',\n",
    " 'E 311.3-329.62',\n",
    " 'E 329.62-347.93',\n",
    " 'E 347.93-366.24',\n",
    " 'E 366.24-384.55',\n",
    " 'E 384.55-402.86',\n",
    " 'E 402.86-421.18',\n",
    " 'E 421.18-439.49',\n",
    " 'E 439.49-457.8',\n",
    " 'E 457.8-476.11',\n",
    " 'E 476.11-494.42',\n",
    " 'E 494.42-512.74',\n",
    " 'E 512.74-531.05',\n",
    " 'E 531.05-549.36',\n",
    " 'E 549.36-90881.89',\n",
    " 'E 90881.89-181214.42',\n",
    " 'E 181214.42-271546.96',\n",
    " 'E 271546.96-361879.49',\n",
    " 'E 361879.49-452212.02',\n",
    " 'E 452212.02-542544.55',\n",
    " 'E 542544.55-632877.08',\n",
    " 'E 632877.08-723209.62',\n",
    " 'E 723209.62-813542.15',\n",
    " 'E 813542.15-903874.68',\n",
    " 'E 903874.68-994207.21',\n",
    " 'E 994207.21-1084539.74',\n",
    " 'E 1084539.74-1174872.28',\n",
    " 'E 1174872.28-1265204.81',\n",
    " 'E 1265204.81-1355537.34',\n",
    " 'E 1355537.34-1445869.87',\n",
    " 'E 1445869.87-1536202.4',\n",
    " 'E 1536202.4-1626534.94',\n",
    " 'E 1626534.94-1716867.47'].sum()"
   ]
  },
  {
   "cell_type": "code",
   "execution_count": null,
   "id": "7ab1908c-9c3b-405f-a3b2-a6f254900b84",
   "metadata": {
    "scrolled": true,
    "tags": []
   },
   "outputs": [],
   "source": [
    "coun = 0\n",
    "rcParams['figure.figsize'] = 20, 10\n",
    "for idx,row in cccc.iterrows():\n",
    "        count = row.Account\n",
    "        temp = row.drop(labels = ['Account'])\n",
    "        print(temp)\n",
    "        fig,ax = plt.subplots()\n",
    "        ax.grid(False)\n",
    "        ax.set_title(\"Number of jobs according to time limit estimation for the Account {}\".format(str(count)),size=18)\n",
    "        width = .5 \n",
    "        temp.plot(kind = 'bar')\n",
    "        ax.set_xlabel('Estimation criteria', fontsize=18)\n",
    "        ax.set_ylabel('Number of jobs', fontsize=18)\n",
    "        ax.set_xticklabels( \n",
    " [\n",
    " '0-18',\n",
    " '18-36',\n",
    " '36-54',\n",
    " '54-73',\n",
    " '73-91',\n",
    " '91-109',\n",
    " '109-128',\n",
    " '128-146',\n",
    " '146-164',\n",
    " '164-183',\n",
    " '183-201',\n",
    " '201-219',\n",
    " '219-238',\n",
    " '238-256',\n",
    " '256-274',\n",
    " '274-292',\n",
    " '292-311',\n",
    " '311-329',\n",
    " '329-347',\n",
    " '347-366',\n",
    " '366-384',\n",
    " '384-402',\n",
    " '402-421',\n",
    " '421-439',\n",
    " '439-457',\n",
    " '457-476',\n",
    " '476-494',\n",
    " '494-512',\n",
    " '512-531',\n",
    " '531-549',\n",
    " '549-90881',\n",
    " '90881-181214',\n",
    " '181214-271546',\n",
    " '271546-361879',\n",
    " '361879-452212',\n",
    " '452212-542544',\n",
    " '542544-632877',\n",
    " '632877-723209',\n",
    " '723209-813542',\n",
    " '813542-903874',\n",
    " '903874-994207',\n",
    " '994207-1084539',\n",
    " '1084539-1174872',\n",
    " '1174872-1265204',\n",
    " '1265204-1355537',\n",
    " '1355537-1445869',\n",
    " '1445869-1536202',\n",
    " '1536202-1626534',\n",
    " '1626534-1716867'],size = 16)\n",
    "        for tick in ax.get_yticklabels():\n",
    "            tick.set_fontsize(\"16\")\n",
    "\n",
    "        plt.show()\n",
    "        coun = coun + 1\n",
    "        if not os.path.exists('Histogram_Estimation'):\n",
    "            os.makedirs('Histogram_Estimation')\n",
    "        fig.savefig('Histogram_Estimation/{}.png'.format(str(coun)),bbox_inches='tight', dpi=100)"
   ]
  },
  {
   "cell_type": "code",
   "execution_count": null,
   "id": "60a6356a-8fe4-479c-9a7d-ec1149da51e1",
   "metadata": {},
   "outputs": [],
   "source": []
  },
  {
   "cell_type": "code",
   "execution_count": null,
   "id": "5c4449fb-b980-4c7e-b27f-ab8c0d5155ee",
   "metadata": {},
   "outputs": [],
   "source": []
  },
  {
   "cell_type": "code",
   "execution_count": null,
   "id": "69b58009-863a-4ec3-aee4-3d828c2f6ed3",
   "metadata": {
    "scrolled": true,
    "tags": []
   },
   "outputs": [],
   "source": [
    "waittimef.head(100)"
   ]
  },
  {
   "cell_type": "markdown",
   "id": "c76ec099-7547-4588-a4c8-3df20dd4d3de",
   "metadata": {},
   "source": [
    "## Estimation of timelimit to actual runtime according to job size "
   ]
  },
  {
   "cell_type": "code",
   "execution_count": null,
   "id": "8284ce25-736d-43a3-a2e2-61c4b68e8271",
   "metadata": {},
   "outputs": [],
   "source": [
    "waittimee_NN = waittimef.groupby('NNodes', as_index=False).agg({'Estimation':'mean','Jcount':'sum'})"
   ]
  },
  {
   "cell_type": "code",
   "execution_count": null,
   "id": "1d669a29-ad7c-44b6-9c32-9f2ce97a9626",
   "metadata": {},
   "outputs": [],
   "source": [
    "from pylab import rcParams\n",
    "rcParams['figure.figsize'] = 60, 10\n",
    "waittimee_NN['NNodes'] = waittimee_NN['NNodes'].apply(str)\n",
    "plots = sns.barplot(x ='NNodes',y = 'Estimation',data =  waittimee_NN)\n",
    "plots.set_title('Mean Estimation according to different job size',size = 22)\n",
    "for bar in plots.patches:\n",
    "    plots.annotate(format(bar.get_height(), '.2f'),\n",
    "                   (bar.get_x() + bar.get_width() / 2,\n",
    "                    bar.get_height()), ha='center', va='center',\n",
    "                   size=12, xytext=(0, 8),\n",
    "                   textcoords='offset points')\n",
    "plt.xticks(fontsize=20)\n",
    "plt.yticks(fontsize=20)\n",
    "if not os.path.exists('Timelimit_Analysis'):\n",
    "    os.makedirs('Timelimit_Analysis')\n",
    "plt.savefig('Timelimit_Analysis/Timelimit_Analysis_NN.png')"
   ]
  },
  {
   "cell_type": "markdown",
   "id": "773921e2-4c3b-4164-846b-6900432ce39c",
   "metadata": {},
   "source": [
    "## Estimation of timelimit to actual runtime according to project"
   ]
  },
  {
   "cell_type": "code",
   "execution_count": null,
   "id": "122771c9-ffe0-4c54-9333-3f816cde1e29",
   "metadata": {},
   "outputs": [],
   "source": [
    "waittimee_A = waittimef.groupby('Account', as_index=False).agg({'Estimation':'mean','Jcount':'sum'})"
   ]
  },
  {
   "cell_type": "code",
   "execution_count": null,
   "id": "7c8d619b-daf2-4cfd-8de1-b00b810be73c",
   "metadata": {},
   "outputs": [],
   "source": [
    "from pylab import rcParams\n",
    "rcParams['figure.figsize'] = 60, 10\n",
    "waittimee_A['Account'] = waittimee_A['Account'].apply(str)\n",
    "plots = sns.barplot(x ='Account',y = 'Estimation',data =  waittimee_A)\n",
    "plots.set_title('Mean Estimation according to different projects',size = 22)\n",
    "for bar in plots.patches:\n",
    "    plots.annotate(format(bar.get_height(), '.2f'),\n",
    "                   (bar.get_x() + bar.get_width() / 2,\n",
    "                    bar.get_height()), ha='center', va='center',\n",
    "                   size=12, xytext=(0, 8),\n",
    "                   textcoords='offset points')\n",
    "plt.xticks(fontsize=20)\n",
    "plt.yticks(fontsize=20)\n",
    "if not os.path.exists('Timelimit_Analysis'):\n",
    "    os.makedirs('Timelimit_Analysis')\n",
    "plt.savefig('Timelimit_Analysis/Timelimit_Analysis_Account.png')"
   ]
  },
  {
   "cell_type": "markdown",
   "id": "35f6346f-2d0e-4e46-bf53-de211d7a85ea",
   "metadata": {},
   "source": [
    "## Estimation of timelimit to actual runtime according to QOS"
   ]
  },
  {
   "cell_type": "code",
   "execution_count": null,
   "id": "229ccd00-7b3e-4ddf-abf9-e74ec3cc71ba",
   "metadata": {},
   "outputs": [],
   "source": [
    "waittimee_QOS = waittimef.groupby('QOS', as_index=False).agg({'Estimation':'mean','Jcount':'sum'})"
   ]
  },
  {
   "cell_type": "code",
   "execution_count": null,
   "id": "f26b026c-91af-4cf0-b32b-feedec0ca6f4",
   "metadata": {},
   "outputs": [],
   "source": [
    "from pylab import rcParams\n",
    "rcParams['figure.figsize'] = 10, 8\n",
    "waittimee_QOS['QOS'] = waittimee_QOS['QOS'].apply(str)\n",
    "plots = sns.barplot(x ='QOS',y = 'Estimation',data =  waittimee_QOS)\n",
    "plots.set_title('Mean Estimation according to different QOS',size = 22)\n",
    "for bar in plots.patches:\n",
    "    plots.annotate(format(bar.get_height(), '.2f'),\n",
    "                   (bar.get_x() + bar.get_width() / 2,\n",
    "                    bar.get_height()), ha='center', va='center',\n",
    "                   size=12, xytext=(0, 8),\n",
    "                   textcoords='offset points')\n",
    "plt.xticks(fontsize=20)\n",
    "plt.yticks(fontsize=20)\n",
    "if not os.path.exists('Timelimit_Analysis'):\n",
    "    os.makedirs('Timelimit_Analysis')\n",
    "plt.savefig('Timelimit_Analysis/Timelimit_Analysis_QOS.png')"
   ]
  },
  {
   "cell_type": "code",
   "execution_count": null,
   "id": "ee473a07-53be-4c05-bb79-17950e2e1bcf",
   "metadata": {},
   "outputs": [],
   "source": [
    "waittimef.Estimation.describe()"
   ]
  },
  {
   "cell_type": "code",
   "execution_count": null,
   "id": "f3002dc1-39ba-4cc4-aeac-aa5bccd84831",
   "metadata": {},
   "outputs": [],
   "source": [
    "waittimeefsdf = waittimef.loc[(waittimef.JobLen/60) > waittimef.TimelimitRaw]"
   ]
  },
  {
   "cell_type": "code",
   "execution_count": null,
   "id": "a4ff92b4-a258-44cb-b2e3-2e9316d8ea2d",
   "metadata": {},
   "outputs": [],
   "source": [
    "waittimeefsdf.Estimation.describe()"
   ]
  },
  {
   "cell_type": "markdown",
   "id": "9e71d029-38bb-4064-9251-8311c3d68c41",
   "metadata": {},
   "source": [
    "## Number of jobs according to timelimit estimation by the users for the year"
   ]
  },
  {
   "cell_type": "code",
   "execution_count": null,
   "id": "9cbf8537-73f8-42ee-8466-2289b2f203b0",
   "metadata": {},
   "outputs": [],
   "source": [
    "def funn(row):\n",
    "    if row['Estimation'] < 1:\n",
    "        val = 1\n",
    "    else:\n",
    "        val = 0\n",
    "    return val\n",
    "waittimef['Underest'] = waittimef.apply(funn,axis =1)\n",
    "def funn1(row):\n",
    "    if row['Estimation'] <= 2 and row['Estimation'] >= 1:\n",
    "        val = 1\n",
    "    else:\n",
    "        val = 0\n",
    "    return val\n",
    "waittimef['uptotwice'] = waittimef.apply(funn1,axis =1)\n",
    "def funn2(row):\n",
    "    if row['Estimation'] > 2 and row['Estimation'] <= 10:\n",
    "        val = 1\n",
    "    else:\n",
    "        val = 0\n",
    "    return val\n",
    "waittimef['upto10times'] = waittimef.apply(funn2,axis =1)\n",
    "\n",
    "def funn3(row):\n",
    "    if row['Estimation'] > 10 and row['Estimation'] <= 100:\n",
    "        val = 1\n",
    "    else:\n",
    "        val = 0\n",
    "    return val\n",
    "waittimef['upto100times'] = waittimef.apply(funn3,axis =1)\n",
    "def funn4(row):\n",
    "    if row['Estimation'] > 100 and row['Estimation'] <= 1000:\n",
    "        val = 1\n",
    "    else:\n",
    "        val = 0\n",
    "    return val\n",
    "waittimef['upto1000times'] = waittimef.apply(funn4,axis =1)\n",
    "def funn5(row):\n",
    "    if row['Estimation'] > 1000:\n",
    "        val = 1\n",
    "    else:\n",
    "        val = 0\n",
    "    return val\n",
    "waittimef['morethan1000times'] = waittimef.apply(funn5,axis =1)"
   ]
  },
  {
   "cell_type": "code",
   "execution_count": null,
   "id": "c34e8e52-a0d0-40ca-a0d4-7d41c232ec86",
   "metadata": {},
   "outputs": [],
   "source": [
    "def functiont(years):\n",
    "    coun = 0\n",
    "    df_list = []\n",
    "    df_list2 = []\n",
    "    for i in years:\n",
    "        temp = waittimef[waittimef.yearmonth.str.contains(i,regex = False)]\n",
    "        df_list.append(temp)\n",
    "    for j in df_list:\n",
    "        temp1 = j.groupby(['month','year'], as_index=False).agg({'Underest':'sum','uptotwice':'sum','upto10times':'sum','upto100times':'sum','upto1000times':'sum','morethan1000times':'sum'})\n",
    "        temp1['month'] = temp1['month'].apply(int)\n",
    "        temp1 = temp1.sort_values('month')\n",
    "        df_list2.append(temp1)\n",
    "    for l in df_list2:\n",
    "        count = 0\n",
    "        num = l.month\n",
    "        datetime_object = []\n",
    "        month_name = []\n",
    "        for m in num:\n",
    "            datetime_object.append(datetime.strptime(str(m), \"%m\"))\n",
    "        for d in datetime_object:\n",
    "            month_name.append(d.strftime(\"%b\"))\n",
    "        fig,ax = plt.subplots()\n",
    "        ax.grid(False)\n",
    "        ax.set_title(\"Number of jobs according to timelimit estimation by the users for the year {}\".format(str(l.year[0])),size=22)\n",
    "        width = .5 \n",
    "        ax.bar(l.month, l.Underest, width, color='g',alpha = 0.5)\n",
    "        ax.bar(l.month, l.uptotwice, width,bottom =l.Underest, color='b',alpha = 0.5)\n",
    "        ax.bar(l.month, l.upto10times, width,bottom =l.Underest + l.uptotwice, color='brown',alpha = 0.5)\n",
    "        ax.bar(l.month, l.upto100times, width,bottom =l.Underest + l.uptotwice + l.upto10times , color='k',alpha = 0.5)\n",
    "        ax.bar(l.month, l.upto1000times, width,bottom =l.Underest + l.uptotwice + l.upto10times + l.upto100times, color='yellow',alpha = 0.5)\n",
    "        ax.bar(l.month, l.morethan1000times, width,bottom =l.Underest + l.uptotwice + l.upto10times + l.upto100times + l.upto1000times, color='orange',alpha = 0.8)\n",
    "        fig.set_figheight(12)\n",
    "        fig.set_figwidth(16)\n",
    "        # for p in ax.patches:\n",
    "        #     ax.annotate(str(p.get_height()), (p.get_x() * 1.005, p.get_height() * 1.005),fontsize=10)\n",
    "        ax.set_xlabel('Months', fontsize=18)\n",
    "        ax.set_ylabel('number of jobs', fontsize=18)\n",
    "        ax.set(xticks = l.month)\n",
    "        ax.set_xticklabels(month_name, fontsize=18)\n",
    "        for tick in ax.get_yticklabels():\n",
    "            tick.set_fontsize(\"18\")\n",
    "        plt.subplots_adjust(left=0, bottom=0)\n",
    "        # plt.legend([\"Under Estimation\",'Estimation upto twice', \"Estimation from twice to 10 times\",\"Estimation from 10 to 100 times\",'Estimation from 100 to 1000 times','Estimation more than 1000 times'])\n",
    "        coun = coun + 1\n",
    "        if not os.path.exists('RSS_Analysis'):\n",
    "            os.makedirs('Timelimit_Analysis')\n",
    "        fig.savefig('Timelimit_Analysis/{}.png'.format(str(coun)),bbox_inches='tight', dpi=100)\n",
    "        plt.show()"
   ]
  },
  {
   "cell_type": "code",
   "execution_count": null,
   "id": "e8d21112-bbf0-4ff0-b923-bc049abb65db",
   "metadata": {},
   "outputs": [],
   "source": [
    "years = ['2019', '2020', '2021', '2022']\n",
    "functiont(years)"
   ]
  },
  {
   "cell_type": "code",
   "execution_count": null,
   "id": "5e442aeb-8a73-4f31-9f55-3533ba9e5c06",
   "metadata": {},
   "outputs": [],
   "source": []
  },
  {
   "cell_type": "code",
   "execution_count": null,
   "id": "fbffbf57-0aa0-45cf-9aab-dddb3c0649fd",
   "metadata": {},
   "outputs": [],
   "source": [
    "waittimef.head()"
   ]
  },
  {
   "cell_type": "code",
   "execution_count": null,
   "id": "881a41aa-eb75-4585-810d-68cf68f62be2",
   "metadata": {},
   "outputs": [],
   "source": [
    "estimationtime = waittimef[['Account','TimelimitRaw','Estimation','JobLen']]"
   ]
  },
  {
   "cell_type": "code",
   "execution_count": null,
   "id": "f4d02906-98d2-4435-a604-a80189f062db",
   "metadata": {},
   "outputs": [],
   "source": [
    "estimationtime['TimelimitRaw'] = estimationtime['TimelimitRaw'] * 60"
   ]
  },
  {
   "cell_type": "code",
   "execution_count": null,
   "id": "7f7a4f4a-8b79-4902-9b28-c2dbd71a4385",
   "metadata": {},
   "outputs": [],
   "source": [
    "estimationtime.head()"
   ]
  },
  {
   "cell_type": "code",
   "execution_count": null,
   "id": "d292cc04-8e9c-449b-89de-0a3085b7d99b",
   "metadata": {},
   "outputs": [],
   "source": [
    "waittime.head()"
   ]
  },
  {
   "cell_type": "markdown",
   "id": "0b81f3a5-2078-49fe-9a76-e22f5953ba71",
   "metadata": {},
   "source": [
    "## Timelimit vs actual runtime according to resources used for every account."
   ]
  },
  {
   "cell_type": "code",
   "execution_count": null,
   "id": "c9f21b99-7942-4492-9aeb-298c8aa0ff0c",
   "metadata": {},
   "outputs": [],
   "source": [
    "waittime['ratio'] =  waittime['JobLen'] /(waittime['TimelimitRaw'] * 60 )"
   ]
  },
  {
   "cell_type": "code",
   "execution_count": null,
   "id": "9dbed63d-96b0-4976-8ee1-ad1191e2a028",
   "metadata": {},
   "outputs": [],
   "source": [
    "resources = waittime[['Account','TimelimitRaw','ratio','JobLen','Totalres','Jcount']]"
   ]
  },
  {
   "cell_type": "code",
   "execution_count": null,
   "id": "bb89b14a-d67c-4b05-a913-373952cf09d9",
   "metadata": {},
   "outputs": [],
   "source": [
    "resources['Timelimit'] = resources['TimelimitRaw']*60"
   ]
  },
  {
   "cell_type": "code",
   "execution_count": null,
   "id": "877db7ce-c167-468d-81b8-dbee8345a0c7",
   "metadata": {},
   "outputs": [],
   "source": [
    "resources = resources.loc[resources['JobLen'] > 1]"
   ]
  },
  {
   "cell_type": "code",
   "execution_count": null,
   "id": "f2f478eb-b1c1-4f25-bc2b-4479ae0b0620",
   "metadata": {},
   "outputs": [],
   "source": [
    "resources = resources.loc[resources['TimelimitRaw'] >= 0]"
   ]
  },
  {
   "cell_type": "code",
   "execution_count": null,
   "id": "86bdb0e1-267e-4d16-bbb2-9b289bc8def5",
   "metadata": {},
   "outputs": [],
   "source": [
    "def functionhist(accounts):\n",
    "    coun = 0\n",
    "    for i in accounts:\n",
    "        print(i)\n",
    "        temp = resources.loc[resources.Account == i] \n",
    "        jobs = temp.shape[0]\n",
    "        rcParams['figure.figsize'] = 15, 15\n",
    "        import matplotlib.pyplot as plt\n",
    "        mm=21*24*3600\n",
    "        fig = plt.figure()\n",
    "        ax = fig.add_subplot(111)\n",
    "        heatmap, xedges, yedges = np.histogram2d(x=temp['JobLen'],y=temp['Timelimit'],weights=temp['Totalres'] ,bins=200,range=[[0,mm],[0,mm]])\n",
    "        extent = [xedges[0], xedges[-1], yedges[0], yedges[-1]]\n",
    "\n",
    "        print(heatmap.min(),heatmap.max())\n",
    "        cutoff=10\n",
    "        pcm=plt.pcolormesh(xedges, yedges, heatmap, cmap='inferno',norm=colors.LogNorm(vmin=heatmap.min()+cutoff, vmax=heatmap.max()+cutoff))\n",
    "        plt.xlabel('Timelimit in seconds')\n",
    "        plt.ylabel('Runtime in seconds')\n",
    "        plt.xlim(0,mm)\n",
    "        plt.ylim(0,mm)\n",
    "        plt.axis('square')\n",
    "\n",
    "        plt.title('The user time limit vs. run time according to projects')\n",
    "        fig.colorbar(pcm, ax=ax, extend='max')\n",
    "        if not os.path.exists('colorbars_timelimitvsjoblen'):\n",
    "            os.makedirs('colorbars_timelimitvsjoblen')\n",
    "        plt.savefig('colorbars_timelimitvsjoblen/{}_clustering_Accounts.png' .format(i),bbox_inches='tight', dpi=100)\n",
    "        plt.show()"
   ]
  },
  {
   "cell_type": "code",
   "execution_count": null,
   "id": "71c60bd0-1350-4179-a32a-8a0e30c27bd2",
   "metadata": {
    "scrolled": true,
    "tags": []
   },
   "outputs": [],
   "source": [
    "accounts = resources['Account'].unique()\n",
    "accounts = accounts.tolist()\n",
    "functionhist(accounts)"
   ]
  },
  {
   "cell_type": "markdown",
   "id": "9cd07a27-4f6d-4a7f-a096-4d2e78b1395a",
   "metadata": {},
   "source": [
    "## Timelimit vs actual runtime according to resources used for every partition."
   ]
  },
  {
   "cell_type": "code",
   "execution_count": null,
   "id": "b78a7fc0-3984-4e20-9bae-fc7d20d90348",
   "metadata": {},
   "outputs": [],
   "source": [
    "partitio = waittime[['Account','Partition','TimelimitRaw','ratio','JobLen','Totalres','Jcount']]"
   ]
  },
  {
   "cell_type": "code",
   "execution_count": null,
   "id": "48fffda9-f09a-4d18-81c8-042d48171a89",
   "metadata": {},
   "outputs": [],
   "source": [
    "partitio['Timelimit'] = partitio['TimelimitRaw']*60"
   ]
  },
  {
   "cell_type": "code",
   "execution_count": null,
   "id": "c58ce249-98b1-46c5-8b5a-13b071444a6d",
   "metadata": {},
   "outputs": [],
   "source": [
    "partitio = partitio.loc[partitio['JobLen'] > 1]"
   ]
  },
  {
   "cell_type": "code",
   "execution_count": null,
   "id": "66752a5b-8582-4254-9a8e-91603aba324d",
   "metadata": {},
   "outputs": [],
   "source": [
    "def functionpart(partitions):\n",
    "    coun = 0\n",
    "    for i in partitions:\n",
    "        print(i)\n",
    "        temp = partitio.loc[partitio.Partition == i]  \n",
    "        jobs = temp.shape[0]\n",
    "        rcParams['figure.figsize'] = 15, 15\n",
    "        cm = plt.cm.get_cmap('turbo')\n",
    "        sc = plt.scatter(temp['Timelimit'], temp['JobLen'],c=temp['Totalres'] ,cmap=cm,s=10)\n",
    "        # plt.axis('scaled')\n",
    "        plt.axis('square')\n",
    "        plt.colorbar(sc,ticklocation = 'right',shrink=0.80,alpha = 0.5)\n",
    "        plt.title('Clustering for the partition {},jobs {}'.format(i,jobs))\n",
    "        plt.xlabel('Timelimit')\n",
    "        plt.ylabel('JobLen')\n",
    "        if not os.path.exists('part_colorbars_timelimitvsjoblen'):\n",
    "            os.makedirs('part_colorbars_timelimitvsjoblen')\n",
    "        plt.savefig('part_colorbars_timelimitvsjoblen/{}_clustering_Partition.png' .format(i),bbox_inches='tight', dpi=100)\n",
    "        plt.show()"
   ]
  },
  {
   "cell_type": "code",
   "execution_count": null,
   "id": "d6dadfca-5531-4b80-bf82-4cd5a1fa8cf6",
   "metadata": {
    "scrolled": true,
    "tags": []
   },
   "outputs": [],
   "source": [
    "partitions = partitio['Partition'].unique()\n",
    "partitions = partitions.tolist()\n",
    "functionpart(partitions)"
   ]
  },
  {
   "cell_type": "markdown",
   "id": "47ea45d2-72f9-4011-a0a3-3fdd426ffd4e",
   "metadata": {},
   "source": [
    "## Timelimit vs actual runtime according to resources used for every partition and account."
   ]
  },
  {
   "cell_type": "code",
   "execution_count": null,
   "id": "1591a107-e4b3-4d06-ba5f-bf359d0de5cc",
   "metadata": {},
   "outputs": [],
   "source": [
    "def functionpart2(partitions,accounts):\n",
    "    coun = 0\n",
    "    for i in partitions:\n",
    "        print(i)\n",
    "        temp = partitio.loc[partitio.Partition == i] \n",
    "        for a in accounts:\n",
    "            temp2 = temp.loc[temp.Account == a] \n",
    "            if not temp2.empty:\n",
    "                jobs = temp2.shape[0]\n",
    "                rcParams['figure.figsize'] = 15, 15\n",
    "                cm = plt.cm.get_cmap('turbo')\n",
    "                sc = plt.scatter(temp2['Timelimit'], temp2['JobLen'],c=temp2['Totalres'] ,cmap=cm,s=10)\n",
    "                # plt.axis('scaled')\n",
    "                plt.axis('square')\n",
    "                plt.colorbar(sc,ticklocation = 'right',shrink=0.80,alpha = 0.5)\n",
    "                plt.title('Clustering for the partition {},account {},jobs {}'.format(i,a,jobs))\n",
    "                plt.xlabel('Timelimit')\n",
    "                plt.ylabel('JobLen')\n",
    "                if not os.path.exists('part2_colorbars_timelimitvsjoblen'):\n",
    "                    os.makedirs('part2_colorbars_timelimitvsjoblen')\n",
    "                plt.savefig('part2_colorbars_timelimitvsjoblen/{}_clustering_Partition_{}.png' .format(i,a),bbox_inches='tight', dpi=100)\n",
    "                plt.show()"
   ]
  },
  {
   "cell_type": "code",
   "execution_count": null,
   "id": "9c666fc6-acad-48ec-8066-195b644b2c06",
   "metadata": {
    "scrolled": true,
    "tags": []
   },
   "outputs": [],
   "source": [
    "partitions = partitio['Partition'].unique()\n",
    "accounts = partitio['Account'].unique()\n",
    "accounts = accounts.tolist() \n",
    "partitions = partitions.tolist()\n",
    "functionpart2(partitions,accounts)"
   ]
  },
  {
   "cell_type": "markdown",
   "id": "4170f6bc-fe72-4c4d-8c25-186363f7bbbe",
   "metadata": {},
   "source": [
    "## Timelimit vs actual runtime according to resources used for every job state."
   ]
  },
  {
   "cell_type": "code",
   "execution_count": null,
   "id": "51252168-ab7c-4428-a732-f93830a11cee",
   "metadata": {},
   "outputs": [],
   "source": [
    "states = waittime[['Account','State','TimelimitRaw','ratio','JobLen','Totalres','Jcount','NNodes','Partition']]"
   ]
  },
  {
   "cell_type": "code",
   "execution_count": null,
   "id": "45131bf3-5241-4305-b4d9-b4b463b98e70",
   "metadata": {},
   "outputs": [],
   "source": [
    "waittime.head(1)"
   ]
  },
  {
   "cell_type": "code",
   "execution_count": null,
   "id": "3857ccb1-51ac-497a-a67a-9461ad4571e3",
   "metadata": {},
   "outputs": [],
   "source": [
    "states.head()"
   ]
  },
  {
   "cell_type": "code",
   "execution_count": null,
   "id": "fe9670a4-aea6-4b63-b602-b42795c0adc2",
   "metadata": {},
   "outputs": [],
   "source": [
    "states.loc[states['State'].str.contains('by'), 'State'] = 'CANCELLED BY'"
   ]
  },
  {
   "cell_type": "code",
   "execution_count": null,
   "id": "f340bf6e-5daf-4799-b631-14f92b30bc40",
   "metadata": {},
   "outputs": [],
   "source": [
    "states['Timelimit'] = states['TimelimitRaw']*60\n",
    "states = states.loc[states['JobLen'] > 1]"
   ]
  },
  {
   "cell_type": "code",
   "execution_count": null,
   "id": "73f921fe-3e65-49c6-af37-c0611eee3712",
   "metadata": {},
   "outputs": [],
   "source": [
    "def functionstate(state):\n",
    "    coun = 0\n",
    "    for i in state:\n",
    "        print(i)\n",
    "        temp = states.loc[states.State == i]  \n",
    "        jobs = temp.shape[0]\n",
    "        rcParams['figure.figsize'] = 15, 15\n",
    "        cm = plt.cm.get_cmap('turbo')\n",
    "        sc = plt.scatter(temp['Timelimit'], temp['JobLen'],c=temp['NNodes'] ,cmap=cm,s=10)\n",
    "        # plt.axis('scaled')\n",
    "        plt.axis('square')\n",
    "        plt.colorbar(sc,ticklocation = 'right',shrink=0.80,alpha = 0.5)\n",
    "        plt.title('Clustering for the state {},jobs {}'.format(i,jobs))\n",
    "        plt.xlabel('Timelimit')\n",
    "        plt.ylabel('JobLen')\n",
    "        if not os.path.exists('state_colorbars_timelimitvsjoblen'):\n",
    "            os.makedirs('state_colorbars_timelimitvsjoblen')\n",
    "        plt.savefig('state_colorbars_timelimitvsjoblen/{}_clustering_state.png' .format(i),bbox_inches='tight', dpi=100)\n",
    "        plt.show()"
   ]
  },
  {
   "cell_type": "code",
   "execution_count": null,
   "id": "4925a00c-b4bc-4309-ad41-18ae5d07b27f",
   "metadata": {
    "tags": []
   },
   "outputs": [],
   "source": [
    "state = states['State'].unique()\n",
    "state = state.tolist()\n",
    "functionstate(state)"
   ]
  },
  {
   "cell_type": "markdown",
   "id": "eee2f931-1354-4001-8256-dbd2053b0b3b",
   "metadata": {},
   "source": [
    "## Timelimit vs actual runtime according to RSS used for every job state."
   ]
  },
  {
   "cell_type": "code",
   "execution_count": null,
   "id": "c3155adb-5c82-42ad-bd57-9eb2fd554b55",
   "metadata": {},
   "outputs": [],
   "source": [
    "states2 = waittimee[['Account','State','TimelimitRaw','JobLen','Totalres','Jcount','NNodes','MaxRSS']]"
   ]
  },
  {
   "cell_type": "code",
   "execution_count": null,
   "id": "9c652f5f-9884-4074-b340-e9d17268a4e6",
   "metadata": {},
   "outputs": [],
   "source": [
    "states2.loc[states2['State'].str.contains('by'), 'State'] = 'CANCELLED BY'"
   ]
  },
  {
   "cell_type": "code",
   "execution_count": null,
   "id": "dff371a0-422f-4b8f-9831-d7b6000df574",
   "metadata": {},
   "outputs": [],
   "source": [
    "states2['Timelimit'] = states2['TimelimitRaw']*60\n",
    "states2 = states2.loc[states2['JobLen'] > 1]"
   ]
  },
  {
   "cell_type": "code",
   "execution_count": null,
   "id": "326ceacb-9211-4675-ae60-4d8fdcfbda5c",
   "metadata": {},
   "outputs": [],
   "source": [
    "def functionrss(state):\n",
    "    coun = 0\n",
    "    for i in state:\n",
    "        print(i)\n",
    "        temp = states2.loc[states2.State == i]  \n",
    "        jobs = temp.shape[0]\n",
    "        rcParams['figure.figsize'] = 15, 15\n",
    "        cm = plt.cm.get_cmap('turbo')\n",
    "        sc = plt.scatter(temp['Timelimit'], temp['JobLen'],c=temp['MaxRSS'] ,cmap=cm,s=10)\n",
    "        # plt.axis('scaled')\n",
    "        plt.axis('square')\n",
    "        plt.colorbar(sc,ticklocation = 'right',shrink=0.80,alpha = 0.5)\n",
    "        plt.title('Clustering for the state {},jobs {}'.format(i,jobs))\n",
    "        plt.xlabel('Timelimit')\n",
    "        plt.ylabel('JobLen')\n",
    "        if not os.path.exists('state2_colorbars_timelimitvsjoblen'):\n",
    "            os.makedirs('state2_colorbars_timelimitvsjoblen')\n",
    "        plt.savefig('state2_colorbars_timelimitvsjoblen/{}_clustering_state.png' .format(i),bbox_inches='tight', dpi=100)\n",
    "        plt.show()"
   ]
  },
  {
   "cell_type": "code",
   "execution_count": null,
   "id": "b8db33af-35f1-4afc-bc70-a36393ee31e1",
   "metadata": {
    "scrolled": true,
    "tags": []
   },
   "outputs": [],
   "source": [
    "state = states['State'].unique()\n",
    "state = state.tolist()\n",
    "functionrss(state)"
   ]
  },
  {
   "cell_type": "markdown",
   "id": "39ad9e72-e082-462c-8ed1-9bfc45a1b3b9",
   "metadata": {},
   "source": [
    "## Timelimit vs actual runtime according to resources used for every job state and partition."
   ]
  },
  {
   "cell_type": "code",
   "execution_count": null,
   "id": "4a9acf1d-1b69-4870-8ac6-e58a694fd9dd",
   "metadata": {},
   "outputs": [],
   "source": [
    "def functionpartstat(partitions,state):\n",
    "    coun = 0\n",
    "    for i in partitions:\n",
    "        print(i)\n",
    "        temp = states.loc[states.Partition == i] \n",
    "        for a in state:\n",
    "            temp2 = temp.loc[temp.State == a] \n",
    "            if not temp2.empty:\n",
    "                jobs = temp2.shape[0]\n",
    "                rcParams['figure.figsize'] = 15, 15\n",
    "                cm = plt.cm.get_cmap('turbo')\n",
    "                sc = plt.scatter(temp2['Timelimit'], temp2['JobLen'],c=temp2['Totalres'] ,cmap=cm,s=10)\n",
    "                plt.colorbar(sc,ticklocation = 'right',shrink=0.80,alpha = 0.5)\n",
    "                plt.title('Clustering for the partition {},State {},jobs {}'.format(i,a,jobs))\n",
    "                plt.axis('square')\n",
    "                plt.xlabel('Timelimit')\n",
    "                plt.ylabel('JobLen')\n",
    "                if not os.path.exists('partstate_colorbars_timelimitvsjoblen'):\n",
    "                    os.makedirs('partstate_colorbars_timelimitvsjoblen')\n",
    "                plt.savefig('partstate_colorbars_timelimitvsjoblen/{}_clustering_Partition_{}.png' .format(i,a),bbox_inches='tight', dpi=100)\n",
    "                plt.show()"
   ]
  },
  {
   "cell_type": "code",
   "execution_count": null,
   "id": "f8b2cae2-9b64-4b32-85c4-f0a348b1720a",
   "metadata": {
    "scrolled": true,
    "tags": []
   },
   "outputs": [],
   "source": [
    "partitions = states['Partition'].unique()\n",
    "state = states['State'].unique()\n",
    "state = state.tolist() \n",
    "partitions = partitions.tolist()\n",
    "functionpartstat(partitions,state)"
   ]
  },
  {
   "cell_type": "markdown",
   "id": "37d218db-67e5-497f-bd53-be1e8ad11e77",
   "metadata": {},
   "source": [
    "## Timelimit vs actual runtime according to resources used for every account,job state and partition."
   ]
  },
  {
   "cell_type": "code",
   "execution_count": null,
   "id": "ec21cd65-bb6a-4ed5-9ec1-26ff601727c6",
   "metadata": {},
   "outputs": [],
   "source": [
    "def function2partstat(accounts,partitions,state):\n",
    "    coun = 0\n",
    "    for p in accounts:\n",
    "        t = states.loc[states.Account == p]\n",
    "        for i in partitions:\n",
    "            print(i)\n",
    "            temp = t.loc[t.Partition == i] \n",
    "            for a in state:\n",
    "                temp2 = temp.loc[temp.State == a] \n",
    "                if not temp2.empty:\n",
    "                    jobs = temp2.shape[0]\n",
    "                    rcParams['figure.figsize'] = 15, 15\n",
    "                    cm = plt.cm.get_cmap('turbo')\n",
    "                    sc = plt.scatter(temp2['Timelimit'], temp2['JobLen'],c=temp2['Totalres'] ,cmap=cm,s=10)\n",
    "                    plt.axis('square')\n",
    "                    plt.colorbar(sc,ticklocation = 'right',shrink=0.80,alpha = 0.5)\n",
    "                    plt.title('Clustering for the account {}, partition {}, State {},jobs {}'.format(p,i,a,jobs))\n",
    "                    plt.xlabel('Timelimit')\n",
    "                    plt.ylabel('JobLen')\n",
    "                    if not os.path.exists('accpartstate_colorbars_timelimitvsjoblen'):\n",
    "                        os.makedirs('accpartstate_colorbars_timelimitvsjoblen')\n",
    "                    plt.savefig('accpartstate_colorbars_timelimitvsjoblen/{}{}_clustering_Partition_{}.png' .format(p,i,a),bbox_inches='tight', dpi=100)\n",
    "                    plt.show()"
   ]
  },
  {
   "cell_type": "code",
   "execution_count": null,
   "id": "6b762d61-7959-4b7a-8e1a-4b7eb6873d35",
   "metadata": {
    "scrolled": true,
    "tags": []
   },
   "outputs": [],
   "source": [
    "partitions = states['Partition'].unique()\n",
    "state = states['State'].unique()\n",
    "state = state.tolist() \n",
    "partitions = partitions.tolist()\n",
    "accounts = states['Account'].unique()\n",
    "accounts = accounts.tolist() \n",
    "function2partstat(accounts,partitions,state)"
   ]
  },
  {
   "cell_type": "code",
   "execution_count": null,
   "id": "f03cb2bf-b3d6-4828-96a7-c3f43b2e4dbe",
   "metadata": {},
   "outputs": [],
   "source": []
  },
  {
   "cell_type": "code",
   "execution_count": null,
   "id": "e9db9fb6-356b-4e23-a40d-c55c7ec1f532",
   "metadata": {},
   "outputs": [],
   "source": []
  },
  {
   "cell_type": "code",
   "execution_count": null,
   "id": "2ac98642-637a-45c8-8f43-4a89313cdd1c",
   "metadata": {},
   "outputs": [],
   "source": [
    "waittime.head()"
   ]
  },
  {
   "cell_type": "code",
   "execution_count": null,
   "id": "b9a1e5ca-efc6-4223-998e-e89dab7364f3",
   "metadata": {},
   "outputs": [],
   "source": []
  },
  {
   "cell_type": "code",
   "execution_count": null,
   "id": "295d2ed5-4a64-4131-9d29-2ab3aa9ac087",
   "metadata": {},
   "outputs": [],
   "source": [
    "def functionpartition(accounts):\n",
    "    coun = 0\n",
    "    for i in accounts:\n",
    "        print(i)\n",
    "        temp = waittime.loc[waittime.Partition == i] \n",
    "        jobs = temp.shape[0]\n",
    "        rcParams['figure.figsize'] = 15, 15\n",
    "        import matplotlib.pyplot as plt\n",
    "        mm=21*24*3600\n",
    "        fig = plt.figure()\n",
    "        ax = fig.add_subplot(111)\n",
    "        heatmap, xedges, yedges = np.histogram2d(x=temp['JobLen'],y=temp['TimelimitRaw'] * 60,weights=temp['Totalres'] ,bins=200,range=[[0,mm],[0,mm]])\n",
    "        extent = [xedges[0], xedges[-1], yedges[0], yedges[-1]]\n",
    "\n",
    "        print(heatmap.min(),heatmap.max())\n",
    "        cutoff=10\n",
    "        pcm=plt.pcolormesh(xedges, yedges, heatmap, cmap='inferno',norm=colors.LogNorm(vmin=heatmap.min()+cutoff, vmax=heatmap.max()+cutoff))\n",
    "        plt.xlabel('Timelimit in seconds')\n",
    "        plt.ylabel('Runtime in seconds')\n",
    "        plt.xlim(0,mm)\n",
    "        plt.ylim(0,mm)\n",
    "        plt.axis('square')\n",
    "\n",
    "        plt.title('The user time limit vs. run time according to projects')\n",
    "        fig.colorbar(pcm, ax=ax, extend='max')\n",
    "        if not os.path.exists('Partition_runtime'):\n",
    "            os.makedirs('Partition_runtime')\n",
    "        plt.savefig('Partition_runtime/{}_Partition_runtime.png' .format(i),bbox_inches='tight', dpi=100)\n",
    "        plt.show()"
   ]
  },
  {
   "cell_type": "code",
   "execution_count": null,
   "id": "3a6e74ff-0ff4-43be-9223-823599f8931f",
   "metadata": {},
   "outputs": [],
   "source": [
    "partition = waittime['Partition'].unique()\n",
    "partition = partition.tolist()\n",
    "functionpartition(partition)"
   ]
  },
  {
   "cell_type": "code",
   "execution_count": null,
   "id": "bd42eeb5-7e7d-43ee-947e-bdcefb5514e9",
   "metadata": {},
   "outputs": [],
   "source": []
  },
  {
   "cell_type": "code",
   "execution_count": null,
   "id": "18140545-08c2-461d-ba60-ea006655e1dd",
   "metadata": {},
   "outputs": [],
   "source": []
  }
 ],
 "metadata": {
  "kernelspec": {
   "display_name": "Python 3 (ipykernel)",
   "language": "python",
   "name": "python3"
  },
  "language_info": {
   "codemirror_mode": {
    "name": "ipython",
    "version": 3
   },
   "file_extension": ".py",
   "mimetype": "text/x-python",
   "name": "python",
   "nbconvert_exporter": "python",
   "pygments_lexer": "ipython3",
   "version": "3.9.12"
  }
 },
 "nbformat": 4,
 "nbformat_minor": 5
}
