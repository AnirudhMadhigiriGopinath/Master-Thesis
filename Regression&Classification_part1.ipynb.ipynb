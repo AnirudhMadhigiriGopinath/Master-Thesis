{
 "cells": [
  {
   "cell_type": "code",
   "execution_count": null,
   "id": "7e9c0d8c-2b94-4315-8553-b7d7fbc153f3",
   "metadata": {},
   "outputs": [],
   "source": [
    "import pandas as pd\n",
    "import numpy as np\n",
    "pd.set_option('display.max_columns', 50000)\n",
    "pd.set_option('display.max_rows', 1000000)\n",
    "pd.set_option('display.max_colwidth',None)\n",
    "pd.set_option('display.float_format',lambda x: '%.4f' % x)\n",
    "import warnings\n",
    "warnings.filterwarnings(\"ignore\")\n",
    "import matplotlib.pyplot as plt\n",
    "import seaborn as sns\n",
    "import plotly as pl\n",
    "import plotly.express as px\n",
    "import plotly.graph_objects as go\n",
    "from matplotlib.pyplot import figure\n",
    "import matplotlib.pylab as pll\n",
    "from collections import Counter\n",
    "from datetime import datetime\n",
    "import time\n",
    "import random\n",
    "import math\n",
    "import os\n",
    "import itertools\n",
    "from matplotlib import ticker\n",
    "import matplotlib.colors as colors\n",
    "from pylab import rcParams\n",
    "from sklearn.model_selection import train_test_split\n",
    "from sklearn.tree import DecisionTreeRegressor\n",
    "from sklearn.ensemble import RandomForestRegressor\n",
    "from sklearn import preprocessing\n",
    "from sklearn.metrics import mean_absolute_error,mean_squared_error, explained_variance_score,r2_score\n",
    "from sklearn.linear_model import LinearRegression\n",
    "from sklearn.svm import SVR\n",
    "from sklearn.tree import DecisionTreeClassifier"
   ]
  },
  {
   "cell_type": "code",
   "execution_count": null,
   "id": "1ce992a2-bff3-4ffd-8488-0de9be7614af",
   "metadata": {
    "scrolled": true,
    "tags": []
   },
   "outputs": [],
   "source": [
    "slurm1 = pd.read_csv('SlurmPlot2.csv')\n",
    "slurm1.tail(100)"
   ]
  },
  {
   "cell_type": "code",
   "execution_count": null,
   "id": "8f9bfe77-5a3a-4dab-94c0-fbe89a69c6d3",
   "metadata": {},
   "outputs": [],
   "source": [
    "slurm = slurm1[['UID','JobID','Account','Submittimestamp','Start','End','Eligibletimestamp','Starttimestamp','Endtimestamp','AllocNodes','AllocCPUS','TimelimitRaw', 'NNodes','Submit','State','ExitCode','QOS','QOSRAW','Partition','TRESAllocMem','TRESINMaxUsagemem']]"
   ]
  },
  {
   "cell_type": "code",
   "execution_count": null,
   "id": "a7c538e9-668f-48f7-b36b-a9ce7e7e3ead",
   "metadata": {},
   "outputs": [],
   "source": [
    "slurm = slurm[slurm[\"Starttimestamp\"] != 'Unknown']\n",
    "slurm = slurm[slurm[\"Endtimestamp\"] != 'Unknown']\n",
    "slurm['JobLen'] = slurm['Endtimestamp'].astype(float) - slurm['Starttimestamp'].astype(float)\n",
    "slurm['Totalres'] = slurm['JobLen'] * slurm['NNodes']\n",
    "slurm['JobID'] = slurm['JobID'].astype(str)"
   ]
  },
  {
   "cell_type": "code",
   "execution_count": null,
   "id": "33f71458-0671-426d-80ca-caf9cf240ea6",
   "metadata": {},
   "outputs": [],
   "source": [
    "discard = [\".\"]\n",
    "waittime = slurm[~slurm.JobID.str.contains('|'.join(discard),regex = False)]\n",
    "waittime['Jcount'] = 1\n",
    "waittime['Waittime'] = waittime['Starttimestamp'].astype(float) - waittime['Submittimestamp'].astype(float)"
   ]
  },
  {
   "cell_type": "code",
   "execution_count": null,
   "id": "60524b77-0f86-419d-8dd6-7451f6b8f4df",
   "metadata": {},
   "outputs": [],
   "source": [
    "waittime['year'] = pd.DatetimeIndex(waittime['Submit']).year\n",
    "waittime['month'] = pd.DatetimeIndex(waittime['Submit']).month\n",
    "waittime['year'] = waittime['year'].apply(str)\n",
    "waittime['month'] = waittime['month'].apply(str)\n",
    "waittime['yearmonth'] = waittime['year'] + '-' + waittime['month']"
   ]
  },
  {
   "cell_type": "code",
   "execution_count": null,
   "id": "240265af-9ab9-46e2-8818-0d54486cd303",
   "metadata": {},
   "outputs": [],
   "source": [
    "waittime.info()"
   ]
  },
  {
   "cell_type": "code",
   "execution_count": null,
   "id": "a1660781-ebdb-47a0-b9ba-effc1bb13566",
   "metadata": {},
   "outputs": [],
   "source": [
    "waittime = waittime.loc[waittime.JobLen > 0]"
   ]
  },
  {
   "cell_type": "code",
   "execution_count": null,
   "id": "6d8eba8e-b73d-400c-be59-923e27fe5148",
   "metadata": {},
   "outputs": [],
   "source": [
    "waittime.head()"
   ]
  },
  {
   "cell_type": "code",
   "execution_count": null,
   "id": "089eb4ea-528e-4ee6-93b2-4835b86e4b61",
   "metadata": {},
   "outputs": [],
   "source": [
    "prediction = waittime[['Account','TimelimitRaw','JobLen','NNodes','Partition','Jcount','Totalres']]"
   ]
  },
  {
   "cell_type": "code",
   "execution_count": null,
   "id": "4be00915-2c1b-46d5-8dd2-962a4b230b71",
   "metadata": {},
   "outputs": [],
   "source": [
    "prediction.info()"
   ]
  },
  {
   "cell_type": "code",
   "execution_count": null,
   "id": "3bcf302d-c007-49f0-a112-fdaee2c8513c",
   "metadata": {},
   "outputs": [],
   "source": [
    "def f(row):\n",
    "    if row['Partition'] == 'batch':\n",
    "        val = 1\n",
    "    else:\n",
    "        val = 0\n",
    "    return val\n",
    "prediction['batch'] = prediction.apply(f,axis =1)\n",
    "def f1(row):\n",
    "    if row['Partition'] == 'all':\n",
    "        val = 1\n",
    "    else:\n",
    "        val = 0\n",
    "    return val\n",
    "prediction['All'] = prediction.apply(f1,axis =1)\n",
    "def f2(row):\n",
    "    if row['Partition'] == 'long':\n",
    "        val = 1\n",
    "    else:\n",
    "        val = 0\n",
    "    return val\n",
    "prediction['long'] = prediction.apply(f2,axis =1)\n",
    "\n",
    "def f3(row):\n",
    "    if row['Partition'] == 'short':\n",
    "        val = 1\n",
    "    else:\n",
    "        val = 0\n",
    "    return val\n",
    "prediction['short'] = prediction.apply(f3,axis =1)\n",
    "def f4(row):\n",
    "    if row['Partition'] == 'test':\n",
    "        val = 1\n",
    "    else:\n",
    "        val = 0\n",
    "    return val\n",
    "prediction['test'] = prediction.apply(f4,axis =1)\n",
    "def f5(row):\n",
    "    if row['Partition'] == 'fpga':\n",
    "        val = 1\n",
    "    else:\n",
    "        val = 0\n",
    "    return val\n",
    "prediction['fpga'] = prediction.apply(f5,axis =1)\n",
    "def f6(row):\n",
    "    if row['Partition'] == 'fpgasyn':\n",
    "        val = 1\n",
    "    else:\n",
    "        val = 0\n",
    "    return val\n",
    "prediction['fpgasyn'] = prediction.apply(f6,axis =1)\n",
    "def f7(row):\n",
    "    if row['Partition'] == 'dgx':\n",
    "        val = 1\n",
    "    else:\n",
    "        val = 0\n",
    "    return val\n",
    "prediction['dgx'] = prediction.apply(f7,axis =1)"
   ]
  },
  {
   "cell_type": "code",
   "execution_count": null,
   "id": "57284e79-1a0f-4b8d-98c4-9165275c29b9",
   "metadata": {},
   "outputs": [],
   "source": [
    "prediction.info()"
   ]
  },
  {
   "cell_type": "code",
   "execution_count": null,
   "id": "04f878d9-cef2-4bea-87aa-71553731cba8",
   "metadata": {},
   "outputs": [],
   "source": [
    "temp = prediction.groupby(['Account'], as_index=False).agg({'Jcount':'sum','batch':'sum','All':'sum',\n",
    "                                                      'long':'sum','short':'sum','test':'sum','fpga':'sum','fpgasyn':'sum','dgx':'sum'})\n",
    "temp = temp.sort_values('Account')\n",
    "rcParams['figure.figsize'] = 12, 8\n",
    "fig,ax = plt.subplots()\n",
    "ax.grid(False)\n",
    "ax.set_title(\"Number of jobs for every partition according to accounts \")\n",
    "width = 1 \n",
    "# ax.bar(temp.Account, temp.Jcount, width, color='yellow',alpha = 0.5)\n",
    "ax.bar(temp.Account, temp.batch, width, color='green',alpha = 0.5)\n",
    "ax.bar(temp.Account, temp.All, width,bottom =temp.batch,  color='m',alpha = 0.5)\n",
    "ax.bar(temp.Account, temp.long, width,bottom =  temp.batch + temp.All,  color='brown',alpha = 0.5)\n",
    "ax.bar(temp.Account, temp.short, width,bottom = temp.batch + temp.All + temp.long,  color='r',alpha = 0.5)\n",
    "ax.bar(temp.Account, temp.test, width,bottom = temp.batch + temp.All + temp.long + temp.short , color='yellow',alpha = 0.5)\n",
    "ax.bar(temp.Account, temp.fpga, width, bottom =  temp.batch + temp.All + temp.long + temp.short + temp.test ,color='k',alpha = 0.5)       \n",
    "ax.bar(temp.Account, temp.fpgasyn, width, bottom = temp.batch + temp.All + temp.long + temp.short + temp.test + temp.fpga ,color='blue',alpha = 0.5) \n",
    "ax.bar(temp.Account, temp.dgx, width, bottom = temp.batch + temp.All + temp.long + temp.short + temp.test + temp.fpga + temp.fpgasyn ,color='cyan',alpha = 0.5) \n",
    "ax.set_xlabel('Account', fontsize=16)\n",
    "ax.set_ylabel('Number of jobs', fontsize=16)\n",
    "plt.subplots_adjust(left=0, bottom=0)\n",
    "plt.legend(['batch','all','long','short','test','fpga','fpgasyn','dgx' ])\n",
    "plt.show()\n",
    "if not os.path.exists('classification'):\n",
    "    os.makedirs('classification')\n",
    "fig.savefig('classification/statistics.png',bbox_inches='tight', dpi=100)"
   ]
  },
  {
   "cell_type": "code",
   "execution_count": null,
   "id": "4969978d-17c9-4ce9-9512-3471b441b580",
   "metadata": {},
   "outputs": [],
   "source": [
    "temp = prediction.groupby('Partition', as_index=False).agg({'Jcount':'sum'})\n",
    "rcParams['figure.figsize'] = 10, 10\n",
    "temp['Partition'] = temp['Partition'].apply(str)\n",
    "plots = sns.barplot(x ='Partition',y = 'Jcount',data =  temp)\n",
    "plots.set_title('Number of jobs according to different job Partition',size = 22)\n",
    "plots.set_xlabel(\"Partition\", fontsize = 16)\n",
    "plots.set_ylabel(\"Number of jobs\", fontsize = 16)\n",
    "for bar in plots.patches:\n",
    "    plots.annotate(int(bar.get_height()),\n",
    "                   (bar.get_x() + bar.get_width() / 2,\n",
    "                    bar.get_height()), ha='center', va='center',\n",
    "                   size=16, xytext=(0, 8),\n",
    "                   textcoords='offset points')\n",
    "plt.xticks(fontsize=20)\n",
    "plt.yticks(fontsize=20)\n",
    "if not os.path.exists('classification'):\n",
    "    os.makedirs('classification')\n",
    "plt.savefig('classification/Job_PARTITION_1.png',bbox_inches='tight', dpi=100)"
   ]
  },
  {
   "cell_type": "code",
   "execution_count": null,
   "id": "b3aecd5c-43f5-43e9-a7c6-f7190e2e9403",
   "metadata": {},
   "outputs": [],
   "source": [
    "prediction.head()"
   ]
  },
  {
   "cell_type": "code",
   "execution_count": null,
   "id": "24791539-c47c-4960-9481-68e7d6e1c4e8",
   "metadata": {},
   "outputs": [],
   "source": [
    "prediction['Timelimit'] = prediction['TimelimitRaw'] * 60"
   ]
  },
  {
   "cell_type": "code",
   "execution_count": null,
   "id": "28d589e7-6796-47bc-9891-238bc6d8d747",
   "metadata": {},
   "outputs": [],
   "source": [
    "regression = prediction[['Account','NNodes','Partition','Timelimit','JobLen','Totalres']]"
   ]
  },
  {
   "cell_type": "code",
   "execution_count": null,
   "id": "81df6c4d-9d65-4efc-9d32-73e288e73645",
   "metadata": {},
   "outputs": [],
   "source": [
    "regression.head()"
   ]
  },
  {
   "cell_type": "markdown",
   "id": "06332c79-6f90-450e-afb3-b5fbcf5f3ec7",
   "metadata": {},
   "source": [
    "## Decision Tree and Random Forest Regression for all the records"
   ]
  },
  {
   "cell_type": "code",
   "execution_count": null,
   "id": "da1107bf-39a8-4f7a-87ca-745fb616ad6c",
   "metadata": {},
   "outputs": [],
   "source": [
    "X = regression.iloc[:,0:4]\n",
    "y = regression.iloc[:,4:6]"
   ]
  },
  {
   "cell_type": "code",
   "execution_count": null,
   "id": "1dab8e9a-931e-425c-a5c5-9e1d8d24c795",
   "metadata": {},
   "outputs": [],
   "source": [
    "X.head()"
   ]
  },
  {
   "cell_type": "code",
   "execution_count": null,
   "id": "1e65cb66-56eb-409f-bb9d-97256a8fad04",
   "metadata": {},
   "outputs": [],
   "source": [
    "label_encoder = preprocessing.LabelEncoder()\n",
    "X['Partition']= label_encoder.fit_transform(X['Partition'])\n",
    "X['Partition'].unique()"
   ]
  },
  {
   "cell_type": "code",
   "execution_count": null,
   "id": "57c3cbe9-e131-459a-ab1c-3e2c86a92a87",
   "metadata": {},
   "outputs": [],
   "source": [
    "y.head()"
   ]
  },
  {
   "cell_type": "code",
   "execution_count": null,
   "id": "2d55d2aa-e40a-4efe-8978-65a34ee11aa9",
   "metadata": {},
   "outputs": [],
   "source": [
    "X_train, X_test, y_train, y_test = train_test_split(X,y,stratify=X['Partition'], test_size=0.25,random_state = 42)"
   ]
  },
  {
   "cell_type": "code",
   "execution_count": null,
   "id": "919b88a2-0bf8-4b01-a55e-65ffdca6f35e",
   "metadata": {},
   "outputs": [],
   "source": [
    "y_train_dummy = y_train.copy()"
   ]
  },
  {
   "cell_type": "code",
   "execution_count": null,
   "id": "7ee41ba2-b21f-4cb9-ad90-6b08fb6095ef",
   "metadata": {},
   "outputs": [],
   "source": [
    "y_train = y_train[['JobLen']]"
   ]
  },
  {
   "cell_type": "code",
   "execution_count": null,
   "id": "88cb1e1e-42f8-4f65-8ce8-c2203ab29331",
   "metadata": {},
   "outputs": [],
   "source": [
    "y_train.head()"
   ]
  },
  {
   "cell_type": "code",
   "execution_count": null,
   "id": "b5792069-e5b1-4dc5-98b8-c5b63c0e2400",
   "metadata": {},
   "outputs": [],
   "source": [
    "print(X_train.shape, X_test.shape, y_train.shape, y_test.shape)"
   ]
  },
  {
   "cell_type": "code",
   "execution_count": null,
   "id": "b8d1ea90-12f4-4fcf-8c88-0e7b230c5b47",
   "metadata": {},
   "outputs": [],
   "source": [
    "dt = DecisionTreeRegressor(random_state = 42).fit(X_train,y_train)"
   ]
  },
  {
   "cell_type": "code",
   "execution_count": null,
   "id": "fb13736c-b1b8-4ff4-807d-7d2686144c31",
   "metadata": {},
   "outputs": [],
   "source": [
    "rf = RandomForestRegressor(random_state = 42).fit(X_train,y_train)"
   ]
  },
  {
   "cell_type": "code",
   "execution_count": null,
   "id": "a8656679-3ab2-4fe4-ac92-24103803ade0",
   "metadata": {},
   "outputs": [],
   "source": [
    "print('coefficient r_sq for decision tree is %.2f'% dt.score(X_train,y_train))\n",
    "print('coefficient r_sq for random forest is %.2f'% rf.score(X_train,y_train))"
   ]
  },
  {
   "cell_type": "code",
   "execution_count": null,
   "id": "bca03c09-2ffd-4f3c-89b8-40ee03600175",
   "metadata": {},
   "outputs": [],
   "source": [
    "ytrain_pred = dt.predict(X_train)\n",
    "ytrain_pred2 = rf.predict(X_train)"
   ]
  },
  {
   "cell_type": "code",
   "execution_count": null,
   "id": "83e60fce-d0a8-4842-a04b-27776933e207",
   "metadata": {},
   "outputs": [],
   "source": [
    "y_train.head()"
   ]
  },
  {
   "cell_type": "code",
   "execution_count": null,
   "id": "c580fbfb-9889-4989-9008-b99d68f1e487",
   "metadata": {},
   "outputs": [],
   "source": [
    "print('coefficient r_sq for dt is ', r2_score(y_train,ytrain_pred))\n",
    "print('mean absolute error for dt is ', mean_absolute_error(y_train,ytrain_pred))\n",
    "print('mean squared error for dt is ', mean_squared_error(y_train,ytrain_pred))\n",
    "print('explained variance score for dt is %.2f', explained_variance_score(y_train,ytrain_pred))"
   ]
  },
  {
   "cell_type": "code",
   "execution_count": null,
   "id": "65a68e77-6f41-4cf6-893d-1da54977cbe6",
   "metadata": {},
   "outputs": [],
   "source": [
    "print('coefficient r_sq for rf is ', r2_score(y_train,ytrain_pred2))\n",
    "print('mean absolute error for rf is ', mean_absolute_error(y_train,ytrain_pred2))\n",
    "print('mean squared error for rf is ', mean_squared_error(y_train,ytrain_pred2))\n",
    "print('explained variance score for rf is %.2f', explained_variance_score(y_train,ytrain_pred2))"
   ]
  },
  {
   "cell_type": "code",
   "execution_count": null,
   "id": "30c461ef-8ba7-4c90-84d8-514bb7ff89cd",
   "metadata": {},
   "outputs": [],
   "source": [
    "ytest_pred = dt.predict(X_test)\n",
    "ytest_pred2 = rf.predict(X_test)"
   ]
  },
  {
   "cell_type": "code",
   "execution_count": null,
   "id": "8763e345-6521-4fd6-b4ee-98a0eb2a3fe6",
   "metadata": {},
   "outputs": [],
   "source": [
    "X_test.shape"
   ]
  },
  {
   "cell_type": "code",
   "execution_count": null,
   "id": "6389f17c-ed6d-4551-9adb-7e5f97464869",
   "metadata": {},
   "outputs": [],
   "source": [
    "y_test_dummy = y_test.copy()"
   ]
  },
  {
   "cell_type": "code",
   "execution_count": null,
   "id": "d0181364-f778-46a3-bb22-af54b9c8eb50",
   "metadata": {},
   "outputs": [],
   "source": [
    "y_test = y_test[['JobLen']]"
   ]
  },
  {
   "cell_type": "code",
   "execution_count": null,
   "id": "3b4723de-dbf3-4873-bd5b-62008bbc12a0",
   "metadata": {},
   "outputs": [],
   "source": [
    "print('coefficient r_sq for decision tree is %.2f'% dt.score(X_test,y_test))\n",
    "print('coefficient r_sq for random forest is %.2f'% rf.score(X_test,y_test))"
   ]
  },
  {
   "cell_type": "code",
   "execution_count": null,
   "id": "1aa75741-139e-4098-a503-2ef57c9ce500",
   "metadata": {},
   "outputs": [],
   "source": [
    "print('coefficient r_sq for decision tree is %.2f'% r2_score(y_test,ytest_pred))\n",
    "print('coefficient r_sq for random forest is %.2f'% r2_score(y_test,ytest_pred2))"
   ]
  },
  {
   "cell_type": "code",
   "execution_count": null,
   "id": "a1669bdd-b6ba-46b5-babe-b6adc97a7452",
   "metadata": {},
   "outputs": [],
   "source": [
    "rcParams['figure.figsize'] = 100, 20\n",
    "x_ax = range(len(X_test))\n",
    "plt.plot(x_ax,y_test,label = 'actual',color = 'k',linestyle = '-')\n",
    "plt.scatter(x_ax,ytest_pred,label = 'predicted',color = 'r',linestyle = '--')\n",
    "if not os.path.exists('classification'):\n",
    "    os.makedirs('classification')\n",
    "plt.savefig('classification/dt.png')"
   ]
  },
  {
   "cell_type": "code",
   "execution_count": null,
   "id": "d645f2b7-f37c-4c75-bf7e-6ad22f25e521",
   "metadata": {},
   "outputs": [],
   "source": [
    "rcParams['figure.figsize'] = 100, 20\n",
    "x_ax = range(len(X_test))\n",
    "plt.plot(x_ax,y_test,label = 'actual',color = 'k',linestyle = '-')\n",
    "plt.scatter(x_ax,ytest_pred2,label = 'predicted',color = 'r',linestyle = '--')\n",
    "if not os.path.exists('classification'):\n",
    "    os.makedirs('classification')\n",
    "plt.savefig('classification/rf.png')"
   ]
  },
  {
   "cell_type": "code",
   "execution_count": null,
   "id": "52a8b5ef-e415-48b8-a72a-4f13b7c8aa13",
   "metadata": {},
   "outputs": [],
   "source": [
    "y_test_dummy.head(20)"
   ]
  },
  {
   "cell_type": "code",
   "execution_count": null,
   "id": "2658f824-d638-47c5-bd25-faa2bc5fe005",
   "metadata": {},
   "outputs": [],
   "source": [
    "y_test_dummy['Predicted_dt'] = ytest_pred\n",
    "y_test_dummy['Predicted_rf'] = ytest_pred2"
   ]
  },
  {
   "cell_type": "code",
   "execution_count": null,
   "id": "162d9f67-5848-4864-b5ca-802f0db5ffd5",
   "metadata": {},
   "outputs": [],
   "source": [
    "rcParams['figure.figsize'] = 15, 15\n",
    "import matplotlib.pyplot as plt\n",
    "mm=21*24*3600\n",
    "fig = plt.figure()\n",
    "ax = fig.add_subplot(111)\n",
    "heatmap, xedges, yedges = np.histogram2d(x=y_test_dummy['Predicted_dt'],y=y_test_dummy['JobLen'],weights=y_test_dummy['Totalres'] ,bins=200,range=[[0,mm],[0,mm]])\n",
    "extent = [xedges[0], xedges[-1], yedges[0], yedges[-1]]\n",
    "print(heatmap.min(),heatmap.max())\n",
    "cutoff=10\n",
    "pcm=plt.pcolormesh(xedges, yedges, heatmap, cmap='inferno',norm=colors.LogNorm(vmin=heatmap.min()+cutoff, vmax=heatmap.max()+cutoff))\n",
    "plt.xlabel('Actual run time in seconds')\n",
    "plt.ylabel('Predicted run time in seconds')\n",
    "plt.xlim(0,mm)\n",
    "plt.ylim(0,mm)\n",
    "plt.axis('square')\n",
    "plt.title('Decision tree : 2D histogram for the predicted vs. actual run time')\n",
    "fig.colorbar(pcm, ax=ax, extend='max')\n",
    "if not os.path.exists('classification'):\n",
    "    os.makedirs('classification')\n",
    "plt.savefig('classification/dt_new.png')"
   ]
  },
  {
   "cell_type": "code",
   "execution_count": null,
   "id": "2f175bba-174a-4476-ac62-841da9012e4b",
   "metadata": {},
   "outputs": [],
   "source": [
    "rcParams['figure.figsize'] = 15, 15\n",
    "import matplotlib.pyplot as plt\n",
    "mm=21*24*3600\n",
    "fig = plt.figure()\n",
    "ax = fig.add_subplot(111)\n",
    "heatmap, xedges, yedges = np.histogram2d(x=y_test_dummy['Predicted_rf'],y=y_test_dummy['JobLen'],weights=y_test_dummy['Totalres'] ,bins=200,range=[[0,mm],[0,mm]])\n",
    "extent = [xedges[0], xedges[-1], yedges[0], yedges[-1]]\n",
    "print(heatmap.min(),heatmap.max())\n",
    "cutoff=10\n",
    "pcm=plt.pcolormesh(xedges, yedges, heatmap, cmap='inferno',norm=colors.LogNorm(vmin=heatmap.min()+cutoff, vmax=heatmap.max()+cutoff))\n",
    "plt.xlabel('Actual run time in seconds')\n",
    "plt.ylabel('Predicted run time in seconds')\n",
    "plt.xlim(0,mm)\n",
    "plt.ylim(0,mm)\n",
    "plt.axis('square')\n",
    "plt.title('Random forest : 2D histogram for the predicted vs. actual run time')\n",
    "fig.colorbar(pcm, ax=ax, extend='max')\n",
    "if not os.path.exists('classification'):\n",
    "    os.makedirs('classification')\n",
    "plt.savefig('classification/rf_new.png')"
   ]
  },
  {
   "cell_type": "markdown",
   "id": "407ec17a-a77f-40a9-9ca7-fdd522af44d0",
   "metadata": {},
   "source": [
    "### Hyper - parameter tuning"
   ]
  },
  {
   "cell_type": "code",
   "execution_count": null,
   "id": "b2acae8b-10b0-4274-b962-e1529dd803f1",
   "metadata": {},
   "outputs": [],
   "source": []
  },
  {
   "cell_type": "code",
   "execution_count": null,
   "id": "4757ad8d-cd6f-4160-855a-678d9f8f2fa6",
   "metadata": {},
   "outputs": [],
   "source": [
    "# n_estimators = [5,20,50,100,200,300,500] # number of trees in the random forest\n",
    "# max_features = ['auto', 'sqrt'] # number of features in consideration at every split\n",
    "# max_depth = [int(x) for x in np.linspace(10, 120, num = 12)] # maximum number of levels allowed in each decision tree\n",
    "# min_samples_split = [2, 6, 10,16,20] # minimum sample number to split a node\n",
    "# min_samples_leaf = [1, 3, 4,6] # minimum sample number that can be stored in a leaf node\n",
    "# bootstrap = [True, False] # method used to sample data points\n",
    "\n",
    "# random_grid = {'n_estimators': n_estimators,\n",
    "\n",
    "# 'max_features': max_features,\n",
    "\n",
    "# 'max_depth': max_depth,\n",
    "\n",
    "# 'min_samples_split': min_samples_split,\n",
    "\n",
    "# 'min_samples_leaf': min_samples_leaf,\n",
    "\n",
    "# 'bootstrap': bootstrap}"
   ]
  },
  {
   "cell_type": "code",
   "execution_count": null,
   "id": "903ee217-8b02-42aa-9aa1-dd6e0267dfe0",
   "metadata": {},
   "outputs": [],
   "source": [
    "# ## Importing Random Forest Classifier from the sklearn.ensemble\n",
    "# from sklearn.ensemble import RandomForestRegressor\n",
    "# rff = RandomForestRegressor()"
   ]
  },
  {
   "cell_type": "code",
   "execution_count": null,
   "id": "9f75e9d2-6f87-489a-8dc3-e51b12a91f2c",
   "metadata": {},
   "outputs": [],
   "source": [
    "# from sklearn.model_selection import RandomizedSearchCV\n",
    "# rf_random = RandomizedSearchCV(estimator = rff,param_distributions = random_grid,\n",
    "#                n_iter = 100, cv = 3, verbose=2, random_state=42, n_jobs = -1)"
   ]
  },
  {
   "cell_type": "code",
   "execution_count": null,
   "id": "a60d4eb9-fcfd-4b2a-b11f-6a54e2dde326",
   "metadata": {
    "scrolled": true,
    "tags": []
   },
   "outputs": [],
   "source": [
    "# rf_random.fit(X_train, y_train)"
   ]
  },
  {
   "cell_type": "code",
   "execution_count": null,
   "id": "00e4bc9a-db3b-41b5-846c-589f17a54ea6",
   "metadata": {
    "scrolled": true,
    "tags": []
   },
   "outputs": [],
   "source": [
    "# print ('Random grid: ', random_grid, '\\n')\n",
    "# # print the best parameters\n",
    "# print ('Best Parameters: ', rf_random.best_params_, ' \\n')"
   ]
  },
  {
   "cell_type": "code",
   "execution_count": null,
   "id": "bff88d50-b982-4e52-9e28-d7f690ff12b6",
   "metadata": {},
   "outputs": [],
   "source": [
    "# rf = RandomForestRegressor(n_estimators = 300, min_samples_split = 16, min_samples_leaf = 1, max_features = 'sqrt', max_depth = 100, bootstrap = False,  random_state = 42).fit(X_train,y_train)"
   ]
  },
  {
   "cell_type": "code",
   "execution_count": null,
   "id": "2d8fdd4c-c578-4800-aeb2-a625284b8d5c",
   "metadata": {},
   "outputs": [],
   "source": [
    "# print('coefficient r_sq for random forest is %.2f'% rf.score(X_train,y_train))"
   ]
  },
  {
   "cell_type": "code",
   "execution_count": null,
   "id": "7cabc37f-607e-40bf-bcbd-38edfcf05652",
   "metadata": {},
   "outputs": [],
   "source": [
    "\n",
    "# ytrain_pred2 = rf.predict(X_train)"
   ]
  },
  {
   "cell_type": "code",
   "execution_count": null,
   "id": "48c4438b-bc3a-4d24-a047-30a1e4512870",
   "metadata": {},
   "outputs": [],
   "source": [
    "# print('coefficient r_sq for rf is ', r2_score(y_train,ytrain_pred2))\n",
    "# print('mean absolute error for rf is ', mean_absolute_error(y_train,ytrain_pred2))\n",
    "# print('mean squared error for rf is ', mean_squared_error(y_train,ytrain_pred2))\n",
    "# print('explained variance score for rf is %.2f', explained_variance_score(y_train,ytrain_pred2))"
   ]
  },
  {
   "cell_type": "code",
   "execution_count": null,
   "id": "f9859c6b-b809-4365-8138-0232cd1b50a8",
   "metadata": {},
   "outputs": [],
   "source": [
    "\n",
    "# ytest_pred2 = rf.predict(X_test)"
   ]
  },
  {
   "cell_type": "code",
   "execution_count": null,
   "id": "b06c419d-7840-4c32-b335-4d87d9013e40",
   "metadata": {},
   "outputs": [],
   "source": [
    "\n",
    "# print('coefficient r_sq for random forest is %.2f'% rf.score(X_test,y_test))"
   ]
  },
  {
   "cell_type": "code",
   "execution_count": null,
   "id": "492cdd5d-82c3-4a39-820b-19c5697fe30b",
   "metadata": {},
   "outputs": [],
   "source": [
    "\n",
    "# print('coefficient r_sq for random forest is %.2f'% r2_score(y_test,ytest_pred2))"
   ]
  },
  {
   "cell_type": "code",
   "execution_count": null,
   "id": "e24638ff-fcdf-4a9d-8713-82fada3a01bf",
   "metadata": {},
   "outputs": [],
   "source": [
    "# rcParams['figure.figsize'] = 100, 20\n",
    "# x_ax = range(len(X_test))\n",
    "# plt.plot(x_ax,y_test,label = 'actual',color = 'k',linestyle = '-')\n",
    "# plt.scatter(x_ax,ytest_pred2,label = 'predicted',color = 'r',linestyle = '--')\n",
    "# if not os.path.exists('classification'):\n",
    "#     os.makedirs('classification')\n",
    "# plt.savefig('classification/rf_hyper.png')"
   ]
  },
  {
   "cell_type": "code",
   "execution_count": null,
   "id": "1f06b832-3bf8-4276-9f4e-743e6e8ed26f",
   "metadata": {},
   "outputs": [],
   "source": [
    "# rcParams['figure.figsize'] = 100, 20\n",
    "# plt.scatter(y_test,ytest_pred2,label = 'actual vs predicted',color = 'r')\n",
    "# if not os.path.exists('classification'):\n",
    "#     os.makedirs('classification')\n",
    "# plt.savefig('classification/rf_new_hyper.png')"
   ]
  },
  {
   "cell_type": "markdown",
   "id": "34f7b2e2-5f2a-457b-bedd-316b81384a01",
   "metadata": {},
   "source": [
    "### Only for Completed jobs "
   ]
  },
  {
   "cell_type": "code",
   "execution_count": null,
   "id": "2cb2d051-4083-45e2-b6b8-d3671ecf2bcc",
   "metadata": {},
   "outputs": [],
   "source": [
    "prediction2 = waittime[['Account','TimelimitRaw','JobLen','NNodes','Partition','Jcount','State','Totalres']]"
   ]
  },
  {
   "cell_type": "code",
   "execution_count": null,
   "id": "53a4c5c3-5ae7-4758-9f1e-f1a0f5e23c48",
   "metadata": {},
   "outputs": [],
   "source": [
    "prediction2 = prediction2.loc[(prediction2['State'] == 'COMPLETED')]"
   ]
  },
  {
   "cell_type": "code",
   "execution_count": null,
   "id": "fe171d43-b91b-4997-a639-84e9afce4d8f",
   "metadata": {},
   "outputs": [],
   "source": [
    "prediction2.shape"
   ]
  },
  {
   "cell_type": "code",
   "execution_count": null,
   "id": "9225b80a-fd98-4fdc-90b7-5921c8696727",
   "metadata": {},
   "outputs": [],
   "source": [
    "regression2 = prediction2[['Account','NNodes','Partition','TimelimitRaw','JobLen','Totalres']]"
   ]
  },
  {
   "cell_type": "code",
   "execution_count": null,
   "id": "c380b5e0-79bd-454b-9baa-03b0846b3738",
   "metadata": {},
   "outputs": [],
   "source": [
    "regression2['TimelimitRaw'] = regression2['TimelimitRaw'] * 60"
   ]
  },
  {
   "cell_type": "code",
   "execution_count": null,
   "id": "fbf690a1-fab9-4567-af51-f5f0e238e00a",
   "metadata": {},
   "outputs": [],
   "source": [
    "X = regression2.iloc[:,0:4]\n",
    "y = regression2.iloc[:,4:6]"
   ]
  },
  {
   "cell_type": "code",
   "execution_count": null,
   "id": "ceeb9b26-3af0-4d36-b55a-8c264b56a362",
   "metadata": {},
   "outputs": [],
   "source": [
    "X.head()"
   ]
  },
  {
   "cell_type": "code",
   "execution_count": null,
   "id": "1a1405c4-2b83-43eb-b68a-7dd36d7d4319",
   "metadata": {},
   "outputs": [],
   "source": [
    "label_encoder = preprocessing.LabelEncoder()\n",
    "X['Partition']= label_encoder.fit_transform(X['Partition'])\n",
    "X['Partition'].unique()"
   ]
  },
  {
   "cell_type": "code",
   "execution_count": null,
   "id": "e7ab9002-7905-4f43-a5e8-2037f731dfc7",
   "metadata": {},
   "outputs": [],
   "source": [
    "y.head()"
   ]
  },
  {
   "cell_type": "code",
   "execution_count": null,
   "id": "b1e08d5a-d418-4ffa-b24b-bfb14ca619f4",
   "metadata": {},
   "outputs": [],
   "source": [
    "X_train, X_test, y_train, y_test = train_test_split(X,y,stratify=X['Partition'], test_size=0.25,random_state = 42)"
   ]
  },
  {
   "cell_type": "code",
   "execution_count": null,
   "id": "418bbf8d-305d-4d97-b4ac-c0cd90d3dac4",
   "metadata": {},
   "outputs": [],
   "source": [
    "print(X_train.shape, X_test.shape, y_train.shape, y_test.shape)"
   ]
  },
  {
   "cell_type": "code",
   "execution_count": null,
   "id": "5c0c5182-2bc0-4583-8b20-d74ab5ee2fce",
   "metadata": {},
   "outputs": [],
   "source": [
    "y_train_dummy = y_train.copy()"
   ]
  },
  {
   "cell_type": "code",
   "execution_count": null,
   "id": "a4e55616-77cc-4fd6-9caf-59fa886ead87",
   "metadata": {},
   "outputs": [],
   "source": [
    "y_train = y_train[['JobLen']]"
   ]
  },
  {
   "cell_type": "code",
   "execution_count": null,
   "id": "2b260389-892a-489d-b75f-e85cfa13712c",
   "metadata": {},
   "outputs": [],
   "source": []
  },
  {
   "cell_type": "code",
   "execution_count": null,
   "id": "ec0fdbdb-3f13-47bb-9d73-0e6898cedda9",
   "metadata": {},
   "outputs": [],
   "source": [
    "# y_train = y_train['JobLen']"
   ]
  },
  {
   "cell_type": "code",
   "execution_count": null,
   "id": "2503d699-0b33-4aa4-aab9-8d3b8f825a80",
   "metadata": {},
   "outputs": [],
   "source": [
    "dt = DecisionTreeRegressor(random_state = 42).fit(X_train,y_train)"
   ]
  },
  {
   "cell_type": "code",
   "execution_count": null,
   "id": "5ea7aeb8-2789-45ed-a711-43da4c77ad09",
   "metadata": {},
   "outputs": [],
   "source": [
    "rf = RandomForestRegressor(random_state = 42).fit(X_train,y_train)"
   ]
  },
  {
   "cell_type": "code",
   "execution_count": null,
   "id": "9c498619-be07-4f72-8b66-f69b38d5df08",
   "metadata": {},
   "outputs": [],
   "source": [
    "print('coefficient r_sq for decision tree is %.2f'% dt.score(X_train,y_train))\n",
    "print('coefficient r_sq for random forest is %.2f'% rf.score(X_train,y_train))"
   ]
  },
  {
   "cell_type": "code",
   "execution_count": null,
   "id": "f419a0b7-bbdb-4af4-804a-e6b569f6d567",
   "metadata": {},
   "outputs": [],
   "source": [
    "ytrain_pred = dt.predict(X_train)\n",
    "ytrain_pred2 = rf.predict(X_train)"
   ]
  },
  {
   "cell_type": "code",
   "execution_count": null,
   "id": "e25cdc84-ed5e-470e-8f2d-7067b78e6137",
   "metadata": {},
   "outputs": [],
   "source": [
    "print('coefficient r_sq for dt is ', r2_score(y_train,ytrain_pred))\n",
    "print('mean absolute error for dt is ', mean_absolute_error(y_train,ytrain_pred))\n",
    "print('mean squared error for dt is ', mean_squared_error(y_train,ytrain_pred))\n",
    "print('explained variance score for dt is %.2f', explained_variance_score(y_train,ytrain_pred))"
   ]
  },
  {
   "cell_type": "code",
   "execution_count": null,
   "id": "9776f228-dc00-4b45-a6f1-949f26992a32",
   "metadata": {},
   "outputs": [],
   "source": [
    "print('coefficient r_sq for rf is ', r2_score(y_train,ytrain_pred2))\n",
    "print('mean absolute error for rf is ', mean_absolute_error(y_train,ytrain_pred2))\n",
    "print('mean squared error for rf is ', mean_squared_error(y_train,ytrain_pred2))\n",
    "print('explained variance score for rf is %.2f', explained_variance_score(y_train,ytrain_pred2))"
   ]
  },
  {
   "cell_type": "code",
   "execution_count": null,
   "id": "9cc7be79-6e86-4ae9-a11a-46d37248341d",
   "metadata": {},
   "outputs": [],
   "source": [
    "ytest_pred = dt.predict(X_test)\n",
    "ytest_pred2 = rf.predict(X_test)"
   ]
  },
  {
   "cell_type": "code",
   "execution_count": null,
   "id": "a6060e04-0fef-431a-bb1e-f299dbbc086d",
   "metadata": {},
   "outputs": [],
   "source": [
    "X_test.shape"
   ]
  },
  {
   "cell_type": "code",
   "execution_count": null,
   "id": "bf166dca-4805-45a2-85b7-17ba733f8b5b",
   "metadata": {},
   "outputs": [],
   "source": [
    "y_test_dummy = y_test.copy()"
   ]
  },
  {
   "cell_type": "code",
   "execution_count": null,
   "id": "63349582-cedf-4ece-a96b-9d547bacb6f9",
   "metadata": {},
   "outputs": [],
   "source": [
    "y_test = y_test[['JobLen']]"
   ]
  },
  {
   "cell_type": "code",
   "execution_count": null,
   "id": "ef279ce1-3dc6-4419-9111-ebc2bdcf6a72",
   "metadata": {},
   "outputs": [],
   "source": []
  },
  {
   "cell_type": "code",
   "execution_count": null,
   "id": "3edfced7-3489-4eba-afb3-03e22e0fe2aa",
   "metadata": {},
   "outputs": [],
   "source": [
    "print('coefficient r_sq for decision tree is %.2f'% dt.score(X_test,y_test))\n",
    "print('coefficient r_sq for random forest is %.2f'% rf.score(X_test,y_test))"
   ]
  },
  {
   "cell_type": "code",
   "execution_count": null,
   "id": "aee28730-bb2e-4f74-8038-53d35eb8728e",
   "metadata": {},
   "outputs": [],
   "source": [
    "print('coefficient r_sq for decision tree is %.2f'% r2_score(y_test,ytest_pred))\n",
    "print('coefficient r_sq for random forest is %.2f'% r2_score(y_test,ytest_pred2))"
   ]
  },
  {
   "cell_type": "code",
   "execution_count": null,
   "id": "7012c7b5-49f4-47bf-b62b-507032de6e03",
   "metadata": {},
   "outputs": [],
   "source": [
    "y.head()"
   ]
  },
  {
   "cell_type": "code",
   "execution_count": null,
   "id": "a2ea6136-8cb7-467b-b06a-cf092b6dd938",
   "metadata": {},
   "outputs": [],
   "source": [
    "rcParams['figure.figsize'] = 100, 20\n",
    "x_ax = range(len(X_test))\n",
    "plt.plot(x_ax,y_test,label = 'actual',color = 'k',linestyle = '-')\n",
    "plt.scatter(x_ax,ytest_pred,label = 'predicted',color = 'r',linestyle = '--')\n",
    "if not os.path.exists('classification'):\n",
    "    os.makedirs('classification')\n",
    "plt.savefig('classification/dt2.png')"
   ]
  },
  {
   "cell_type": "code",
   "execution_count": null,
   "id": "af1cd83c-1361-4358-a797-be7af3618367",
   "metadata": {},
   "outputs": [],
   "source": [
    "rcParams['figure.figsize'] = 100, 20\n",
    "x_ax = range(len(X_test))\n",
    "plt.plot(x_ax,y_test,label = 'actual',color = 'k',linestyle = '-')\n",
    "plt.scatter(x_ax,ytest_pred2,label = 'predicted',color = 'r',alpha = 0.5,linestyle = '--')\n",
    "if not os.path.exists('classification'):\n",
    "    os.makedirs('classification')\n",
    "plt.savefig('classification/rf2.png')"
   ]
  },
  {
   "cell_type": "code",
   "execution_count": null,
   "id": "98e6c258-518f-41e0-8002-a9e5da4b8a27",
   "metadata": {},
   "outputs": [],
   "source": [
    "y_test_dummy['Predicted_dt'] = ytest_pred\n",
    "y_test_dummy['Predicted_rf'] = ytest_pred2"
   ]
  },
  {
   "cell_type": "code",
   "execution_count": null,
   "id": "0dc63c37-7829-4796-aeae-ec6c5c03c137",
   "metadata": {},
   "outputs": [],
   "source": [
    "rcParams['figure.figsize'] = 15, 15\n",
    "import matplotlib.pyplot as plt\n",
    "mm=21*24*3600\n",
    "fig = plt.figure()\n",
    "ax = fig.add_subplot(111)\n",
    "heatmap, xedges, yedges = np.histogram2d(x=y_test_dummy['Predicted_dt'],y=y_test_dummy['JobLen'],weights=y_test_dummy['Totalres'] ,bins=200,range=[[0,mm],[0,mm]])\n",
    "extent = [xedges[0], xedges[-1], yedges[0], yedges[-1]]\n",
    "print(heatmap.min(),heatmap.max())\n",
    "cutoff=10\n",
    "pcm=plt.pcolormesh(xedges, yedges, heatmap, cmap='inferno',norm=colors.LogNorm(vmin=heatmap.min()+cutoff, vmax=heatmap.max()+cutoff))\n",
    "plt.xlabel('Actual run time in seconds')\n",
    "plt.ylabel('Predicted run time in seconds')\n",
    "plt.xlim(0,mm)\n",
    "plt.ylim(0,mm)\n",
    "plt.axis('square')\n",
    "plt.title('Decision tree : 2D histogram for the predicted vs. actual run time')\n",
    "fig.colorbar(pcm, ax=ax, extend='max')\n",
    "if not os.path.exists('classification'):\n",
    "    os.makedirs('classification')\n",
    "plt.savefig('classification/dt2_new.png')"
   ]
  },
  {
   "cell_type": "code",
   "execution_count": null,
   "id": "8fa0fffc-2959-4202-aff1-af2aff764cea",
   "metadata": {},
   "outputs": [],
   "source": [
    "rcParams['figure.figsize'] = 15, 15\n",
    "import matplotlib.pyplot as plt\n",
    "mm=21*24*3600\n",
    "fig = plt.figure()\n",
    "ax = fig.add_subplot(111)\n",
    "heatmap, xedges, yedges = np.histogram2d(x=y_test_dummy['Predicted_rf'],y=y_test_dummy['JobLen'],weights=y_test_dummy['Totalres'] ,bins=200,range=[[0,mm],[0,mm]])\n",
    "extent = [xedges[0], xedges[-1], yedges[0], yedges[-1]]\n",
    "print(heatmap.min(),heatmap.max())\n",
    "cutoff=10\n",
    "pcm=plt.pcolormesh(xedges, yedges, heatmap, cmap='inferno',norm=colors.LogNorm(vmin=heatmap.min()+cutoff, vmax=heatmap.max()+cutoff))\n",
    "plt.xlabel('Actual run time in seconds')\n",
    "plt.ylabel('Predicted run time in seconds')\n",
    "plt.xlim(0,mm)\n",
    "plt.ylim(0,mm)\n",
    "plt.axis('square')\n",
    "plt.title('Random forest : 2D histogram for the predicted vs. actual run time')\n",
    "fig.colorbar(pcm, ax=ax, extend='max')\n",
    "if not os.path.exists('classification'):\n",
    "    os.makedirs('classification')\n",
    "plt.savefig('classification/rf2_new.png')"
   ]
  },
  {
   "cell_type": "code",
   "execution_count": null,
   "id": "dd7a148b-c757-4eba-a3df-c20d678a13cc",
   "metadata": {},
   "outputs": [],
   "source": [
    "y_test1 = y_test.copy()"
   ]
  },
  {
   "cell_type": "code",
   "execution_count": null,
   "id": "f61f2caa-380d-4b56-a9dc-9840e82cc8e4",
   "metadata": {},
   "outputs": [],
   "source": [
    "# X_test['Predicted'] = ytest_pred2"
   ]
  },
  {
   "cell_type": "code",
   "execution_count": null,
   "id": "a9d53d39-f2bd-403b-ab17-c642b46382a9",
   "metadata": {},
   "outputs": [],
   "source": [
    "y_test1['predicted'] = ytest_pred2\n",
    "y_test1['Timelimit'] = X_test['TimelimitRaw'].to_numpy()"
   ]
  },
  {
   "cell_type": "code",
   "execution_count": null,
   "id": "b8f91b51-bcd6-4e23-aa51-aab2beca23d6",
   "metadata": {},
   "outputs": [],
   "source": [
    "y_test1.info()"
   ]
  },
  {
   "cell_type": "code",
   "execution_count": null,
   "id": "d094b764-20cc-4f6d-a51e-8f45cfc39c4a",
   "metadata": {},
   "outputs": [],
   "source": [
    "i = 0\n",
    "predicted = []\n",
    "JobLen = []\n",
    "timelimit = []\n",
    "df = pd.DataFrame(columns = ['Predicted','JobLen','timelimit'])\n",
    "for index, row in y_test1.iterrows():\n",
    "    if row['predicted'] < row['JobLen']:\n",
    "        i = i + 1\n",
    "        predicted.append(row['predicted'])\n",
    "        JobLen.append(row['JobLen'])\n",
    "        timelimit.append(row['Timelimit'])"
   ]
  },
  {
   "cell_type": "code",
   "execution_count": null,
   "id": "de097335-09d3-4aa7-803a-ff89fd6952c6",
   "metadata": {},
   "outputs": [],
   "source": [
    "df['Predicted'] = predicted\n",
    "df['JobLen'] = JobLen\n",
    "df['timelimit'] = timelimit\n"
   ]
  },
  {
   "cell_type": "code",
   "execution_count": null,
   "id": "4addb6eb-516b-48c4-be75-6470f50b371e",
   "metadata": {},
   "outputs": [],
   "source": [
    "print(i)\n",
    "df.head(10)"
   ]
  },
  {
   "cell_type": "code",
   "execution_count": null,
   "id": "39d55727-85b6-4f98-845e-729eaa80f72e",
   "metadata": {},
   "outputs": [],
   "source": [
    "y_train2 = y_train.copy()"
   ]
  },
  {
   "cell_type": "code",
   "execution_count": null,
   "id": "a5c9be94-0572-4968-9806-4c6806016ed1",
   "metadata": {},
   "outputs": [],
   "source": [
    "X_train.head()"
   ]
  },
  {
   "cell_type": "code",
   "execution_count": null,
   "id": "22203d34-bb2b-4158-85e7-7210d0359621",
   "metadata": {},
   "outputs": [],
   "source": [
    "y_train2['Account'] = X_train['Account'].to_numpy()\n",
    "y_train2['NNodes'] = X_train['NNodes'].to_numpy()\n",
    "y_train2['Partition'] = X_train['Partition'].to_numpy()\n",
    "y_train2['Timelimit'] = X_train['TimelimitRaw'].to_numpy()\n",
    "y_train2['predicted'] = ytrain_pred2"
   ]
  },
  {
   "cell_type": "code",
   "execution_count": null,
   "id": "657463d3-7c7a-4150-80f2-837a97b174b6",
   "metadata": {},
   "outputs": [],
   "source": [
    "i = 0\n",
    "predicted1 = []\n",
    "JobLen1 = []\n",
    "timelimit1 = []\n",
    "account = []\n",
    "nnodes = []\n",
    "partition = []\n",
    "df1 = pd.DataFrame(columns = ['Account','NNodes','Partition','TimelimitRaw','Predicted','JobLen'])\n",
    "for index, row in y_train2.iterrows():\n",
    "    if row['predicted'] < row['JobLen']:\n",
    "        i = i + 1\n",
    "        account.append(row['Account'])\n",
    "        nnodes.append(row['NNodes'])\n",
    "        partition.append(row['Partition'])\n",
    "        predicted1.append(row['predicted'])\n",
    "        JobLen1.append(row['JobLen'])\n",
    "        timelimit1.append(row['Timelimit'])"
   ]
  },
  {
   "cell_type": "code",
   "execution_count": null,
   "id": "2f57808f-aa60-43f6-8d94-bf14f090ffd5",
   "metadata": {},
   "outputs": [],
   "source": [
    "df1['Account'] = account\n",
    "df1['NNodes'] = nnodes\n",
    "df1['Partition'] = partition\n",
    "df1['Predicted'] = predicted1\n",
    "df1['JobLen'] = JobLen1\n",
    "df1['TimelimitRaw'] = timelimit1"
   ]
  },
  {
   "cell_type": "code",
   "execution_count": null,
   "id": "ed5221f3-391a-46e7-b803-41cd08f01a76",
   "metadata": {},
   "outputs": [],
   "source": [
    "print(i)\n",
    "df1.head()"
   ]
  },
  {
   "cell_type": "code",
   "execution_count": null,
   "id": "a81bdcb3-5fe4-4fa0-bd2c-d23299020972",
   "metadata": {},
   "outputs": [],
   "source": [
    "xtrain = df1.iloc[:,0:4]\n",
    "ytrain = df1.iloc[:,4:5]"
   ]
  },
  {
   "cell_type": "code",
   "execution_count": null,
   "id": "ebef7a70-9ff0-4ed9-bacc-6d583296c04e",
   "metadata": {},
   "outputs": [],
   "source": [
    "ytrain.head()"
   ]
  },
  {
   "cell_type": "code",
   "execution_count": null,
   "id": "02a0e4bf-cad6-4f07-8eb3-ad668e1ac3d6",
   "metadata": {},
   "outputs": [],
   "source": [
    "xy_test = pd.concat([X_test, y_test], axis=\"columns\")"
   ]
  },
  {
   "cell_type": "code",
   "execution_count": null,
   "id": "ed1dc2c5-5bab-458f-a9ec-4481bca331ca",
   "metadata": {},
   "outputs": [],
   "source": [
    "xy_test.head(10)"
   ]
  },
  {
   "cell_type": "code",
   "execution_count": null,
   "id": "d7f12fce-a022-4394-9526-3c5023f83e67",
   "metadata": {},
   "outputs": [],
   "source": [
    "xy_test = xy_test.sample(frac=0.30)"
   ]
  },
  {
   "cell_type": "code",
   "execution_count": null,
   "id": "25daf6cd-6ce6-4562-be0e-e71407a90535",
   "metadata": {},
   "outputs": [],
   "source": [
    "xy_test.info()"
   ]
  },
  {
   "cell_type": "code",
   "execution_count": null,
   "id": "7744f34e-986e-45da-93bc-c4f97ed3db62",
   "metadata": {},
   "outputs": [],
   "source": [
    "X_test = xy_test[['Account','NNodes','Partition','TimelimitRaw']]"
   ]
  },
  {
   "cell_type": "code",
   "execution_count": null,
   "id": "68099239-9efd-40a2-8594-6a2ff71f85a9",
   "metadata": {},
   "outputs": [],
   "source": [
    "y_test.head()"
   ]
  },
  {
   "cell_type": "code",
   "execution_count": null,
   "id": "3fab01be-c646-4025-af52-08d93eaf4da6",
   "metadata": {},
   "outputs": [],
   "source": [
    "y_test = xy_test[['JobLen']]"
   ]
  },
  {
   "cell_type": "code",
   "execution_count": null,
   "id": "cbd108f4-0811-42b3-84aa-0113743ceb15",
   "metadata": {},
   "outputs": [],
   "source": [
    "dtt = DecisionTreeRegressor(random_state = 42).fit(xtrain,ytrain)"
   ]
  },
  {
   "cell_type": "code",
   "execution_count": null,
   "id": "f7823775-83d1-4132-a215-3918413fd6ba",
   "metadata": {},
   "outputs": [],
   "source": [
    "rff = RandomForestRegressor(random_state = 42).fit(xtrain,ytrain)"
   ]
  },
  {
   "cell_type": "code",
   "execution_count": null,
   "id": "1ccf861d-5737-4a30-89d7-eee7fa892abc",
   "metadata": {},
   "outputs": [],
   "source": [
    "print('coefficient r_sq for decision tree is %.2f'% dtt.score(xtrain,ytrain))\n",
    "print('coefficient r_sq for random forest is %.2f'% rff.score(xtrain,ytrain))"
   ]
  },
  {
   "cell_type": "code",
   "execution_count": null,
   "id": "cedf6c31-6106-4820-a450-f8bc97612e6b",
   "metadata": {},
   "outputs": [],
   "source": [
    "ytrainn_pred = dtt.predict(xtrain)\n",
    "ytrainn_pred2 = rff.predict(xtrain)"
   ]
  },
  {
   "cell_type": "code",
   "execution_count": null,
   "id": "58e02ca0-150e-4f67-9951-b18e7955a271",
   "metadata": {},
   "outputs": [],
   "source": [
    "print('coefficient r_sq for dt is ', r2_score(ytrain,ytrainn_pred))\n",
    "print('mean absolute error for dt is ', mean_absolute_error(ytrain,ytrainn_pred))\n",
    "print('mean squared error for dt is ', mean_squared_error(ytrain,ytrainn_pred))\n",
    "print('explained variance score for dt is %.2f', explained_variance_score(ytrain,ytrainn_pred))"
   ]
  },
  {
   "cell_type": "code",
   "execution_count": null,
   "id": "95bf193e-fde2-494d-8efd-2a60b07397e6",
   "metadata": {},
   "outputs": [],
   "source": [
    "print('coefficient r_sq for rf is ', r2_score(ytrain,ytrainn_pred2))\n",
    "print('mean absolute error for rf is ', mean_absolute_error(ytrain,ytrainn_pred2))\n",
    "print('mean squared error for rf is ', mean_squared_error(ytrain,ytrainn_pred2))\n",
    "print('explained variance score for rf is %.2f', explained_variance_score(ytrain,ytrainn_pred2))"
   ]
  },
  {
   "cell_type": "code",
   "execution_count": null,
   "id": "870f794a-9123-4f1b-9061-3c4aee972e69",
   "metadata": {},
   "outputs": [],
   "source": [
    "X_test.head()"
   ]
  },
  {
   "cell_type": "code",
   "execution_count": null,
   "id": "a4cc37d8-a9b7-47e3-b364-d8a42a17a290",
   "metadata": {},
   "outputs": [],
   "source": [
    "ytest_predd = dtt.predict(X_test)\n",
    "ytest_predd2 = rff.predict(X_test)"
   ]
  },
  {
   "cell_type": "code",
   "execution_count": null,
   "id": "8e24abe0-7e85-430b-b5a3-39c0db6448a4",
   "metadata": {},
   "outputs": [],
   "source": [
    "y_test.info()"
   ]
  },
  {
   "cell_type": "code",
   "execution_count": null,
   "id": "9117c070-3c5d-4b92-8137-d05004b4d7d7",
   "metadata": {},
   "outputs": [],
   "source": [
    "print('coefficient r_sq for decision tree is %.2f'% dtt.score(X_test,y_test))\n",
    "print('coefficient r_sq for random forest is %.2f'% rff.score(X_test,y_test))"
   ]
  },
  {
   "cell_type": "code",
   "execution_count": null,
   "id": "6573e59b-4a3f-4667-8c92-57506f3ce395",
   "metadata": {},
   "outputs": [],
   "source": [
    "y_test2 = y_test.copy()"
   ]
  },
  {
   "cell_type": "code",
   "execution_count": null,
   "id": "1a700769-9eba-4d70-adf1-e4f925888acc",
   "metadata": {},
   "outputs": [],
   "source": [
    "y_test2.head()"
   ]
  },
  {
   "cell_type": "code",
   "execution_count": null,
   "id": "e821d4be-e02a-44d7-83e5-73038da50923",
   "metadata": {},
   "outputs": [],
   "source": [
    "y_test2['Account'] = X_test['Account'].to_numpy()\n",
    "y_test2['NNodes'] = X_test['NNodes'].to_numpy()\n",
    "y_test2['Partition'] = X_test['Partition'].to_numpy()\n",
    "y_test2['Timelimit'] = X_test['TimelimitRaw'].to_numpy()\n",
    "y_test2['predicted'] = ytest_predd2"
   ]
  },
  {
   "cell_type": "code",
   "execution_count": null,
   "id": "5bd6eb68-e02d-44db-8efa-fce4779a8efc",
   "metadata": {},
   "outputs": [],
   "source": [
    "i = 0\n",
    "predicted1 = []\n",
    "JobLen1 = []\n",
    "timelimit1 = []\n",
    "account = []\n",
    "nnodes = []\n",
    "partition = []\n",
    "df2 = pd.DataFrame(columns = ['Account','NNodes','Partition','timelimit','Predicted','JobLen'])\n",
    "for index, row in y_test2.iterrows():\n",
    "    if row['predicted'] < row['JobLen']:\n",
    "        i = i + 1\n",
    "        account.append(row['Account'])\n",
    "        nnodes.append(row['NNodes'])\n",
    "        partition.append(row['Partition'])\n",
    "        predicted1.append(row['predicted'])\n",
    "        JobLen1.append(row['JobLen'])\n",
    "        timelimit1.append(row['Timelimit'])"
   ]
  },
  {
   "cell_type": "code",
   "execution_count": null,
   "id": "a84d0f40-90ee-4590-b8de-f6c6cc4ac7f1",
   "metadata": {},
   "outputs": [],
   "source": [
    "df2['Account'] = account\n",
    "df2['NNodes'] = nnodes\n",
    "df2['Partition'] = partition\n",
    "df2['Predicted'] = predicted1\n",
    "df2['JobLen'] = JobLen1\n",
    "df2['timelimit'] = timelimit1"
   ]
  },
  {
   "cell_type": "code",
   "execution_count": null,
   "id": "de0e91d4-fd69-4eda-98ee-01d3e2f6fac1",
   "metadata": {},
   "outputs": [],
   "source": []
  },
  {
   "cell_type": "code",
   "execution_count": null,
   "id": "1341faec-650d-47c3-a4a1-21fa0b2cc8c8",
   "metadata": {},
   "outputs": [],
   "source": [
    "print(i)\n",
    "df2.head()"
   ]
  },
  {
   "cell_type": "code",
   "execution_count": null,
   "id": "1b5af418-c95b-4bd6-bec1-01f46762879e",
   "metadata": {},
   "outputs": [],
   "source": []
  },
  {
   "cell_type": "code",
   "execution_count": null,
   "id": "db15ec13-ee90-4401-a7cb-5386542d459a",
   "metadata": {},
   "outputs": [],
   "source": [
    "# n_estimators = [5,20,50,100,200,300,500] # number of trees in the random forest\n",
    "# max_features = ['auto', 'sqrt'] # number of features in consideration at every split\n",
    "# max_depth = [int(x) for x in np.linspace(10, 120, num = 12)] # maximum number of levels allowed in each decision tree\n",
    "# min_samples_split = [2, 6, 10,16,20] # minimum sample number to split a node\n",
    "# min_samples_leaf = [1, 3, 4,6] # minimum sample number that can be stored in a leaf node\n",
    "# bootstrap = [True, False] # method used to sample data points\n",
    "\n",
    "# random_grid = {'n_estimators': n_estimators,\n",
    "\n",
    "# 'max_features': max_features,\n",
    "\n",
    "# 'max_depth': max_depth,\n",
    "\n",
    "# 'min_samples_split': min_samples_split,\n",
    "\n",
    "# 'min_samples_leaf': min_samples_leaf,\n",
    "\n",
    "# 'bootstrap': bootstrap}"
   ]
  },
  {
   "cell_type": "code",
   "execution_count": null,
   "id": "2ed62820-2525-4b1d-9541-dab9a681c643",
   "metadata": {},
   "outputs": [],
   "source": [
    "# ## Importing Random Forest Classifier from the sklearn.ensemble\n",
    "# from sklearn.ensemble import RandomForestRegressor\n",
    "# rff = RandomForestRegressor()"
   ]
  },
  {
   "cell_type": "code",
   "execution_count": null,
   "id": "d736c45b-acab-4232-9b0e-a1c279682ed1",
   "metadata": {},
   "outputs": [],
   "source": [
    "# from sklearn.model_selection import RandomizedSearchCV\n",
    "# rf_random = RandomizedSearchCV(estimator = rff,param_distributions = random_grid,\n",
    "#                n_iter = 100, cv = 3, verbose=2, random_state=42, n_jobs = -1)"
   ]
  },
  {
   "cell_type": "code",
   "execution_count": null,
   "id": "ab78ff5f-778b-41c3-ba81-50c48eb69475",
   "metadata": {
    "scrolled": true,
    "tags": []
   },
   "outputs": [],
   "source": [
    "# rf_random.fit(X_train, y_train)"
   ]
  },
  {
   "cell_type": "code",
   "execution_count": null,
   "id": "ef6198b9-bc6f-4c94-8b90-6869aa9cfb7d",
   "metadata": {
    "scrolled": true,
    "tags": []
   },
   "outputs": [],
   "source": [
    "# print ('Random grid: ', random_grid, '\\n')\n",
    "# # print the best parameters\n",
    "# print ('Best Parameters: ', rf_random.best_params_, ' \\n')"
   ]
  },
  {
   "cell_type": "code",
   "execution_count": null,
   "id": "8232abe1-6e80-4d8f-b28c-12e1a3eece49",
   "metadata": {},
   "outputs": [],
   "source": []
  },
  {
   "cell_type": "code",
   "execution_count": null,
   "id": "d2e54f14-8079-43b8-8bdb-2e66c8ddeadb",
   "metadata": {},
   "outputs": [],
   "source": [
    "# rf = RandomForestRegressor(n_estimators = 300, min_samples_split = 16, min_samples_leaf = 1, max_features = 'sqrt', max_depth = 100, bootstrap = False,  random_state = 42).fit(X_train,y_train)"
   ]
  },
  {
   "cell_type": "code",
   "execution_count": null,
   "id": "b4a0088e-c059-4a41-b3a7-633d483f5265",
   "metadata": {},
   "outputs": [],
   "source": [
    "# print('coefficient r_sq for random forest is %.2f'% rf.score(X_train,y_train))"
   ]
  },
  {
   "cell_type": "code",
   "execution_count": null,
   "id": "33075c60-26fe-4660-9d3f-eb9ca07cc723",
   "metadata": {},
   "outputs": [],
   "source": [
    "# ytrain_pred2 = rf.predict(X_train)"
   ]
  },
  {
   "cell_type": "code",
   "execution_count": null,
   "id": "5acfb3b9-50ea-4668-8498-af5bd90dfa68",
   "metadata": {},
   "outputs": [],
   "source": [
    "# print('coefficient r_sq for rf is ', r2_score(y_train,ytrain_pred2))\n",
    "# print('mean absolute error for rf is ', mean_absolute_error(y_train,ytrain_pred2))\n",
    "# print('mean squared error for rf is ', mean_squared_error(y_train,ytrain_pred2))\n",
    "# print('explained variance score for rf is %.2f', explained_variance_score(y_train,ytrain_pred2))"
   ]
  },
  {
   "cell_type": "code",
   "execution_count": null,
   "id": "c9dafc0a-791b-4077-902f-f77eca0f481c",
   "metadata": {},
   "outputs": [],
   "source": [
    "# ytest_pred2 = rf.predict(X_test)"
   ]
  },
  {
   "cell_type": "code",
   "execution_count": null,
   "id": "431c95aa-bde5-405c-99ab-4883d32f8f49",
   "metadata": {},
   "outputs": [],
   "source": [
    "# print('coefficient r_sq for random forest is %.2f'% rf.score(X_test,y_test))"
   ]
  },
  {
   "cell_type": "code",
   "execution_count": null,
   "id": "f021df4d-e63c-489b-ab21-64c2b5af74c2",
   "metadata": {},
   "outputs": [],
   "source": [
    "# print('coefficient r_sq for random forest is %.2f'% r2_score(y_test,ytest_pred2))"
   ]
  },
  {
   "cell_type": "code",
   "execution_count": null,
   "id": "d05d3a5a-a5d7-4fdd-b66b-e9228763587a",
   "metadata": {},
   "outputs": [],
   "source": [
    "# y.head()"
   ]
  },
  {
   "cell_type": "code",
   "execution_count": null,
   "id": "4a9da4ca-4f13-48da-b37f-453fe6800606",
   "metadata": {},
   "outputs": [],
   "source": [
    "# rcParams['figure.figsize'] = 100, 20\n",
    "# x_ax = range(len(X_test))\n",
    "# plt.plot(x_ax,y_test,label = 'actual',color = 'k',linestyle = '-')\n",
    "# plt.scatter(x_ax,ytest_pred2,label = 'predicted',color = 'r',alpha = 0.5,linestyle = '--')\n",
    "# if not os.path.exists('classification'):\n",
    "#     os.makedirs('classification')\n",
    "# plt.savefig('classification/rf2_hyper.png')"
   ]
  },
  {
   "cell_type": "code",
   "execution_count": null,
   "id": "b0556640-dbf7-4a87-b27e-c5891187bc33",
   "metadata": {},
   "outputs": [],
   "source": [
    "# rcParams['figure.figsize'] = 100, 20\n",
    "# plt.scatter(y_test,ytest_pred2,label = 'actual vs predicted',color = 'r',alpha = 0.5)\n",
    "# if not os.path.exists('classification'):\n",
    "#     os.makedirs('classification')\n",
    "# plt.savefig('classification/rf2_new_hyper.png')"
   ]
  },
  {
   "cell_type": "markdown",
   "id": "777bb76a-3732-4eb1-b64f-ce17444cbdb5",
   "metadata": {},
   "source": [
    "## Feature Extraction"
   ]
  },
  {
   "cell_type": "code",
   "execution_count": null,
   "id": "282b377d-7a70-4794-ac79-f7ec6625d63e",
   "metadata": {},
   "outputs": [],
   "source": [
    "Features = regression2[['Account','NNodes','Partition','TimelimitRaw','JobLen','Totalres']]"
   ]
  },
  {
   "cell_type": "code",
   "execution_count": null,
   "id": "c7bd8810-be68-41c6-8bf0-a3e8343b6704",
   "metadata": {},
   "outputs": [],
   "source": [
    "Features.head()"
   ]
  },
  {
   "cell_type": "code",
   "execution_count": null,
   "id": "a4f04aaa-aa88-4ec3-8084-1e4f1492955d",
   "metadata": {},
   "outputs": [],
   "source": [
    "Features['TimelimitRaw'] = Features['TimelimitRaw'] / 60 \n",
    "Features['JobLen'] = Features['JobLen'] / 60 "
   ]
  },
  {
   "cell_type": "code",
   "execution_count": null,
   "id": "466fe186-ce2f-48cc-8b70-6f6f61b47ace",
   "metadata": {},
   "outputs": [],
   "source": [
    "Features['Extra'] = Features['TimelimitRaw'] - Features['JobLen']"
   ]
  },
  {
   "cell_type": "code",
   "execution_count": null,
   "id": "93cd4c07-c1ba-4822-b28f-e0fe49e21be6",
   "metadata": {},
   "outputs": [],
   "source": [
    "X = Features[['Account','NNodes','Partition','TimelimitRaw']]\n",
    "y = Features[['Extra','Totalres']]\n"
   ]
  },
  {
   "cell_type": "code",
   "execution_count": null,
   "id": "59fe89c0-3fea-42a7-a145-19b2f049ee01",
   "metadata": {},
   "outputs": [],
   "source": [
    "X.head()"
   ]
  },
  {
   "cell_type": "code",
   "execution_count": null,
   "id": "6bbe20bb-e822-4bb2-9e5b-ac6d7ea05ae9",
   "metadata": {},
   "outputs": [],
   "source": [
    "label_encoder = preprocessing.LabelEncoder()\n",
    "X['Partition']= label_encoder.fit_transform(X['Partition'])\n",
    "X['Partition'].unique()"
   ]
  },
  {
   "cell_type": "code",
   "execution_count": null,
   "id": "87836bf3-8f37-41cb-95b6-9fd6a8a33a52",
   "metadata": {},
   "outputs": [],
   "source": [
    "X_train, X_test, y_train, y_test = train_test_split(X,y, test_size=0.30,random_state = 42)"
   ]
  },
  {
   "cell_type": "code",
   "execution_count": null,
   "id": "491e1e39-f1d3-4799-87ef-1f69a9c26b70",
   "metadata": {},
   "outputs": [],
   "source": [
    "print(X_train.shape, X_test.shape, y_train.shape, y_test.shape)"
   ]
  },
  {
   "cell_type": "code",
   "execution_count": null,
   "id": "83748afa-49e4-491d-b3e9-5f6473785f38",
   "metadata": {},
   "outputs": [],
   "source": [
    "y_train_dummy = y_train.copy()"
   ]
  },
  {
   "cell_type": "code",
   "execution_count": null,
   "id": "0265be26-8fa5-443c-b4d7-c96d13d805d0",
   "metadata": {},
   "outputs": [],
   "source": [
    "y_train = y_train[['Extra']]"
   ]
  },
  {
   "cell_type": "code",
   "execution_count": null,
   "id": "b8b66729-a3de-4bbb-aef2-e5bc276d4071",
   "metadata": {},
   "outputs": [],
   "source": [
    "dt = DecisionTreeRegressor(random_state = 42).fit(X_train,y_train)"
   ]
  },
  {
   "cell_type": "code",
   "execution_count": null,
   "id": "be41c1e7-1d0f-43c8-aa31-8f8399b243ae",
   "metadata": {},
   "outputs": [],
   "source": [
    "rf = RandomForestRegressor(random_state = 42).fit(X_train,y_train)"
   ]
  },
  {
   "cell_type": "code",
   "execution_count": null,
   "id": "9bfbd777-787b-44a0-8dd1-3c9581366865",
   "metadata": {},
   "outputs": [],
   "source": [
    "print('coefficient r_sq for decision tree is %.2f'% dt.score(X_train,y_train))\n",
    "print('coefficient r_sq for random forest is %.2f'% rf.score(X_train,y_train))"
   ]
  },
  {
   "cell_type": "code",
   "execution_count": null,
   "id": "cff81bda-17f5-455a-bba6-af881db1afdd",
   "metadata": {},
   "outputs": [],
   "source": [
    "print('Adjusted r_sq dt',1 - (1-dt.score(X_train, y_train))*(len(y_train)-1)/(len(y_train)-X_train.shape[1]-1))\n",
    "print('Adjusted r_sq rf',1 - (1-rf.score(X_train, y_train))*(len(y_train)-1)/(len(y_train)-X_train.shape[1]-1))"
   ]
  },
  {
   "cell_type": "code",
   "execution_count": null,
   "id": "6eef80e2-1d5c-4e27-bb2f-34781d00f2a2",
   "metadata": {},
   "outputs": [],
   "source": [
    "ytrain_pred = dt.predict(X_train)\n",
    "ytrain_pred2 = rf.predict(X_train)"
   ]
  },
  {
   "cell_type": "code",
   "execution_count": null,
   "id": "dc56fd5a-a6d8-4a6b-a213-0e9bfc5d91cc",
   "metadata": {},
   "outputs": [],
   "source": [
    "print('coefficient r_sq for dt is ', r2_score(y_train,ytrain_pred))\n",
    "print('mean absolute error for dt is ', mean_absolute_error(y_train,ytrain_pred))\n",
    "print('mean squared error for dt is ', mean_squared_error(y_train,ytrain_pred))\n",
    "print('explained variance score for dt is %.2f', explained_variance_score(y_train,ytrain_pred))"
   ]
  },
  {
   "cell_type": "code",
   "execution_count": null,
   "id": "f4388953-ad1b-4ed3-b8ed-55f99d98e028",
   "metadata": {},
   "outputs": [],
   "source": [
    "print('coefficient r_sq for rf is ', r2_score(y_train,ytrain_pred2))\n",
    "print('mean absolute error for rf is ', mean_absolute_error(y_train,ytrain_pred2))\n",
    "print('mean squared error for rf is ', mean_squared_error(y_train,ytrain_pred2))\n",
    "print('explained variance score for rf is %.2f', explained_variance_score(y_train,ytrain_pred2))"
   ]
  },
  {
   "cell_type": "code",
   "execution_count": null,
   "id": "6a376e1a-8bc6-4f1d-83ea-e7ae1f63a0cc",
   "metadata": {},
   "outputs": [],
   "source": []
  },
  {
   "cell_type": "code",
   "execution_count": null,
   "id": "34ac8909-baca-4680-a4a8-670dc40bd9e3",
   "metadata": {},
   "outputs": [],
   "source": []
  },
  {
   "cell_type": "code",
   "execution_count": null,
   "id": "1563ca84-12f0-4ecb-90ce-a29fa861b1f7",
   "metadata": {},
   "outputs": [],
   "source": [
    "ytest_pred = dt.predict(X_test)\n",
    "ytest_pred2 = rf.predict(X_test)"
   ]
  },
  {
   "cell_type": "code",
   "execution_count": null,
   "id": "a5739596-6f2c-41f1-aecf-d159f742bb1d",
   "metadata": {},
   "outputs": [],
   "source": [
    "X_test.shape"
   ]
  },
  {
   "cell_type": "code",
   "execution_count": null,
   "id": "ad6312c3-3038-43d2-a4ff-e84ffa4d8a9e",
   "metadata": {},
   "outputs": [],
   "source": [
    "y_test_dummy = y_test.copy()"
   ]
  },
  {
   "cell_type": "code",
   "execution_count": null,
   "id": "790437fc-d461-4df9-a786-84139ec701ba",
   "metadata": {},
   "outputs": [],
   "source": [
    "y_test = y_test[['Extra']]"
   ]
  },
  {
   "cell_type": "code",
   "execution_count": null,
   "id": "a62d1cd7-6baa-4afa-82cc-575fb4ac17d1",
   "metadata": {},
   "outputs": [],
   "source": [
    "print('coefficient r_sq for decision tree is %.2f'% dt.score(X_test,y_test))\n",
    "print('coefficient r_sq for random forest is %.2f'% rf.score(X_test,y_test))"
   ]
  },
  {
   "cell_type": "code",
   "execution_count": null,
   "id": "3e0b85df-ca7f-44c9-a984-eda30ac319ac",
   "metadata": {},
   "outputs": [],
   "source": [
    "print('coefficient r_sq for decision tree is %.2f'% r2_score(y_test,ytest_pred))\n",
    "print('coefficient r_sq for random forest is %.2f'% r2_score(y_test,ytest_pred2))"
   ]
  },
  {
   "cell_type": "code",
   "execution_count": null,
   "id": "b6e01b77-858a-4c2e-85a8-c7d29de2d672",
   "metadata": {},
   "outputs": [],
   "source": [
    "print('Adjusted r_sq dt',1 - (1-dt.score(X_test, y_test))*(len(y_test)-1)/(len(y_test)-X_test.shape[1]-1))\n",
    "print('Adjusted r_sq rf',1 - (1-rf.score(X_test, y_test))*(len(y_test)-1)/(len(y_test)-X_test.shape[1]-1))"
   ]
  },
  {
   "cell_type": "code",
   "execution_count": null,
   "id": "91c37345-1f40-4946-a5e4-385e15ece5ec",
   "metadata": {},
   "outputs": [],
   "source": [
    "rcParams['figure.figsize'] = 100, 20\n",
    "x_ax = range(len(X_test))\n",
    "plt.plot(x_ax,y_test,label = 'actual',color = 'k',linestyle = '-')\n",
    "plt.scatter(x_ax,ytest_pred,label = 'predicted',color = 'r',linestyle = '--')\n",
    "if not os.path.exists('classification'):\n",
    "    os.makedirs('classification')\n",
    "plt.savefig('classification/dt3_newfeatures.png')"
   ]
  },
  {
   "cell_type": "code",
   "execution_count": null,
   "id": "d05c7670-b58b-4186-85b0-5182fc45dc45",
   "metadata": {},
   "outputs": [],
   "source": [
    "rcParams['figure.figsize'] = 100, 20\n",
    "x_ax = range(len(X_test))\n",
    "plt.plot(x_ax,y_test,label = 'actual',color = 'k',linestyle = '-')\n",
    "plt.scatter(x_ax,ytest_pred2,label = 'predicted',color = 'r',alpha = 0.5,linestyle = '--')\n",
    "if not os.path.exists('classification'):\n",
    "    os.makedirs('classification')\n",
    "plt.savefig('classification/rf3_newfeatures.png')"
   ]
  },
  {
   "cell_type": "code",
   "execution_count": null,
   "id": "40a9aad3-bd08-4b9b-9170-3d1f9b5540e6",
   "metadata": {},
   "outputs": [],
   "source": [
    "y_test_dummy['Predicted_dt'] = ytest_pred\n",
    "y_test_dummy['Predicted_rf'] = ytest_pred2"
   ]
  },
  {
   "cell_type": "code",
   "execution_count": null,
   "id": "c69488d3-2620-4111-a830-c911eaece9e2",
   "metadata": {},
   "outputs": [],
   "source": [
    "y_test_dummy.describe()"
   ]
  },
  {
   "cell_type": "code",
   "execution_count": null,
   "id": "aaee4f80-699d-4c38-8ffc-7470a8407904",
   "metadata": {},
   "outputs": [],
   "source": [
    "rcParams['figure.figsize'] = 15, 15\n",
    "import matplotlib.pyplot as plt\n",
    "mm=21*24*60\n",
    "fig = plt.figure()\n",
    "ax = fig.add_subplot(111)\n",
    "heatmap, xedges, yedges = np.histogram2d(x=y_test_dummy['Predicted_dt'],y=y_test_dummy['Extra'],weights=y_test_dummy['Totalres'] ,bins=200,range=[[0,mm],[0,mm]])\n",
    "extent = [xedges[0], xedges[-1], yedges[0], yedges[-1]]\n",
    "print(heatmap.min(),heatmap.max())\n",
    "cutoff=10\n",
    "pcm=plt.pcolormesh(xedges, yedges, heatmap, cmap='inferno',norm=colors.LogNorm(vmin=heatmap.min()+cutoff, vmax=heatmap.max()+cutoff))\n",
    "plt.xlabel('Real timelimit and actual job length difference in seconds')\n",
    "plt.ylabel('Predicted timelimit and actual job length difference in seconds')\n",
    "plt.xlim(0,mm)\n",
    "plt.ylim(0,mm)\n",
    "plt.axis('square')\n",
    "plt.title('Decision tree : 2D histogram for the predicted vs. actual run time')\n",
    "fig.colorbar(pcm, ax=ax, extend='max')\n",
    "if not os.path.exists('classification'):\n",
    "    os.makedirs('classification')\n",
    "plt.savefig('classification/dt3_new_features.png')"
   ]
  },
  {
   "cell_type": "code",
   "execution_count": null,
   "id": "1077fa56-0fdf-4a5b-8746-fdd5e3515fa2",
   "metadata": {},
   "outputs": [],
   "source": [
    "rcParams['figure.figsize'] = 15, 15\n",
    "import matplotlib.pyplot as plt\n",
    "mm=21*24*60\n",
    "fig = plt.figure()\n",
    "ax = fig.add_subplot(111)\n",
    "heatmap, xedges, yedges = np.histogram2d(x=y_test_dummy['Predicted_rf'],y=y_test_dummy['Extra'],weights=y_test_dummy['Totalres'] ,bins=200,range=[[0,mm],[0,mm]])\n",
    "extent = [xedges[0], xedges[-1], yedges[0], yedges[-1]]\n",
    "print(heatmap.min(),heatmap.max())\n",
    "cutoff=10\n",
    "pcm=plt.pcolormesh(xedges, yedges, heatmap, cmap='inferno',norm=colors.LogNorm(vmin=heatmap.min()+cutoff, vmax=heatmap.max()+cutoff))\n",
    "plt.xlabel('Real timelimit and actual job length difference in seconds')\n",
    "plt.ylabel('Predicted timelimit and actual job length difference in seconds')\n",
    "plt.xlim(0,mm)\n",
    "plt.ylim(0,mm)\n",
    "plt.axis('square')\n",
    "plt.title('Random forest : 2D histogram for the predicted vs. actual run time')\n",
    "fig.colorbar(pcm, ax=ax, extend='max')\n",
    "if not os.path.exists('classification'):\n",
    "    os.makedirs('classification')\n",
    "plt.savefig('classification/rf3_new_features.png')"
   ]
  },
  {
   "cell_type": "code",
   "execution_count": null,
   "id": "21f1548f-dfb8-44cb-96ad-ebd5c18ab4a0",
   "metadata": {},
   "outputs": [],
   "source": []
  },
  {
   "cell_type": "code",
   "execution_count": null,
   "id": "bc93b0da-b6c6-49d6-9590-ba91fd6f57c0",
   "metadata": {},
   "outputs": [],
   "source": [
    "y_test['predicted'] = ytest_pred2\n",
    "y_test['Timelimit'] = X_test['TimelimitRaw'].to_numpy()"
   ]
  },
  {
   "cell_type": "code",
   "execution_count": null,
   "id": "d6975613-b317-4633-a97a-e87f9ec5d7d5",
   "metadata": {},
   "outputs": [],
   "source": [
    "i = 0\n",
    "predicted = []\n",
    "extra = []\n",
    "timelimit = []\n",
    "df = pd.DataFrame(columns = ['Predicted','Extra','timelimit'])\n",
    "for index, row in y_test.iterrows():\n",
    "    if row['predicted'] > row['Extra']:\n",
    "        i = i + 1\n",
    "        predicted.append(row['predicted'])\n",
    "        extra.append(row['Extra'])\n",
    "        timelimit.append(row['Timelimit'])"
   ]
  },
  {
   "cell_type": "code",
   "execution_count": null,
   "id": "bbb81eeb-5bfb-439b-ab37-b5e3e97da800",
   "metadata": {},
   "outputs": [],
   "source": [
    "X_test.info()"
   ]
  },
  {
   "cell_type": "code",
   "execution_count": null,
   "id": "16c4b059-5e56-4c99-b189-004cdc60455a",
   "metadata": {},
   "outputs": [],
   "source": [
    "df['Predicted'] = predicted\n",
    "df['Extra'] = extra\n",
    "df['timelimit'] = timelimit\n"
   ]
  },
  {
   "cell_type": "code",
   "execution_count": null,
   "id": "0880913a-c970-412c-88da-ac5028c5b2d0",
   "metadata": {},
   "outputs": [],
   "source": [
    "print(i)\n",
    "df.head(20)"
   ]
  },
  {
   "cell_type": "markdown",
   "id": "1a1649a6-4c49-4c3b-89c0-03fe1560de21",
   "metadata": {},
   "source": [
    "### Manipulation the target"
   ]
  },
  {
   "cell_type": "code",
   "execution_count": null,
   "id": "57752d7c-20cd-4139-bd97-38b6c13fe052",
   "metadata": {},
   "outputs": [],
   "source": [
    "Features = regression2[['Account','NNodes','Partition','TimelimitRaw','JobLen','Totalres']]"
   ]
  },
  {
   "cell_type": "code",
   "execution_count": null,
   "id": "3e3028dc-285d-468c-81dc-f2883b57fad4",
   "metadata": {},
   "outputs": [],
   "source": [
    "Features.head()"
   ]
  },
  {
   "cell_type": "code",
   "execution_count": null,
   "id": "a9300d3c-3a60-408d-8c48-ea361db377c1",
   "metadata": {},
   "outputs": [],
   "source": [
    "Features['TimelimitRaw'] = Features['TimelimitRaw'] / 60 \n",
    "Features['JobLen'] = Features['JobLen'] / 60 "
   ]
  },
  {
   "cell_type": "code",
   "execution_count": null,
   "id": "327182bc-6ade-4459-984b-edf07a270b2b",
   "metadata": {},
   "outputs": [],
   "source": [
    "Features['Extra'] = Features['TimelimitRaw'] - Features['JobLen']"
   ]
  },
  {
   "cell_type": "code",
   "execution_count": null,
   "id": "bea97a54-294a-4b57-93fc-c7571808a03d",
   "metadata": {},
   "outputs": [],
   "source": [
    "Features.describe()"
   ]
  },
  {
   "cell_type": "code",
   "execution_count": null,
   "id": "33dc5d79-d1ed-4124-91cd-efeffa2216d2",
   "metadata": {},
   "outputs": [],
   "source": [
    "X = Features[['Account','NNodes','Partition','TimelimitRaw']]\n",
    "y = Features[['Extra','Totalres']]\n"
   ]
  },
  {
   "cell_type": "code",
   "execution_count": null,
   "id": "4374d082-a975-4736-bf65-85364dd8fefa",
   "metadata": {},
   "outputs": [],
   "source": [
    "y['Actual_Extra'] = y['Extra']"
   ]
  },
  {
   "cell_type": "code",
   "execution_count": null,
   "id": "525357b9-d095-4741-b2f3-f9ea0a637418",
   "metadata": {},
   "outputs": [],
   "source": [
    "y['Extra'] = (y['Extra'] - ((y['Extra'] * 30) / 100))"
   ]
  },
  {
   "cell_type": "code",
   "execution_count": null,
   "id": "789da3bb-c05a-4376-b665-01b09d8685d4",
   "metadata": {},
   "outputs": [],
   "source": [
    "y.head()"
   ]
  },
  {
   "cell_type": "code",
   "execution_count": null,
   "id": "4b7c48b7-29b2-4df3-b8f5-ba048145469b",
   "metadata": {},
   "outputs": [],
   "source": [
    "label_encoder = preprocessing.LabelEncoder()\n",
    "X['Partition']= label_encoder.fit_transform(X['Partition'])\n",
    "X['Partition'].unique()"
   ]
  },
  {
   "cell_type": "code",
   "execution_count": null,
   "id": "e4bd97ff-9d53-44ec-bc85-b547d0065a4c",
   "metadata": {},
   "outputs": [],
   "source": [
    "X_train, X_test, y_train, y_test = train_test_split(X,y, test_size=0.30,random_state = 42)"
   ]
  },
  {
   "cell_type": "code",
   "execution_count": null,
   "id": "d6c35288-cc25-4817-9f97-32a944f8eca0",
   "metadata": {},
   "outputs": [],
   "source": [
    "print(X_train.shape, X_test.shape, y_train.shape, y_test.shape)"
   ]
  },
  {
   "cell_type": "code",
   "execution_count": null,
   "id": "3699e880-a11f-4dbb-b9c9-3d2808250d13",
   "metadata": {},
   "outputs": [],
   "source": [
    "y_train_dummy = y_train.copy()"
   ]
  },
  {
   "cell_type": "code",
   "execution_count": null,
   "id": "5f4ea52f-6903-482d-8332-0126bc4716af",
   "metadata": {},
   "outputs": [],
   "source": [
    "y_train = y_train[['Extra']]"
   ]
  },
  {
   "cell_type": "code",
   "execution_count": null,
   "id": "1abfcad3-7e24-4df6-9e77-3468752fbdff",
   "metadata": {},
   "outputs": [],
   "source": [
    "dt = DecisionTreeRegressor(random_state = 42).fit(X_train,y_train)"
   ]
  },
  {
   "cell_type": "code",
   "execution_count": null,
   "id": "75467205-4a28-4530-98d1-e1d91f55e3f4",
   "metadata": {},
   "outputs": [],
   "source": [
    "rf = RandomForestRegressor(random_state = 42).fit(X_train,y_train)"
   ]
  },
  {
   "cell_type": "code",
   "execution_count": null,
   "id": "8a612653-803e-4a3e-b9af-7f99b01d5118",
   "metadata": {},
   "outputs": [],
   "source": [
    "print('coefficient r_sq for decision tree is %.2f'% dt.score(X_train,y_train))\n",
    "print('coefficient r_sq for random forest is %.2f'% rf.score(X_train,y_train))"
   ]
  },
  {
   "cell_type": "code",
   "execution_count": null,
   "id": "915c3f02-233f-4ead-866d-41a5749097b7",
   "metadata": {},
   "outputs": [],
   "source": [
    "print('Adjusted r_sq dt',1 - (1-dt.score(X_train, y_train))*(len(y_train)-1)/(len(y_train)-X_train.shape[1]-1))\n",
    "print('Adjusted r_sq rf',1 - (1-rf.score(X_train, y_train))*(len(y_train)-1)/(len(y_train)-X_train.shape[1]-1))"
   ]
  },
  {
   "cell_type": "code",
   "execution_count": null,
   "id": "e49aa322-e62a-483f-b00e-7818681211f2",
   "metadata": {},
   "outputs": [],
   "source": [
    "ytrain_pred = dt.predict(X_train)\n",
    "ytrain_pred2 = rf.predict(X_train)"
   ]
  },
  {
   "cell_type": "code",
   "execution_count": null,
   "id": "93076253-979a-4a30-8342-5d375623331f",
   "metadata": {},
   "outputs": [],
   "source": [
    "print('coefficient r_sq for dt is ', r2_score(y_train,ytrain_pred))\n",
    "print('mean absolute error for dt is ', mean_absolute_error(y_train,ytrain_pred))\n",
    "print('mean squared error for dt is ', mean_squared_error(y_train,ytrain_pred))\n",
    "print('explained variance score for dt is %.2f', explained_variance_score(y_train,ytrain_pred))"
   ]
  },
  {
   "cell_type": "code",
   "execution_count": null,
   "id": "24cb0256-eaf5-4c8e-93d9-0bb7b5fb5d8e",
   "metadata": {},
   "outputs": [],
   "source": [
    "print('coefficient r_sq for rf is ', r2_score(y_train,ytrain_pred2))\n",
    "print('mean absolute error for rf is ', mean_absolute_error(y_train,ytrain_pred2))\n",
    "print('mean squared error for rf is ', mean_squared_error(y_train,ytrain_pred2))\n",
    "print('explained variance score for rf is %.2f', explained_variance_score(y_train,ytrain_pred2))"
   ]
  },
  {
   "cell_type": "code",
   "execution_count": null,
   "id": "30a7258a-ef21-488c-a527-c6afde7d1b56",
   "metadata": {},
   "outputs": [],
   "source": []
  },
  {
   "cell_type": "code",
   "execution_count": null,
   "id": "fdfa5896-f299-46b7-92cd-c2479dfd504a",
   "metadata": {},
   "outputs": [],
   "source": []
  },
  {
   "cell_type": "code",
   "execution_count": null,
   "id": "95270615-7f58-48e8-a9f0-2d03ccf719e7",
   "metadata": {},
   "outputs": [],
   "source": [
    "ytest_pred = dt.predict(X_test)\n",
    "ytest_pred2 = rf.predict(X_test)"
   ]
  },
  {
   "cell_type": "code",
   "execution_count": null,
   "id": "fe50348e-b0c6-40bd-bc7d-bc07d562ebf2",
   "metadata": {},
   "outputs": [],
   "source": [
    "X_test.shape"
   ]
  },
  {
   "cell_type": "code",
   "execution_count": null,
   "id": "21829c5b-fe39-408c-b244-2ed11576a2ad",
   "metadata": {},
   "outputs": [],
   "source": [
    "y_test.head()"
   ]
  },
  {
   "cell_type": "code",
   "execution_count": null,
   "id": "b8936e53-0490-44d5-9588-1d2f0371b625",
   "metadata": {},
   "outputs": [],
   "source": [
    "y_test_dummy = y_test.copy()"
   ]
  },
  {
   "cell_type": "code",
   "execution_count": null,
   "id": "8729bd35-a913-4598-8929-c11ba6bf4569",
   "metadata": {},
   "outputs": [],
   "source": [
    "y_test = y_test[['Extra']]"
   ]
  },
  {
   "cell_type": "code",
   "execution_count": null,
   "id": "5b738b41-0257-4a5c-9659-1859304b12d2",
   "metadata": {},
   "outputs": [],
   "source": [
    "print('coefficient r_sq for decision tree is %.2f'% dt.score(X_test,y_test))\n",
    "print('coefficient r_sq for random forest is %.2f'% rf.score(X_test,y_test))"
   ]
  },
  {
   "cell_type": "code",
   "execution_count": null,
   "id": "4bfb1ad5-2cfc-423d-bf85-8f34ac3029bc",
   "metadata": {},
   "outputs": [],
   "source": [
    "print('coefficient r_sq for decision tree is %.2f'% r2_score(y_test,ytest_pred))\n",
    "print('coefficient r_sq for random forest is %.2f'% r2_score(y_test,ytest_pred2))"
   ]
  },
  {
   "cell_type": "code",
   "execution_count": null,
   "id": "861c272b-1e4a-4de8-89fe-647b4f294eed",
   "metadata": {},
   "outputs": [],
   "source": [
    "print('Adjusted r_sq dt',1 - (1-dt.score(X_test, y_test))*(len(y_test)-1)/(len(y_test)-X_test.shape[1]-1))\n",
    "print('Adjusted r_sq rf',1 - (1-rf.score(X_test, y_test))*(len(y_test)-1)/(len(y_test)-X_test.shape[1]-1))"
   ]
  },
  {
   "cell_type": "code",
   "execution_count": null,
   "id": "509c7bdd-4141-44da-93d0-8f964f43b6a4",
   "metadata": {},
   "outputs": [],
   "source": [
    "y_test_dummy['Predicted_dt'] = ytest_pred\n",
    "y_test_dummy['Predicted_rf'] = ytest_pred2"
   ]
  },
  {
   "cell_type": "code",
   "execution_count": null,
   "id": "0576e5f3-2b89-4992-aec8-094ed7b5d00f",
   "metadata": {},
   "outputs": [],
   "source": [
    "y_test_dummy.head()"
   ]
  },
  {
   "cell_type": "code",
   "execution_count": null,
   "id": "bf3e70b4-ba2c-42e4-8cc6-c6cf1aeb15b7",
   "metadata": {},
   "outputs": [],
   "source": [
    "y_test_dummy.describe()"
   ]
  },
  {
   "cell_type": "code",
   "execution_count": null,
   "id": "b013c90d-18f9-4a11-a618-f0e9cdfd86cd",
   "metadata": {},
   "outputs": [],
   "source": [
    "rcParams['figure.figsize'] = 15, 15\n",
    "import matplotlib.pyplot as plt\n",
    "mm=21*24*60\n",
    "fig = plt.figure()\n",
    "ax = fig.add_subplot(111)\n",
    "heatmap, xedges, yedges = np.histogram2d(x=y_test_dummy['Predicted_dt'],y=y_test_dummy['Actual_Extra'],weights=y_test_dummy['Totalres'] ,bins=200,range=[[0,mm],[0,mm]])\n",
    "extent = [xedges[0], xedges[-1], yedges[0], yedges[-1]]\n",
    "print(heatmap.min(),heatmap.max())\n",
    "cutoff=10\n",
    "pcm=plt.pcolormesh(xedges, yedges, heatmap, cmap='inferno',norm=colors.LogNorm(vmin=heatmap.min()+cutoff, vmax=heatmap.max()+cutoff))\n",
    "plt.xlabel('Real timelimit and actual job length difference in seconds')\n",
    "plt.ylabel('Predicted timelimit and actual job length difference in seconds')\n",
    "plt.xlim(0,mm)\n",
    "plt.ylim(0,mm)\n",
    "plt.axis('square')\n",
    "plt.title('Decision tree : 2D histogram for the predicted vs. actual run time')\n",
    "fig.colorbar(pcm, ax=ax, extend='max')\n",
    "if not os.path.exists('classification'):\n",
    "    os.makedirs('classification')\n",
    "plt.savefig('classification/Hypertuned_dt3_new_features.png')"
   ]
  },
  {
   "cell_type": "code",
   "execution_count": null,
   "id": "8f5d09e8-9564-482b-8736-8f9484dd5a0c",
   "metadata": {},
   "outputs": [],
   "source": [
    "rcParams['figure.figsize'] = 15, 15\n",
    "import matplotlib.pyplot as plt\n",
    "mm=21*24*60\n",
    "fig = plt.figure()\n",
    "ax = fig.add_subplot(111)\n",
    "heatmap, xedges, yedges = np.histogram2d(x=y_test_dummy['Predicted_rf'],y=y_test_dummy['Actual_Extra'],weights=y_test_dummy['Totalres'] ,bins=200,range=[[0,mm],[0,mm]])\n",
    "extent = [xedges[0], xedges[-1], yedges[0], yedges[-1]]\n",
    "print(heatmap.min(),heatmap.max())\n",
    "cutoff=10\n",
    "pcm=plt.pcolormesh(xedges, yedges, heatmap, cmap='inferno',norm=colors.LogNorm(vmin=heatmap.min()+cutoff, vmax=heatmap.max()+cutoff))\n",
    "plt.xlabel('Real timelimit and actual job length difference in seconds')\n",
    "plt.ylabel('Predicted timelimit and actual job length difference in seconds')\n",
    "plt.xlim(0,mm)\n",
    "plt.ylim(0,mm)\n",
    "plt.axis('square')\n",
    "plt.title('Random forest : 2D histogram for the predicted vs. actual run time')\n",
    "fig.colorbar(pcm, ax=ax, extend='max')\n",
    "if not os.path.exists('classification'):\n",
    "    os.makedirs('classification')\n",
    "plt.savefig('classification/hypertuned_rf3_new_features.png')"
   ]
  },
  {
   "cell_type": "code",
   "execution_count": null,
   "id": "9575681d-da46-4abe-9946-c485faa40b0f",
   "metadata": {},
   "outputs": [],
   "source": []
  },
  {
   "cell_type": "code",
   "execution_count": null,
   "id": "b36db23f-3ae6-4f69-8ac6-f7016639a2cc",
   "metadata": {},
   "outputs": [],
   "source": [
    "y_test['predicted'] = ytest_pred2\n",
    "y_test['Timelimit'] = X_test['TimelimitRaw'].to_numpy()"
   ]
  },
  {
   "cell_type": "code",
   "execution_count": null,
   "id": "aa546df8-a08a-4b2a-999a-9988dfd9dfed",
   "metadata": {},
   "outputs": [],
   "source": [
    "y_test['y_actual'] = y_test_dummy['Actual_Extra']"
   ]
  },
  {
   "cell_type": "code",
   "execution_count": null,
   "id": "f0debba5-42b5-4217-97f9-152d2219271d",
   "metadata": {},
   "outputs": [],
   "source": [
    "i = 0\n",
    "predicted = []\n",
    "extra = []\n",
    "timelimit = []\n",
    "Actual_Extra = []\n",
    "df = pd.DataFrame(columns = ['Predicted','Extra','timelimit','Actual_Extra'])\n",
    "for index, row in y_test.iterrows():\n",
    "    if row['predicted'] > row['y_actual']:\n",
    "        i = i + 1\n",
    "        predicted.append(row['predicted'])\n",
    "        extra.append(row['Extra'])\n",
    "        timelimit.append(row['Timelimit'])\n",
    "        Actual_Extra.append(row['y_actual'])"
   ]
  },
  {
   "cell_type": "code",
   "execution_count": null,
   "id": "924e35b8-1669-4a12-8b2b-ac855730c37d",
   "metadata": {},
   "outputs": [],
   "source": [
    "df['Predicted'] = predicted\n",
    "df['Extra'] = extra\n",
    "df['timelimit'] = timelimit\n",
    "df['Actual_Extra'] = Actual_Extra"
   ]
  },
  {
   "cell_type": "code",
   "execution_count": null,
   "id": "30926b53-4f4f-473e-8a3b-6c21cee37eba",
   "metadata": {},
   "outputs": [],
   "source": [
    "print(i)\n",
    "df.tail(20)"
   ]
  },
  {
   "cell_type": "code",
   "execution_count": null,
   "id": "9109eefe-8ebc-41a8-8e63-1dff1732087d",
   "metadata": {},
   "outputs": [],
   "source": []
  },
  {
   "cell_type": "code",
   "execution_count": null,
   "id": "2449febe-a70e-4f6e-a25c-02e110459a10",
   "metadata": {},
   "outputs": [],
   "source": []
  },
  {
   "cell_type": "markdown",
   "id": "6cc0ea60-085c-4f6b-b0b0-c38b4f2230cd",
   "metadata": {},
   "source": [
    "## Approach 2 to predict the difference"
   ]
  },
  {
   "cell_type": "code",
   "execution_count": null,
   "id": "7e0a9ac5-b00a-4aeb-9e10-e9dd23b5800d",
   "metadata": {},
   "outputs": [],
   "source": [
    "Approach2 = regression2[['Account','NNodes','Partition','TimelimitRaw','JobLen','Totalres']]"
   ]
  },
  {
   "cell_type": "code",
   "execution_count": null,
   "id": "9178bd2e-f7c4-4690-9851-0aebf5024d98",
   "metadata": {},
   "outputs": [],
   "source": [
    "Approach2.head()"
   ]
  },
  {
   "cell_type": "code",
   "execution_count": null,
   "id": "5d0aa174-033d-4627-9d5a-145948414f62",
   "metadata": {},
   "outputs": [],
   "source": [
    "Approach2['TimelimitRaw'] = Approach2['TimelimitRaw'] / 60 \n",
    "Approach2['JobLen'] = Approach2['JobLen'] / 60 "
   ]
  },
  {
   "cell_type": "code",
   "execution_count": null,
   "id": "eae6eb8a-157b-493d-9556-bc31a9d94669",
   "metadata": {},
   "outputs": [],
   "source": [
    "Approach2['Extra'] = Approach2['TimelimitRaw'] - Approach2['JobLen']"
   ]
  },
  {
   "cell_type": "code",
   "execution_count": null,
   "id": "6a2cdc0e-0e6a-4fba-89c5-8d1e45784fc4",
   "metadata": {},
   "outputs": [],
   "source": [
    "Approach2.describe()"
   ]
  },
  {
   "cell_type": "code",
   "execution_count": null,
   "id": "1b879169-e215-4bb2-b991-d262c86c2f18",
   "metadata": {},
   "outputs": [],
   "source": [
    "X = Approach2[['Account','NNodes','Partition','TimelimitRaw']]\n",
    "y = Approach2[['Extra','Totalres']]\n"
   ]
  },
  {
   "cell_type": "code",
   "execution_count": null,
   "id": "d1adb9f1-264c-48d6-be01-e68dc7e41512",
   "metadata": {},
   "outputs": [],
   "source": [
    "y['Actual_Extra'] = y['Extra']"
   ]
  },
  {
   "cell_type": "code",
   "execution_count": null,
   "id": "81a2e71e-e920-47e6-979d-5f23272a7a84",
   "metadata": {},
   "outputs": [],
   "source": [
    "label_encoder = preprocessing.LabelEncoder()\n",
    "X['Partition']= label_encoder.fit_transform(X['Partition'])\n",
    "X['Partition'].unique()"
   ]
  },
  {
   "cell_type": "code",
   "execution_count": null,
   "id": "f61b20a6-04e8-47a8-964f-603ac38f0ab8",
   "metadata": {},
   "outputs": [],
   "source": []
  },
  {
   "cell_type": "code",
   "execution_count": null,
   "id": "4b1b3fed-157f-4ea0-8d0a-2d64dfe966cc",
   "metadata": {},
   "outputs": [],
   "source": [
    "y_dummy = y.copy()"
   ]
  },
  {
   "cell_type": "code",
   "execution_count": null,
   "id": "24c0f7d9-caa8-4305-b2aa-017173286728",
   "metadata": {},
   "outputs": [],
   "source": [
    "y = y[['Extra']]"
   ]
  },
  {
   "cell_type": "code",
   "execution_count": null,
   "id": "250177ed-6c31-434c-a30f-9aa503546057",
   "metadata": {},
   "outputs": [],
   "source": [
    "dt_a2 = DecisionTreeRegressor(random_state = 42).fit(X,y)"
   ]
  },
  {
   "cell_type": "code",
   "execution_count": null,
   "id": "ee2c10da-2771-478a-9898-c554ad3b4d64",
   "metadata": {},
   "outputs": [],
   "source": [
    "rf_a2 = RandomForestRegressor(random_state = 42).fit(X,y)"
   ]
  },
  {
   "cell_type": "code",
   "execution_count": null,
   "id": "b97fa78f-12b9-4fd1-b1cb-7e41c7de9790",
   "metadata": {},
   "outputs": [],
   "source": [
    "print('coefficient r_sq for decision tree is %.2f'% dt_a2.score(X,y))\n",
    "print('coefficient r_sq for random forest is %.2f'% rf_a2.score(X,y))"
   ]
  },
  {
   "cell_type": "code",
   "execution_count": null,
   "id": "8a8e44c5-fc62-406b-966e-ddb1301c267e",
   "metadata": {},
   "outputs": [],
   "source": [
    "print('Adjusted r_sq dt',1 - (1-dt_a2.score(X,y))*(len(y)-1)/(len(y)-X.shape[1]-1))\n",
    "print('Adjusted r_sq rf',1 - (1-rf_a2.score(X,y))*(len(y)-1)/(len(y)-X.shape[1]-1))"
   ]
  },
  {
   "cell_type": "code",
   "execution_count": null,
   "id": "ac917bc8-23cf-49b2-bb06-c9cb1b875d64",
   "metadata": {},
   "outputs": [],
   "source": [
    "ytrain_pred = dt_a2.predict(X)\n",
    "ytrain_pred2 = rf_a2.predict(X)"
   ]
  },
  {
   "cell_type": "code",
   "execution_count": null,
   "id": "0d6d3bda-3742-4e2a-bbf9-e393b2c2e207",
   "metadata": {},
   "outputs": [],
   "source": [
    "print('coefficient r_sq for dt is ', r2_score(y,ytrain_pred))\n",
    "print('mean absolute error for dt is ', mean_absolute_error(y,ytrain_pred))\n",
    "print('mean squared error for dt is ', mean_squared_error(y,ytrain_pred))\n",
    "print('explained variance score for dt is %.2f', explained_variance_score(y,ytrain_pred))"
   ]
  },
  {
   "cell_type": "code",
   "execution_count": null,
   "id": "4de1a03e-3994-463b-baf3-37f96e8162b1",
   "metadata": {},
   "outputs": [],
   "source": [
    "print('coefficient r_sq for rf is ', r2_score(y,ytrain_pred2))\n",
    "print('mean absolute error for rf is ', mean_absolute_error(y,ytrain_pred2))\n",
    "print('mean squared error for rf is ', mean_squared_error(y,ytrain_pred2))\n",
    "print('explained variance score for rf is %.2f', explained_variance_score(y,ytrain_pred2))"
   ]
  },
  {
   "cell_type": "code",
   "execution_count": null,
   "id": "60cf553d-c1f4-432c-a913-98fbc37198cb",
   "metadata": {},
   "outputs": [],
   "source": [
    "X['predicted_decision'] = ytrain_pred\n",
    "X['predicted_random'] = ytrain_pred2"
   ]
  },
  {
   "cell_type": "code",
   "execution_count": null,
   "id": "c283069b-85f2-4ea2-ab03-dd38eb4fd820",
   "metadata": {},
   "outputs": [],
   "source": [
    "X['Extra'] = y['Extra']"
   ]
  },
  {
   "cell_type": "code",
   "execution_count": null,
   "id": "7ef0a473-05a8-4632-9bbe-f818b618f709",
   "metadata": {},
   "outputs": [],
   "source": [
    "X.head()"
   ]
  },
  {
   "cell_type": "code",
   "execution_count": null,
   "id": "7b8df470-4bd3-4a94-899c-dad6bed2d3ca",
   "metadata": {},
   "outputs": [],
   "source": [
    "Over_predicted = X.loc[X.predicted_decision > X.Extra] \n",
    "Over_predicted.info()"
   ]
  },
  {
   "cell_type": "code",
   "execution_count": null,
   "id": "92b090e3-dd63-49f9-b026-e962957cd72e",
   "metadata": {},
   "outputs": [],
   "source": [
    "def I(row):\n",
    "    if row['predicted_decision'] >= row['Extra']:\n",
    "        val = 1\n",
    "    else:\n",
    "        val = 0\n",
    "    return val\n",
    "X['Estimation_Logistic'] = X.apply(I,axis =1)"
   ]
  },
  {
   "cell_type": "code",
   "execution_count": null,
   "id": "5d925840-c628-4cb2-a084-4287e30263b5",
   "metadata": {},
   "outputs": [],
   "source": [
    "X.describe()"
   ]
  },
  {
   "cell_type": "code",
   "execution_count": null,
   "id": "60826795-9c8d-47bb-9cec-e9211366e511",
   "metadata": {},
   "outputs": [],
   "source": [
    "X.head()"
   ]
  },
  {
   "cell_type": "code",
   "execution_count": null,
   "id": "023da85e-3471-4b5b-8efe-872c2d307a4d",
   "metadata": {},
   "outputs": [],
   "source": [
    "y['Totalres'] = y_dummy['Totalres']\n",
    "y['Estimation_Logistic'] = X['Estimation_Logistic']\n",
    "y.head(2)"
   ]
  },
  {
   "cell_type": "code",
   "execution_count": null,
   "id": "022f8e90-8eda-4423-8085-1c0ea48928bb",
   "metadata": {},
   "outputs": [],
   "source": []
  },
  {
   "cell_type": "code",
   "execution_count": null,
   "id": "4b815484-669b-4783-9534-a2b14238ec94",
   "metadata": {},
   "outputs": [],
   "source": [
    "X = X[['Account','NNodes','Partition','TimelimitRaw','predicted_decision']]"
   ]
  },
  {
   "cell_type": "code",
   "execution_count": null,
   "id": "e9f0e000-e64d-4f1a-875c-5e66b490936a",
   "metadata": {},
   "outputs": [],
   "source": [
    "from sklearn import preprocessing\n",
    "X[['NNodes', 'TimelimitRaw','predicted_decision']] = preprocessing.MinMaxScaler().fit_transform(X[['NNodes', 'TimelimitRaw','predicted_decision']])"
   ]
  },
  {
   "cell_type": "code",
   "execution_count": null,
   "id": "e792e863-92f4-4553-9b0b-f5f5071b8d92",
   "metadata": {},
   "outputs": [],
   "source": [
    "X_train, X_test, y_train, y_test = train_test_split(X,y,stratify=y['Estimation_Logistic'], test_size=0.25,random_state = 42)"
   ]
  },
  {
   "cell_type": "code",
   "execution_count": null,
   "id": "0abc9584-6428-4537-b399-28cb3d37199d",
   "metadata": {},
   "outputs": [],
   "source": [
    "print(X_train.shape, X_test.shape, y_train.shape, y_test.shape)"
   ]
  },
  {
   "cell_type": "code",
   "execution_count": null,
   "id": "04d1ef0a-a5fd-4cbc-9c55-89db7e6d749c",
   "metadata": {},
   "outputs": [],
   "source": [
    "y_train_dummy = y_train.copy()"
   ]
  },
  {
   "cell_type": "code",
   "execution_count": null,
   "id": "557c4317-a7a2-4625-b369-4b00c9808e05",
   "metadata": {},
   "outputs": [],
   "source": [
    "y_train = y_train[['Estimation_Logistic']]"
   ]
  },
  {
   "cell_type": "code",
   "execution_count": null,
   "id": "0f36ffc9-5ec9-4691-bb44-c7e95ca2b65e",
   "metadata": {},
   "outputs": [],
   "source": [
    "y_train.describe()"
   ]
  },
  {
   "cell_type": "code",
   "execution_count": null,
   "id": "30a96608-c4c3-494f-9b1d-0cbe5a7cb663",
   "metadata": {},
   "outputs": [],
   "source": [
    "y_tesdedt = y_test.loc[y_test.Estimation_Logistic == 0]"
   ]
  },
  {
   "cell_type": "code",
   "execution_count": null,
   "id": "36f78dde-d47b-40d5-ae73-c3b694ca11ce",
   "metadata": {},
   "outputs": [],
   "source": [
    "y_tesdedt.info()"
   ]
  },
  {
   "cell_type": "code",
   "execution_count": null,
   "id": "b6815307-126f-441c-be80-158fbf1cbfe9",
   "metadata": {},
   "outputs": [],
   "source": [
    "classifier = DecisionTreeClassifier(criterion = 'entropy',random_state = 42)\n",
    "classifier.fit(X_train,y_train)"
   ]
  },
  {
   "cell_type": "code",
   "execution_count": null,
   "id": "b6af1ea3-805f-46cf-9ba3-9050e8b8b016",
   "metadata": {},
   "outputs": [],
   "source": [
    "y_test_dummy = y_test.copy()"
   ]
  },
  {
   "cell_type": "code",
   "execution_count": null,
   "id": "f28164d2-aac9-41ab-8afa-9c27a1bd355c",
   "metadata": {},
   "outputs": [],
   "source": [
    "y_test = y_test[['Estimation_Logistic']]"
   ]
  },
  {
   "cell_type": "code",
   "execution_count": null,
   "id": "8688b6d3-3fff-46a9-8d14-1b416b16dc99",
   "metadata": {},
   "outputs": [],
   "source": [
    "y_pred = classifier.predict(X_test)\n"
   ]
  },
  {
   "cell_type": "code",
   "execution_count": null,
   "id": "4d3a279c-ed09-421b-9917-9ce1f1360c36",
   "metadata": {},
   "outputs": [],
   "source": [
    "y_test.head()"
   ]
  },
  {
   "cell_type": "code",
   "execution_count": null,
   "id": "7c4a8958-2252-4d84-b4ed-922243d3b13a",
   "metadata": {},
   "outputs": [],
   "source": [
    "sss = y_test"
   ]
  },
  {
   "cell_type": "code",
   "execution_count": null,
   "id": "d341fd6f-1d21-42f5-a92d-721043126737",
   "metadata": {},
   "outputs": [],
   "source": [
    "from sklearn.metrics import confusion_matrix\n",
    "cm = confusion_matrix(y_test,y_pred)"
   ]
  },
  {
   "cell_type": "code",
   "execution_count": null,
   "id": "91a88861-8391-4850-a9e9-c97f44d6517f",
   "metadata": {},
   "outputs": [],
   "source": [
    "cm"
   ]
  },
  {
   "cell_type": "code",
   "execution_count": null,
   "id": "582ccf07-460a-4889-b8a3-f10d83b5bbef",
   "metadata": {},
   "outputs": [],
   "source": [
    "from sklearn.metrics import accuracy_score\n",
    "accuracy = accuracy_score(y_test,y_pred)\n",
    "accuracy"
   ]
  },
  {
   "cell_type": "code",
   "execution_count": null,
   "id": "5e50be28-d92f-417b-bab4-e90da08cec92",
   "metadata": {},
   "outputs": [],
   "source": [
    "group_names = ['underestimated Actual and predicted ','underestimated Actual but predicted overestimated','overestimated Actual but predicted underestimated ','overestimated Actual and predicted']\n",
    "\n",
    "group_counts = [\"{0:0.0f}\".format(value) for value in\n",
    "\n",
    "                cm.flatten()]\n",
    "\n",
    "group_percentages = [\"{0:.2%}\".format(value) for value in\n",
    "\n",
    "                     cm.flatten()/np.sum(cm)]\n",
    "\n",
    "labels = [f\"{v1}\\n{v2}\\n{v3}\" for v1, v2, v3 in\n",
    "\n",
    "          zip(group_names,group_counts,group_percentages)]\n",
    "\n",
    "labels = np.asarray(labels).reshape(2,2)\n",
    "np.sum(cm, axis=1, keepdims=False)\n",
    "sns.set(rc = {'figure.figsize':(10,8)})\n",
    "sns.heatmap(cm, annot=labels, fmt='', cmap='Blues',annot_kws={\"size\": 8})\n",
    "if not os.path.exists('classification'):\n",
    "    os.makedirs('classification')\n",
    "plt.savefig('classification/dt_cm.png')"
   ]
  },
  {
   "cell_type": "code",
   "execution_count": null,
   "id": "b5a8a051-b2e9-4139-a09e-1883c19f3c63",
   "metadata": {},
   "outputs": [],
   "source": [
    "group_names = ['underestimated Actual and predicted ','underestimated Actual but predicted overestimated','overestimated Actual but predicted underestimated ','underestimated Actual and predicted']\n",
    "\n",
    "group_counts = [\"{0:0.0f}\".format(value) for value in\n",
    "\n",
    "                cm.flatten()]\n",
    "\n",
    "group_percentages = [\"{0:.2%}\".format(value) for value in\n",
    "\n",
    "                     cm.flatten()/np.sum(cm)]\n",
    "\n",
    "labels = [f\"{v1}\\n{v2}\\n{v3}\" for v1, v2, v3 in\n",
    "\n",
    "          zip(group_names,group_counts,group_percentages)]\n",
    "\n",
    "labels = np.asarray(labels).reshape(2,2)\n",
    "\n",
    "sns.heatmap(cm, annot=labels, fmt='', cmap='Blues')\n",
    "\n",
    "if not os.path.exists('classification'):\n",
    "    os.makedirs('classification')\n",
    "plt.savefig('classification/dt_cm.png')"
   ]
  },
  {
   "cell_type": "code",
   "execution_count": null,
   "id": "d7ba4d65-febd-4f94-a412-89665cc18a40",
   "metadata": {},
   "outputs": [],
   "source": []
  },
  {
   "cell_type": "code",
   "execution_count": null,
   "id": "4cd9ce0e-36ea-4724-b100-ee0a6f0c2dc6",
   "metadata": {},
   "outputs": [],
   "source": [
    "from sklearn.linear_model import LogisticRegression\n",
    "log_reg = LogisticRegression(random_state = 42)\n",
    "log_reg.fit(X_train,y_train)"
   ]
  },
  {
   "cell_type": "code",
   "execution_count": null,
   "id": "10becf33-90b7-4b7b-b6b4-5bd1f2b05a5a",
   "metadata": {},
   "outputs": [],
   "source": [
    "y_pred = log_reg.predict(X_test)\n"
   ]
  },
  {
   "cell_type": "code",
   "execution_count": null,
   "id": "beecae2d-b584-44ad-b9b7-26dae1e59aca",
   "metadata": {},
   "outputs": [],
   "source": [
    "cm = confusion_matrix(y_test,y_pred)\n",
    "cm"
   ]
  },
  {
   "cell_type": "code",
   "execution_count": null,
   "id": "5f8f97dc-c899-41c0-92fc-c0ea3e79be8d",
   "metadata": {},
   "outputs": [],
   "source": [
    "accuracy = accuracy_score(y_test,y_pred)\n",
    "accuracy"
   ]
  },
  {
   "cell_type": "code",
   "execution_count": null,
   "id": "40c9efea-0006-4ac6-b02e-e56343f797aa",
   "metadata": {},
   "outputs": [],
   "source": [
    "X.head()"
   ]
  },
  {
   "cell_type": "code",
   "execution_count": null,
   "id": "2a347ec6-de88-453c-8893-5839eac17bdb",
   "metadata": {},
   "outputs": [],
   "source": [
    "group_names = ['underestimated Actual and predicted ','underestimated Actual but predicted overestimated','overestimated Actual but predicted underestimated ','overestimated Actual and predicted']\n",
    "\n",
    "group_counts = [\"{0:0.0f}\".format(value) for value in\n",
    "\n",
    "                cm.flatten()]\n",
    "\n",
    "group_percentages = [\"{0:.2%}\".format(value) for value in\n",
    "\n",
    "                     cm.flatten()/np.sum(cm)]\n",
    "\n",
    "labels = [f\"{v1}\\n{v2}\\n{v3}\" for v1, v2, v3 in\n",
    "\n",
    "          zip(group_names,group_counts,group_percentages)]\n",
    "\n",
    "labels = np.asarray(labels).reshape(2,2)\n",
    "np.sum(cm, axis=1, keepdims=False)\n",
    "sns.set(rc = {'figure.figsize':(10,8)})\n",
    "sns.heatmap(cm, annot=labels, fmt='', cmap='Blues',annot_kws={\"size\": 8})\n",
    "if not os.path.exists('classification'):\n",
    "    os.makedirs('classification')\n",
    "plt.savefig('classification/lr_cm.png')"
   ]
  },
  {
   "cell_type": "code",
   "execution_count": null,
   "id": "06b72cc3-3ca4-4984-a873-381d2432f8d7",
   "metadata": {},
   "outputs": [],
   "source": []
  },
  {
   "cell_type": "code",
   "execution_count": null,
   "id": "7e4e04fd-3ee8-4f2a-93f7-86042e3ce877",
   "metadata": {},
   "outputs": [],
   "source": []
  },
  {
   "cell_type": "code",
   "execution_count": null,
   "id": "fed3dcd2-3d3d-4429-841d-ae77b1f3d7cf",
   "metadata": {},
   "outputs": [],
   "source": [
    "dt = DecisionTreeRegressor(random_state = 42).fit(X_train,y_train)"
   ]
  },
  {
   "cell_type": "code",
   "execution_count": null,
   "id": "caaba3d6-db8a-4b2d-87dd-079bd43b77a2",
   "metadata": {},
   "outputs": [],
   "source": [
    "rf = RandomForestRegressor(random_state = 42).fit(X_train,y_train)"
   ]
  },
  {
   "cell_type": "code",
   "execution_count": null,
   "id": "5f6c385a-efce-4008-a12c-acdf43637448",
   "metadata": {},
   "outputs": [],
   "source": [
    "print('coefficient r_sq for decision tree is %.2f'% dt.score(X_train,y_train))\n",
    "print('coefficient r_sq for random forest is %.2f'% rf.score(X_train,y_train))"
   ]
  },
  {
   "cell_type": "code",
   "execution_count": null,
   "id": "93188693-d27b-4102-9ee4-e1bcc0f270f3",
   "metadata": {},
   "outputs": [],
   "source": [
    "print('Adjusted r_sq dt',1 - (1-dt.score(X_train, y_train))*(len(y_train)-1)/(len(y_train)-X_train.shape[1]-1))\n",
    "print('Adjusted r_sq rf',1 - (1-rf.score(X_train, y_train))*(len(y_train)-1)/(len(y_train)-X_train.shape[1]-1))"
   ]
  },
  {
   "cell_type": "code",
   "execution_count": null,
   "id": "9f69ba04-9fe2-4958-a577-fa572260fc29",
   "metadata": {},
   "outputs": [],
   "source": [
    "ytrain_pred = dt.predict(X_train)\n",
    "ytrain_pred2 = rf.predict(X_train)"
   ]
  },
  {
   "cell_type": "code",
   "execution_count": null,
   "id": "bbdc9f21-685f-4ab0-8379-f3a7dd01f88f",
   "metadata": {},
   "outputs": [],
   "source": [
    "print('coefficient r_sq for dt is ', r2_score(y_train,ytrain_pred))\n",
    "print('mean absolute error for dt is ', mean_absolute_error(y_train,ytrain_pred))\n",
    "print('mean squared error for dt is ', mean_squared_error(y_train,ytrain_pred))\n",
    "print('explained variance score for dt is %.2f', explained_variance_score(y_train,ytrain_pred))"
   ]
  },
  {
   "cell_type": "code",
   "execution_count": null,
   "id": "232d1777-0dd8-4c46-84f6-30491c93e717",
   "metadata": {},
   "outputs": [],
   "source": [
    "print('coefficient r_sq for rf is ', r2_score(y_train,ytrain_pred2))\n",
    "print('mean absolute error for rf is ', mean_absolute_error(y_train,ytrain_pred2))\n",
    "print('mean squared error for rf is ', mean_squared_error(y_train,ytrain_pred2))\n",
    "print('explained variance score for rf is %.2f', explained_variance_score(y_train,ytrain_pred2))"
   ]
  },
  {
   "cell_type": "code",
   "execution_count": null,
   "id": "9e2bcd5d-cb3e-4b88-9c97-4d8541c03815",
   "metadata": {},
   "outputs": [],
   "source": []
  },
  {
   "cell_type": "code",
   "execution_count": null,
   "id": "a558d549-8734-4371-a91a-5e8ab8f0c29b",
   "metadata": {},
   "outputs": [],
   "source": []
  },
  {
   "cell_type": "code",
   "execution_count": null,
   "id": "8d06255f-8895-4ff1-a988-d0e37bfd9744",
   "metadata": {},
   "outputs": [],
   "source": [
    "ytest_pred = dt.predict(X_test)\n",
    "ytest_pred2 = rf.predict(X_test)"
   ]
  },
  {
   "cell_type": "code",
   "execution_count": null,
   "id": "54b309e0-9238-4b0e-8ac8-562b4f1bbaea",
   "metadata": {},
   "outputs": [],
   "source": [
    "X_test.shape"
   ]
  },
  {
   "cell_type": "code",
   "execution_count": null,
   "id": "301797c9-3a2f-47d5-89eb-075466a109f9",
   "metadata": {},
   "outputs": [],
   "source": [
    "y_test.head()"
   ]
  },
  {
   "cell_type": "code",
   "execution_count": null,
   "id": "552cc28a-026f-464c-b70a-377654c9cccd",
   "metadata": {},
   "outputs": [],
   "source": [
    "y_test_dummy = y_test.copy()"
   ]
  },
  {
   "cell_type": "code",
   "execution_count": null,
   "id": "c70a340b-503a-4d8c-894e-6c611f82f8ef",
   "metadata": {},
   "outputs": [],
   "source": [
    "print('coefficient r_sq for decision tree is %.2f'% dt.score(X_test,y_test))\n",
    "print('coefficient r_sq for random forest is %.2f'% rf.score(X_test,y_test))"
   ]
  },
  {
   "cell_type": "code",
   "execution_count": null,
   "id": "6c47ce1c-fb26-493d-a083-deb915928465",
   "metadata": {},
   "outputs": [],
   "source": [
    "print('coefficient r_sq for decision tree is %.2f'% r2_score(y_test,ytest_pred))\n",
    "print('coefficient r_sq for random forest is %.2f'% r2_score(y_test,ytest_pred2))"
   ]
  },
  {
   "cell_type": "code",
   "execution_count": null,
   "id": "a0a81627-b998-48bc-a15d-766e92351507",
   "metadata": {},
   "outputs": [],
   "source": [
    "print('Adjusted r_sq dt',1 - (1-dt.score(X_test, y_test))*(len(y_test)-1)/(len(y_test)-X_test.shape[1]-1))\n",
    "print('Adjusted r_sq rf',1 - (1-rf.score(X_test, y_test))*(len(y_test)-1)/(len(y_test)-X_test.shape[1]-1))"
   ]
  },
  {
   "cell_type": "code",
   "execution_count": null,
   "id": "a7477054-2d3c-42b4-af34-ccd5a34edfb7",
   "metadata": {},
   "outputs": [],
   "source": [
    "y_test_dummy['Predicted_dt'] = ytest_pred\n",
    "y_test_dummy['Predicted_rf'] = ytest_pred2"
   ]
  },
  {
   "cell_type": "code",
   "execution_count": null,
   "id": "f0404a68-994c-434d-bebe-61908d2c346d",
   "metadata": {},
   "outputs": [],
   "source": [
    "y_test_dummy.head()"
   ]
  },
  {
   "cell_type": "code",
   "execution_count": null,
   "id": "9fa60ddf-44e3-4f97-8003-e17307354427",
   "metadata": {},
   "outputs": [],
   "source": [
    "y_test_dummy['Predicted_dt'] = np.floor(y_test_dummy['Predicted_dt'])"
   ]
  },
  {
   "cell_type": "code",
   "execution_count": null,
   "id": "63e7bda1-c71a-49cd-b6e3-84c3186c1cf9",
   "metadata": {},
   "outputs": [],
   "source": []
  },
  {
   "cell_type": "code",
   "execution_count": null,
   "id": "a1bf01af-3b87-4167-ac6b-d4234e3afe2e",
   "metadata": {},
   "outputs": [],
   "source": [
    "from sklearn.metrics import confusion_matrix, ConfusionMatrixDisplay\n",
    "cm = confusion_matrix(y_test_dummy['Estimation_Logistic'],y_test_dummy['Predicted_dt'])"
   ]
  },
  {
   "cell_type": "code",
   "execution_count": null,
   "id": "cf06861d-5607-480d-a3af-35cab4b2d73a",
   "metadata": {},
   "outputs": [],
   "source": [
    "cm"
   ]
  },
  {
   "cell_type": "code",
   "execution_count": null,
   "id": "2dc24417-8d2a-4ab0-9a33-6c12cf6d4024",
   "metadata": {},
   "outputs": [],
   "source": [
    "group_names = ['Overestimated Actual and predicted ','Overestimated Actual but predicted underestimated','Underestimated Actual but predicted Overestimated ','Underestimated Actual and predicted']\n",
    "\n",
    "group_counts = [\"{0:0.0f}\".format(value) for value in\n",
    "\n",
    "                cm.flatten()]\n",
    "\n",
    "group_percentages = [\"{0:.2%}\".format(value) for value in\n",
    "\n",
    "                     cm.flatten()/np.sum(cm)]\n",
    "\n",
    "labels = [f\"{v1}\\n{v2}\\n{v3}\" for v1, v2, v3 in\n",
    "\n",
    "          zip(group_names,group_counts,group_percentages)]\n",
    "\n",
    "labels = np.asarray(labels).reshape(2,2)\n",
    "\n",
    "sns.heatmap(cm, annot=labels, fmt='', cmap='Blues')"
   ]
  },
  {
   "cell_type": "code",
   "execution_count": null,
   "id": "32939d3e-dd65-46c5-a3c4-1f398e04df9f",
   "metadata": {},
   "outputs": [],
   "source": []
  },
  {
   "cell_type": "markdown",
   "id": "380499df-7a67-458f-a695-933fe725eb43",
   "metadata": {},
   "source": [
    "## Approach 3 - time limit > 10 minutes"
   ]
  },
  {
   "cell_type": "code",
   "execution_count": null,
   "id": "3ee333c6-1ec7-4095-b556-f7f226ed30ed",
   "metadata": {},
   "outputs": [],
   "source": [
    "Approach3 = regression2[['Account','NNodes','Partition','TimelimitRaw','JobLen','Totalres']]"
   ]
  },
  {
   "cell_type": "code",
   "execution_count": null,
   "id": "d201cdb0-656c-47bf-85d7-d162c34a05cf",
   "metadata": {},
   "outputs": [],
   "source": [
    "Approach3.head()"
   ]
  },
  {
   "cell_type": "code",
   "execution_count": null,
   "id": "9b52c2f5-2233-49cd-b44e-d603a39f7032",
   "metadata": {},
   "outputs": [],
   "source": [
    "Approach3['TimelimitRaw'] = Approach3['TimelimitRaw'] / 60 \n",
    "Approach3['JobLen'] = Approach3['JobLen'] / 60 "
   ]
  },
  {
   "cell_type": "code",
   "execution_count": null,
   "id": "d6b0b1d4-19d4-414a-ab2a-6b9ec7e9a4a5",
   "metadata": {},
   "outputs": [],
   "source": [
    "Approach3['Extra'] = Approach3['TimelimitRaw'] - Approach3['JobLen']"
   ]
  },
  {
   "cell_type": "code",
   "execution_count": null,
   "id": "6f1b72d8-63f6-41ae-a9c9-d928fb08fd38",
   "metadata": {},
   "outputs": [],
   "source": [
    "Approach3.describe()"
   ]
  },
  {
   "cell_type": "code",
   "execution_count": null,
   "id": "ef55e423-aa8a-49a0-b79a-43717ce85908",
   "metadata": {},
   "outputs": [],
   "source": [
    "negatives = Approach3.loc[Approach3.Extra <0]"
   ]
  },
  {
   "cell_type": "code",
   "execution_count": null,
   "id": "b79a8dd8-df01-455b-bf43-4097dedbd830",
   "metadata": {},
   "outputs": [],
   "source": [
    "negatives.info()"
   ]
  },
  {
   "cell_type": "code",
   "execution_count": null,
   "id": "8ad108a3-b02f-4fcb-88be-097b0a1a5571",
   "metadata": {},
   "outputs": [],
   "source": [
    "aa = Approach3.loc[Approach3.TimelimitRaw < 20]\n",
    "aa.info()"
   ]
  },
  {
   "cell_type": "code",
   "execution_count": null,
   "id": "1adfdb9d-289f-497e-8e8c-22e31d039028",
   "metadata": {},
   "outputs": [],
   "source": [
    "Approach3 = Approach3.loc[Approach3.TimelimitRaw > 20]"
   ]
  },
  {
   "cell_type": "code",
   "execution_count": null,
   "id": "7d8810d4-e9d4-468f-9e63-b0b724c1673e",
   "metadata": {},
   "outputs": [],
   "source": [
    "X = Approach3[['Account','NNodes','Partition','TimelimitRaw']]\n",
    "y = Approach3[['Extra','Totalres']]\n"
   ]
  },
  {
   "cell_type": "code",
   "execution_count": null,
   "id": "2f68a641-5250-4046-9ff3-801285cce1d8",
   "metadata": {},
   "outputs": [],
   "source": [
    "y['Actual_Extra'] = y['Extra']"
   ]
  },
  {
   "cell_type": "code",
   "execution_count": null,
   "id": "3e885649-e400-4984-b208-5532ba9eab8f",
   "metadata": {},
   "outputs": [],
   "source": [
    "label_encoder = preprocessing.LabelEncoder()\n",
    "X['Partition']= label_encoder.fit_transform(X['Partition'])\n",
    "X['Partition'].unique()"
   ]
  },
  {
   "cell_type": "code",
   "execution_count": null,
   "id": "67aef2d0-0dfa-4fcc-a149-50389a55953d",
   "metadata": {},
   "outputs": [],
   "source": []
  },
  {
   "cell_type": "code",
   "execution_count": null,
   "id": "3d22f33a-40fb-43e3-88f4-e63c4f3cc431",
   "metadata": {},
   "outputs": [],
   "source": [
    "y_dummy = y.copy()"
   ]
  },
  {
   "cell_type": "code",
   "execution_count": null,
   "id": "5481a9df-5d52-40d2-a749-ab1dd408b027",
   "metadata": {},
   "outputs": [],
   "source": [
    "y = y[['Extra']]"
   ]
  },
  {
   "cell_type": "code",
   "execution_count": null,
   "id": "0b5a7486-9bba-4126-9e95-9837a3347274",
   "metadata": {},
   "outputs": [],
   "source": [
    "dt_a3 = DecisionTreeRegressor(random_state = 42).fit(X,y)"
   ]
  },
  {
   "cell_type": "code",
   "execution_count": null,
   "id": "413f0af6-a3c1-4c3b-a392-3e30d613da95",
   "metadata": {},
   "outputs": [],
   "source": [
    "rf_a3 = RandomForestRegressor(random_state = 42).fit(X,y)"
   ]
  },
  {
   "cell_type": "code",
   "execution_count": null,
   "id": "acc670b0-4ba2-4661-9967-89ed4f2bd34f",
   "metadata": {},
   "outputs": [],
   "source": [
    "print('coefficient r_sq for decision tree is %.2f'% dt_a3.score(X,y))\n",
    "print('coefficient r_sq for random forest is %.2f'% rf_a3.score(X,y))"
   ]
  },
  {
   "cell_type": "code",
   "execution_count": null,
   "id": "d6f6ae66-5453-4af8-922c-6b478801a8f9",
   "metadata": {},
   "outputs": [],
   "source": [
    "print('Adjusted r_sq dt',1 - (1-dt_a3.score(X,y))*(len(y)-1)/(len(y)-X.shape[1]-1))\n",
    "print('Adjusted r_sq rf',1 - (1-rf_a3.score(X,y))*(len(y)-1)/(len(y)-X.shape[1]-1))"
   ]
  },
  {
   "cell_type": "code",
   "execution_count": null,
   "id": "89901821-1ed0-47b3-9eec-184aa72bf8c5",
   "metadata": {},
   "outputs": [],
   "source": [
    "ytrain_pred = dt_a3.predict(X)\n",
    "ytrain_pred2 = rf_a3.predict(X)"
   ]
  },
  {
   "cell_type": "code",
   "execution_count": null,
   "id": "4fd9e5c7-227c-4ca5-ac7b-7af336cb6432",
   "metadata": {},
   "outputs": [],
   "source": [
    "print('coefficient r_sq for dt is ', r2_score(y,ytrain_pred))\n",
    "print('mean absolute error for dt is ', mean_absolute_error(y,ytrain_pred))\n",
    "print('mean squared error for dt is ', mean_squared_error(y,ytrain_pred))\n",
    "print('explained variance score for dt is %.2f', explained_variance_score(y,ytrain_pred))"
   ]
  },
  {
   "cell_type": "code",
   "execution_count": null,
   "id": "9b25fc91-79ee-4ca6-8abe-0ef4fb515bb5",
   "metadata": {},
   "outputs": [],
   "source": [
    "print('coefficient r_sq for rf is ', r2_score(y,ytrain_pred2))\n",
    "print('mean absolute error for rf is ', mean_absolute_error(y,ytrain_pred2))\n",
    "print('mean squared error for rf is ', mean_squared_error(y,ytrain_pred2))\n",
    "print('explained variance score for rf is %.2f', explained_variance_score(y,ytrain_pred2))"
   ]
  },
  {
   "cell_type": "code",
   "execution_count": null,
   "id": "9ae89aeb-3045-4ef2-890f-a6420b4ca81f",
   "metadata": {},
   "outputs": [],
   "source": [
    "X['predicted_decision'] = ytrain_pred\n",
    "X['predicted_random'] = ytrain_pred2"
   ]
  },
  {
   "cell_type": "code",
   "execution_count": null,
   "id": "eb2c6367-fa98-45e7-994d-1b60e593c0d6",
   "metadata": {},
   "outputs": [],
   "source": [
    "X['Extra'] = y['Extra']"
   ]
  },
  {
   "cell_type": "code",
   "execution_count": null,
   "id": "d552d9eb-1f2a-4561-b76f-19dd3eca9c19",
   "metadata": {},
   "outputs": [],
   "source": [
    "X.head()"
   ]
  },
  {
   "cell_type": "code",
   "execution_count": null,
   "id": "0064909d-55d8-4c41-80a5-64cd23dcfa1d",
   "metadata": {},
   "outputs": [],
   "source": [
    "Over_predicted = X.loc[X.predicted_decision > X.Extra] \n",
    "Over_predicted.info()"
   ]
  },
  {
   "cell_type": "code",
   "execution_count": null,
   "id": "e20d888b-a4f0-45a9-a224-432c75bed9b1",
   "metadata": {},
   "outputs": [],
   "source": [
    "def I(row):\n",
    "    if row['predicted_decision'] >= row['Extra']:\n",
    "        val = 1\n",
    "    else:\n",
    "        val = 0\n",
    "    return val\n",
    "X['Estimation_Logistic'] = X.apply(I,axis =1)"
   ]
  },
  {
   "cell_type": "code",
   "execution_count": null,
   "id": "d06400c3-bbcb-4275-95a6-2b91952b0ee1",
   "metadata": {},
   "outputs": [],
   "source": [
    "X.describe()"
   ]
  },
  {
   "cell_type": "code",
   "execution_count": null,
   "id": "1f2047f2-489e-4be7-8460-127c7d856efe",
   "metadata": {},
   "outputs": [],
   "source": [
    "X.head()"
   ]
  },
  {
   "cell_type": "code",
   "execution_count": null,
   "id": "bff19a8d-e528-473a-820c-2348c1ace78c",
   "metadata": {},
   "outputs": [],
   "source": [
    "y['Totalres'] = y_dummy['Totalres']\n",
    "y['Estimation_Logistic'] = X['Estimation_Logistic']\n",
    "y.head(2)"
   ]
  },
  {
   "cell_type": "code",
   "execution_count": null,
   "id": "b4511c38-3635-43b7-9cb3-6021fed2a094",
   "metadata": {},
   "outputs": [],
   "source": [
    "X = X[['Account','NNodes','Partition','TimelimitRaw','predicted_decision']]"
   ]
  },
  {
   "cell_type": "code",
   "execution_count": null,
   "id": "f31aef8e-c576-470a-88e5-192867e28df9",
   "metadata": {},
   "outputs": [],
   "source": [
    "from sklearn import preprocessing\n",
    "X[['NNodes', 'TimelimitRaw','predicted_decision']] = preprocessing.MinMaxScaler().fit_transform(X[['NNodes', 'TimelimitRaw','predicted_decision']])"
   ]
  },
  {
   "cell_type": "code",
   "execution_count": null,
   "id": "fed2c85b-582e-4007-9671-f1d45902fca7",
   "metadata": {},
   "outputs": [],
   "source": [
    "X_train, X_test, y_train, y_test = train_test_split(X,y,stratify=X['Partition'], test_size=0.30,random_state = 42)"
   ]
  },
  {
   "cell_type": "code",
   "execution_count": null,
   "id": "7bec92fb-072c-426c-a8db-2fcf8bce1b91",
   "metadata": {},
   "outputs": [],
   "source": [
    "print(X_train.shape, X_test.shape, y_train.shape, y_test.shape)"
   ]
  },
  {
   "cell_type": "code",
   "execution_count": null,
   "id": "92a82b77-e4d0-4f38-9bac-6e6398ed998a",
   "metadata": {},
   "outputs": [],
   "source": [
    "y_train_dummy = y_train.copy()"
   ]
  },
  {
   "cell_type": "code",
   "execution_count": null,
   "id": "8b5e82f2-6a32-4842-bbff-86622e29a8d4",
   "metadata": {},
   "outputs": [],
   "source": [
    "y_train = y_train[['Estimation_Logistic']]"
   ]
  },
  {
   "cell_type": "code",
   "execution_count": null,
   "id": "3a1ffe4d-1a61-485a-a464-dab8ed952b0b",
   "metadata": {},
   "outputs": [],
   "source": [
    "y_train.describe()"
   ]
  },
  {
   "cell_type": "code",
   "execution_count": null,
   "id": "6845ebd3-4115-4b79-8737-8a1dadf30c4c",
   "metadata": {},
   "outputs": [],
   "source": [
    "classifier = DecisionTreeClassifier(criterion = 'entropy',random_state = 42)\n",
    "classifier.fit(X_train,y_train)"
   ]
  },
  {
   "cell_type": "code",
   "execution_count": null,
   "id": "8ce03272-0286-448f-87aa-7dd7757d0313",
   "metadata": {},
   "outputs": [],
   "source": [
    "y_test_dummy = y_test.copy()"
   ]
  },
  {
   "cell_type": "code",
   "execution_count": null,
   "id": "e52dfc7e-9de0-4158-944f-106384fe5cee",
   "metadata": {},
   "outputs": [],
   "source": [
    "y_test = y_test[['Estimation_Logistic']]"
   ]
  },
  {
   "cell_type": "code",
   "execution_count": null,
   "id": "8c6ed8c9-96c9-47c6-96e0-7ab59306ee7e",
   "metadata": {},
   "outputs": [],
   "source": [
    "y_pred = classifier.predict(X_test)\n"
   ]
  },
  {
   "cell_type": "code",
   "execution_count": null,
   "id": "c8381773-ef58-4318-b04c-aa46b6843439",
   "metadata": {},
   "outputs": [],
   "source": [
    "y_test.head()"
   ]
  },
  {
   "cell_type": "code",
   "execution_count": null,
   "id": "9485eaab-e073-45b2-b608-cfde1d898f83",
   "metadata": {},
   "outputs": [],
   "source": [
    "from sklearn.metrics import confusion_matrix\n",
    "cm = confusion_matrix(y_test,y_pred)"
   ]
  },
  {
   "cell_type": "code",
   "execution_count": null,
   "id": "3ca1d6b3-1782-43a5-8ffd-f337532e1229",
   "metadata": {},
   "outputs": [],
   "source": [
    "cm"
   ]
  },
  {
   "cell_type": "code",
   "execution_count": null,
   "id": "41d2fb06-5d35-4838-8b64-0db58b70515d",
   "metadata": {},
   "outputs": [],
   "source": [
    "from sklearn.metrics import accuracy_score\n",
    "accuracy = accuracy_score(y_test,y_pred)\n",
    "accuracy"
   ]
  },
  {
   "cell_type": "code",
   "execution_count": null,
   "id": "8f9af671-3e3d-47d9-8bc4-753ba60597f0",
   "metadata": {},
   "outputs": [],
   "source": [
    "from sklearn.linear_model import LogisticRegression\n",
    "log_reg = LogisticRegression(random_state = 42)\n",
    "log_reg.fit(X_train,y_train)"
   ]
  },
  {
   "cell_type": "code",
   "execution_count": null,
   "id": "ff6ac6e0-4e45-4142-bd58-31d7fe39f804",
   "metadata": {},
   "outputs": [],
   "source": [
    "y_pred = log_reg.predict(X_test)\n"
   ]
  },
  {
   "cell_type": "code",
   "execution_count": null,
   "id": "17736f55-7a81-4741-a134-2ab5772d13d0",
   "metadata": {},
   "outputs": [],
   "source": [
    "cm = confusion_matrix(y_test,y_pred)\n",
    "cm"
   ]
  },
  {
   "cell_type": "code",
   "execution_count": null,
   "id": "5f34883f-8664-42a8-9890-b9271ade1ce9",
   "metadata": {},
   "outputs": [],
   "source": [
    "accuracy = accuracy_score(y_test,y_pred)\n",
    "accuracy"
   ]
  },
  {
   "cell_type": "code",
   "execution_count": null,
   "id": "acf0822f-e386-4109-8700-bdc8db80a4b8",
   "metadata": {},
   "outputs": [],
   "source": [
    "X.head()"
   ]
  },
  {
   "cell_type": "code",
   "execution_count": null,
   "id": "efcd670b-434f-4dbd-a4a0-f6448d8f0bde",
   "metadata": {},
   "outputs": [],
   "source": [
    "dt = DecisionTreeRegressor(random_state = 42).fit(X_train,y_train)"
   ]
  },
  {
   "cell_type": "code",
   "execution_count": null,
   "id": "86fecde1-f97c-4f5f-8c43-c245570b6cba",
   "metadata": {},
   "outputs": [],
   "source": [
    "rf = RandomForestRegressor(random_state = 42).fit(X_train,y_train)"
   ]
  },
  {
   "cell_type": "code",
   "execution_count": null,
   "id": "4da6831a-8fe6-4736-8c2a-251ab940c302",
   "metadata": {},
   "outputs": [],
   "source": [
    "print('coefficient r_sq for decision tree is %.2f'% dt.score(X_train,y_train))\n",
    "print('coefficient r_sq for random forest is %.2f'% rf.score(X_train,y_train))"
   ]
  },
  {
   "cell_type": "code",
   "execution_count": null,
   "id": "16ba2f03-7d9d-4430-b922-b9c05be9a7d8",
   "metadata": {},
   "outputs": [],
   "source": [
    "print('Adjusted r_sq dt',1 - (1-dt.score(X_train, y_train))*(len(y_train)-1)/(len(y_train)-X_train.shape[1]-1))\n",
    "print('Adjusted r_sq rf',1 - (1-rf.score(X_train, y_train))*(len(y_train)-1)/(len(y_train)-X_train.shape[1]-1))"
   ]
  },
  {
   "cell_type": "code",
   "execution_count": null,
   "id": "9f88469d-5d22-4d79-8330-6b9f8353d9cd",
   "metadata": {},
   "outputs": [],
   "source": [
    "ytrain_pred = dt.predict(X_train)\n",
    "ytrain_pred2 = rf.predict(X_train)"
   ]
  },
  {
   "cell_type": "code",
   "execution_count": null,
   "id": "5926cfec-7ca8-4c45-bcb4-774a8a98236f",
   "metadata": {},
   "outputs": [],
   "source": [
    "print('coefficient r_sq for dt is ', r2_score(y_train,ytrain_pred))\n",
    "print('mean absolute error for dt is ', mean_absolute_error(y_train,ytrain_pred))\n",
    "print('mean squared error for dt is ', mean_squared_error(y_train,ytrain_pred))\n",
    "print('explained variance score for dt is %.2f', explained_variance_score(y_train,ytrain_pred))"
   ]
  },
  {
   "cell_type": "code",
   "execution_count": null,
   "id": "922cbf39-2b97-486b-9aa5-3d7b262a6ce3",
   "metadata": {},
   "outputs": [],
   "source": [
    "print('coefficient r_sq for rf is ', r2_score(y_train,ytrain_pred2))\n",
    "print('mean absolute error for rf is ', mean_absolute_error(y_train,ytrain_pred2))\n",
    "print('mean squared error for rf is ', mean_squared_error(y_train,ytrain_pred2))\n",
    "print('explained variance score for rf is %.2f', explained_variance_score(y_train,ytrain_pred2))"
   ]
  },
  {
   "cell_type": "code",
   "execution_count": null,
   "id": "a6f70f7f-259a-4245-8962-80a6352d86ff",
   "metadata": {},
   "outputs": [],
   "source": [
    "ytest_pred = dt.predict(X_test)\n",
    "ytest_pred2 = rf.predict(X_test)"
   ]
  },
  {
   "cell_type": "code",
   "execution_count": null,
   "id": "92dd5494-b09f-41c8-bcba-4a889e497797",
   "metadata": {},
   "outputs": [],
   "source": [
    "X_test.shape"
   ]
  },
  {
   "cell_type": "code",
   "execution_count": null,
   "id": "9bbcfa8c-b7c1-4b68-b268-c21f1b73f5f1",
   "metadata": {},
   "outputs": [],
   "source": [
    "y_test.head()"
   ]
  },
  {
   "cell_type": "code",
   "execution_count": null,
   "id": "3d798e1e-9f2a-4bce-9b2c-d7ad7421352c",
   "metadata": {},
   "outputs": [],
   "source": [
    "y_test_dummy = y_test.copy()"
   ]
  },
  {
   "cell_type": "code",
   "execution_count": null,
   "id": "e4ed6e4c-728a-4495-b4ff-fd5a5d9aa733",
   "metadata": {},
   "outputs": [],
   "source": [
    "print('coefficient r_sq for decision tree is %.2f'% dt.score(X_test,y_test))\n",
    "print('coefficient r_sq for random forest is %.2f'% rf.score(X_test,y_test))"
   ]
  },
  {
   "cell_type": "code",
   "execution_count": null,
   "id": "e312bf1a-faa8-4e22-817b-b5d684d051ef",
   "metadata": {},
   "outputs": [],
   "source": [
    "print('coefficient r_sq for decision tree is %.2f'% r2_score(y_test,ytest_pred))\n",
    "print('coefficient r_sq for random forest is %.2f'% r2_score(y_test,ytest_pred2))"
   ]
  },
  {
   "cell_type": "code",
   "execution_count": null,
   "id": "ef4efe12-e468-4391-8363-c2acfd933143",
   "metadata": {},
   "outputs": [],
   "source": [
    "print('Adjusted r_sq dt',1 - (1-dt.score(X_test, y_test))*(len(y_test)-1)/(len(y_test)-X_test.shape[1]-1))\n",
    "print('Adjusted r_sq rf',1 - (1-rf.score(X_test, y_test))*(len(y_test)-1)/(len(y_test)-X_test.shape[1]-1))"
   ]
  },
  {
   "cell_type": "code",
   "execution_count": null,
   "id": "b8c6da7b-513c-4477-a6a8-be80ee29b49f",
   "metadata": {},
   "outputs": [],
   "source": [
    "y_test_dummy['Predicted_dt'] = ytest_pred\n",
    "y_test_dummy['Predicted_rf'] = ytest_pred2"
   ]
  },
  {
   "cell_type": "code",
   "execution_count": null,
   "id": "33bd45fd-6f3a-496a-b89e-d24dcd5b320d",
   "metadata": {},
   "outputs": [],
   "source": [
    "y_test_dummy.head()"
   ]
  },
  {
   "cell_type": "code",
   "execution_count": null,
   "id": "e476f567-35ef-4541-809d-5ad86a2cedd1",
   "metadata": {},
   "outputs": [],
   "source": [
    "y_test_dummy['Predicted_dt'] = np.floor(y_test_dummy['Predicted_dt'])"
   ]
  },
  {
   "cell_type": "code",
   "execution_count": null,
   "id": "141b355c-423d-49d6-ad7b-5afc3181782f",
   "metadata": {},
   "outputs": [],
   "source": []
  },
  {
   "cell_type": "code",
   "execution_count": null,
   "id": "b0bdc1ea-0c52-4f11-87d0-d573c34e281c",
   "metadata": {},
   "outputs": [],
   "source": [
    "from sklearn.metrics import confusion_matrix, ConfusionMatrixDisplay\n",
    "cm = confusion_matrix(y_test_dummy['Estimation_Logistic'],y_test_dummy['Predicted_dt'])"
   ]
  },
  {
   "cell_type": "code",
   "execution_count": null,
   "id": "f8edc390-a652-40fe-934a-af6cf15728e8",
   "metadata": {},
   "outputs": [],
   "source": [
    "cm"
   ]
  },
  {
   "cell_type": "code",
   "execution_count": null,
   "id": "b53e9b34-e63c-42a6-9674-330c32f52bf2",
   "metadata": {},
   "outputs": [],
   "source": [
    "group_names = ['Overestimated Actual and predicted ','Overestimated Actual but predicted underestimated','Underestimated Actual but predicted Overestimated ','Underestimated Actual and predicted']\n",
    "\n",
    "group_counts = [\"{0:0.0f}\".format(value) for value in\n",
    "\n",
    "                cm.flatten()]\n",
    "\n",
    "group_percentages = [\"{0:.2%}\".format(value) for value in\n",
    "\n",
    "                     cm.flatten()/np.sum(cm)]\n",
    "\n",
    "labels = [f\"{v1}\\n{v2}\\n{v3}\" for v1, v2, v3 in\n",
    "\n",
    "          zip(group_names,group_counts,group_percentages)]\n",
    "\n",
    "labels = np.asarray(labels).reshape(2,2)\n",
    "\n",
    "sns.heatmap(cm, annot=labels, fmt='', cmap='Blues')"
   ]
  },
  {
   "cell_type": "markdown",
   "id": "a4020470-9cb8-4bed-8bab-fcdb9f54134e",
   "metadata": {},
   "source": [
    "## One hot encoding features"
   ]
  },
  {
   "cell_type": "code",
   "execution_count": null,
   "id": "2a04759c-d378-4954-8bc3-20ad3f134c8e",
   "metadata": {},
   "outputs": [],
   "source": [
    "regression3 = prediction2[['Account','NNodes','Partition','TimelimitRaw','JobLen','Totalres']]"
   ]
  },
  {
   "cell_type": "code",
   "execution_count": null,
   "id": "95bf0e76-2adc-4bad-9f35-3e9cb9aadca6",
   "metadata": {},
   "outputs": [],
   "source": [
    "regression3['TimelimitRaw'] = regression3['TimelimitRaw'] * 60"
   ]
  },
  {
   "cell_type": "code",
   "execution_count": null,
   "id": "b431f856-d27c-4f3a-bdc9-1ace05cc8aaf",
   "metadata": {},
   "outputs": [],
   "source": [
    "one_hot_encoded_data = pd.get_dummies(regression3, columns = ['Account', 'Partition'])\n",
    "one_hot_encoded_data.head(10)"
   ]
  },
  {
   "cell_type": "code",
   "execution_count": null,
   "id": "2b76653f-be05-4283-9277-e4b8b2943dc8",
   "metadata": {},
   "outputs": [],
   "source": [
    "X = one_hot_encoded_data.loc[:, one_hot_encoded_data.columns != 'JobLen']\n",
    "X = X.loc[:, X.columns != 'Totalres']\n",
    "y = one_hot_encoded_data[['JobLen','Totalres']]"
   ]
  },
  {
   "cell_type": "code",
   "execution_count": null,
   "id": "a0c535ec-bc04-4860-843d-75e3d4ddbf9a",
   "metadata": {},
   "outputs": [],
   "source": [
    "X.head()"
   ]
  },
  {
   "cell_type": "code",
   "execution_count": null,
   "id": "e58024ff-5b48-4c2b-8251-9046c55f6a9a",
   "metadata": {},
   "outputs": [],
   "source": [
    "X_train, X_test, y_train, y_test = train_test_split(X,y, test_size=0.25,random_state = 42)"
   ]
  },
  {
   "cell_type": "code",
   "execution_count": null,
   "id": "594ce724-4eed-4018-95f0-3a46f1166cb7",
   "metadata": {},
   "outputs": [],
   "source": [
    "print(X_train.shape, X_test.shape, y_train.shape, y_test.shape)"
   ]
  },
  {
   "cell_type": "code",
   "execution_count": null,
   "id": "03688863-f700-400a-b9e1-bc06d57e84dd",
   "metadata": {},
   "outputs": [],
   "source": [
    "y_train_dummy = y_train.copy()"
   ]
  },
  {
   "cell_type": "code",
   "execution_count": null,
   "id": "f6ff84a6-bd26-4373-ade3-16c15678e661",
   "metadata": {},
   "outputs": [],
   "source": [
    "y_train = y_train[['JobLen']]"
   ]
  },
  {
   "cell_type": "code",
   "execution_count": null,
   "id": "d1b22964-b56c-4e1b-a77c-2b7c3c183c05",
   "metadata": {},
   "outputs": [],
   "source": [
    "dt = DecisionTreeRegressor(random_state = 42).fit(X_train,y_train)"
   ]
  },
  {
   "cell_type": "code",
   "execution_count": null,
   "id": "8889cc86-8548-4310-aebe-199a22621b2b",
   "metadata": {},
   "outputs": [],
   "source": [
    "rf = RandomForestRegressor(random_state = 42).fit(X_train,y_train)"
   ]
  },
  {
   "cell_type": "code",
   "execution_count": null,
   "id": "7cecb656-2bb8-427f-ac5f-6430c3ff855b",
   "metadata": {},
   "outputs": [],
   "source": [
    "print('coefficient r_sq for decision tree is %.2f'% dt.score(X_train,y_train))\n",
    "print('coefficient r_sq for random forest is %.2f'% rf.score(X_train,y_train))"
   ]
  },
  {
   "cell_type": "code",
   "execution_count": null,
   "id": "0a34ad73-13c7-4ddf-ae0c-d52d867a7498",
   "metadata": {},
   "outputs": [],
   "source": [
    "ytrain_pred = dt.predict(X_train)\n",
    "ytrain_pred2 = rf.predict(X_train)"
   ]
  },
  {
   "cell_type": "code",
   "execution_count": null,
   "id": "2a33714f-789a-4746-acb8-d9210ed0c4b4",
   "metadata": {},
   "outputs": [],
   "source": [
    "print('coefficient r_sq for dt is ', r2_score(y_train,ytrain_pred))\n",
    "print('mean absolute error for dt is ', mean_absolute_error(y_train,ytrain_pred))\n",
    "print('mean squared error for dt is ', mean_squared_error(y_train,ytrain_pred))\n",
    "print('explained variance score for dt is %.2f', explained_variance_score(y_train,ytrain_pred))"
   ]
  },
  {
   "cell_type": "code",
   "execution_count": null,
   "id": "e65b9d27-5d37-492e-a0e4-3a2d2f62d96b",
   "metadata": {},
   "outputs": [],
   "source": [
    "print('coefficient r_sq for rf is ', r2_score(y_train,ytrain_pred2))\n",
    "print('mean absolute error for rf is ', mean_absolute_error(y_train,ytrain_pred2))\n",
    "print('mean squared error for rf is ', mean_squared_error(y_train,ytrain_pred2))\n",
    "print('explained variance score for rf is %.2f', explained_variance_score(y_train,ytrain_pred2))"
   ]
  },
  {
   "cell_type": "code",
   "execution_count": null,
   "id": "1678c60b-3ede-426b-a0b5-b385aa1a6eaf",
   "metadata": {},
   "outputs": [],
   "source": [
    "y_test_dummy = y_test.copy()"
   ]
  },
  {
   "cell_type": "code",
   "execution_count": null,
   "id": "68f3b17e-e1f2-428c-b354-4c07723225cd",
   "metadata": {},
   "outputs": [],
   "source": [
    "y_test = y_test[['JobLen']]"
   ]
  },
  {
   "cell_type": "code",
   "execution_count": null,
   "id": "1af88a77-f1aa-4f82-be3c-36abc843275a",
   "metadata": {},
   "outputs": [],
   "source": [
    "y_test.head()"
   ]
  },
  {
   "cell_type": "code",
   "execution_count": null,
   "id": "8f71be17-5acd-492f-a564-eeebdb47be81",
   "metadata": {},
   "outputs": [],
   "source": [
    "ytest_pred = dt.predict(X_test)\n",
    "ytest_pred2 = rf.predict(X_test)"
   ]
  },
  {
   "cell_type": "code",
   "execution_count": null,
   "id": "73e77562-7736-4c35-b56f-9c43edaef451",
   "metadata": {},
   "outputs": [],
   "source": [
    "X_test.shape"
   ]
  },
  {
   "cell_type": "code",
   "execution_count": null,
   "id": "93b66c8e-2416-4e99-9457-1fc014d8619e",
   "metadata": {},
   "outputs": [],
   "source": [
    "print('coefficient r_sq for decision tree is %.2f'% dt.score(X_test,y_test))\n",
    "print('coefficient r_sq for random forest is %.2f'% rf.score(X_test,y_test))"
   ]
  },
  {
   "cell_type": "code",
   "execution_count": null,
   "id": "c1edbfe1-0b10-434d-a772-0cc8fb281b46",
   "metadata": {},
   "outputs": [],
   "source": [
    "print('coefficient r_sq for decision tree is %.2f'% r2_score(y_test,ytest_pred))\n",
    "print('coefficient r_sq for random forest is %.2f'% r2_score(y_test,ytest_pred2))"
   ]
  },
  {
   "cell_type": "code",
   "execution_count": null,
   "id": "c007e170-ee63-4ea9-b894-7bc41043115b",
   "metadata": {},
   "outputs": [],
   "source": [
    "rcParams['figure.figsize'] = 100, 20\n",
    "x_ax = range(len(X_test))\n",
    "plt.plot(x_ax,y_test,label = 'actual',color = 'k',linestyle = '-')\n",
    "plt.scatter(x_ax,ytest_pred,label = 'predicted',color = 'r',linestyle = '--')\n",
    "if not os.path.exists('classification'):\n",
    "    os.makedirs('classification')\n",
    "plt.savefig('classification/dt3.png')"
   ]
  },
  {
   "cell_type": "code",
   "execution_count": null,
   "id": "02aadb5c-8066-42dd-abb0-01b15738b510",
   "metadata": {},
   "outputs": [],
   "source": [
    "rcParams['figure.figsize'] = 100, 20\n",
    "x_ax = range(len(X_test))\n",
    "plt.plot(x_ax,y_test,label = 'actual',color = 'k',linestyle = '-')\n",
    "plt.scatter(x_ax,ytest_pred2,label = 'predicted',color = 'r',alpha = 0.5,linestyle = '--')\n",
    "if not os.path.exists('classification'):\n",
    "    os.makedirs('classification')\n",
    "plt.savefig('classification/rf3.png')"
   ]
  },
  {
   "cell_type": "code",
   "execution_count": null,
   "id": "b8a7da2f-0f05-4cce-b2a9-78072e7358e2",
   "metadata": {},
   "outputs": [],
   "source": [
    "y_test_dummy['Predicted_dt'] = ytest_pred\n",
    "y_test_dummy['Predicted_rf'] = ytest_pred2"
   ]
  },
  {
   "cell_type": "code",
   "execution_count": null,
   "id": "a90ee3be-6cd4-40c1-89ea-b2a46d70ed18",
   "metadata": {},
   "outputs": [],
   "source": []
  },
  {
   "cell_type": "code",
   "execution_count": null,
   "id": "dc8aa396-ccc1-47d0-9813-30758873cc24",
   "metadata": {},
   "outputs": [],
   "source": [
    "rcParams['figure.figsize'] = 15, 15\n",
    "import matplotlib.pyplot as plt\n",
    "mm=21*24*3600\n",
    "fig = plt.figure()\n",
    "ax = fig.add_subplot(111)\n",
    "heatmap, xedges, yedges = np.histogram2d(x=y_test_dummy['Predicted_dt'],y=y_test_dummy['JobLen'],weights=y_test_dummy['Totalres'] ,bins=200,range=[[0,mm],[0,mm]])\n",
    "extent = [xedges[0], xedges[-1], yedges[0], yedges[-1]]\n",
    "print(heatmap.min(),heatmap.max())\n",
    "cutoff=10\n",
    "pcm=plt.pcolormesh(xedges, yedges, heatmap, cmap='inferno',norm=colors.LogNorm(vmin=heatmap.min()+cutoff, vmax=heatmap.max()+cutoff))\n",
    "plt.xlabel('Actual job length ')\n",
    "plt.ylabel('Predicted')\n",
    "plt.xlim(0,mm)\n",
    "plt.ylim(0,mm)\n",
    "plt.axis('square')\n",
    "plt.title('k')\n",
    "fig.colorbar(pcm, ax=ax, extend='max')\n",
    "if not os.path.exists('classification'):\n",
    "    os.makedirs('classification')\n",
    "plt.savefig('classification/dt3_new.png')"
   ]
  },
  {
   "cell_type": "code",
   "execution_count": null,
   "id": "313eff4f-eca4-4d53-8772-e104c5a11b30",
   "metadata": {},
   "outputs": [],
   "source": [
    "rcParams['figure.figsize'] = 15, 15\n",
    "import matplotlib.pyplot as plt\n",
    "mm=21*24*3600\n",
    "fig = plt.figure()\n",
    "ax = fig.add_subplot(111)\n",
    "heatmap, xedges, yedges = np.histogram2d(x=y_test_dummy['Predicted_rf'],y=y_test_dummy['JobLen'],weights=y_test_dummy['Totalres'] ,bins=200,range=[[0,mm],[0,mm]])\n",
    "extent = [xedges[0], xedges[-1], yedges[0], yedges[-1]]\n",
    "print(heatmap.min(),heatmap.max())\n",
    "cutoff=10\n",
    "pcm=plt.pcolormesh(xedges, yedges, heatmap, cmap='inferno',norm=colors.LogNorm(vmin=heatmap.min()+cutoff, vmax=heatmap.max()+cutoff))\n",
    "plt.xlabel('Actual job length ')\n",
    "plt.ylabel('Predicted')\n",
    "plt.xlim(0,mm)\n",
    "plt.ylim(0,mm)\n",
    "plt.axis('square')\n",
    "plt.title('k')\n",
    "fig.colorbar(pcm, ax=ax, extend='max')\n",
    "if not os.path.exists('classification'):\n",
    "    os.makedirs('classification')\n",
    "plt.savefig('classification/rf3_new.png')"
   ]
  },
  {
   "cell_type": "code",
   "execution_count": null,
   "id": "65db2902-893b-4daf-bc59-eb5480545984",
   "metadata": {},
   "outputs": [],
   "source": []
  },
  {
   "cell_type": "code",
   "execution_count": null,
   "id": "e3582778-c2c8-416d-bb0a-c1bf902a4c8b",
   "metadata": {},
   "outputs": [],
   "source": [
    "y_test['predicted'] = ytest_pred2\n",
    "y_test['Timelimit'] = X_test['TimelimitRaw'].to_numpy()"
   ]
  },
  {
   "cell_type": "code",
   "execution_count": null,
   "id": "93f1af57-4646-4445-8b5c-790c0916b6d3",
   "metadata": {},
   "outputs": [],
   "source": [
    "i = 0\n",
    "predicted = []\n",
    "joblen = []\n",
    "timelimit = []\n",
    "df = pd.DataFrame(columns = ['Predicted','JobLen','timelimit'])\n",
    "for index, row in y_test.iterrows():\n",
    "    if row['predicted'] < row['JobLen']:\n",
    "        i = i + 1\n",
    "        predicted.append(row['predicted'])\n",
    "        joblen.append(row['JobLen'])\n",
    "        timelimit.append(row['Timelimit'])"
   ]
  },
  {
   "cell_type": "code",
   "execution_count": null,
   "id": "6f26e5e1-234f-4d6b-87ce-902c58d6acfe",
   "metadata": {},
   "outputs": [],
   "source": [
    "X_test.info()"
   ]
  },
  {
   "cell_type": "code",
   "execution_count": null,
   "id": "caa5f2f5-6b8c-4966-920f-2ae4192fddb9",
   "metadata": {},
   "outputs": [],
   "source": [
    "df['Predicted'] = predicted\n",
    "df['JobLen'] = joblen\n",
    "df['timelimit'] = timelimit\n"
   ]
  },
  {
   "cell_type": "code",
   "execution_count": null,
   "id": "72f913fd-aa43-45f0-9760-b7a20de9ab08",
   "metadata": {},
   "outputs": [],
   "source": [
    "print(i)\n",
    "df.head(20)"
   ]
  },
  {
   "cell_type": "markdown",
   "id": "6bd2fc54-0a2f-4d2a-aab5-20de503aeeb9",
   "metadata": {},
   "source": [
    "## Linear Regression"
   ]
  },
  {
   "cell_type": "code",
   "execution_count": null,
   "id": "23051b4d-fce1-4f7e-bf6c-905f53cfb54e",
   "metadata": {},
   "outputs": [],
   "source": [
    "ml = LinearRegression().fit(X_train,y_train)"
   ]
  },
  {
   "cell_type": "code",
   "execution_count": null,
   "id": "94b7df35-0841-42d2-b2ea-4908d8880e48",
   "metadata": {},
   "outputs": [],
   "source": [
    "print('coefficient r_sq for Linear Regression is %.2f'% ml.score(X_train,y_train))"
   ]
  },
  {
   "cell_type": "code",
   "execution_count": null,
   "id": "d827ec49-4ca9-4834-a495-96544ebf95ae",
   "metadata": {},
   "outputs": [],
   "source": [
    "ytest_pred = ml.predict(X_test)"
   ]
  },
  {
   "cell_type": "code",
   "execution_count": null,
   "id": "c618d6c6-725e-4f21-a7ac-6a3ede66d84e",
   "metadata": {},
   "outputs": [],
   "source": [
    "print('coefficient r_sq for linear regression is %.2f'% r2_score(y_test,ytest_pred))"
   ]
  },
  {
   "cell_type": "markdown",
   "id": "d421ca69-4e77-4a69-8bc2-f2bf91aa2c2c",
   "metadata": {},
   "source": [
    "## Logistic Regression"
   ]
  },
  {
   "cell_type": "code",
   "execution_count": null,
   "id": "7ab420bd-515e-48b5-a32b-f972443a5c62",
   "metadata": {},
   "outputs": [],
   "source": [
    "ml2 = SVR().fit(X_train,y_train)"
   ]
  },
  {
   "cell_type": "code",
   "execution_count": null,
   "id": "8470b628-da66-4713-b86f-beb4483e1168",
   "metadata": {},
   "outputs": [],
   "source": [
    "print('coefficient r_sq for SVM is %.2f'% ml2.score(X_train,y_train))"
   ]
  },
  {
   "cell_type": "code",
   "execution_count": null,
   "id": "edc2dcde-6128-4bb1-8492-ded4fc7b0126",
   "metadata": {},
   "outputs": [],
   "source": [
    "ytest_pred = ml2.predict(X_test)"
   ]
  },
  {
   "cell_type": "code",
   "execution_count": null,
   "id": "be0e332d-8cf0-41ee-86da-a0d3f9b7685e",
   "metadata": {},
   "outputs": [],
   "source": [
    "print('coefficient r_sq for svm is %.2f'% r2_score(y_test,ytest_pred))"
   ]
  },
  {
   "cell_type": "code",
   "execution_count": null,
   "id": "9e249414-79a6-490f-ac6a-ef6d8d5e611c",
   "metadata": {},
   "outputs": [],
   "source": []
  }
 ],
 "metadata": {
  "kernelspec": {
   "display_name": "Python 3 (ipykernel)",
   "language": "python",
   "name": "python3"
  },
  "language_info": {
   "codemirror_mode": {
    "name": "ipython",
    "version": 3
   },
   "file_extension": ".py",
   "mimetype": "text/x-python",
   "name": "python",
   "nbconvert_exporter": "python",
   "pygments_lexer": "ipython3",
   "version": "3.9.12"
  }
 },
 "nbformat": 4,
 "nbformat_minor": 5
}
