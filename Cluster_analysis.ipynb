{
 "cells": [
  {
   "cell_type": "code",
   "execution_count": null,
   "id": "05604e9a-6b85-44f0-898f-ad6bdd46fd08",
   "metadata": {},
   "outputs": [],
   "source": [
    "import pandas as pd\n",
    "import numpy as np\n",
    "pd.set_option('display.max_columns', 50000)\n",
    "pd.set_option('display.max_rows', 1000000)\n",
    "pd.set_option('display.max_colwidth',None)\n",
    "pd.set_option('display.float_format',lambda x: '%.4f' % x)\n",
    "import warnings\n",
    "warnings.filterwarnings(\"ignore\")\n",
    "import matplotlib.pyplot as plt\n",
    "import seaborn as sns\n",
    "import plotly as pl\n",
    "import plotly.express as px\n",
    "import plotly.graph_objects as go\n",
    "from matplotlib.pyplot import figure\n",
    "import matplotlib.pylab as pll\n",
    "from collections import Counter\n",
    "from datetime import datetime\n",
    "import time\n",
    "import random\n",
    "import math\n",
    "import os\n",
    "import itertools\n",
    "from matplotlib import ticker\n",
    "import matplotlib.colors as colors\n",
    "from pylab import rcParams"
   ]
  },
  {
   "cell_type": "code",
   "execution_count": null,
   "id": "110a9cb8-d7ac-4068-92d6-c2ae57153c88",
   "metadata": {
    "scrolled": true,
    "tags": []
   },
   "outputs": [],
   "source": [
    "slurm1 = pd.read_csv('SlurmPlot2.csv')\n",
    "slurm1.tail(100)"
   ]
  },
  {
   "cell_type": "code",
   "execution_count": null,
   "id": "c40b17a4-d2ae-4dc4-b31a-77fe39707936",
   "metadata": {},
   "outputs": [],
   "source": [
    "slurm1.head(2)"
   ]
  },
  {
   "cell_type": "code",
   "execution_count": null,
   "id": "492d44c2-d3d0-46d4-a7cb-cb6940598021",
   "metadata": {
    "scrolled": true,
    "tags": []
   },
   "outputs": [],
   "source": [
    "slurm = slurm1[['UID','JobID','Account','Submittimestamp','Start','End','Eligibletimestamp','Starttimestamp','Endtimestamp','AllocNodes','AllocCPUS','TimelimitRaw', 'NNodes','Submit','State','ExitCode','QOS','QOSRAW','Partition','TRESAllocMem','TRESINMaxUsagemem','TotalCPUtime']]"
   ]
  },
  {
   "cell_type": "code",
   "execution_count": null,
   "id": "78edff64-fae7-4792-9df4-dad6bf48405a",
   "metadata": {},
   "outputs": [],
   "source": [
    "slurm = slurm[slurm[\"Starttimestamp\"] != 'Unknown']\n",
    "slurm = slurm[slurm[\"Endtimestamp\"] != 'Unknown']\n",
    "slurm['JobLen'] = slurm['Endtimestamp'].astype(float) - slurm['Starttimestamp'].astype(float)\n",
    "slurm['Totalres'] = (slurm['JobLen']/3600) * slurm['NNodes']\n",
    "slurm['JobID'] = slurm['JobID'].astype(str)"
   ]
  },
  {
   "cell_type": "code",
   "execution_count": null,
   "id": "e6870c97-2649-4be5-9425-8b9fd0f947d4",
   "metadata": {
    "scrolled": true,
    "tags": []
   },
   "outputs": [],
   "source": [
    "discard = [\".\"]\n",
    "waittime = slurm[~slurm.JobID.str.contains('|'.join(discard),regex = False)]\n",
    "waittime['Jcount'] = 1\n",
    "waittime['Waittime'] = waittime['Starttimestamp'].astype(float) - waittime['Submittimestamp'].astype(float)"
   ]
  },
  {
   "cell_type": "code",
   "execution_count": null,
   "id": "cd94c77a-c073-4bb8-96af-6869096a7c40",
   "metadata": {},
   "outputs": [],
   "source": [
    "waittime['year'] = pd.DatetimeIndex(waittime['Submit']).year\n",
    "waittime['month'] = pd.DatetimeIndex(waittime['Submit']).month\n",
    "waittime['year'] = waittime['year'].apply(str)\n",
    "waittime['month'] = waittime['month'].apply(str)\n",
    "waittime['yearmonth'] = pd.to_datetime(waittime['Submit']).dt.to_period('M')"
   ]
  },
  {
   "cell_type": "code",
   "execution_count": null,
   "id": "a0cad048-c632-4e30-80b6-a38f24dad620",
   "metadata": {},
   "outputs": [],
   "source": [
    "waittime.head(50)"
   ]
  },
  {
   "cell_type": "code",
   "execution_count": null,
   "id": "136a2adb-0cd2-4ecd-b24d-019426543594",
   "metadata": {},
   "outputs": [],
   "source": [
    "waittime = waittime.loc[waittime.JobLen >= 0]"
   ]
  },
  {
   "cell_type": "code",
   "execution_count": null,
   "id": "a0a50b7c-4c7b-4ac2-8b2a-4d1a3082d2ca",
   "metadata": {},
   "outputs": [],
   "source": [
    "waittime.info()"
   ]
  },
  {
   "cell_type": "markdown",
   "id": "78b361d0-c063-43d0-81a6-8e0d9b9b4c39",
   "metadata": {
    "tags": []
   },
   "source": [
    "## Cluster Usage "
   ]
  },
  {
   "cell_type": "code",
   "execution_count": null,
   "id": "672f4d68-65db-4189-b150-036df132b79e",
   "metadata": {},
   "outputs": [],
   "source": [
    "waittime.head()"
   ]
  },
  {
   "cell_type": "code",
   "execution_count": null,
   "id": "3ed92786-83d2-446d-a1b7-02ec8681c0e2",
   "metadata": {},
   "outputs": [],
   "source": []
  },
  {
   "cell_type": "code",
   "execution_count": null,
   "id": "a4288623-7f8b-4c4a-95d2-e0d6d75e9dd8",
   "metadata": {},
   "outputs": [],
   "source": [
    "from datetime import datetime as dt\n",
    "def functioncluster2(account):\n",
    "    varlist = []\n",
    "    for a in account:\n",
    "        temp = waittime.loc[waittime.Account == a]\n",
    "        temp1 = temp.groupby(['yearmonth'], as_index=False).agg({'Totalres':'sum','Jcount':'sum'})\n",
    "        print(temp1['yearmonth'])\n",
    "        xticks = ['2019-3','2019-4','2019-5','2019-6','2019-7','2019-8','2019-9','2019-10','2019-11','2019-12','2020-1','2020-2','2020-3','2020-4','2020-5','2020-6','2020-7','2020-8','2020-9','2020-10','2020-11','2020-12','2021-1','2021-2','2021-3','2021-4','2021-5','2021-6','2021-7','2021-8','2021-9','2021-10','2021-11','2021-12','2022-1']\n",
    "        xticks1 =  pd.to_datetime(xticks).to_period('M')\n",
    "        yearmonth = temp1['yearmonth'].tolist()\n",
    "        for xtick in xticks1:\n",
    "            if xtick not in yearmonth:\n",
    "                temp1 = temp1.append({'yearmonth': xtick}, ignore_index=True)\n",
    "                temp1['Jcount'] = temp1['Jcount'].fillna(0)\n",
    "                temp1['Totalres'] = temp1['Totalres'].fillna(0)\n",
    "        temp1 = temp1.sort_values('yearmonth')\n",
    "        # temp1['Totalres'] = temp1['Totalres']/3600\n",
    "        temp1['Totalres'] = temp1['Totalres'].astype(int)\n",
    "        fig = plt.figure() # Create matplotlib figure\n",
    "        ax = fig.add_subplot(111) \n",
    "        bar1 = np.arange(len(temp1.yearmonth))\n",
    "        ax.bar(bar1, temp1.Totalres, color='g')\n",
    "        ax.tick_params(axis='x',length=0)\n",
    "        fig.set_figheight(10)\n",
    "        fig.set_figwidth(60)\n",
    "        for p in ax.patches:\n",
    "            ax.annotate(str(p.get_height()), (p.get_x(), p.get_height() * 1.005),fontsize=24,rotation = 90)\n",
    "        ax.set_xlabel('Months', fontsize=22)\n",
    "        ax.set_ylabel('Total resources in hours', fontsize=22)\n",
    "        for tick in ax.get_yticklabels():\n",
    "            tick.set_fontsize(\"24\")\n",
    "        for tick in ax.get_xticklabels():\n",
    "            tick.set_fontsize(\"0\")\n",
    "        plt.show()\n",
    "        if not os.path.exists('Cluster_Usage'):\n",
    "            os.makedirs('Cluster_Usage')\n",
    "        fig.savefig('Cluster_Usage/{}_Cluster_Usage.png'.format(a),bbox_inches='tight', dpi=100)\n",
    "                \n",
    "            "
   ]
  },
  {
   "cell_type": "code",
   "execution_count": null,
   "id": "35f35eec-6c9c-42db-aeeb-82c7c7022c34",
   "metadata": {
    "scrolled": true,
    "tags": []
   },
   "outputs": [],
   "source": [
    "account = waittime['Account'].unique()\n",
    "account = account.tolist()\n",
    "functioncluster2(account)"
   ]
  },
  {
   "cell_type": "code",
   "execution_count": null,
   "id": "1b20feba-7a4e-4937-a19d-3d9373d7bb19",
   "metadata": {},
   "outputs": [],
   "source": []
  },
  {
   "cell_type": "code",
   "execution_count": null,
   "id": "598f514c-2955-4ee1-ba1d-aa0f25cad69c",
   "metadata": {},
   "outputs": [],
   "source": [
    "from datetime import datetime as dt\n",
    "def functioncluster(account):\n",
    "    varlist = []\n",
    "    for a in account:\n",
    "        temp = waittime.loc[waittime.Account == a]\n",
    "        temp1 = temp.groupby(['yearmonth'], as_index=False).agg({'Totalres':'sum','Jcount':'sum'})\n",
    "        print(temp1['yearmonth'])\n",
    "        xticks = ['2019-3','2019-4','2019-5','2019-6','2019-7','2019-8','2019-9','2019-10','2019-11','2019-12','2020-1','2020-2','2020-3','2020-4','2020-5','2020-6','2020-7','2020-8','2020-9','2020-10','2020-11','2020-12','2021-1','2021-2','2021-3','2021-4','2021-5','2021-6','2021-7','2021-8','2021-9','2021-10','2021-11','2021-12','2022-1']\n",
    "        xticks1 =  pd.to_datetime(xticks).to_period('M')\n",
    "        yearmonth = temp1['yearmonth'].tolist()\n",
    "        for xtick in xticks1:\n",
    "            if xtick not in yearmonth:\n",
    "                temp1 = temp1.append({'yearmonth': xtick}, ignore_index=True)\n",
    "                temp1['Jcount'] = temp1['Jcount'].fillna(0)\n",
    "                temp1['Totalres'] = temp1['Totalres'].fillna(0)\n",
    "        temp1 = temp1.sort_values('yearmonth')\n",
    "        # temp1['Totalres'] = temp1['Totalres']/3600\n",
    "        temp1['Totalres'] = temp1['Totalres'].astype(int)\n",
    "        fig = plt.figure() # Create matplotlib figure\n",
    "        ax = fig.add_subplot(111)\n",
    "        width = .4 \n",
    "        bar1 = np.arange(len(temp1.yearmonth))\n",
    "        bar2 = [ i + width for i in bar1]\n",
    "        ax.bar(bar1, temp1.Totalres, width, color='g')\n",
    "        ax2 = ax.twinx() \n",
    "        ax2.bar(bar2, temp1.Jcount,width, color='b')\n",
    "        ax.set_xticks(bar1 + width/2,temp1.yearmonth)\n",
    "        fig.set_figheight(10)\n",
    "        fig.set_figwidth(60)\n",
    "        for p in ax.patches:\n",
    "            ax.annotate(str(p.get_height()), (p.get_x(), p.get_height() * 1.005),fontsize=22,rotation = 90)\n",
    "        for p in ax2.patches:\n",
    "            ax2.annotate(str(p.get_height()), (p.get_x(), p.get_height() * 1.005),fontsize=22,rotation = 90)\n",
    "        ax.set_xlabel('Months', fontsize=18)\n",
    "        ax.set_ylabel('Total resources in seconds', fontsize=18)\n",
    "        ax2.set_ylabel('total jobs', fontsize=18)\n",
    "        for tick in ax.get_yticklabels():\n",
    "            tick.set_fontsize(\"22\")\n",
    "        for tick in ax.get_xticklabels():\n",
    "            tick.set_fontsize(\"20\")\n",
    "        for tick in ax2.get_yticklabels():\n",
    "            tick.set_fontsize(\"22\")\n",
    "        plt.show()\n",
    "        if not os.path.exists('Cluster_Usage'):\n",
    "            os.makedirs('Cluster_Usage')\n",
    "        fig.savefig('Cluster_Usage/{}_Cluster_Usage.png'.format(a),bbox_inches='tight', dpi=100)\n",
    "                \n",
    "            "
   ]
  },
  {
   "cell_type": "code",
   "execution_count": null,
   "id": "3235b9e8-6ea7-410c-9048-0a607d02e4a1",
   "metadata": {
    "scrolled": true,
    "tags": []
   },
   "outputs": [],
   "source": [
    "account = waittime['Account'].unique()\n",
    "account = account.tolist()\n",
    "functioncluster(account)"
   ]
  },
  {
   "cell_type": "markdown",
   "id": "0b28c3fb-3d15-4366-afa1-ca086636c4c1",
   "metadata": {},
   "source": [
    "# report purpose"
   ]
  },
  {
   "cell_type": "markdown",
   "id": "a26abe73-7f9e-4aea-acf3-5f1ced0831df",
   "metadata": {},
   "source": [
    "## For hours"
   ]
  },
  {
   "cell_type": "code",
   "execution_count": null,
   "id": "9db61baa-9e25-4dd2-b544-f5f862b3b70a",
   "metadata": {},
   "outputs": [],
   "source": [
    "from datetime import datetime as dt\n",
    "%precision %.2f\n",
    "pd.options.display.float_format = '{:,.2f}'.format\n",
    "def functioncluster3(account):\n",
    "    varlist = []\n",
    "    for a in account:\n",
    "        temp = waittime.loc[waittime.Account == a]\n",
    "        temp1 = temp.groupby(['yearmonth'], as_index=False).agg({'Totalres':'sum','Jcount':'sum'})\n",
    "        print(temp1['yearmonth'])\n",
    "        xticks = ['2019-3','2019-4','2019-5','2019-6','2019-7','2019-8','2019-9','2019-10','2019-11','2019-12','2020-1','2020-2','2020-3','2020-4','2020-5','2020-6','2020-7','2020-8','2020-9','2020-10','2020-11','2020-12','2021-1','2021-2','2021-3','2021-4','2021-5','2021-6','2021-7','2021-8','2021-9','2021-10','2021-11','2021-12','2022-1']\n",
    "        xticks1 =  pd.to_datetime(xticks).to_period('M')\n",
    "        yearmonth = temp1['yearmonth'].tolist()\n",
    "        for xtick in xticks1:\n",
    "            if xtick not in yearmonth:\n",
    "                temp1 = temp1.append({'yearmonth': xtick}, ignore_index=True)\n",
    "                temp1['Jcount'] = temp1['Jcount'].fillna(0)\n",
    "                temp1['Totalres'] = temp1['Totalres'].fillna(0)\n",
    "        temp1 = temp1.sort_values('yearmonth')\n",
    "        temp1['Totalres'] = temp1['Totalres']/3600\n",
    "        temp1['Totalres'] = temp1['Totalres'].astype(int)\n",
    "        fig = plt.figure() # Create matplotlib figure\n",
    "        ax = fig.add_subplot(111)\n",
    "        ax.set_title(\"Total resources for jobs every month for the account {} in hours\".format(a,size=22))\n",
    "        width = .4 \n",
    "        bar1 = np.arange(len(temp1.yearmonth))\n",
    "        bar2 = [ i + width for i in bar1]\n",
    "        ax.bar(bar1, temp1.Totalres, width, color='g')\n",
    "        ax2 = ax.twinx() \n",
    "        ax2.bar(bar2, temp1.Jcount,width, color='b')\n",
    "        ax.set_xticks(bar1 + width/2,temp1.yearmonth)\n",
    "        fig.set_figheight(10)\n",
    "        fig.set_figwidth(60)\n",
    "        for p in ax.patches:\n",
    "            ax.annotate(str(p.get_height()), (p.get_x(), p.get_height() * 1.05),fontsize=22,rotation = 90)\n",
    "        for p in ax2.patches:\n",
    "            ax2.annotate(str(p.get_height()), (p.get_x(), p.get_height() * 1.05),fontsize=22,rotation = 90)\n",
    "        ax.set_xlabel('Months', fontsize=18)\n",
    "        ax.set_ylabel('Total resources in hours', fontsize=18)\n",
    "        ax2.set_ylabel('total jobs', fontsize=18)\n",
    "        for tick in ax.get_yticklabels():\n",
    "            tick.set_fontsize(\"22\")\n",
    "        for tick in ax.get_xticklabels():\n",
    "            tick.set_fontsize(\"20\")\n",
    "        for tick in ax2.get_yticklabels():\n",
    "            tick.set_fontsize(\"22\")\n",
    "        plt.show()\n",
    "        if not os.path.exists('Cluster_Usage'):\n",
    "            os.makedirs('Cluster_Usage')\n",
    "        fig.savefig('Cluster_Usage/{}_Cluster_Usage_hours.png'.format(a),bbox_inches='tight', dpi=100)\n",
    "                \n",
    "            "
   ]
  },
  {
   "cell_type": "code",
   "execution_count": null,
   "id": "a334deae-8e3d-4317-bba4-5c33b4980dbf",
   "metadata": {
    "scrolled": true,
    "tags": []
   },
   "outputs": [],
   "source": [
    "account = waittime['Account'].unique()\n",
    "account = account.tolist()\n",
    "functioncluster3(account)"
   ]
  },
  {
   "cell_type": "code",
   "execution_count": null,
   "id": "b627eebf-da51-4933-9dec-4b5146f24163",
   "metadata": {},
   "outputs": [],
   "source": [
    "def functioncluster2():\n",
    "    temp = waittime.copy()\n",
    "    temp1 = temp.groupby(['yearmonth'], as_index=False).agg({'Totalres':'sum','Jcount':'sum'})\n",
    "    temp1 = temp1.sort_values('yearmonth')\n",
    "    temp1['Totalres'] = temp1['Totalres']/3600\n",
    "    temp1['Totalres'] = temp1['Totalres'].astype(int)\n",
    "    fig = plt.figure() # Create matplotlib figure\n",
    "    ax = fig.add_subplot(111)\n",
    "    width = .4 \n",
    "    bar1 = np.arange(len(temp1.yearmonth))\n",
    "    bar2 = [ i + width for i in bar1]\n",
    "    ax.bar(bar1, temp1.Totalres, width, color='g')\n",
    "    ax2 = ax.twinx() \n",
    "    ax2.bar(bar2, temp1.Jcount,width, color='b')\n",
    "    ax.set_xticks(bar1 + width/2,temp1.yearmonth)\n",
    "    fig.set_figheight(10)\n",
    "    fig.set_figwidth(60)\n",
    "    for p in ax.patches:\n",
    "        ax.annotate(str(p.get_height()), (p.get_x(), p.get_height() * 1.05),fontsize=22,rotation = 90)\n",
    "    for p in ax2.patches:\n",
    "        ax2.annotate(str(p.get_height()), (p.get_x(), p.get_height() * 1.05),fontsize=22,rotation = 90)\n",
    "    ax.set_xlabel('Months', fontsize=18)\n",
    "    ax.set_ylabel('Total resources in hours', fontsize=18)\n",
    "    ax2.set_ylabel('total jobs', fontsize=18)\n",
    "    for tick in ax.get_yticklabels():\n",
    "        tick.set_fontsize(\"22\")\n",
    "    for tick in ax.get_xticklabels():\n",
    "        tick.set_fontsize(\"20\")\n",
    "    for tick in ax2.get_yticklabels():\n",
    "        tick.set_fontsize(\"22\")\n",
    "    # ax.set(xticks = l.month, xticklabels=month_name)\n",
    "    plt.show()\n",
    "    if not os.path.exists('Cluster_Usage'):\n",
    "        os.makedirs('Cluster_Usage')\n",
    "    fig.savefig('Cluster_Usage/Cluster_Usage_all.png',bbox_inches='tight', dpi=100)             \n",
    "            "
   ]
  },
  {
   "cell_type": "code",
   "execution_count": null,
   "id": "a24adc01-71bc-4d90-8301-5907ed04d28e",
   "metadata": {},
   "outputs": [],
   "source": [
    "functioncluster2()"
   ]
  },
  {
   "cell_type": "code",
   "execution_count": null,
   "id": "1c8b7ec6-e237-4ec7-bd6f-7ab0113205c8",
   "metadata": {},
   "outputs": [],
   "source": [
    "def functioncluster3():\n",
    "    temp = waittime.copy()\n",
    "    temp1 = temp.groupby(['yearmonth'], as_index=False).agg({'Totalres':'sum','Jcount':'sum'})\n",
    "    temp1 = temp1.sort_values('yearmonth')\n",
    "    temp1['Totalres'] = temp1['Totalres'].astype(int)\n",
    "    \n",
    "    fig = plt.figure() # Create matplotlib figure\n",
    "    ax = fig.add_subplot(111)\n",
    "    width = .4 \n",
    "    bar1 = np.arange(len(temp1.yearmonth))\n",
    "    ax.bar(bar1, temp1.Totalres, width, color='g')\n",
    "    fig.set_figheight(10)\n",
    "    fig.set_figwidth(60)\n",
    "    for p in ax.patches:\n",
    "        ax.annotate(str(p.get_height()), (p.get_x(), p.get_height() * 1.05),fontsize=22,rotation = 90)\n",
    "    ax.set_xlabel('Months', fontsize=18)\n",
    "    ax.set_ylabel('Total resources in hours', fontsize=18)\n",
    "    for tick in ax.get_yticklabels():\n",
    "        tick.set_fontsize(\"22\")\n",
    "    for tick in ax.get_xticklabels():\n",
    "        tick.set_fontsize(\"20\")\n",
    "    # ax.set(xticks = l.month, xticklabels=month_name)\n",
    "    plt.show()\n",
    "    if not os.path.exists('Cluster_Usage'):\n",
    "        os.makedirs('Cluster_Usage')\n",
    "    fig.savefig('Cluster_Usage/Cluster_Usage_all.png',bbox_inches='tight', dpi=100)             \n",
    "            "
   ]
  },
  {
   "cell_type": "code",
   "execution_count": null,
   "id": "b73fdf8f-b35c-4ab2-897f-974bddcdeae7",
   "metadata": {},
   "outputs": [],
   "source": [
    "functioncluster3()"
   ]
  },
  {
   "cell_type": "code",
   "execution_count": null,
   "id": "57c2cf58-d783-4424-9902-8ad9e92f8686",
   "metadata": {},
   "outputs": [],
   "source": []
  }
 ],
 "metadata": {
  "kernelspec": {
   "display_name": "Python 3 (ipykernel)",
   "language": "python",
   "name": "python3"
  },
  "language_info": {
   "codemirror_mode": {
    "name": "ipython",
    "version": 3
   },
   "file_extension": ".py",
   "mimetype": "text/x-python",
   "name": "python",
   "nbconvert_exporter": "python",
   "pygments_lexer": "ipython3",
   "version": "3.9.12"
  }
 },
 "nbformat": 4,
 "nbformat_minor": 5
}
