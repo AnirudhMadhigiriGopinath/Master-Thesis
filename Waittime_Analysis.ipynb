{
 "cells": [
  {
   "cell_type": "code",
   "execution_count": null,
   "id": "8735fa26-b596-4fd4-bcd5-6fde3be78d2e",
   "metadata": {},
   "outputs": [],
   "source": [
    "import pandas as pd\n",
    "import numpy as np\n",
    "pd.set_option('display.max_columns', 50000)\n",
    "pd.set_option('display.max_rows', 1000000)\n",
    "pd.set_option('display.max_colwidth',None)\n",
    "pd.set_option('display.float_format',lambda x: '%.4f' % x)\n",
    "import warnings\n",
    "warnings.filterwarnings(\"ignore\")\n",
    "import matplotlib.pyplot as plt\n",
    "import seaborn as sns\n",
    "import plotly as pl\n",
    "import plotly.express as px\n",
    "import plotly.graph_objects as go\n",
    "from matplotlib.pyplot import figure\n",
    "import matplotlib.pylab as pll\n",
    "from collections import Counter\n",
    "from datetime import datetime\n",
    "import time\n",
    "import random\n",
    "import math\n",
    "import os\n",
    "import itertools\n",
    "from matplotlib import ticker\n",
    "import matplotlib.colors as colors\n",
    "from pylab import rcParams"
   ]
  },
  {
   "cell_type": "code",
   "execution_count": null,
   "id": "8ff52e08-8a18-4cc6-85cd-b2d9eae3765f",
   "metadata": {
    "scrolled": true,
    "tags": []
   },
   "outputs": [],
   "source": [
    "slurm1 = pd.read_csv('SlurmPlot2.csv')\n",
    "slurm1.tail(100)"
   ]
  },
  {
   "cell_type": "code",
   "execution_count": null,
   "id": "4d0be920-0f2e-4d9a-8cc0-840a92f685cc",
   "metadata": {},
   "outputs": [],
   "source": [
    "slurm1.head(2)"
   ]
  },
  {
   "cell_type": "code",
   "execution_count": null,
   "id": "41ec55bc-ee04-43af-bc95-fd31ae4ff652",
   "metadata": {
    "scrolled": true,
    "tags": []
   },
   "outputs": [],
   "source": [
    "slurm = slurm1[['UID','JobID','Account','Submittimestamp','Start','End','Eligibletimestamp','Starttimestamp','Endtimestamp','AllocNodes','AllocCPUS','TimelimitRaw', 'NNodes','Submit','State','ExitCode','QOS','QOSRAW','Partition','TRESAllocMem','TRESINMaxUsagemem','TotalCPUtime']]"
   ]
  },
  {
   "cell_type": "code",
   "execution_count": null,
   "id": "ea9e8ee3-7746-441a-9c21-b4690a5b2e06",
   "metadata": {},
   "outputs": [],
   "source": [
    "slurm = slurm[slurm[\"Starttimestamp\"] != 'Unknown']\n",
    "slurm = slurm[slurm[\"Endtimestamp\"] != 'Unknown']\n",
    "slurm['JobLen'] = slurm['Endtimestamp'].astype(float) - slurm['Starttimestamp'].astype(float)\n",
    "slurm['Totalres'] = slurm['JobLen'] * slurm['NNodes']\n",
    "slurm['JobID'] = slurm['JobID'].astype(str)"
   ]
  },
  {
   "cell_type": "code",
   "execution_count": null,
   "id": "cb159f57-b42a-42d1-b74a-8705378a51a0",
   "metadata": {
    "scrolled": true,
    "tags": []
   },
   "outputs": [],
   "source": [
    "discard = [\".\"]\n",
    "waittime = slurm[~slurm.JobID.str.contains('|'.join(discard),regex = False)]\n",
    "waittime['Jcount'] = 1\n",
    "waittime['Waittime'] = waittime['Starttimestamp'].astype(float) - waittime['Submittimestamp'].astype(float)"
   ]
  },
  {
   "cell_type": "code",
   "execution_count": null,
   "id": "c631f98d-3f66-4718-ba9a-51e158a2e9b0",
   "metadata": {},
   "outputs": [],
   "source": [
    "waittime['year'] = pd.DatetimeIndex(waittime['Submit']).year\n",
    "waittime['month'] = pd.DatetimeIndex(waittime['Submit']).month\n",
    "waittime['year'] = waittime['year'].apply(str)\n",
    "waittime['month'] = waittime['month'].apply(str)\n",
    "waittime['yearmonth'] = waittime['year'] + '-' + waittime['month']"
   ]
  },
  {
   "cell_type": "code",
   "execution_count": null,
   "id": "70b6ed7f-f6da-484b-8823-dcf0f8b3e5bb",
   "metadata": {},
   "outputs": [],
   "source": [
    "waittime.head()"
   ]
  },
  {
   "cell_type": "code",
   "execution_count": null,
   "id": "6c45838d-e3bc-484c-904e-859d19899d1f",
   "metadata": {},
   "outputs": [],
   "source": [
    "waittime = waittime.loc[waittime.JobLen >= 0]"
   ]
  },
  {
   "cell_type": "code",
   "execution_count": null,
   "id": "7168d6c8-419c-491a-a4f3-e37244087533",
   "metadata": {},
   "outputs": [],
   "source": [
    "waittime.info()"
   ]
  },
  {
   "cell_type": "markdown",
   "id": "7f98778b-d3df-4a9f-97fa-ab40321ebabd",
   "metadata": {},
   "source": [
    "# Wait Time Analysis"
   ]
  },
  {
   "cell_type": "markdown",
   "id": "f7d30c64-c1d2-4ebe-9334-9fabf9a2675c",
   "metadata": {},
   "source": [
    "## Jobs count every year and total waittime"
   ]
  },
  {
   "cell_type": "code",
   "execution_count": null,
   "id": "56311e2a-9723-4a60-b812-7a8218d52519",
   "metadata": {},
   "outputs": [],
   "source": [
    "def function2(years):\n",
    "    coun = 0\n",
    "    df_list = []\n",
    "    df_list2 = []\n",
    "    varlist = []\n",
    "    for i in years:\n",
    "        temp = waittime[waittime.yearmonth.str.contains(i,regex = False)]\n",
    "        df_list.append(temp)\n",
    "    for j in df_list:\n",
    "        temp1 = j.groupby(['month','year'], as_index=False)['Waittime'].mean()\n",
    "        temp1['Waittime'] = temp1['Waittime'] / 3600\n",
    "        temp1['Waittime'] = temp1['Waittime'].astype(int)\n",
    "        temp1['month'] = temp1['month'].apply(int)\n",
    "        temp1 = temp1.sort_values('month')\n",
    "        temp2 = j.Waittime.std()\n",
    "        varlist.append(temp2)\n",
    "        df_list2.append(temp1)\n",
    "    for l in df_list2:\n",
    "        count = 0\n",
    "        num = l.month\n",
    "        datetime_object = []\n",
    "        month_name = []\n",
    "        for m in num:\n",
    "            datetime_object.append(datetime.strptime(str(m), \"%m\"))\n",
    "        for d in datetime_object:\n",
    "            month_name.append(d.strftime(\"%b\"))\n",
    "        fig, (ax, ax_table) = plt.subplots(nrows=2)\n",
    "        ax_table.axis('off')\n",
    "        ax.grid(False)\n",
    "        ax.set_title(\"Mean Waittime every month for the year {} in hours\".format(str(l.year[0])),size=18)\n",
    "        width = .5 \n",
    "        ax.bar(l.month, l.Waittime, width, color='g')\n",
    "        fig.set_figheight(10)\n",
    "        fig.set_figwidth(16)\n",
    "        for p in ax.patches:\n",
    "            ax.annotate(str(p.get_height()), (p.get_x() * 1.005, p.get_height() * 1.005),fontsize=16)\n",
    "        ax.set_xlabel('Months', fontsize=16)\n",
    "        ax.set_ylabel('Waittime in hours', fontsize=16)\n",
    "        ax.set(xticks = l.month)\n",
    "        ax.set_xticklabels(month_name, fontsize=16)\n",
    "        for tick in ax.get_yticklabels():\n",
    "            tick.set_fontsize(\"16\")\n",
    "        ax.get_yaxis().get_major_formatter().labelOnlyBase = False\n",
    "        if len(varlist) != 0:\n",
    "            for index,li in enumerate(varlist):\n",
    "                if count == 1:\n",
    "                    break\n",
    "                props = dict(boxstyle='round', facecolor='wheat', alpha=0.5)\n",
    "                textstr = '\\n'.join((\n",
    "                r'$SD= %.2f$' % (li, ),))\n",
    "                ax.text(0.05, 0.95, textstr, transform=ax.transAxes, fontsize=14,\n",
    "                verticalalignment='top', bbox=props)\n",
    "                plt.subplots_adjust(left=0, bottom=0)\n",
    "                count = count + 1\n",
    "                varlist.pop(0)\n",
    "            plt.show()\n",
    "            coun = coun + 1\n",
    "            if not os.path.exists('Waittime_each_Year'):\n",
    "                os.makedirs('Waittime_each_Year')\n",
    "            fig.savefig('Waittime_each_Year/{}.png'.format(str(coun)),bbox_inches='tight', dpi=100)\n",
    "                \n",
    "            "
   ]
  },
  {
   "cell_type": "code",
   "execution_count": null,
   "id": "093eb460-f8a2-4262-9724-6bd8cef3490b",
   "metadata": {},
   "outputs": [],
   "source": [
    "years = ['2019', '2020', '2021', '2022']\n",
    "function2(years)"
   ]
  },
  {
   "cell_type": "markdown",
   "id": "0fbed3de-deea-4e01-a93d-e92453807021",
   "metadata": {},
   "source": [
    "## Number of jobs according to waittime every year"
   ]
  },
  {
   "cell_type": "code",
   "execution_count": null,
   "id": "0d49191c-b7c3-4dec-a4dc-8357b2298c21",
   "metadata": {},
   "outputs": [],
   "source": [
    "def f(row):\n",
    "    if row['Waittime'] <= 300:\n",
    "        val = 1\n",
    "    else:\n",
    "        val = 0\n",
    "    return val\n",
    "waittime['upto5mins'] = waittime.apply(f,axis =1)\n",
    "def f1(row):\n",
    "    if row['Waittime'] <= 3600 and row['Waittime'] > 300:\n",
    "        val = 1\n",
    "    else:\n",
    "        val = 0\n",
    "    return val\n",
    "waittime['uptoonehour'] = waittime.apply(f1,axis =1)\n",
    "def f2(row):\n",
    "    if row['Waittime'] <= 21600 and row['Waittime'] > 3600:\n",
    "        val = 1\n",
    "    else:\n",
    "        val = 0\n",
    "    return val\n",
    "waittime['uptosix'] = waittime.apply(f2,axis =1)\n",
    "\n",
    "def f3(row):\n",
    "    if row['Waittime'] > 21600 and row['Waittime'] <= 43200:\n",
    "        val = 1\n",
    "    else:\n",
    "        val = 0\n",
    "    return val\n",
    "waittime['uptotwelve'] = waittime.apply(f3,axis =1)\n",
    "def f4(row):\n",
    "    if row['Waittime'] > 604800:\n",
    "        val = 1\n",
    "    else:\n",
    "        val = 0\n",
    "    return val\n",
    "waittime['morethanweek'] = waittime.apply(f4,axis =1)\n",
    "def f5(row):\n",
    "    if row['Waittime'] == 0:\n",
    "        val = 1\n",
    "    else:\n",
    "        val = 0\n",
    "    return val\n",
    "waittime['nowaittime'] = waittime.apply(f5,axis =1)\n",
    "def f6(row):\n",
    "    if row['Waittime'] > 86400 and row['Waittime']<= 604800:\n",
    "        val = 1\n",
    "    else:\n",
    "        val = 0\n",
    "    return val\n",
    "waittime['uptoweek'] = waittime.apply(f6,axis =1)\n",
    "def f7(row):\n",
    "    if row['Waittime'] > 43200 and row['Waittime']<= 86400:\n",
    "        val = 1\n",
    "    else:\n",
    "        val = 0\n",
    "    return val\n",
    "waittime['uptoday'] = waittime.apply(f7,axis =1)"
   ]
  },
  {
   "cell_type": "code",
   "execution_count": null,
   "id": "b9193d5f-f62e-4af7-b161-733bc926d731",
   "metadata": {},
   "outputs": [],
   "source": [
    "def function5(years):\n",
    "    coun = 0\n",
    "    df_list = []\n",
    "    df_list2 = []\n",
    "    for i in years:\n",
    "        temp = waittime[waittime.yearmonth.str.contains(i,regex = False)]\n",
    "        df_list.append(temp)\n",
    "    for j in df_list:\n",
    "        temp1 = j.groupby(['month','year'], as_index=False).agg({'Jcount':'sum','upto5mins':'sum','uptoonehour':'sum',\n",
    "                                                      'uptotwelve':'sum','uptoweek':'sum','uptoday':'sum','morethanweek':'sum','uptosix':'sum' })\n",
    "        temp1['month'] = temp1['month'].apply(int)\n",
    "        temp1 = temp1.sort_values('month')\n",
    "        df_list2.append(temp1)\n",
    "    for l in df_list2:\n",
    "        count = 0\n",
    "        num = l.month\n",
    "        datetime_object = []\n",
    "        month_name = []\n",
    "        for m in num:\n",
    "            datetime_object.append(datetime.strptime(str(m), \"%m\"))\n",
    "        for d in datetime_object:\n",
    "            month_name.append(d.strftime(\"%b\"))\n",
    "        fig,ax = plt.subplots()\n",
    "        ax.grid(False)\n",
    "        ax.set_title(\"Number of jobs according to waittime duration for the year {} \".format(str(l.year[0])),size=20)\n",
    "        width = .5 \n",
    "        # ax.bar(l.month, l.Jcount, width, color='w', alpha = 0.8)\n",
    "        ax.bar(l.month, l.upto5mins, width, color='blue',alpha = 0.5)\n",
    "        ax.bar(l.month, l.uptoonehour, width,bottom = l.upto5mins, color='green',alpha = 0.5)\n",
    "        ax.bar(l.month, l.uptosix, width,bottom = l.upto5mins + l.uptoonehour,  color='m',alpha = 0.5)\n",
    "        ax.bar(l.month, l.uptotwelve, width,bottom = l.upto5mins + l.uptoonehour + l.uptosix,  color='brown',alpha = 0.5)\n",
    "        ax.bar(l.month, l.uptoday, width,bottom = l.upto5mins + l.uptoonehour + l.uptosix + l.uptotwelve,  color='r',alpha = 0.5)\n",
    "        ax.bar(l.month, l.uptoweek, width,bottom = l.upto5mins + l.uptoonehour + l.uptosix + l.uptotwelve + l.uptoday , color='yellow',alpha = 0.5)\n",
    "        ax.bar(l.month, l.morethanweek, width, bottom = l.upto5mins + l.uptoonehour + l.uptosix + l.uptotwelve + l.uptoday + l.uptoweek ,color='k',alpha = 0.5)\n",
    "        \n",
    "        fig.set_figheight(18)\n",
    "        fig.set_figwidth(16)\n",
    "        # for p in ax.patches:\n",
    "        #     ax.annotate(str(p.get_height()), (p.get_x() * 1.005, p.get_height() * 1.005),fontsize=12)\n",
    "        ax.set_xlabel('Months', fontsize=20)\n",
    "        ax.set_ylabel('Number of jobs', fontsize=20)\n",
    "        ax.set(xticks = l.month)\n",
    "        ax.set_xticklabels(month_name, fontsize=18)\n",
    "        for tick in ax.get_yticklabels():\n",
    "            tick.set_fontsize(\"18\")\n",
    "        plt.subplots_adjust(left=0, bottom=0)\n",
    "        plt.legend([\"Waittime upto 5 minutes\",'Waittime from 5 to 60 minutes','Waittime from hour to 6 hours','Waittime from 6 to 12 hours','Waittime from 12 to 24 hours','Waittime from 1 day to 1 week','Waittime for more than a week' ],prop={'size': 20})\n",
    "        plt.show()\n",
    "        coun = coun + 1\n",
    "        if not os.path.exists('Waittime_no_of_jobs'):\n",
    "            os.makedirs('Waittime_no_of_jobs')\n",
    "        fig.savefig('Waittime_no_of_jobs/{}.png'.format(str(coun)),bbox_inches='tight', dpi=100)"
   ]
  },
  {
   "cell_type": "code",
   "execution_count": null,
   "id": "10993364-805f-486e-9fe9-7941449a438d",
   "metadata": {},
   "outputs": [],
   "source": [
    "years = ['2019', '2020', '2021', '2022']\n",
    "function5(years)"
   ]
  },
  {
   "cell_type": "code",
   "execution_count": null,
   "id": "1800c9a0-7c3e-4b4a-a5f0-0cddbe76aabb",
   "metadata": {},
   "outputs": [],
   "source": [
    "# def function6(years):\n",
    "#     coun = 100\n",
    "#     df_list = []\n",
    "#     df_list2 = []\n",
    "#     for i in years:\n",
    "#         temp = waittime[waittime.yearmonth.str.contains(i,regex = False)]\n",
    "#         df_list.append(temp)\n",
    "#     for j in df_list:\n",
    "#         temp1 = j.groupby(['month','year'], as_index=False).agg({'Jcount':'sum','upto5mins':'sum','uptoonehour':'sum',\n",
    "#                                                       'uptotwelve':'sum','uptoweek':'sum','morethanweek':'sum','uptosix':'sum','uptoday':'sum' })\n",
    "#         temp1['month'] = temp1['month'].apply(int)\n",
    "#         temp1 = temp1.sort_values('month')\n",
    "#         df_list2.append(temp1)\n",
    "#     for l in df_list2:\n",
    "#         count = 0\n",
    "#         num = l.month\n",
    "#         datetime_object = []\n",
    "#         month_name = []\n",
    "#         for m in num:\n",
    "#             datetime_object.append(datetime.strptime(str(m), \"%m\"))\n",
    "#         for d in datetime_object:\n",
    "#             month_name.append(d.strftime(\"%b\"))\n",
    "#         fig,ax = plt.subplots()\n",
    "#         ax.grid(False)\n",
    "#         ax.set_title(\"number of jobs according to waittime duration for the year {}\".format(l.year[0]),size=18)\n",
    "#         width = .5 \n",
    "#         ax.bar(l.month, l.Jcount, width, color='c', alpha = 0.2)\n",
    "#         ax.bar(l.month, l.uptosix, width, color='g',alpha = 0.3)\n",
    "#         ax.bar(l.month, l.uptoday, width, color='b',alpha = 0.3)\n",
    "#         ax.set(xticks = l.month, xticklabels=month_name)\n",
    "#         fig.set_figheight(10)\n",
    "#         fig.set_figwidth(16)\n",
    "#         for p in ax.patches:\n",
    "#             ax.annotate(str(p.get_height()), (p.get_x() * 1.005, p.get_height() * 1.005),fontsize=12)\n",
    "#         ax.set_xlabel('Months', fontsize=14)\n",
    "#         ax.set_ylabel('Number of jobs', fontsize=14)\n",
    "#         plt.subplots_adjust(left=0, bottom=0)\n",
    "#         plt.legend([\"Total Jobs\", \"Waittime upto 6 hours\",'Waittime from 6 to 24 hours'])\n",
    "#         coun = coun + 1\n",
    "#         if not os.path.exists('Waittime_no_of_jobs'):\n",
    "#             os.makedirs('Waittime_no_of_jobs')\n",
    "#         fig.savefig('Waittime_no_of_jobs/{}.png'.format(str(coun)),bbox_inches='tight', dpi=100)\n",
    "        \n",
    "#         plt.show()"
   ]
  },
  {
   "cell_type": "code",
   "execution_count": null,
   "id": "48175c63-9133-4c8b-974b-1acb9caa27d9",
   "metadata": {},
   "outputs": [],
   "source": [
    "# years = ['2019', '2020', '2021', '2022']\n",
    "# function6(years)"
   ]
  },
  {
   "cell_type": "code",
   "execution_count": null,
   "id": "7023c31d-90b5-4bff-85f8-d0ea7b9fe765",
   "metadata": {},
   "outputs": [],
   "source": [
    "# years = ['2019', '2020', '2021', '2022']\n",
    "# function7(years)"
   ]
  },
  {
   "cell_type": "markdown",
   "id": "49ef744d-838c-41ac-9d41-1a8634fbfd64",
   "metadata": {},
   "source": [
    "## Mean waittime according to project"
   ]
  },
  {
   "cell_type": "code",
   "execution_count": null,
   "id": "3b8cf887-2fb8-499f-b8ac-fc15aa2e95ee",
   "metadata": {},
   "outputs": [],
   "source": [
    "waittime_project = waittime.groupby('Account', as_index=False).agg({'Waittime':'mean','Jcount':'sum'})\n",
    "waittime_project['Account'] = waittime_project['Account'].apply(int)\n",
    "waittime_project = waittime_project.sort_values('Account')"
   ]
  },
  {
   "cell_type": "code",
   "execution_count": null,
   "id": "8c0a5431-dfd7-42e2-bbdd-87a26d1b0d58",
   "metadata": {},
   "outputs": [],
   "source": [
    "waittime_project1 = waittime_project.loc[waittime_project.Account <= 40]"
   ]
  },
  {
   "cell_type": "code",
   "execution_count": null,
   "id": "528eb1e3-a120-4193-a2ac-ce242d48c65e",
   "metadata": {},
   "outputs": [],
   "source": [
    "from pylab import rcParams\n",
    "rcParams['figure.figsize'] =38, 10\n",
    "waittime_project1['Account'] = waittime_project1['Account'].apply(str)\n",
    "waittime_project1['Waittime'] = waittime_project1['Waittime'] / 3600\n",
    "plots = sns.barplot(x ='Account',y = 'Waittime',data =  waittime_project1)\n",
    "plots.set_title('Mean waittime according to different projects',size = 22)\n",
    "for bar in plots.patches:\n",
    "    plots.annotate(format(bar.get_height(),'.2f'),\n",
    "                   (bar.get_x() + bar.get_width() / 2,\n",
    "                    bar.get_height()), ha='center', va='center',\n",
    "                   size=18, xytext=(0, 8),\n",
    "                   textcoords='offset points',rotation = 0)\n",
    "plt.xticks(fontsize=22)\n",
    "plt.yticks(fontsize=22)\n",
    "plt.xlabel('Account',size = 22)\n",
    "plt.ylabel('Wait time in hours',size = 22)\n",
    "if not os.path.exists('Wait_Time_resources'):\n",
    "    os.makedirs('Wait_Time_resources')\n",
    "plt.savefig('Wait_Time_resources/Wait_Time_project1.png')"
   ]
  },
  {
   "cell_type": "code",
   "execution_count": null,
   "id": "5da73c5b-d632-4763-a58d-e6c12c58c88d",
   "metadata": {},
   "outputs": [],
   "source": [
    "waittime_project2 = waittime_project.loc[(waittime_project.Account >40) & (waittime_project.Account <= 82)]"
   ]
  },
  {
   "cell_type": "code",
   "execution_count": null,
   "id": "269a1ae1-e847-4e6b-a332-f44ee4213604",
   "metadata": {},
   "outputs": [],
   "source": [
    "from pylab import rcParams\n",
    "rcParams['figure.figsize'] =38, 10\n",
    "waittime_project2['Account'] = waittime_project2['Account'].apply(str)\n",
    "waittime_project2['Waittime'] = waittime_project2['Waittime'] / 3600\n",
    "plots = sns.barplot(x ='Account',y = 'Waittime',data =  waittime_project2)\n",
    "plots.set_title('Mean waittime according to different projects',size = 22)\n",
    "for bar in plots.patches:\n",
    "    plots.annotate(format(bar.get_height(),'.2f'),\n",
    "                   (bar.get_x() + bar.get_width() / 2,\n",
    "                    bar.get_height()), ha='center', va='center',\n",
    "                   size=18, xytext=(0, 8),\n",
    "                   textcoords='offset points',rotation = 0)\n",
    "plt.xticks(fontsize=22)\n",
    "plt.yticks(fontsize=22)\n",
    "plt.xlabel('Account',size = 22)\n",
    "plt.ylabel('Wait time in hours',size = 22)\n",
    "if not os.path.exists('Wait_Time_resources'):\n",
    "    os.makedirs('Wait_Time_resources')\n",
    "plt.savefig('Wait_Time_resources/Wait_Time_project2.png')"
   ]
  },
  {
   "cell_type": "markdown",
   "id": "55d061a5-57b5-4d31-9b42-416d639296fd",
   "metadata": {},
   "source": [
    "## Job count according to project"
   ]
  },
  {
   "cell_type": "code",
   "execution_count": null,
   "id": "3914c1d9-6846-4a25-9903-5daefc04837d",
   "metadata": {},
   "outputs": [],
   "source": [
    "from pylab import rcParams\n",
    "rcParams['figure.figsize'] =38, 10\n",
    "waittime_project1['Account'] = waittime_project1['Account'].apply(str)\n",
    "plots = sns.barplot(x ='Account',y = 'Jcount',data =  waittime_project1)\n",
    "plots.set_title('Total jobs according to different projects',size = 22)\n",
    "for bar in plots.patches:\n",
    "    plots.annotate(int(bar.get_height()),\n",
    "                   (bar.get_x() + bar.get_width() / 2,\n",
    "                    bar.get_height()), ha='center', va='center',\n",
    "                   size=18, xytext=(0, 8),\n",
    "                   textcoords='offset points',rotation = 0)\n",
    "plt.xticks(fontsize=22)\n",
    "plt.yticks(fontsize=22)\n",
    "plt.xlabel('Account',size = 22)\n",
    "plt.ylabel('Jobs count',size = 22)\n",
    "if not os.path.exists('Wait_Time_resources'):\n",
    "    os.makedirs('Wait_Time_resources')\n",
    "plt.savefig('Wait_Time_resources/Jobs_count_project1.png')"
   ]
  },
  {
   "cell_type": "code",
   "execution_count": null,
   "id": "559c618c-855f-4052-aba3-7532acbecfe7",
   "metadata": {},
   "outputs": [],
   "source": [
    "from pylab import rcParams\n",
    "rcParams['figure.figsize'] =38, 10\n",
    "waittime_project2['Account'] = waittime_project2['Account'].apply(str)\n",
    "plots = sns.barplot(x ='Account',y = 'Jcount',data =  waittime_project2)\n",
    "plots.set_title('Total jobs according to different projects',size = 22)\n",
    "for bar in plots.patches:\n",
    "    plots.annotate(int(bar.get_height()),\n",
    "                   (bar.get_x() + bar.get_width() / 2,\n",
    "                    bar.get_height()), ha='center', va='center',\n",
    "                   size=18, xytext=(0, 8),\n",
    "                   textcoords='offset points',rotation = 0)\n",
    "plt.xticks(fontsize=22)\n",
    "plt.yticks(fontsize=22)\n",
    "plt.xlabel('Account',size = 22)\n",
    "plt.ylabel('Jobs count',size = 22)\n",
    "if not os.path.exists('Wait_Time_resources'):\n",
    "    os.makedirs('Wait_Time_resources')\n",
    "plt.savefig('Wait_Time_resources/Jobs_count_project2.png')"
   ]
  },
  {
   "cell_type": "markdown",
   "id": "c3fab179-e0e8-45be-bea2-928ca34ca64e",
   "metadata": {},
   "source": [
    "## Wait time according to number of nodes"
   ]
  },
  {
   "cell_type": "code",
   "execution_count": null,
   "id": "50476b8e-09b9-4c7d-8dd7-9faebe3788d1",
   "metadata": {},
   "outputs": [],
   "source": [
    "waittime_jobsize = waittime.groupby('NNodes', as_index=False).agg({'Waittime':'mean','Jcount':'sum'})\n",
    "waittime_jobsize['NNodes'] = waittime_jobsize['NNodes'].apply(int)\n",
    "waittime_jobsize = waittime_jobsize.sort_values('NNodes')\n"
   ]
  },
  {
   "cell_type": "code",
   "execution_count": null,
   "id": "b2ebc476-be30-42e1-a8bf-a723937d3e89",
   "metadata": {},
   "outputs": [],
   "source": [
    "waittime_jobsize1 = waittime_jobsize.loc[waittime_jobsize.NNodes <= 50]"
   ]
  },
  {
   "cell_type": "code",
   "execution_count": null,
   "id": "f291a4d2-90dd-45af-85b1-4451699da155",
   "metadata": {},
   "outputs": [],
   "source": [
    "from pylab import rcParams\n",
    "rcParams['figure.figsize'] = 30, 10\n",
    "waittime_jobsize1['NNodes'] = waittime_jobsize1['NNodes'].apply(str)\n",
    "waittime_jobsize1['Waittime'] = waittime_jobsize1['Waittime'] / 3600\n",
    "plots = sns.barplot(x ='NNodes',y = 'Waittime',data =  waittime_jobsize1)\n",
    "plots.set_title('Mean waittime according to different job sizes',size = 22)\n",
    "for bar in plots.patches:\n",
    "    plots.annotate(format(bar.get_height(), '.2f'),\n",
    "                   (bar.get_x() + bar.get_width() / 2,\n",
    "                    bar.get_height()), ha='center', va='center',\n",
    "                   size=18, xytext=(0, 8),\n",
    "                   textcoords='offset points',rotation = 20)\n",
    "plt.xticks(fontsize=22)\n",
    "plt.yticks(fontsize=22)\n",
    "plt.xlabel('Job size',size = 22)\n",
    "plt.ylabel('Wait time in hours',size = 22)\n",
    "if not os.path.exists('Wait_Time_resources'):\n",
    "    os.makedirs('Wait_Time_resources')\n",
    "plt.savefig('Wait_Time_resources/Wait_Time_Job_Size1.png')"
   ]
  },
  {
   "cell_type": "code",
   "execution_count": null,
   "id": "e656784b-c883-4da9-a43b-e0f3bff861b7",
   "metadata": {},
   "outputs": [],
   "source": [
    "waittime_jobsize2 = waittime_jobsize.loc[waittime_jobsize.NNodes > 50]"
   ]
  },
  {
   "cell_type": "code",
   "execution_count": null,
   "id": "a66b2a13-c127-4568-86b1-e14d4a172340",
   "metadata": {},
   "outputs": [],
   "source": []
  },
  {
   "cell_type": "code",
   "execution_count": null,
   "id": "cae40a9c-b8a0-4773-a9ac-d4dd2711da97",
   "metadata": {
    "tags": []
   },
   "outputs": [],
   "source": [
    "from pylab import rcParams\n",
    "rcParams['figure.figsize'] = 30, 10\n",
    "waittime_jobsize2['NNodes'] = waittime_jobsize2['NNodes'].apply(str)\n",
    "waittime_jobsize2['Waittime'] = waittime_jobsize2['Waittime'] / 3600\n",
    "plots = sns.barplot(x ='NNodes',y = 'Waittime',data =  waittime_jobsize2)\n",
    "plots.set_title('Mean waittime according to different job sizes',size = 22)\n",
    "for bar in plots.patches:\n",
    "    plots.annotate(format(bar.get_height(), '.2f'),\n",
    "                   (bar.get_x() + bar.get_width() / 2,\n",
    "                    bar.get_height()), ha='center', va='center',\n",
    "                   size=18, xytext=(0, 8),\n",
    "                   textcoords='offset points',rotation = 20)\n",
    "plt.xticks(fontsize=22)\n",
    "plt.yticks(fontsize=22)\n",
    "plt.xlabel('Job size',size = 22)\n",
    "plt.ylabel('Wait time in hours',size = 22)\n",
    "if not os.path.exists('Wait_Time_resources'):\n",
    "    os.makedirs('Wait_Time_resources')\n",
    "plt.savefig('Wait_Time_resources/Wait_Time_Job_Size2.png')"
   ]
  },
  {
   "cell_type": "markdown",
   "id": "0faf7a23-ded2-4fc7-adee-a6a21a59687c",
   "metadata": {},
   "source": [
    "## Waittime according to QOS"
   ]
  },
  {
   "cell_type": "code",
   "execution_count": null,
   "id": "db7b4ac8-2fe7-42c9-ad60-53ce16721e22",
   "metadata": {},
   "outputs": [],
   "source": [
    "waittime_QOS = waittime.groupby('QOS', as_index=False).agg({'Waittime':'mean','Jcount':'sum'})\n",
    "waittime_QOS = waittime_QOS.loc[(waittime_QOS.QOS == 'cont') | (waittime_QOS.QOS == 'lowcont') | (waittime_QOS.QOS == 'nocont')]"
   ]
  },
  {
   "cell_type": "code",
   "execution_count": null,
   "id": "069f2f34-225b-47b5-b357-0d42d204d274",
   "metadata": {},
   "outputs": [],
   "source": [
    "waittime_QOS"
   ]
  },
  {
   "cell_type": "code",
   "execution_count": null,
   "id": "e2b133c0-d8ad-4097-b324-8705c21447d2",
   "metadata": {},
   "outputs": [],
   "source": [
    "from pylab import rcParams\n",
    "rcParams['figure.figsize'] = 10, 8\n",
    "waittime_QOS['QOS'] = waittime_QOS['QOS'].apply(str)\n",
    "waittime_QOS['Waittime'] = waittime_QOS['Waittime'] / 3600\n",
    "plots = sns.barplot(x ='QOS',y = 'Waittime',data =  waittime_QOS)\n",
    "plots.set_title('Mean wait time according to different QOS',size = 18)\n",
    "for bar in plots.patches:\n",
    "    plots.annotate(format(bar.get_height(), '.2f'),\n",
    "                   (bar.get_x() + bar.get_width() / 2,\n",
    "                    bar.get_height()), ha='center', va='center',\n",
    "                   size=16, xytext=(0, 8),\n",
    "                   textcoords='offset points')\n",
    "plt.xticks(fontsize=18)\n",
    "plt.yticks(fontsize=18)\n",
    "plt.xlabel('QoS',size = 18)\n",
    "plt.ylabel('Wait time in hours',size = 18)\n",
    "if not os.path.exists('Wait_Time_resources'):\n",
    "    os.makedirs('Wait_Time_resources')\n",
    "plt.savefig('Wait_Time_resources/Wait_Time_QOS11.png')"
   ]
  },
  {
   "cell_type": "markdown",
   "id": "a7015421-e8a8-4a38-99b2-7afef0fc944e",
   "metadata": {},
   "source": [
    "## Waittime according to partition"
   ]
  },
  {
   "cell_type": "code",
   "execution_count": null,
   "id": "67d7daa6-f68d-4a03-b958-5f4d6ba50f72",
   "metadata": {},
   "outputs": [],
   "source": [
    "waittime_Partition = waittime.groupby('Partition', as_index=False).agg({'Waittime':'mean','Jcount':'sum'})"
   ]
  },
  {
   "cell_type": "code",
   "execution_count": null,
   "id": "f380d045-d8f8-4d99-9575-cc6cd9358ea2",
   "metadata": {},
   "outputs": [],
   "source": [
    "from pylab import rcParams\n",
    "rcParams['figure.figsize'] = 10, 8\n",
    "waittime_Partition['Partition'] = waittime_Partition['Partition'].apply(str)\n",
    "waittime_Partition['Waittime'] = waittime_Partition['Waittime'] / 3600\n",
    "plots = sns.barplot(x ='Partition',y = 'Waittime',data =  waittime_Partition)\n",
    "plots.set_title('Mean wait time according to different Partitions',size = 22)\n",
    "for bar in plots.patches:\n",
    "    plots.annotate(format(bar.get_height(), '.2f'),\n",
    "                   (bar.get_x() + bar.get_width() / 2,\n",
    "                    bar.get_height()), ha='center', va='center',\n",
    "                   size=12, xytext=(0, 8),\n",
    "                   textcoords='offset points')\n",
    "plt.xticks(fontsize=20)\n",
    "plt.yticks(fontsize=20)\n",
    "plt.yticks(fontsize=20)\n",
    "plt.xlabel('Partition',size = 22)\n",
    "plt.ylabel('Wait time in hours',size = 22)\n",
    "if not os.path.exists('Wait_Time_resources'):\n",
    "    os.makedirs('Wait_Time_resources')\n",
    "plt.savefig('Wait_Time_resources/Wait_Time_Partition 1.png')"
   ]
  },
  {
   "cell_type": "code",
   "execution_count": null,
   "id": "78d54876-26af-4253-b3cf-94580bd77ba6",
   "metadata": {},
   "outputs": [],
   "source": []
  },
  {
   "cell_type": "code",
   "execution_count": null,
   "id": "6acb9820-6965-4d9c-930b-1a163d4b345d",
   "metadata": {},
   "outputs": [],
   "source": []
  },
  {
   "cell_type": "code",
   "execution_count": null,
   "id": "81bf7725-f78d-451d-8366-4bc611aa508d",
   "metadata": {},
   "outputs": [],
   "source": []
  }
 ],
 "metadata": {
  "kernelspec": {
   "display_name": "Python 3 (ipykernel)",
   "language": "python",
   "name": "python3"
  },
  "language_info": {
   "codemirror_mode": {
    "name": "ipython",
    "version": 3
   },
   "file_extension": ".py",
   "mimetype": "text/x-python",
   "name": "python",
   "nbconvert_exporter": "python",
   "pygments_lexer": "ipython3",
   "version": "3.9.12"
  }
 },
 "nbformat": 4,
 "nbformat_minor": 5
}
