{
 "cells": [
  {
   "cell_type": "code",
   "execution_count": null,
   "id": "83af6f66-f214-4fdb-b9f6-89d387963d49",
   "metadata": {},
   "outputs": [],
   "source": [
    "import pandas as pd\n",
    "import numpy as np\n",
    "pd.set_option('display.max_columns', 50000)\n",
    "pd.set_option('display.max_rows', 1000000)\n",
    "pd.set_option('display.max_colwidth',None)\n",
    "pd.set_option('display.float_format',lambda x: '%.4f' % x)\n",
    "import warnings\n",
    "warnings.filterwarnings(\"ignore\")\n",
    "import matplotlib.pyplot as plt\n",
    "import seaborn as sns\n",
    "import plotly as pl\n",
    "import plotly.express as px\n",
    "import plotly.graph_objects as go\n",
    "from matplotlib.pyplot import figure\n",
    "import matplotlib.pylab as pll\n",
    "from collections import Counter\n",
    "from datetime import datetime\n",
    "import time\n",
    "import random\n",
    "import math\n",
    "import os\n",
    "import itertools\n",
    "from matplotlib import ticker\n",
    "import matplotlib.colors as colors\n",
    "from pylab import rcParams"
   ]
  },
  {
   "cell_type": "code",
   "execution_count": null,
   "id": "4d29b77d-f7cd-41e9-9b10-a68298a264e1",
   "metadata": {
    "scrolled": true,
    "tags": []
   },
   "outputs": [],
   "source": [
    "slurm1 = pd.read_csv('SlurmPlot2.csv')\n",
    "slurm1.tail(100)"
   ]
  },
  {
   "cell_type": "code",
   "execution_count": null,
   "id": "06f0b129-7be6-40bc-8c14-7c0283f3cb68",
   "metadata": {},
   "outputs": [],
   "source": [
    "slurm1.head(2)"
   ]
  },
  {
   "cell_type": "code",
   "execution_count": null,
   "id": "0986dc66-bdd6-4ebe-ad34-2374109fca00",
   "metadata": {
    "scrolled": true,
    "tags": []
   },
   "outputs": [],
   "source": [
    "slurm = slurm1[['UID','JobID','Account','Submittimestamp','Start','End','Eligibletimestamp','Starttimestamp','Endtimestamp','AllocNodes','AllocCPUS','TimelimitRaw', 'NNodes','Submit','State','ExitCode','QOS','QOSRAW','Partition','TRESAllocMem','TRESINMaxUsagemem','TotalCPUtime']]"
   ]
  },
  {
   "cell_type": "code",
   "execution_count": null,
   "id": "f8d79f36-8b02-4dc6-bded-438a65e590c4",
   "metadata": {},
   "outputs": [],
   "source": [
    "slurm = slurm[slurm[\"Starttimestamp\"] != 'Unknown']\n",
    "slurm = slurm[slurm[\"Endtimestamp\"] != 'Unknown']\n",
    "slurm['JobLen'] = slurm['Endtimestamp'].astype(float) - slurm['Starttimestamp'].astype(float)\n",
    "slurm['Totalres'] = slurm['JobLen'] * slurm['NNodes']\n",
    "slurm['JobID'] = slurm['JobID'].astype(str)"
   ]
  },
  {
   "cell_type": "code",
   "execution_count": null,
   "id": "e464d354-e10f-4072-be32-e2ca8c5abaea",
   "metadata": {
    "scrolled": true,
    "tags": []
   },
   "outputs": [],
   "source": [
    "discard = [\".\"]\n",
    "waittime = slurm[~slurm.JobID.str.contains('|'.join(discard),regex = False)]\n",
    "waittime['Jcount'] = 1\n",
    "waittime['Waittime'] = waittime['Starttimestamp'].astype(float) - waittime['Submittimestamp'].astype(float)"
   ]
  },
  {
   "cell_type": "code",
   "execution_count": null,
   "id": "52649e9d-4f23-4d3c-90d3-5a1ce21d901b",
   "metadata": {},
   "outputs": [],
   "source": [
    "waittime['year'] = pd.DatetimeIndex(waittime['Submit']).year\n",
    "waittime['month'] = pd.DatetimeIndex(waittime['Submit']).month\n",
    "waittime['year'] = waittime['year'].apply(str)\n",
    "waittime['month'] = waittime['month'].apply(str)\n",
    "waittime['yearmonth'] = waittime['year'] + '-' + waittime['month']"
   ]
  },
  {
   "cell_type": "code",
   "execution_count": null,
   "id": "cf8587f2-06a4-4110-a062-20c0f44de06c",
   "metadata": {},
   "outputs": [],
   "source": [
    "waittime.head()"
   ]
  },
  {
   "cell_type": "code",
   "execution_count": null,
   "id": "edfbc6c7-16af-45fb-a58f-df5d96c3ad39",
   "metadata": {},
   "outputs": [],
   "source": [
    "waittime = waittime.loc[waittime.JobLen >= 0]"
   ]
  },
  {
   "cell_type": "code",
   "execution_count": null,
   "id": "6dbe5e80-c1aa-48d1-82e3-961e210c6f02",
   "metadata": {},
   "outputs": [],
   "source": [
    "waittime.info()"
   ]
  },
  {
   "cell_type": "code",
   "execution_count": null,
   "id": "d95ee7e7-ec6d-4b11-b22d-9f5b1c052806",
   "metadata": {},
   "outputs": [],
   "source": []
  },
  {
   "cell_type": "markdown",
   "id": "ed01aa25-677e-402b-b0e3-9f67276e8c3d",
   "metadata": {},
   "source": [
    "# Job Run-Time Analysis"
   ]
  },
  {
   "cell_type": "markdown",
   "id": "4bade5ad-9abd-4846-8738-abc7b2faf9a1",
   "metadata": {},
   "source": [
    "## Job runtime according to job size"
   ]
  },
  {
   "cell_type": "code",
   "execution_count": null,
   "id": "7a9d400f-2f57-4a51-a7bc-046cf0cf86c8",
   "metadata": {},
   "outputs": [],
   "source": [
    "Runtime_jobsize = waittime.groupby('NNodes', as_index=False).agg({'JobLen':'mean','Jcount':'sum'})\n",
    "Runtime_jobsize['NNodes'] = Runtime_jobsize['NNodes'].apply(int)\n",
    "Runtime_jobsize = Runtime_jobsize.sort_values('NNodes')"
   ]
  },
  {
   "cell_type": "code",
   "execution_count": null,
   "id": "f41d0c00-cb4c-44f4-9bd5-fde469339a73",
   "metadata": {},
   "outputs": [],
   "source": [
    "Runtime_jobsize1 = Runtime_jobsize.loc[Runtime_jobsize.NNodes <= 50]"
   ]
  },
  {
   "cell_type": "code",
   "execution_count": null,
   "id": "a5303def-2f3a-42b0-8ac9-55d36d23042c",
   "metadata": {},
   "outputs": [],
   "source": [
    "from pylab import rcParams\n",
    "rcParams['figure.figsize'] = 38, 10\n",
    "Runtime_jobsize1['NNodes'] = Runtime_jobsize1['NNodes'].apply(str)\n",
    "Runtime_jobsize1['JobLen'] = Runtime_jobsize1['JobLen'] / 3600\n",
    "plots = sns.barplot(x ='NNodes',y = 'JobLen',data =  Runtime_jobsize1)\n",
    "plots.set_title('Mean Run time according to job sizes',size = 22)\n",
    "for bar in plots.patches:\n",
    "    plots.annotate(format(bar.get_height(), '.2f'),\n",
    "                   (bar.get_x() + bar.get_width() / 2,\n",
    "                    bar.get_height()), ha='center', va='center',\n",
    "                   size=18, xytext=(0, 8),\n",
    "                   textcoords='offset points',rotation = 20)\n",
    "plt.xticks(fontsize=22)\n",
    "plt.yticks(fontsize=22)\n",
    "plt.xlabel('Job size',size = 22)\n",
    "plt.ylabel('Run time in hours',size = 22)\n",
    "if not os.path.exists('Runtime_resources'):\n",
    "    os.makedirs('Runtime_resources')\n",
    "plt.savefig('Runtime_resources/Runtime_resources_js1.png')"
   ]
  },
  {
   "cell_type": "markdown",
   "id": "6b4fa9a8-4095-4beb-9b2d-38ab61693383",
   "metadata": {},
   "source": [
    "# report purpose"
   ]
  },
  {
   "cell_type": "code",
   "execution_count": null,
   "id": "a4621657-da26-44e1-bf47-8cd9727a888c",
   "metadata": {},
   "outputs": [],
   "source": [
    "Runtime_jobsize2 = Runtime_jobsize.loc[Runtime_jobsize.NNodes > 50]"
   ]
  },
  {
   "cell_type": "code",
   "execution_count": null,
   "id": "efc84d60-7864-4f54-ad5d-388fcf9881d1",
   "metadata": {},
   "outputs": [],
   "source": [
    "from pylab import rcParams\n",
    "rcParams['figure.figsize'] = 38, 10\n",
    "Runtime_jobsize2['NNodes'] = Runtime_jobsize2['NNodes'].apply(str)\n",
    "Runtime_jobsize2['JobLen'] = Runtime_jobsize2['JobLen'] / 3600\n",
    "plots = sns.barplot(x ='NNodes',y = 'JobLen',data =  Runtime_jobsize2)\n",
    "plots.set_title('Mean Run time according to job sizes',size = 22)\n",
    "for bar in plots.patches:\n",
    "    plots.annotate(format(bar.get_height(), '.2f'),\n",
    "                   (bar.get_x() + bar.get_width() / 2,\n",
    "                    bar.get_height()), ha='center', va='center',\n",
    "                   size=18, xytext=(0, 8),\n",
    "                   textcoords='offset points',rotation = 20)\n",
    "plt.xticks(fontsize=22)\n",
    "plt.yticks(fontsize=22)\n",
    "plt.xlabel('Job size',size = 22)\n",
    "plt.ylabel('Run time in hours',size = 22)\n",
    "if not os.path.exists('Runtime_resources'):\n",
    "    os.makedirs('Runtime_resources')\n",
    "plt.savefig('Runtime_resources/Runtime_resources_js2.png')"
   ]
  },
  {
   "cell_type": "markdown",
   "id": "76a40e3b-8fd3-4948-b74d-62487166d634",
   "metadata": {},
   "source": [
    "## Job runtime according to QOS"
   ]
  },
  {
   "cell_type": "code",
   "execution_count": null,
   "id": "91a95251-e175-4487-a4c2-d064e30774ce",
   "metadata": {},
   "outputs": [],
   "source": [
    "runtime_QOS = waittime.groupby('QOS', as_index=False).agg({'JobLen':'mean','Jcount':'sum'})"
   ]
  },
  {
   "cell_type": "code",
   "execution_count": null,
   "id": "2d509cda-716a-4915-9b54-1badcbcc436a",
   "metadata": {},
   "outputs": [],
   "source": [
    "from pylab import rcParams\n",
    "rcParams['figure.figsize'] = 10, 8\n",
    "runtime_QOS['QOS'] = runtime_QOS['QOS'].apply(str)\n",
    "runtime_QOS['JobLen'] = runtime_QOS['JobLen'] / 3600\n",
    "plots = sns.barplot(x ='QOS',y = 'JobLen',data =  runtime_QOS)\n",
    "plots.set_title('Mean Run time according to QOS',size = 16)\n",
    "for bar in plots.patches:\n",
    "    plots.annotate(format(bar.get_height(), '.2f'),\n",
    "                   (bar.get_x() + bar.get_width() / 2,\n",
    "                    bar.get_height()), ha='center', va='center',\n",
    "                   size=16, xytext=(0, 8),\n",
    "                   textcoords='offset points')\n",
    "plt.xticks(fontsize=20)\n",
    "plt.yticks(fontsize=20)\n",
    "plt.xlabel('QoS',size = 22)\n",
    "plt.ylabel('Run time in hours',size = 22)\n",
    "if not os.path.exists('Runtime_resources'):\n",
    "    os.makedirs('Runtime_resources')\n",
    "plt.savefig('Runtime_resources/RunTime_QOS 1.png')"
   ]
  },
  {
   "cell_type": "markdown",
   "id": "3d54d149-8eb3-44ff-806a-4c03788e8f18",
   "metadata": {},
   "source": [
    "## Job runtime according to partition"
   ]
  },
  {
   "cell_type": "code",
   "execution_count": null,
   "id": "51f432ca-b09d-4b45-8bbf-dee0dca499cd",
   "metadata": {},
   "outputs": [],
   "source": [
    "runtime_Partition = waittime.groupby('Partition', as_index=False).agg({'JobLen':'mean','Jcount':'sum'})"
   ]
  },
  {
   "cell_type": "code",
   "execution_count": null,
   "id": "d2737184-de34-4b61-9ff4-c7a648c1f17e",
   "metadata": {},
   "outputs": [],
   "source": [
    "from pylab import rcParams\n",
    "rcParams['figure.figsize'] = 10, 8\n",
    "runtime_Partition['Partition'] = runtime_Partition['Partition'].apply(str)\n",
    "runtime_Partition['JobLen'] = runtime_Partition['JobLen'] / 3600\n",
    "plots = sns.barplot(x ='Partition',y = 'JobLen',data =  runtime_Partition)\n",
    "plots.set_title('Mean run time according to different Partitions',size = 16)\n",
    "for bar in plots.patches:\n",
    "    plots.annotate(format(bar.get_height(), '.2f'),\n",
    "                   (bar.get_x() + bar.get_width() / 2,\n",
    "                    bar.get_height()), ha='center', va='center',\n",
    "                   size=16, xytext=(0, 8),\n",
    "                   textcoords='offset points')\n",
    "plt.xticks(fontsize=20)\n",
    "plt.yticks(fontsize=20)\n",
    "plt.xlabel('Partition',size = 22)\n",
    "plt.ylabel('Run time in hours',size = 22)\n",
    "if not os.path.exists('Runtime_resources'):\n",
    "    os.makedirs('Runtime_resources')\n",
    "plt.savefig('Runtime_resources/Runtime_Partition1.png')"
   ]
  },
  {
   "cell_type": "markdown",
   "id": "011eeae2-0d62-4762-b116-0a6ef5b3b5a7",
   "metadata": {},
   "source": [
    "## Mean Job runtime according to project"
   ]
  },
  {
   "cell_type": "code",
   "execution_count": null,
   "id": "9dd71d66-5304-4d97-8bdb-7523f369a045",
   "metadata": {},
   "outputs": [],
   "source": [
    "Runtime_project = waittime.groupby('Account', as_index=False).agg({'JobLen':'mean','Jcount':'sum'})\n",
    "Runtime_project['Account'] = Runtime_project['Account'].apply(int)\n",
    "Runtime_project = Runtime_project.sort_values('Account')"
   ]
  },
  {
   "cell_type": "code",
   "execution_count": null,
   "id": "1fdd7e1d-183b-4a73-b6b4-6470c53fdc58",
   "metadata": {},
   "outputs": [],
   "source": [
    "from pylab import rcParams\n",
    "rcParams['figure.figsize'] = 80, 10\n",
    "Runtime_project['Account'] = Runtime_project['Account'].apply(str)\n",
    "plots = sns.barplot(x ='Account',y = 'JobLen',data =  Runtime_project)\n",
    "plots.set_title('Mean runtime according to different projects',size = 22)\n",
    "for bar in plots.patches:\n",
    "    plots.annotate(format(bar.get_height(), '.2f'),\n",
    "                   (bar.get_x() + bar.get_width() / 2,\n",
    "                    bar.get_height()), ha='center', va='center',\n",
    "                   size=12, xytext=(0, 8),\n",
    "                   textcoords='offset points')\n",
    "plt.xticks(fontsize=20)\n",
    "plt.yticks(fontsize=20)\n",
    "if not os.path.exists('Runtime_resources'):\n",
    "    os.makedirs('Runtime_resources')\n",
    "plt.savefig('Runtime_resources/Runtime_project 1.png')"
   ]
  },
  {
   "cell_type": "markdown",
   "id": "5030f856-1c6a-407e-b6d6-cddbfba6b528",
   "metadata": {},
   "source": [
    "## Total runtime every year"
   ]
  },
  {
   "cell_type": "code",
   "execution_count": null,
   "id": "14c7f5ee-392e-44d3-842b-fa3a9c07f385",
   "metadata": {},
   "outputs": [],
   "source": [
    "def functionruntime(years):\n",
    "    coun = 0\n",
    "    df_list = []\n",
    "    df_list2 = []\n",
    "    varlist = []\n",
    "    for i in years:\n",
    "        temp = waittime[waittime.yearmonth.str.contains(i,regex = False)]\n",
    "        df_list.append(temp)\n",
    "    for j in df_list:\n",
    "        temp1 = j.groupby(['month','year'], as_index=False)['JobLen'].sum()\n",
    "        temp1['JobLen'] = temp1['JobLen'] / 3600\n",
    "        temp1['JobLen'] = temp1['JobLen'].astype(int)\n",
    "        temp1['month'] = temp1['month'].apply(int)\n",
    "        temp1 = temp1.sort_values('month')\n",
    "        temp2 = j.JobLen.std()\n",
    "        varlist.append(temp2)\n",
    "        df_list2.append(temp1)\n",
    "    for l in df_list2:\n",
    "        count = 0\n",
    "        num = l.month\n",
    "        datetime_object = []\n",
    "        month_name = []\n",
    "        for m in num:\n",
    "            datetime_object.append(datetime.strptime(str(m), \"%m\"))\n",
    "        for d in datetime_object:\n",
    "            month_name.append(d.strftime(\"%b\"))\n",
    "        fig, (ax, ax_table) = plt.subplots(nrows=2)\n",
    "        ax_table.axis('off')\n",
    "        ax.grid(False)\n",
    "        ax.set_title(\"Total Run time every month for the year {} in hours\".format(str(l.year[0])),size=18)\n",
    "        width = .5 \n",
    "        ax.bar(l.month, l.JobLen, width, color='g')\n",
    "        fig.set_figheight(10)\n",
    "        fig.set_figwidth(16)\n",
    "        for p in ax.patches:\n",
    "            ax.annotate(str(p.get_height()), (p.get_x() * 1.005, p.get_height() * 1.005),fontsize=16,rotation = 0)\n",
    "        ax.set_xlabel('Months', fontsize=16)\n",
    "        ax.set_ylabel('Job length in hours', fontsize=16)\n",
    "        ax.set(xticks = l.month)\n",
    "        ax.set_xticklabels(month_name, fontsize=16)\n",
    "        for tick in ax.get_yticklabels():\n",
    "            tick.set_fontsize(\"16\")\n",
    "        if len(varlist) != 0:\n",
    "            for index,li in enumerate(varlist):\n",
    "                if count == 1:\n",
    "                    break\n",
    "                props = dict(boxstyle='round', facecolor='wheat', alpha=0.5)\n",
    "                textstr = '\\n'.join((\n",
    "                r'$SD= %.2f$' % (li, ),))\n",
    "                ax.text(0.05, 0.95, textstr, transform=ax.transAxes, fontsize=14,\n",
    "                verticalalignment='top', bbox=props)\n",
    "                plt.subplots_adjust(left=0, bottom=0)\n",
    "                count = count + 1\n",
    "                varlist.pop(0)\n",
    "            plt.show()\n",
    "            coun = coun + 1\n",
    "            if not os.path.exists('Runtime_analysis'):\n",
    "                os.makedirs('Runtime_analysis')\n",
    "            fig.savefig('Runtime_analysis/{}.png'.format(str(coun)),bbox_inches='tight', dpi=100)\n",
    "                \n",
    "            "
   ]
  },
  {
   "cell_type": "code",
   "execution_count": null,
   "id": "2e1ace5f-5693-438a-bcb4-1966fb270ecd",
   "metadata": {},
   "outputs": [],
   "source": [
    "years = ['2019', '2020', '2021', '2022']\n",
    "functionruntime(years)"
   ]
  },
  {
   "cell_type": "markdown",
   "id": "7853a8ed-149f-4d56-b6be-82af1a5c98b3",
   "metadata": {},
   "source": [
    "## Job count according to runtime every year"
   ]
  },
  {
   "cell_type": "code",
   "execution_count": null,
   "id": "68274ace-91a9-4113-a916-5f706ae53443",
   "metadata": {},
   "outputs": [],
   "source": [
    "runtime = waittime.copy()"
   ]
  },
  {
   "cell_type": "code",
   "execution_count": null,
   "id": "1b5972ed-44c6-430c-a588-a1d6a8bccbf0",
   "metadata": {},
   "outputs": [],
   "source": [
    "def ff(row):\n",
    "    if row['JobLen'] <= 300:\n",
    "        val = 1\n",
    "    else:\n",
    "        val = 0\n",
    "    return val\n",
    "runtime['upto5mins'] = runtime.apply(ff,axis =1)\n",
    "def ff1(row):\n",
    "    if row['JobLen'] <= 3600 and row['JobLen'] > 300:\n",
    "        val = 1\n",
    "    else:\n",
    "        val = 0\n",
    "    return val\n",
    "runtime['uptoonehour'] = runtime.apply(ff1,axis =1)\n",
    "def ff2(row):\n",
    "    if row['JobLen'] <= 21600 and row['JobLen'] > 3600:\n",
    "        val = 1\n",
    "    else:\n",
    "        val = 0\n",
    "    return val\n",
    "runtime['uptosix'] = runtime.apply(ff2,axis =1)\n",
    "\n",
    "def ff3(row):\n",
    "    if row['JobLen'] > 21600 and row['JobLen'] <= 43200:\n",
    "        val = 1\n",
    "    else:\n",
    "        val = 0\n",
    "    return val\n",
    "runtime['uptotwelve'] = runtime.apply(ff3,axis =1)\n",
    "def ff4(row):\n",
    "    if row['JobLen'] > 604800:\n",
    "        val = 1\n",
    "    else:\n",
    "        val = 0\n",
    "    return val\n",
    "runtime['morethanweek'] = runtime.apply(ff4,axis =1)\n",
    "def ff5(row):\n",
    "    if row['JobLen'] == 0:\n",
    "        val = 1\n",
    "    else:\n",
    "        val = 0\n",
    "    return val\n",
    "runtime['nowaittime'] = runtime.apply(ff5,axis =1)\n",
    "def ff6(row):\n",
    "    if row['JobLen'] > 86400 and row['JobLen']<= 604800:\n",
    "        val = 1\n",
    "    else:\n",
    "        val = 0\n",
    "    return val\n",
    "runtime['uptoweek'] = runtime.apply(ff6,axis =1)\n",
    "def ff7(row):\n",
    "    if row['JobLen'] > 43200 and row['JobLen']<= 86400:\n",
    "        val = 1\n",
    "    else:\n",
    "        val = 0\n",
    "    return val\n",
    "runtime['uptoday'] = runtime.apply(ff7,axis =1)"
   ]
  },
  {
   "cell_type": "code",
   "execution_count": null,
   "id": "8c799374-dc2a-4a1b-b67e-fd1e2d0e6589",
   "metadata": {},
   "outputs": [],
   "source": [
    "def functionruntime2(years):\n",
    "    coun = 10\n",
    "    df_list = []\n",
    "    df_list2 = []\n",
    "    for i in years:\n",
    "        temp = runtime[runtime.yearmonth.str.contains(i,regex = False)]\n",
    "        df_list.append(temp)\n",
    "    for j in df_list:\n",
    "        temp1 = j.groupby(['month','year'], as_index=False).agg({'Jcount':'sum','upto5mins':'sum','uptoonehour':'sum',\n",
    "                                                      'uptotwelve':'sum','uptoweek':'sum','uptoday':'sum','morethanweek':'sum','uptosix':'sum' })\n",
    "        temp1['month'] = temp1['month'].apply(int)\n",
    "        temp1 = temp1.sort_values('month')\n",
    "        df_list2.append(temp1)\n",
    "    for l in df_list2:\n",
    "        count = 0\n",
    "        num = l.month\n",
    "        datetime_object = []\n",
    "        month_name = []\n",
    "        for m in num:\n",
    "            datetime_object.append(datetime.strptime(str(m), \"%m\"))\n",
    "        for d in datetime_object:\n",
    "            month_name.append(d.strftime(\"%b\"))\n",
    "        fig,ax = plt.subplots()\n",
    "        ax.grid(False)\n",
    "        ax.set_title(\"Number of jobs according to runtime duration for the year {} \".format(str(l.year[0])),size=22)\n",
    "        width = .5 \n",
    "        # ax.bar(l.month, l.Jcount, width, color='w', alpha = 0.8)\n",
    "        ax.bar(l.month, l.upto5mins, width, color='blue',alpha = 0.5)\n",
    "        ax.bar(l.month, l.uptoonehour, width,bottom = l.upto5mins, color='green',alpha = 0.5)\n",
    "        ax.bar(l.month, l.uptosix, width,bottom = l.upto5mins + l.uptoonehour,  color='m',alpha = 0.5)\n",
    "        ax.bar(l.month, l.uptotwelve, width,bottom = l.upto5mins + l.uptoonehour + l.uptosix,  color='brown',alpha = 0.5)\n",
    "        ax.bar(l.month, l.uptoday, width,bottom = l.upto5mins + l.uptoonehour + l.uptosix + l.uptotwelve,  color='r',alpha = 0.5)\n",
    "        ax.bar(l.month, l.uptoweek, width,bottom = l.upto5mins + l.uptoonehour + l.uptosix + l.uptotwelve + l.uptoday , color='yellow',alpha = 0.5)\n",
    "        ax.bar(l.month, l.morethanweek, width, bottom = l.upto5mins + l.uptoonehour + l.uptosix + l.uptotwelve + l.uptoday + l.uptoweek ,color='k',alpha = 0.5)\n",
    "        \n",
    "        fig.set_figheight(18)\n",
    "        fig.set_figwidth(16)\n",
    "        # for p in ax.patches:\n",
    "        #     ax.annotate(str(p.get_height()), (p.get_x() * 1.005, p.get_height() * 1.005),fontsize=12)\n",
    "        ax.set_xlabel('Months', fontsize=18)\n",
    "        ax.set_ylabel('Number of jobs', fontsize=18)\n",
    "        ax.set(xticks = l.month)\n",
    "        ax.set_xticklabels(month_name, fontsize=18)\n",
    "        for tick in ax.get_yticklabels():\n",
    "            tick.set_fontsize(\"18\")\n",
    "        plt.subplots_adjust(left=0, bottom=0)\n",
    "        plt.legend([\"Runtime upto 5 minutes\",'Runtime from 5 to 60 minutes','Runtime from hour to 6 hours','Runtime from 6 to 12 hours','Runtime from 12 to 24 hours','Runtime from 1 day to 1 week','Runtime for more than a week' ],prop={'size': 22})\n",
    "        plt.show()\n",
    "        coun = coun + 1\n",
    "        if not os.path.exists('Runtime_analysis'):\n",
    "            os.makedirs('Runtime_analysis')\n",
    "        fig.savefig('Runtime_analysis/{}.png'.format(str(coun)),bbox_inches='tight', dpi=100)"
   ]
  },
  {
   "cell_type": "code",
   "execution_count": null,
   "id": "3996eeab-d1df-4031-a47e-23e6288eb0f9",
   "metadata": {},
   "outputs": [],
   "source": [
    "years = ['2019', '2020', '2021', '2022']\n",
    "functionruntime2(years)"
   ]
  },
  {
   "cell_type": "markdown",
   "id": "2cf2c179-43b6-451e-a3d2-d915ecee3651",
   "metadata": {},
   "source": [
    "## Runtime Histogram for individual project"
   ]
  },
  {
   "cell_type": "code",
   "execution_count": null,
   "id": "62e1b165-c947-4d69-9489-a7ac422620e7",
   "metadata": {},
   "outputs": [],
   "source": [
    "runtime.head()"
   ]
  },
  {
   "cell_type": "code",
   "execution_count": null,
   "id": "ef42ac34-93d6-4e0b-8ca1-0700c5d69216",
   "metadata": {},
   "outputs": [],
   "source": [
    "maxx = runtime.JobLen.values.max()\n",
    "mean = runtime.JobLen.values.mean()\n",
    "print(maxx)\n",
    "print(mean)"
   ]
  },
  {
   "cell_type": "code",
   "execution_count": null,
   "id": "cb649e40-f15d-403e-9683-a771a4801c87",
   "metadata": {},
   "outputs": [],
   "source": [
    "smallerruntime = []\n",
    "smallerruntime = np.linspace(0, mean, 10,endpoint=False)\n",
    "smallerruntime = [l.tolist() for l in smallerruntime]\n",
    "smallerruntime1 = np.linspace(0, smallerruntime[1], 15 ,endpoint=False)\n",
    "smallerruntime1 = [l.tolist() for l in smallerruntime1]\n",
    "smallerruntime1 = [ '%.1f' % elem for elem in smallerruntime1 ]\n",
    "smallerruntime1"
   ]
  },
  {
   "cell_type": "code",
   "execution_count": null,
   "id": "8c94a405-9aaf-4df3-a11c-88fec0d6b9d9",
   "metadata": {},
   "outputs": [],
   "source": [
    "smallerruntime1"
   ]
  },
  {
   "cell_type": "code",
   "execution_count": null,
   "id": "6aca8e60-303a-4afb-abd4-a104b177103b",
   "metadata": {},
   "outputs": [],
   "source": [
    "del smallerruntime1[0]"
   ]
  },
  {
   "cell_type": "code",
   "execution_count": null,
   "id": "54385e95-5621-4858-925c-6854a578fc4b",
   "metadata": {},
   "outputs": [],
   "source": [
    "runtimep2 = runtime[['Account','JobLen']]"
   ]
  },
  {
   "cell_type": "code",
   "execution_count": null,
   "id": "aeae41d2-c917-4a16-a44c-f3265c29beeb",
   "metadata": {},
   "outputs": [],
   "source": [
    "runtimep2.info()"
   ]
  },
  {
   "cell_type": "code",
   "execution_count": null,
   "id": "d50c5130-c876-4027-8f56-9287ef9b3c63",
   "metadata": {},
   "outputs": [],
   "source": [
    "smallerruntime1 = np.asarray(smallerruntime1, dtype = float)\n",
    "coun = 0\n",
    "for idx,row in runtimep2.iterrows():\n",
    "    for index, elem in enumerate(smallerruntime1):\n",
    "        if runtimep2.loc[idx,'JobLen'] <= smallerruntime1[0]:\n",
    "            runtimep2.loc[idx,'Rs 0-{}'.format(smallerruntime1[0])] = 1    \n",
    "        else:\n",
    "            runtimep2.loc[idx,'Rs 0-{}'.format(smallerruntime1[0])] = 0   \n",
    "        prevele = smallerruntime1[index - 1]      \n",
    "        if runtimep2.loc[idx,'JobLen'] > prevele and runtimep2.loc[idx,'JobLen'] <= elem:\n",
    "            runtimep2.loc[idx,'Rs {}-{}'.format(prevele,elem)] = 1\n",
    "        else:\n",
    "            runtimep2.loc[idx,'Rs {}-{}'.format(prevele,elem)] = 0\n",
    "    coun = coun + 1\n",
    "    if coun % 10000 == 0:\n",
    "        print(coun)"
   ]
  },
  {
   "cell_type": "code",
   "execution_count": null,
   "id": "b17bd829-c76d-4e22-a6c8-91f15ca9654d",
   "metadata": {},
   "outputs": [],
   "source": [
    "runtimep2.head()"
   ]
  },
  {
   "cell_type": "code",
   "execution_count": null,
   "id": "5d804780-e022-4433-8879-3dcbbaf382dc",
   "metadata": {},
   "outputs": [],
   "source": [
    "runtimep2 = runtimep2.drop(['Rs 715.1-51.1'], axis=1)\n",
    "colrts = runtimep2.columns\n",
    "colrts = colrts.tolist()\n",
    "colrts"
   ]
  },
  {
   "cell_type": "code",
   "execution_count": null,
   "id": "2a696ed4-b862-4180-995f-fe460f41e8d7",
   "metadata": {},
   "outputs": [],
   "source": [
    "colrts = runtimep2.groupby('Account', as_index=False)[\n",
    " 'Rs 0-51.1',\n",
    " 'Rs 51.1-102.2',\n",
    " 'Rs 102.2-153.2',\n",
    " 'Rs 153.2-204.3',\n",
    " 'Rs 204.3-255.4',\n",
    " 'Rs 255.4-306.5',\n",
    " 'Rs 306.5-357.6',\n",
    " 'Rs 357.6-408.6',\n",
    " 'Rs 408.6-459.7',\n",
    " 'Rs 459.7-510.8',\n",
    " 'Rs 510.8-561.9',\n",
    " 'Rs 561.9-613.0',\n",
    " 'Rs 613.0-664.0',\n",
    " 'Rs 664.0-715.1'].sum()"
   ]
  },
  {
   "cell_type": "code",
   "execution_count": null,
   "id": "17497031-e5a0-466f-8fa3-553befa9c9ec",
   "metadata": {},
   "outputs": [],
   "source": [
    "coun = 0\n",
    "rcParams['figure.figsize'] = 20, 10\n",
    "for idx,row in colrts.iterrows():\n",
    "        count = row.Account\n",
    "        temp = row.drop(labels = ['Account'])\n",
    "        print(temp)\n",
    "        fig,ax = plt.subplots()\n",
    "        ax.grid(False)\n",
    "        ax.set_xlabel('Run time criteria', fontsize=18)\n",
    "        ax.set_ylabel('Number of jobs', fontsize=18)\n",
    "        ax.set_title(\"number of jobs according to Job length for the Account {}\".format(str(count)),size=22)\n",
    "        width = .5 \n",
    "        ax = temp.plot(kind = 'bar')\n",
    "        ax.set_xticklabels(['0-51','51-102','102-152','152-204','204-255','255-306','306-357','357-408','408-459','459-510','510-561','561-613','613-664','664-715'],size = 18)\n",
    "        for tick in ax.get_yticklabels():\n",
    "            tick.set_fontsize(\"18\")\n",
    "        plt.show()\n",
    "        coun = coun + 1\n",
    "        if not os.path.exists('Histogram_runtime_sub'):\n",
    "            os.makedirs('Histogram_runtime_sub')\n",
    "        fig.savefig('Histogram_runtime_sub/{}.png'.format(str(coun)),bbox_inches='tight', dpi=100)"
   ]
  },
  {
   "cell_type": "code",
   "execution_count": null,
   "id": "72cd2e60-b1a0-43c2-9be8-c59b95650010",
   "metadata": {},
   "outputs": [],
   "source": []
  },
  {
   "cell_type": "code",
   "execution_count": null,
   "id": "5cfa5be1-9b17-4ef7-808d-6b78f85cd36f",
   "metadata": {},
   "outputs": [],
   "source": []
  },
  {
   "cell_type": "code",
   "execution_count": null,
   "id": "45092ac8-831a-4e82-b523-1ace479dfa77",
   "metadata": {},
   "outputs": [],
   "source": []
  },
  {
   "cell_type": "code",
   "execution_count": null,
   "id": "3ea33635-a5ac-4dde-a424-41db86163a33",
   "metadata": {},
   "outputs": [],
   "source": [
    "parts = []\n",
    "parts1 = []\n",
    "parts2 = []\n",
    "parts3 = []\n",
    "parts4 = []\n",
    "parts = np.linspace(0, mean, 10,endpoint=False)\n",
    "parts1 = np.linspace(mean, maxx, 4)\n",
    "parts = [l.tolist() for l in parts]\n",
    "parts1 = [l.tolist() for l in parts1]\n",
    "parts2.append(np.linspace(parts1[0], parts1[1], 20,endpoint=False))\n",
    "parts3.append(np.linspace(parts1[1], parts1[2], 10,endpoint=False))\n",
    "parts4.append(np.linspace(parts1[2], parts1[3], 10))\n",
    "parts2 = [l2.tolist() for l2 in parts2]\n",
    "parts2 = list(np.concatenate(parts2).flat)\n",
    "parts3 = [l3.tolist() for l3 in parts3]\n",
    "parts3 = list(np.concatenate(parts3).flat)\n",
    "parts4 = [l4.tolist() for l4 in parts4]\n",
    "parts4 = list(np.concatenate(parts4).flat)"
   ]
  },
  {
   "cell_type": "code",
   "execution_count": null,
   "id": "2341a0f8-86f7-440a-862c-794750443f28",
   "metadata": {},
   "outputs": [],
   "source": [
    "parts = parts + parts2 + parts3 + parts4\n",
    "del parts[0]\n",
    "parts"
   ]
  },
  {
   "cell_type": "code",
   "execution_count": null,
   "id": "bb215de3-31a7-4e8a-8e10-f3f356802fda",
   "metadata": {
    "scrolled": true,
    "tags": []
   },
   "outputs": [],
   "source": [
    "parts = [ '%.2f' % elem for elem in parts ]"
   ]
  },
  {
   "cell_type": "code",
   "execution_count": null,
   "id": "0ab910f2-d4c6-4076-bc0b-c561f01edc42",
   "metadata": {},
   "outputs": [],
   "source": [
    "parts = np.asarray(parts, dtype = float)"
   ]
  },
  {
   "cell_type": "code",
   "execution_count": null,
   "id": "72eac72b-879f-46a5-88d4-39ad5e4cbfaf",
   "metadata": {
    "scrolled": true,
    "tags": []
   },
   "outputs": [],
   "source": [
    "runtimep = runtime[['Account','JobLen']]\n",
    "coun = 0\n",
    "for idx,row in runtimep.iterrows():\n",
    "    for index, elem in enumerate(parts):\n",
    "        if runtimep.loc[idx,'JobLen'] <= parts[0]:\n",
    "            runtimep.loc[idx,'R 0-{}'.format(parts[0])] = 1    \n",
    "        else:\n",
    "            runtimep.loc[idx,'R 0-{}'.format(parts[0])] = 0   \n",
    "        prevele = parts[index - 1]      \n",
    "        if runtimep.loc[idx,'JobLen'] > prevele and runtimep.loc[idx,'JobLen'] <= elem:\n",
    "            runtimep.loc[idx,'R {}-{}'.format(prevele,elem)] = 1\n",
    "        else:\n",
    "            runtimep.loc[idx,'R {}-{}'.format(prevele,elem)] = 0\n",
    "    coun = coun + 1\n",
    "    if coun % 10000 == 0:\n",
    "        print(coun)"
   ]
  },
  {
   "cell_type": "code",
   "execution_count": null,
   "id": "7b0b2701-afbb-478a-9c47-637f82c8d285",
   "metadata": {},
   "outputs": [],
   "source": [
    "runtimep.head()"
   ]
  },
  {
   "cell_type": "code",
   "execution_count": null,
   "id": "c1424330-bb53-4b22-92f1-b3fe222c230d",
   "metadata": {},
   "outputs": [],
   "source": [
    "runtimep1 = runtimep.drop(['R 1905703.0-766.19'], axis=1)\n",
    "col = runtimep1.columns\n",
    "col = col.tolist()\n",
    "col"
   ]
  },
  {
   "cell_type": "code",
   "execution_count": null,
   "id": "2c5a4531-89c1-43b9-861c-872900a4825e",
   "metadata": {
    "scrolled": true,
    "tags": []
   },
   "outputs": [],
   "source": [
    "cc = runtimep1.groupby('Account', as_index=False)['R 0-766.19',\n",
    " 'R 766.19-1532.38',\n",
    " 'R 1532.38-2298.58',\n",
    " 'R 2298.58-3064.77',\n",
    " 'R 3064.77-3830.96',\n",
    " 'R 3830.96-4597.15',\n",
    " 'R 4597.15-5363.34',\n",
    " 'R 5363.34-6129.53',\n",
    " 'R 6129.53-6895.73',\n",
    " 'R 6895.73-7661.92',\n",
    " 'R 7661.92-39295.94',\n",
    " 'R 39295.94-70929.95',\n",
    " 'R 70929.95-102563.97',\n",
    " 'R 102563.97-134197.99',\n",
    " 'R 134197.99-165832.01',\n",
    " 'R 165832.01-197466.03',\n",
    " 'R 197466.03-229100.04',\n",
    " 'R 229100.04-260734.06',\n",
    " 'R 260734.06-292368.08',\n",
    " 'R 292368.08-324002.1',\n",
    " 'R 324002.1-355636.12',\n",
    " 'R 355636.12-387270.13',\n",
    " 'R 387270.13-418904.15',\n",
    " 'R 418904.15-450538.17',\n",
    " 'R 450538.17-482172.19',\n",
    " 'R 482172.19-513806.21',\n",
    " 'R 513806.21-545440.22',\n",
    " 'R 545440.22-577074.24',\n",
    " 'R 577074.24-608708.26',\n",
    " 'R 608708.26-640342.28',\n",
    " 'R 640342.28-703610.31',\n",
    " 'R 703610.31-766878.35',\n",
    " 'R 766878.35-830146.39',\n",
    " 'R 830146.39-893414.42',\n",
    " 'R 893414.42-956682.46',\n",
    " 'R 956682.46-1019950.49',\n",
    " 'R 1019950.49-1083218.53',\n",
    " 'R 1083218.53-1146486.57',\n",
    " 'R 1146486.57-1209754.6',\n",
    " 'R 1209754.6-1273022.64',\n",
    " 'R 1273022.64-1343320.46',\n",
    " 'R 1343320.46-1413618.27',\n",
    " 'R 1413618.27-1483916.09',\n",
    " 'R 1483916.09-1554213.91',\n",
    " 'R 1554213.91-1624511.73',\n",
    " 'R 1624511.73-1694809.55',\n",
    " 'R 1694809.55-1765107.36',\n",
    " 'R 1765107.36-1835405.18',\n",
    " 'R 1835405.18-1905703.0'].sum()"
   ]
  },
  {
   "cell_type": "code",
   "execution_count": null,
   "id": "3c20d75c-ec5a-43b3-9285-1ad375f5bb83",
   "metadata": {
    "scrolled": true,
    "tags": []
   },
   "outputs": [],
   "source": [
    "coun = 0\n",
    "rcParams['figure.figsize'] = 20, 10\n",
    "for idx,row in cc.iterrows():\n",
    "        count = row.Account\n",
    "        temp = row.drop(labels = ['Account'])\n",
    "        print(temp)\n",
    "        fig,ax = plt.subplots()\n",
    "        ax.grid(False)\n",
    "        ax.set_title(\"number of jobs according to runtimes for the Account {}\".format(str(count)),size=22)\n",
    "        width = .5 \n",
    "        temp.plot(kind = 'bar')\n",
    "        ax.set_xlabel('Run time criteria', fontsize=18)\n",
    "        ax.set_ylabel('Number of jobs', fontsize=18)\n",
    "        ax.set_xticklabels( ['0-766',\n",
    " '766-1532',\n",
    " '1532-2298',\n",
    " '2298-3064',\n",
    " '3064-3830',\n",
    " '3830-4597',\n",
    " '4597-5363',\n",
    " '5363-6129',\n",
    " '6129-6895',\n",
    " '6895-7661',\n",
    " '7661-39295',\n",
    " '39295-70929',\n",
    " '70929-102563',\n",
    " '102563-134197',\n",
    " '134197-165832',\n",
    " '165832-197466',\n",
    " '197466-229100',\n",
    " '229100-260734',\n",
    " '260734-292368',\n",
    " '292368-324002',\n",
    " '324002-355636',\n",
    " '355636-387270',\n",
    " '387270-418904',\n",
    " '418904-450538',\n",
    " '450538-482172',\n",
    " '482172-513806',\n",
    " '513806-545440',\n",
    " '545440-577074',\n",
    " '577074-608708',\n",
    " '608708-640342',\n",
    " '640342-703610',\n",
    " '703610-766878',\n",
    " '766878-830146',\n",
    " '830146-893414',\n",
    " '893414-956682',\n",
    " '956682-1019950',\n",
    " '1019950-1083218',\n",
    " '1083218-1146486',\n",
    " '1146486-1209754',\n",
    " '1209754-1273022',\n",
    " '1273022-1343320',\n",
    " '1343320-1413618',\n",
    " '1413618-1483916',\n",
    " '1483916-1554213',\n",
    " '1554213-1624511',\n",
    " '1624511-1694809',\n",
    " '1694809-1765107',\n",
    " '1765107-1835405',\n",
    " '1835405-1905703'],size = 16)\n",
    "        for tick in ax.get_yticklabels():\n",
    "            tick.set_fontsize(\"16\")\n",
    "        plt.show()\n",
    "        coun = coun + 1\n",
    "        if not os.path.exists('Histogram_runtime'):\n",
    "            os.makedirs('Histogram_runtime')\n",
    "        fig.savefig('Histogram_runtime/{}.png'.format(str(coun)),bbox_inches='tight', dpi=100)"
   ]
  },
  {
   "cell_type": "code",
   "execution_count": null,
   "id": "f33c5846-30df-4c0d-8547-c0defceaae9d",
   "metadata": {},
   "outputs": [],
   "source": []
  },
  {
   "cell_type": "code",
   "execution_count": null,
   "id": "13ef79a1-ad78-49f2-90c0-b498a132e8e8",
   "metadata": {},
   "outputs": [],
   "source": []
  },
  {
   "cell_type": "code",
   "execution_count": null,
   "id": "b929ee49-449c-4106-91e0-9b4c8948d46f",
   "metadata": {},
   "outputs": [],
   "source": []
  },
  {
   "cell_type": "code",
   "execution_count": null,
   "id": "7b33920d-ef37-4687-ba4f-cfcd761f0493",
   "metadata": {},
   "outputs": [],
   "source": []
  }
 ],
 "metadata": {
  "kernelspec": {
   "display_name": "Python 3 (ipykernel)",
   "language": "python",
   "name": "python3"
  },
  "language_info": {
   "codemirror_mode": {
    "name": "ipython",
    "version": 3
   },
   "file_extension": ".py",
   "mimetype": "text/x-python",
   "name": "python",
   "nbconvert_exporter": "python",
   "pygments_lexer": "ipython3",
   "version": "3.9.12"
  }
 },
 "nbformat": 4,
 "nbformat_minor": 5
}
