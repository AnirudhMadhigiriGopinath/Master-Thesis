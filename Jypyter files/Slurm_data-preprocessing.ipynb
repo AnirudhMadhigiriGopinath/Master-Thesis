{
 "cells": [
  {
   "cell_type": "code",
   "execution_count": null,
   "id": "6395838f-f809-4f24-98ea-81fb461f779f",
   "metadata": {},
   "outputs": [],
   "source": [
    "#Importing Libraries\n",
    "import pandas as pd\n",
    "import numpy as np\n",
    "pd.set_option('display.max_columns', 500)\n",
    "pd.set_option('display.max_rows', 1000000)\n",
    "pd.set_option('display.max_colwidth',None)\n",
    "pd.set_option('display.float_format',lambda x: '%.3f' % x)\n",
    "import warnings\n",
    "warnings.filterwarnings(\"ignore\")"
   ]
  },
  {
   "cell_type": "code",
   "execution_count": null,
   "id": "aaaed7ee-ac28-4f79-b38b-c0e1f4f98c49",
   "metadata": {
    "tags": []
   },
   "outputs": [],
   "source": [
    "#Importing csv by using ; seperator. Getting samples.\n",
    "slurm = pd.read_csv('slurm_data_anon',sep=';')\n",
    "slurm.head(100)"
   ]
  },
  {
   "cell_type": "code",
   "execution_count": null,
   "id": "99554423-e389-46a7-9c8e-4e317105079a",
   "metadata": {},
   "outputs": [],
   "source": [
    "#Filtering the columns which might be needed for the analysis.\n",
    "Slurm = slurm[['UID','Account','JobID','AllocCPUS','AllocNodes','AssocID','AveCPU','AveCPUFreq','AveDiskRead','AveDiskWrite',\n",
    "              'AvePages','AveRSS','AveVMSize','Cluster','ConsumedEnergyRaw','CPUTime','CPUTimeRAW','DBIndex','Elapsed', 'ElapsedRaw','Eligible',\n",
    "               'End','ExitCode','JobIDRaw','Layout','MaxDiskRead','MaxDiskReadNode','MaxDiskReadTask','MaxDiskWrite','MaxDiskWriteNode',\n",
    "               'MaxDiskWriteTask','MaxPages','MaxPagesNode','MaxPagesTask','MaxRSS','MaxRSSNode','MaxRSSTask','MaxVMSize','MaxVMSizeNode',\n",
    "               'MaxVMSizeTask','NCPUS','NNodes','NodeList','NTasks','Priority','Partition','QOS','QOSRAW','ReqCPUFreq','ReqCPUFreqMin',\n",
    "              'ReqCPUFreqMax','ReqCPUFreqGov','ReqCPUS','ReqMem','ReqNodes','Reservation','ReservationId','Reserved','ResvCPU',\n",
    "              'ResvCPURAW','Start','State','Submit','SystemCPU','Timelimit','TimelimitRaw','TotalCPU','TRESUsageInAve',\n",
    "              'TRESUsageInMax','TRESUsageInMaxNode','TRESUsageInMaxTask','TRESUsageOutAve','TRESUsageOutMax','TRESUsageOutMaxNode',\n",
    "               'TRESUsageOutMaxTask','UserCPU']]"
   ]
  },
  {
   "cell_type": "code",
   "execution_count": null,
   "id": "f918e810-77ac-4699-9dc9-c7811341d8c7",
   "metadata": {},
   "outputs": [],
   "source": [
    "Slurm = Slurm.copy()"
   ]
  },
  {
   "cell_type": "code",
   "execution_count": null,
   "id": "e463bac6-0a49-4719-a696-545d5000aab5",
   "metadata": {},
   "outputs": [],
   "source": [
    "#Formatting UID field\n",
    "Slurm.loc[:, 'UID'] = Slurm.loc[:, 'UID'].fillna(method=\"ffill\")"
   ]
  },
  {
   "cell_type": "code",
   "execution_count": null,
   "id": "efdd5b9d-cf57-44af-be34-a9124ce79ae0",
   "metadata": {},
   "outputs": [],
   "source": [
    "#Extracting only the values from the fields.\n",
    "Slurm['TRESAllocEnergy'] = slurm.AllocTRES.str.extract(r'energy=(.*?)\\,', expand=True)\n",
    "Slurm['TRESBilling'] = slurm.AllocTRES.str.extract(r'billing=(.*?)\\,', expand=True)\n",
    "Slurm['TRESAllocMem'] = slurm.AllocTRES.str.extract(r'mem=(.*?)\\,', expand=True)\n",
    "Slurm['TRESAllocCPU'] = slurm.AllocTRES.str.extract(r'cpu=(.*?)\\,', expand=True)\n",
    "Slurm['TRESINAveUsageCpu'] = slurm.TRESUsageInAve.str.extract(r'cpu=(.*?)\\,', expand=True)\n",
    "Slurm['TRESINAveUsageFsordisk'] = slurm.TRESUsageInAve.str.extract(r'fs/disk=(.*?)\\,', expand=True)\n",
    "Slurm['TRESINAveUsagemem'] = slurm.TRESUsageInAve.str.extract(r'mem=(.*?)\\,', expand=True)\n",
    "Slurm['TRESINAveUsagevmem'] = slurm.TRESUsageInAve.str.extract(r'vmem=(.*)', expand=True)\n",
    "Slurm['TRESINAveUsagepages'] = slurm.TRESUsageInAve.str.extract(r'pages=(.*?)\\,', expand=True)\n",
    "\n",
    "Slurm['TRESINMaxUsageFsordisk'] = slurm.TRESUsageInMax.str.extract(r'fs/disk=(.*?)\\,', expand=True)\n",
    "Slurm['TRESINMaxUsagemem'] = slurm.TRESUsageInMax.str.extract(r'mem=(.*?)\\,', expand=True)\n",
    "Slurm['TRESINMaxUsagevmem'] = slurm.TRESUsageInMax.str.extract(r'vmem=(.*)', expand=True)\n",
    "Slurm['TRESINMaxUsagepages'] = slurm.TRESUsageInMax.str.extract(r'pages=(.*?)\\,', expand=True)\n",
    "\n",
    "Slurm['TRESINMaxNodeUsageFsordisk'] = slurm.TRESUsageInMaxNode.str.extract(r'fs/disk=(.*?)\\,', expand=True)\n",
    "Slurm['TRESINMaxNodeUsagemem'] = slurm.TRESUsageInMaxNode.str.extract(r'mem=(.*?)\\,', expand=True)\n",
    "Slurm['TRESINMaxNodeUsagevmem'] = slurm.TRESUsageInMaxNode.str.extract(r'vmem=(.*)', expand=True)\n",
    "Slurm['TRESINMaxNodeUsagepages'] = slurm.TRESUsageInMaxNode.str.extract(r'pages=(.*?)\\,', expand=True)\n",
    "\n",
    "Slurm['TRESINMaxTaskUsageFsordisk'] = slurm.TRESUsageInMaxTask.str.extract(r'fs/disk=(.*?)\\,', expand=True)\n",
    "Slurm['TRESINMaxTaskUsagemem'] = slurm.TRESUsageInMaxTask.str.extract(r'mem=(.*?)\\,', expand=True)\n",
    "Slurm['TRESINMaxTaskUsagevmem'] = slurm.TRESUsageInMaxTask.str.extract(r'vmem=(.*)', expand=True)\n",
    "Slurm['TRESINMaxTaskUsagepages'] = slurm.TRESUsageInMaxTask.str.extract(r'pages=(.*?)\\,', expand=True)\n",
    "\n",
    "\n",
    "Slurm['TRESOutAveUsageCpu'] = slurm.TRESUsageOutAve.str.extract(r'cpu=(.*?)\\,', expand=True)\n",
    "Slurm['TRESOutAveUsageFsordisk'] = slurm.TRESUsageOutAve.str.extract(r'fs/disk=(.*?)\\,', expand=True)\n",
    "Slurm['TRESOutAveUsagemem'] = slurm.TRESUsageOutAve.str.extract(r'mem=(.*?)\\,', expand=True)\n",
    "Slurm['TRESOutAveUsagevmem'] = slurm.TRESUsageOutAve.str.extract(r'vmem=(.*)', expand=True)\n",
    "Slurm['TRESOutAveUsagepages'] = slurm.TRESUsageOutAve.str.extract(r'pages=(.*?)\\,', expand=True)\n",
    "\n",
    "Slurm['TRESOutMaxUsageFsordisk'] = slurm.TRESUsageInMax.str.extract(r'fs/disk=(.*?)\\,', expand=True)\n",
    "Slurm['TRESOutMaxUsagemem'] = slurm.TRESUsageInMax.str.extract(r'mem=(.*?)\\,', expand=True)\n",
    "Slurm['TRESOutMaxUsagevmem'] = slurm.TRESUsageInMax.str.extract(r'vmem=(.*)', expand=True)\n",
    "Slurm['TRESOutMaxUsagepages'] = slurm.TRESUsageInMax.str.extract(r'pages=(.*?)\\,', expand=True)\n",
    "\n",
    "Slurm['TRESOutMaxNodeUsageFsordisk'] = slurm.TRESUsageInMaxNode.str.extract(r'fs/disk=(.*?)\\,', expand=True)\n",
    "Slurm['TRESOutMaxNodeUsagemem'] = slurm.TRESUsageInMaxNode.str.extract(r'mem=(.*?)\\,', expand=True)\n",
    "Slurm['TRESOutMaxNodeUsagevmem'] = slurm.TRESUsageInMaxNode.str.extract(r'vmem=(.*)', expand=True)\n",
    "Slurm['TRESOutMaxNodeUsagepages'] = slurm.TRESUsageInMaxNode.str.extract(r'pages=(.*?)\\,', expand=True)\n",
    "\n",
    "Slurm['TRESOutMaxTaskUsageFsordisk'] = slurm.TRESUsageInMaxTask.str.extract(r'fs/disk=(.*?)\\,', expand=True)\n",
    "Slurm['TRESOutMaxTaskUsagemem'] = slurm.TRESUsageInMaxTask.str.extract(r'mem=(.*?)\\,', expand=True)\n",
    "Slurm['TRESOutMaxTaskUsagevmem'] = slurm.TRESUsageInMaxTask.str.extract(r'vmem=(.*)', expand=True)\n",
    "Slurm['TRESOutMaxTaskUsagepages'] = slurm.TRESUsageInMaxTask.str.extract(r'pages=(.*?)\\,', expand=True)\n",
    "\n",
    "\n"
   ]
  },
  {
   "cell_type": "code",
   "execution_count": null,
   "id": "052f477e-11ad-4469-afb8-0e8c4a55698c",
   "metadata": {},
   "outputs": [],
   "source": [
    "Slurm['AveCPUFreq'] = Slurm['AveCPUFreq'].astype(str)\n",
    "Slurm['AveDiskRead'] = Slurm['AveDiskRead'].astype(str)\n",
    "Slurm['AveDiskWrite'] = Slurm['AveDiskWrite'].astype(str)\n",
    "Slurm['TRESAllocMem'] = Slurm['TRESAllocMem'].astype(str)\n",
    "Slurm['ReqMem'] = Slurm['ReqMem'].astype(str)\n",
    "\n",
    "Slurm['TRESINAveUsageFsordisk'] = Slurm['TRESINAveUsageFsordisk'].astype(str)\n",
    "Slurm['TRESINAveUsagemem'] = Slurm['TRESINAveUsagemem'].astype(str)\n",
    "Slurm['TRESINAveUsagevmem'] = Slurm['TRESINAveUsagevmem'].astype(str)\n",
    "\n",
    "Slurm['TRESINMaxUsageFsordisk'] = Slurm['TRESINMaxUsageFsordisk'].astype(str)\n",
    "Slurm['TRESINMaxUsagemem'] = Slurm['TRESINMaxUsagemem'].astype(str)\n",
    "Slurm['TRESINMaxUsagevmem'] = Slurm['TRESINMaxUsagevmem'].astype(str)\n",
    "\n",
    "\n",
    "Slurm['TRESOutAveUsageFsordisk'] = Slurm['TRESOutAveUsageFsordisk'].astype(str)\n",
    "Slurm['TRESOutAveUsagemem'] = Slurm['TRESOutAveUsagemem'].astype(str)\n",
    "Slurm['TRESOutAveUsagevmem'] = Slurm['TRESOutAveUsagevmem'].astype(str)\n",
    "\n",
    "Slurm['TRESOutMaxUsageFsordisk'] = Slurm['TRESOutMaxUsageFsordisk'].astype(str)\n",
    "Slurm['TRESOutMaxUsagemem'] = Slurm['TRESOutMaxUsagemem'].astype(str)\n",
    "Slurm['TRESOutMaxUsagevmem'] = Slurm['TRESOutMaxUsagevmem'].astype(str)\n",
    "\n",
    "\n",
    "\n",
    "Slurm['AveRSS'] = Slurm['AveRSS'].astype(str)\n",
    "Slurm['AveVMSize'] = Slurm['AveVMSize'].astype(str)\n",
    "Slurm['MaxDiskRead'] = Slurm['MaxDiskRead'].astype(str)\n",
    "Slurm['MaxDiskWrite'] = Slurm['MaxDiskWrite'].astype(str)\n",
    "Slurm['MaxRSS'] = Slurm['MaxRSS'].astype(str)\n",
    "Slurm['MaxVMSize'] = Slurm['MaxVMSize'].astype(str)\n",
    "Slurm['ReqMem'] = Slurm['ReqMem'].astype(str)\n",
    "Slurm['AveCPU'] = Slurm['AveCPU'].astype(str)\n",
    "Slurm['Reserved'] = Slurm['Reserved'].astype(str)\n",
    "Slurm['SystemCPU'] = Slurm['SystemCPU'].astype(str)"
   ]
  },
  {
   "cell_type": "code",
   "execution_count": null,
   "id": "709e0e48-ce1e-4685-bedb-d6f989d7c8d9",
   "metadata": {},
   "outputs": [],
   "source": [
    "#Converting KB,GB,TB to Megabytes to maintaina single size format\n",
    "def case_1(value):\n",
    "    if value[-1:] == 'G':\n",
    "        return float(value[:-1])*1000\n",
    "    elif value[-1:] == 'M':\n",
    "        return float(value[:-1])*1\n",
    "    elif value[-1:] == 'K':\n",
    "        return float(value[:-1])/ 1000\n",
    "    elif value[-1:] == 'T':\n",
    "         return float(value[:-1])/ 1048576\n",
    "    elif value[-1:] == '?':\n",
    "         return float(value[:-1])*1\n",
    "    else:\n",
    "         return float(value)\n",
    "    \n",
    "Slurm['AveCPUFreq'] = Slurm['AveCPUFreq'].map(lambda x: case_1(x))\n",
    "Slurm['AveDiskRead'] = Slurm['AveDiskRead'].map(lambda x: case_1(x))\n",
    "Slurm['AveDiskWrite'] = Slurm['AveDiskWrite'].map(lambda x: case_1(x))\n",
    "Slurm['TRESAllocMem'] = Slurm['TRESAllocMem'].map(lambda x: case_1(x))\n",
    "Slurm['ReqMem'] = Slurm['ReqMem'].map(lambda x: case_1(x))\n",
    "Slurm['TRESINAveUsageFsordisk'] = Slurm['TRESINAveUsageFsordisk'].map(lambda x: case_1(x))\n",
    "Slurm['TRESINAveUsagemem'] = Slurm['TRESINAveUsagemem'].map(lambda x: case_1(x))\n",
    "Slurm['TRESINAveUsagevmem'] = Slurm['TRESINAveUsagevmem'].map(lambda x: case_1(x))\n",
    "Slurm['AveRSS'] = Slurm['AveRSS'].map(lambda x: case_1(x))\n",
    "Slurm['AveVMSize'] = Slurm['AveVMSize'].map(lambda x: case_1(x))\n",
    "Slurm['MaxDiskRead'] = Slurm['MaxDiskRead'].map(lambda x: case_1(x))\n",
    "Slurm['MaxDiskWrite'] = Slurm['MaxDiskWrite'].map(lambda x: case_1(x))\n",
    "Slurm['MaxRSS'] = Slurm['MaxRSS'].map(lambda x: case_1(x))\n",
    "Slurm['MaxVMSize'] = Slurm['MaxVMSize'].map(lambda x: case_1(x))\n",
    "#Slurm['ReqMem'] = Slurm['ReqMem'].map(lambda x: case_1(x))\n",
    "\n",
    "Slurm['TRESINMaxUsageFsordisk'] = Slurm['TRESINMaxUsageFsordisk'].map(lambda x: case_1(x))\n",
    "Slurm['TRESINMaxUsagemem'] = Slurm['TRESINMaxUsagemem'].map(lambda x: case_1(x))\n",
    "Slurm['TRESINMaxUsagevmem'] = Slurm['TRESINMaxUsagevmem'].map(lambda x: case_1(x))\n",
    "\n",
    "Slurm['TRESOutAveUsageFsordisk'] = Slurm['TRESOutAveUsageFsordisk'].map(lambda x: case_1(x))\n",
    "Slurm['TRESOutAveUsagemem'] = Slurm['TRESOutAveUsagemem'].map(lambda x: case_1(x))\n",
    "Slurm['TRESOutAveUsagevmem'] = Slurm['TRESOutAveUsagevmem'].map(lambda x: case_1(x))\n",
    "\n",
    "Slurm['TRESOutMaxUsageFsordisk'] = Slurm['TRESOutMaxUsageFsordisk'].map(lambda x: case_1(x))\n",
    "Slurm['TRESOutMaxUsagemem'] = Slurm['TRESOutMaxUsagemem'].map(lambda x: case_1(x))\n",
    "Slurm['TRESOutMaxUsagevmem'] = Slurm['TRESOutMaxUsagevmem'].map(lambda x: case_1(x))"
   ]
  },
  {
   "cell_type": "code",
   "execution_count": null,
   "id": "7c156e47-6d0a-4cbd-bc1b-d0225430d283",
   "metadata": {},
   "outputs": [],
   "source": [
    "def case(value):\n",
    "    if '-' in value:\n",
    "        return float(value.split('-')[0])*86400\n",
    "Slurm['AveCPUdays'] = Slurm['AveCPU'].map(lambda x: case(x))\n",
    "Slurm['Reserveddays'] = Slurm['Reserved'].map(lambda x: case(x))\n",
    "Slurm['TotalCPUdays'] = Slurm['TotalCPU'].map(lambda x: case(x))\n",
    "Slurm['UserCPUdays'] = Slurm['UserCPU'].map(lambda x: case(x))\n",
    "Slurm['SystemCPUdays'] = Slurm['SystemCPU'].map(lambda x: case(x))        "
   ]
  },
  {
   "cell_type": "code",
   "execution_count": null,
   "id": "e6ab4632-932f-4fcc-b541-059f09304359",
   "metadata": {},
   "outputs": [],
   "source": [
    "def case1(value):\n",
    "    if '-' in value:\n",
    "        return value.split('-')[1]\n",
    "    else:\n",
    "        return value\n",
    "Slurm['AveCPUtime'] = Slurm['AveCPU'].map(lambda x: case1(x))\n",
    "Slurm['Reservedtime'] = Slurm['Reserved'].map(lambda x: case1(x))\n",
    "Slurm['TotalCPUtime'] = Slurm['TotalCPU'].map(lambda x: case1(x))\n",
    "Slurm['UserCPUtime'] = Slurm['UserCPU'].map(lambda x: case1(x))\n",
    "Slurm['SystemCPUtime'] = Slurm['SystemCPU'].map(lambda x: case1(x))"
   ]
  },
  {
   "cell_type": "code",
   "execution_count": null,
   "id": "f70b8994-6489-4262-a2b4-9577b3093f23",
   "metadata": {},
   "outputs": [],
   "source": [
    "def case2(value):\n",
    "    if ':' in value:\n",
    "        if value.count(':') == 2:\n",
    "            return float(value.split(':')[0])*3600+float(value.split(':')[1])*60+float(value.split(':')[2])\n",
    "        elif value.count(':') == 1:\n",
    "            return float(value.split(':')[0])*60+float(value.split(':')[1])\n",
    "        else:\n",
    "            return float(value.split(':')[0]) \n",
    "    else:\n",
    "        return value\n",
    "Slurm['TotalCPUtime'] = Slurm['TotalCPUtime'].map(lambda x: case2(x))\n",
    "Slurm['UserCPUtime'] = Slurm['UserCPUtime'].map(lambda x: case2(x))\n",
    "Slurm['AveCPUtime'] = Slurm['AveCPUtime'].map(lambda x: case2(x))\n",
    "Slurm['Reservedtime'] = Slurm['Reservedtime'].map(lambda x: case2(x))\n",
    "Slurm['SystemCPUtime'] = Slurm['SystemCPUtime'].map(lambda x: case2(x))"
   ]
  },
  {
   "cell_type": "code",
   "execution_count": null,
   "id": "c1a52268-4731-4f53-98f7-39389de62ef6",
   "metadata": {},
   "outputs": [],
   "source": [
    "Slurm['AveCPUdays'] = Slurm['AveCPUdays'].fillna(0)\n",
    "Slurm['AveCPUtime'] = Slurm['AveCPUtime'].fillna(0)\n",
    "Slurm['AveCPUdays'] = Slurm['AveCPUdays'].astype(float)\n",
    "Slurm['AveCPUtime'] = Slurm['AveCPUtime'].astype(float)\n",
    "Slurm['AveCPUtime'] = Slurm['AveCPUtime']+Slurm['AveCPUdays']\n",
    "Slurm['Reserveddays'] = Slurm['Reserveddays'].fillna(0)\n",
    "\n",
    "Slurm['Reserveddays'] = Slurm['Reserveddays'].astype(float)\n",
    "Slurm['Reservedtime']=Slurm['Reservedtime'].str.replace(\"INVALID\", \"0\", case = False)\n",
    "Slurm['Reservedtime'] = Slurm['Reservedtime'].astype(float)\n",
    "Slurm['Reservedtime'] = Slurm['Reservedtime'].fillna(0)\n",
    "Slurm['Reservedtime'] = Slurm['Reservedtime']+ Slurm['Reserveddays']\n",
    "\n",
    "Slurm['SystemCPUtime'] = Slurm['SystemCPUtime'].astype(float)\n",
    "Slurm['SystemCPUdays'] = Slurm['SystemCPUdays'].fillna(0)\n",
    "Slurm['SystemCPUtime'] = Slurm['SystemCPUtime']+ Slurm['SystemCPUdays']\n",
    "\n",
    "\n",
    "Slurm['TotalCPUdays'] = Slurm['TotalCPUdays'].fillna(0)\n",
    "Slurm['TotalCPUtime'] = Slurm['TotalCPUtime']+Slurm['TotalCPUdays']\n",
    "\n",
    "Slurm['UserCPUdays'] = Slurm['UserCPUdays'].fillna(0)\n",
    "Slurm['UserCPUtime'] = Slurm['UserCPUtime']+Slurm['UserCPUdays']"
   ]
  },
  {
   "cell_type": "code",
   "execution_count": null,
   "id": "916ea117-53f5-4e3a-a859-84a5e9610e0f",
   "metadata": {},
   "outputs": [],
   "source": [
    "Slurm1 = Slurm.copy()"
   ]
  },
  {
   "cell_type": "code",
   "execution_count": null,
   "id": "77ccd2cc-eb4a-4e23-a550-9d7c2450233c",
   "metadata": {},
   "outputs": [],
   "source": [
    "Slurm['Eligible']=Slurm['Eligible'].str.replace(\"T\", \" \", case = False)\n",
    "Slurm['End']=Slurm['End'].str.replace(\"T\", \" \", case = False)\n",
    "Slurm['Submit']=Slurm['Submit'].str.replace(\"T\", \" \", case = False)\n",
    "Slurm['Start']=Slurm['Start'].str.replace(\"T\", \" \", case = False)"
   ]
  },
  {
   "cell_type": "code",
   "execution_count": null,
   "id": "bb1c874d-a6a2-4236-ab72-ae4504769b0a",
   "metadata": {},
   "outputs": [],
   "source": [
    "import time\n",
    "from datetime import datetime\n",
    "def case1(value):\n",
    "    if 'Unknown' in value:\n",
    "        return value\n",
    "    else:\n",
    "        value = datetime.strptime(value,'%Y-%m-%d %H:%M:%S')\n",
    "        return time.mktime(value.timetuple())\n",
    "            \n",
    "Slurm['Endtimestamp'] = Slurm['End'].map(lambda x: case1(x))\n",
    "Slurm['Starttimestamp'] = Slurm['Start'].map(lambda x: case1(x))\n",
    "Slurm['Eligibletimestamp'] =  Slurm['Eligible'].map(lambda x: case1(x))\n",
    "Slurm['Submittimestamp'] =  Slurm['Submit'].map(lambda x: case1(x))"
   ]
  },
  {
   "cell_type": "code",
   "execution_count": null,
   "id": "c44fad0f-f751-4572-833d-7f7f46a7725d",
   "metadata": {},
   "outputs": [],
   "source": [
    "Slurm1 = Slurm.drop(['SystemCPUdays','TRESUsageInAve','TRESUsageInMax','TRESUsageInMaxNode','TRESUsageInMaxTask','TRESUsageOutAve','TRESUsageOutMax','TRESUsageOutMaxNode','TRESUsageOutMaxTask','AveCPUdays','Reserveddays','TotalCPUdays','UserCPUdays','SystemCPUdays'], axis=1,inplace=True)"
   ]
  },
  {
   "cell_type": "code",
   "execution_count": null,
   "id": "af759d0d-daf8-4f1c-9a6b-a375c0cacbb9",
   "metadata": {},
   "outputs": [],
   "source": [
    "Slurmdup = Slurm.copy()"
   ]
  },
  {
   "cell_type": "code",
   "execution_count": null,
   "id": "a0b904e9-8944-4b32-a1e8-86ad553bda9d",
   "metadata": {},
   "outputs": [],
   "source": [
    "Slurmdup['Nodelistcn'] = Slurmdup.NodeList.str.extract(r'cn-(.*?)\\]', expand=True)\n",
    "Slurmdup['Nodelistfpga'] = Slurmdup.NodeList.str.extract(r'fpga-(.*?)\\]', expand=True)"
   ]
  },
  {
   "cell_type": "code",
   "execution_count": null,
   "id": "df55821d-9621-4f4c-8a06-68c7daae2c47",
   "metadata": {},
   "outputs": [],
   "source": [
    "Slurmdup['Nodelistcn']= Slurmdup['Nodelistcn'].fillna(0)\n",
    "Slurmdup['Nodelistcn'] = Slurmdup['Nodelistcn'].astype(str)\n",
    "Slurmdup['Nodelistfpga']= Slurmdup['Nodelistfpga'].fillna(0)\n",
    "Slurmdup['Nodelistfpga'] = Slurmdup['Nodelistfpga'].astype(str)"
   ]
  },
  {
   "cell_type": "code",
   "execution_count": null,
   "id": "c6f279c3-e4f1-4bbb-bd32-f6e8930e9861",
   "metadata": {},
   "outputs": [],
   "source": [
    "def casefpga(value):\n",
    "    if 'f' in value:\n",
    "        return value.split(',')[0]\n",
    "    else:\n",
    "        return value\n",
    "Slurmdup['Nodelistcn'] = Slurmdup['Nodelistcn'].map(lambda x: casefpga(x))"
   ]
  },
  {
   "cell_type": "code",
   "execution_count": null,
   "id": "0495933c-228b-4f2c-af07-7a8d350f0fd4",
   "metadata": {},
   "outputs": [],
   "source": [
    "Slurmdup['Nodelistcn'] = Slurmdup['Nodelistcn'].str.replace(\"[\",\"\")\n",
    "Slurmdup['Nodelistfpga'] = Slurmdup['Nodelistfpga'].str.replace(\"[\",\"\")"
   ]
  },
  {
   "cell_type": "code",
   "execution_count": null,
   "id": "7ee0c1d1-89e1-4a8e-91c6-d0a2089ab8bc",
   "metadata": {},
   "outputs": [],
   "source": [
    "def mixrange(s):\n",
    "    r = []\n",
    "    for i in s.split(','):\n",
    "        if '-' not in i:\n",
    "            r.append(int(i))\n",
    "        else:\n",
    "            l,h = map(int, i.split('-'))\n",
    "            r+= range(l,h+1)\n",
    "    return r\n",
    "Slurmdup['Nodelistcn'] = Slurmdup['Nodelistcn'].map(lambda x: mixrange(x))\n"
   ]
  },
  {
   "cell_type": "code",
   "execution_count": null,
   "id": "dfebc94b-b8b1-4b68-b055-b99efe92d94d",
   "metadata": {},
   "outputs": [],
   "source": [
    "def mixrange1(s):\n",
    "    r = []\n",
    "    for i in s.split(','):\n",
    "        if '-' not in i:\n",
    "            r.append(int(i)+256)\n",
    "        else:\n",
    "            l,h = map(int, i.split('-'))\n",
    "            r+= range(l+256,h+257)\n",
    "    return r\n",
    "Slurmdup['Nodelistfpga'] = Slurmdup['Nodelistfpga'].map(lambda x: mixrange1(x))"
   ]
  },
  {
   "cell_type": "code",
   "execution_count": null,
   "id": "cbe34123-9304-4b89-a746-2bd4aaf20828",
   "metadata": {},
   "outputs": [],
   "source": [
    "Slurmdup['Nodelistfpga'] = Slurmdup['Nodelistfpga'].astype(str)\n",
    "Slurmdup['Nodelistfpga'] = Slurmdup['Nodelistfpga'].str.replace(\"256\",\"0\")"
   ]
  },
  {
   "cell_type": "code",
   "execution_count": null,
   "id": "6ca5c407-cd55-4e30-8039-413a79a1a048",
   "metadata": {},
   "outputs": [],
   "source": [
    "Slurmdup['Nodelistcn'] = Slurmdup['Nodelistcn'].astype(str)\n",
    "Slurmdup['Nodelistcn'] = Slurmdup['Nodelistcn'].str.replace(\"[\",\"\")\n",
    "Slurmdup['Nodelistfpga'] = Slurmdup['Nodelistfpga'].str.replace(\"[\",\"\")\n",
    "Slurmdup['Nodelistcn'] = Slurmdup['Nodelistcn'].str.replace(\"]\",\"\")\n",
    "Slurmdup['Nodelistfpga'] = Slurmdup['Nodelistfpga'].str.replace(\"]\",\"\")"
   ]
  },
  {
   "cell_type": "code",
   "execution_count": null,
   "id": "912cc41a-e0d2-4cb4-a09d-db391e06cf0a",
   "metadata": {},
   "outputs": [],
   "source": [
    "Slurmdup['NodeLists'] = Slurmdup['Nodelistcn'] + ',' + Slurmdup['Nodelistfpga']"
   ]
  },
  {
   "cell_type": "code",
   "execution_count": null,
   "id": "5612e552-652b-48c0-81a4-e6a7d1c170af",
   "metadata": {},
   "outputs": [],
   "source": [
    "Slurmdup['NodeLists'] = Slurmdup['NodeLists'].astype(str)\n",
    "Slurmdup['NodeLists'] = Slurmdup['NodeLists'].str.replace(\",0\",\"\")\n",
    "Slurmdup['NodeLists'] = Slurmdup['NodeLists'].str.replace(\"0,0\",\"\")"
   ]
  },
  {
   "cell_type": "code",
   "execution_count": null,
   "id": "77dda9aa-c325-436d-9899-ca39a6000b98",
   "metadata": {
    "scrolled": true,
    "tags": []
   },
   "outputs": [],
   "source": [
    "Slurmdup.tail(100)"
   ]
  },
  {
   "cell_type": "code",
   "execution_count": null,
   "id": "378ef44d-8110-4342-991e-59949ee41b2b",
   "metadata": {},
   "outputs": [],
   "source": [
    "Slurmdup.to_csv('SlurmPlot2.csv')"
   ]
  },
  {
   "cell_type": "code",
   "execution_count": null,
   "id": "c1bb8fcc-078b-433b-b378-93674e080620",
   "metadata": {},
   "outputs": [],
   "source": []
  },
  {
   "cell_type": "code",
   "execution_count": null,
   "id": "eceb811d-3675-4258-af13-4ffdb3fa3a8f",
   "metadata": {},
   "outputs": [],
   "source": []
  },
  {
   "cell_type": "code",
   "execution_count": null,
   "id": "5121c0e7-21a1-4395-80ce-98efc38eb353",
   "metadata": {},
   "outputs": [],
   "source": []
  },
  {
   "cell_type": "code",
   "execution_count": null,
   "id": "4fa608fd-560d-4593-8393-01e473950fcf",
   "metadata": {},
   "outputs": [],
   "source": []
  }
 ],
 "metadata": {
  "kernelspec": {
   "display_name": "Python 3 (ipykernel)",
   "language": "python",
   "name": "python3"
  },
  "language_info": {
   "codemirror_mode": {
    "name": "ipython",
    "version": 3
   },
   "file_extension": ".py",
   "mimetype": "text/x-python",
   "name": "python",
   "nbconvert_exporter": "python",
   "pygments_lexer": "ipython3",
   "version": "3.9.12"
  },
  "toc-showtags": false
 },
 "nbformat": 4,
 "nbformat_minor": 5
}
