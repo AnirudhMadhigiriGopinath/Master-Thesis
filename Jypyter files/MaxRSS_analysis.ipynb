{
 "cells": [
  {
   "cell_type": "code",
   "execution_count": null,
   "id": "e2f4d39f-36ce-4595-a286-88bbe5953f5a",
   "metadata": {},
   "outputs": [],
   "source": [
    "import pandas as pd\n",
    "import numpy as np\n",
    "pd.set_option('display.max_columns', 50000)\n",
    "pd.set_option('display.max_rows', 1000000)\n",
    "pd.set_option('display.max_colwidth',None)\n",
    "pd.set_option('display.float_format',lambda x: '%.4f' % x)\n",
    "import warnings\n",
    "warnings.filterwarnings(\"ignore\")\n",
    "import matplotlib.pyplot as plt\n",
    "import seaborn as sns\n",
    "import plotly as pl\n",
    "import plotly.express as px\n",
    "import plotly.graph_objects as go\n",
    "from matplotlib.pyplot import figure\n",
    "import matplotlib.pylab as pll\n",
    "from collections import Counter\n",
    "from datetime import datetime\n",
    "import time\n",
    "import random\n",
    "import math\n",
    "import os\n",
    "import itertools\n",
    "from matplotlib import ticker\n",
    "import matplotlib.colors as colors\n",
    "from pylab import rcParams"
   ]
  },
  {
   "cell_type": "code",
   "execution_count": null,
   "id": "585bb4b0-45e8-4fc3-8734-caa6b13ae555",
   "metadata": {},
   "outputs": [],
   "source": []
  },
  {
   "cell_type": "code",
   "execution_count": null,
   "id": "e3d7f9d5-9a69-4ab6-b6f4-4fe749e0e6de",
   "metadata": {
    "scrolled": true,
    "tags": []
   },
   "outputs": [],
   "source": [
    "slurm1 = pd.read_csv('SlurmPlot2.csv')\n",
    "slurm1.tail(100)"
   ]
  },
  {
   "cell_type": "code",
   "execution_count": null,
   "id": "8f774dcd-abb3-43e2-8f54-4294fffdb053",
   "metadata": {},
   "outputs": [],
   "source": [
    "slurm1.head(2)"
   ]
  },
  {
   "cell_type": "code",
   "execution_count": null,
   "id": "6ebd4af2-9e32-44cc-bcec-1325820bc9aa",
   "metadata": {
    "scrolled": true,
    "tags": []
   },
   "outputs": [],
   "source": [
    "slurm = slurm1[['UID','JobID','Account','Submittimestamp','Start','End','Eligibletimestamp','Starttimestamp','Endtimestamp','AllocNodes','AllocCPUS','TimelimitRaw', 'NNodes','Submit','State','ExitCode','QOS','QOSRAW','Partition','TRESAllocMem','TRESINMaxUsagemem','TotalCPUtime']]"
   ]
  },
  {
   "cell_type": "code",
   "execution_count": null,
   "id": "2359c205-9676-45c8-a8d2-bf1cb371282a",
   "metadata": {},
   "outputs": [],
   "source": [
    "slurm = slurm[slurm[\"Starttimestamp\"] != 'Unknown']\n",
    "slurm = slurm[slurm[\"Endtimestamp\"] != 'Unknown']\n",
    "slurm['JobLen'] = slurm['Endtimestamp'].astype(float) - slurm['Starttimestamp'].astype(float)\n",
    "slurm['Totalres'] = slurm['JobLen'] * slurm['NNodes']\n",
    "slurm['JobID'] = slurm['JobID'].astype(str)"
   ]
  },
  {
   "cell_type": "code",
   "execution_count": null,
   "id": "4e3728be-3e4a-449d-8da9-fa414bcd3fa6",
   "metadata": {
    "scrolled": true,
    "tags": []
   },
   "outputs": [],
   "source": [
    "discard = [\".\"]\n",
    "waittime = slurm[~slurm.JobID.str.contains('|'.join(discard),regex = False)]\n",
    "waittime['Jcount'] = 1\n",
    "waittime['Waittime'] = waittime['Starttimestamp'].astype(float) - waittime['Submittimestamp'].astype(float)"
   ]
  },
  {
   "cell_type": "code",
   "execution_count": null,
   "id": "0f095191-a66c-4ff4-916d-a3ad4822d93c",
   "metadata": {},
   "outputs": [],
   "source": [
    "waittime['year'] = pd.DatetimeIndex(waittime['Submit']).year\n",
    "waittime['month'] = pd.DatetimeIndex(waittime['Submit']).month\n",
    "waittime['year'] = waittime['year'].apply(str)\n",
    "waittime['month'] = waittime['month'].apply(str)\n",
    "waittime['yearmonth'] = waittime['year'] + '-' + waittime['month']"
   ]
  },
  {
   "cell_type": "code",
   "execution_count": null,
   "id": "4f8902a5-b3c9-4911-ab6d-ab85be4622b0",
   "metadata": {},
   "outputs": [],
   "source": [
    "waittime.head()"
   ]
  },
  {
   "cell_type": "code",
   "execution_count": null,
   "id": "6718283b-b704-4b9d-b7a9-cf0d94d99a71",
   "metadata": {},
   "outputs": [],
   "source": [
    "waittime = waittime.loc[waittime.JobLen >= 0]"
   ]
  },
  {
   "cell_type": "code",
   "execution_count": null,
   "id": "01523bdf-b92a-483d-b3f4-32210f25e652",
   "metadata": {},
   "outputs": [],
   "source": [
    "waittime.info()"
   ]
  },
  {
   "cell_type": "code",
   "execution_count": null,
   "id": "2b5a3871-ccb9-408f-a66e-82850b1080c8",
   "metadata": {},
   "outputs": [],
   "source": []
  },
  {
   "cell_type": "code",
   "execution_count": null,
   "id": "676a3194-0e75-4b25-b71f-5406ee9bf630",
   "metadata": {},
   "outputs": [],
   "source": [
    "slurm2 = slurm1.copy()"
   ]
  },
  {
   "cell_type": "code",
   "execution_count": null,
   "id": "a7adfc5f-36de-4eaa-a6ba-066b16447c11",
   "metadata": {},
   "outputs": [],
   "source": []
  },
  {
   "cell_type": "code",
   "execution_count": null,
   "id": "62fcfc3d-4220-46f1-b91c-368183d27b75",
   "metadata": {},
   "outputs": [],
   "source": []
  },
  {
   "cell_type": "code",
   "execution_count": null,
   "id": "b2078af8-7f80-457f-b35b-a5e525fe1038",
   "metadata": {},
   "outputs": [],
   "source": []
  },
  {
   "cell_type": "code",
   "execution_count": null,
   "id": "05fa3c2e-f76d-4b96-8fff-9c9c3e358938",
   "metadata": {},
   "outputs": [],
   "source": []
  },
  {
   "cell_type": "code",
   "execution_count": null,
   "id": "1a879cbd-e8a3-4055-b41e-6f255b787166",
   "metadata": {},
   "outputs": [],
   "source": [
    "slurm2['JobID'] = slurm2['JobID'].apply(str)\n",
    "def case1(value):\n",
    "    if '.' in value:\n",
    "        return value.split('.')[0]\n",
    "    else:\n",
    "        return value\n",
    "slurm2['JobID'] = slurm2['JobID'].map(lambda x: case1(x))"
   ]
  },
  {
   "cell_type": "code",
   "execution_count": null,
   "id": "53b6d3d7-340e-4443-9aac-78474308f535",
   "metadata": {},
   "outputs": [],
   "source": [
    "slurm2['JobID'] = slurm2['JobID'].infer_objects()"
   ]
  },
  {
   "cell_type": "code",
   "execution_count": null,
   "id": "0683ac63-fffb-4d7b-99d8-86ebd51fc4c8",
   "metadata": {},
   "outputs": [],
   "source": [
    "slurm3 = slurm2.groupby('JobID', as_index=False).agg({'MaxRSS':'max'})"
   ]
  },
  {
   "cell_type": "code",
   "execution_count": null,
   "id": "4e832388-f831-4ce1-9a90-23ba6b598c9c",
   "metadata": {},
   "outputs": [],
   "source": [
    "slurm3.head(5)"
   ]
  },
  {
   "cell_type": "code",
   "execution_count": null,
   "id": "0d294880-960c-430e-9fb1-9533d7d92499",
   "metadata": {},
   "outputs": [],
   "source": [
    "waittimee = pd.merge(waittime, slurm3, on=['JobID'])"
   ]
  },
  {
   "cell_type": "code",
   "execution_count": null,
   "id": "6cfaaa32-f39a-4d09-9158-c664e18262cd",
   "metadata": {
    "scrolled": true,
    "tags": []
   },
   "outputs": [],
   "source": [
    "waittimee.head(500)"
   ]
  },
  {
   "cell_type": "code",
   "execution_count": null,
   "id": "2551ffbd-687d-4081-bce1-7f62d74f9cb4",
   "metadata": {},
   "outputs": [],
   "source": [
    "\n",
    "waittimee = waittimee.dropna(subset=['MaxRSS'])"
   ]
  },
  {
   "cell_type": "code",
   "execution_count": null,
   "id": "8a5f9050-933f-4f3e-9119-7eb825b05963",
   "metadata": {},
   "outputs": [],
   "source": [
    "maxxx = waittimee.MaxRSS.values.max()\n",
    "meann = waittimee.MaxRSS.values.mean()\n",
    "print(maxxx)\n",
    "print(meann)"
   ]
  },
  {
   "cell_type": "code",
   "execution_count": null,
   "id": "cc178254-3438-442a-8d15-8f96bebfeeed",
   "metadata": {},
   "outputs": [],
   "source": [
    "smallerrss = []\n",
    "smallerrss = np.linspace(0, meann, 10,endpoint=False)\n",
    "smallerrss = [l.tolist() for l in smallerrss]\n",
    "smallerrss1 = np.linspace(0, smallerrss[1], 15 ,endpoint=False)\n",
    "smallerrss1 = [l.tolist() for l in smallerrss1]\n",
    "smallerrss1 = [ '%.1f' % elem for elem in smallerrss1 ]\n",
    "smallerrss1"
   ]
  },
  {
   "cell_type": "code",
   "execution_count": null,
   "id": "f3bdbdc9-f790-488e-b5eb-969965851697",
   "metadata": {},
   "outputs": [],
   "source": [
    "del smallerrss1[0]"
   ]
  },
  {
   "cell_type": "code",
   "execution_count": null,
   "id": "f85778cf-1330-493d-aee1-a3cb4de84ad4",
   "metadata": {},
   "outputs": [],
   "source": [
    "smallerrss1 = np.asarray(smallerrss1, dtype = float)\n",
    "coun = 0\n",
    "for idx,row in slurm33.iterrows():\n",
    "    for index, elem in enumerate(smallerrss1):\n",
    "        if slurm33.loc[idx,'MaxRSS'] <= smallerrss1[0]:\n",
    "            slurm33.loc[idx,'Ms 0-{}'.format(smallerrss1[0])] = 1    \n",
    "        else:\n",
    "            slurm33.loc[idx,'Ms 0-{}'.format(smallerrss1[0])] = 0   \n",
    "        prevele = smallerrss1[index - 1]      \n",
    "        if slurm33.loc[idx,'MaxRSS'] > prevele and slurm33.loc[idx,'MaxRSS'] <= elem:\n",
    "            slurm33.loc[idx,'Ms {}-{}'.format(prevele,elem)] = 1\n",
    "        else:\n",
    "            slurm33.loc[idx,'Ms {}-{}'.format(prevele,elem)] = 0\n",
    "    coun = coun + 1\n",
    "    if coun % 10000 == 0:\n",
    "        print(coun)"
   ]
  },
  {
   "cell_type": "code",
   "execution_count": null,
   "id": "1f297869-eb30-4696-96d3-82f0cbab9b26",
   "metadata": {},
   "outputs": [],
   "source": [
    "slurm33.head()"
   ]
  },
  {
   "cell_type": "code",
   "execution_count": null,
   "id": "e9986efd-a25a-4b4f-9059-f96b27bb4b3b",
   "metadata": {},
   "outputs": [],
   "source": [
    "slurm33 = slurm33.drop(['Ms 627.9-44.9'], axis=1)\n",
    "colrs = slurm33.columns\n",
    "colrs = colrs.tolist()\n",
    "colrs"
   ]
  },
  {
   "cell_type": "code",
   "execution_count": null,
   "id": "c241f81d-59b4-4d2b-9e64-f09e68cd4571",
   "metadata": {},
   "outputs": [],
   "source": [
    "crs = slurm33.groupby('Account', as_index=False)[\n",
    " 'Ms 0-44.9',\n",
    " 'Ms 44.9-89.7',\n",
    " 'Ms 89.7-134.6',\n",
    " 'Ms 134.6-179.4',\n",
    " 'Ms 179.4-224.3',\n",
    " 'Ms 224.3-269.1',\n",
    " 'Ms 269.1-314.0',\n",
    " 'Ms 314.0-358.8',\n",
    " 'Ms 358.8-403.7',\n",
    " 'Ms 403.7-448.5',\n",
    " 'Ms 448.5-493.4',\n",
    " 'Ms 493.4-538.2',\n",
    " 'Ms 538.2-583.1',\n",
    " 'Ms 583.1-627.9'].sum()"
   ]
  },
  {
   "cell_type": "code",
   "execution_count": null,
   "id": "2e968269-87ee-4987-8849-733b9fde0110",
   "metadata": {},
   "outputs": [],
   "source": [
    "coun = 0\n",
    "rcParams['figure.figsize'] = 20, 10\n",
    "for idx,row in crs.iterrows():\n",
    "        count = row.Account\n",
    "        temp = row.drop(labels = ['Account'])\n",
    "        print(temp)\n",
    "        fig,ax = plt.subplots()\n",
    "        ax.grid(False)\n",
    "        \n",
    "        ax.set_title(\"number of jobs according to Max RSS for the Account {}\".format(str(count)),size=18)\n",
    "        width = .5 \n",
    "        temp.plot(kind = 'bar')\n",
    "        ax.set_xlabel('MaxRSS criteria', fontsize=18)\n",
    "        ax.set_ylabel('Number of jobs', fontsize=18)\n",
    "        ax.set_xticklabels([\n",
    " '0-44',\n",
    " '44-89',\n",
    " '89-134',\n",
    " '134-179',\n",
    " '179-224',\n",
    " '224-269',\n",
    " '269-314',\n",
    " '314-358',\n",
    " '358-403',\n",
    " '403-448',\n",
    " '448-493',\n",
    " '493-538',\n",
    " '538-583',\n",
    " '583-627'],size = 18)\n",
    "        for tick in ax.get_yticklabels():\n",
    "            tick.set_fontsize(\"18\")\n",
    "        plt.show()\n",
    "        coun = coun + 1\n",
    "        if not os.path.exists('Histogram_MaxRSS_sub'):\n",
    "            os.makedirs('Histogram_MaxRSS_sub')\n",
    "        fig.savefig('Histogram_MaxRSS_sub/{}.png'.format(str(coun)),bbox_inches='tight', dpi=100)"
   ]
  },
  {
   "cell_type": "code",
   "execution_count": null,
   "id": "40a43d2b-add2-460b-acea-87eed7de5c3b",
   "metadata": {},
   "outputs": [],
   "source": []
  },
  {
   "cell_type": "code",
   "execution_count": null,
   "id": "81324faa-8fda-4e3c-bfdf-df802af20fbf",
   "metadata": {},
   "outputs": [],
   "source": [
    "partsr = []\n",
    "parts1r = []\n",
    "parts2r = []\n",
    "parts3r = []\n",
    "parts4r = []\n",
    "partsr = np.linspace(0, meann, 10,endpoint=False)\n",
    "parts1r = np.linspace(meann, maxxx, 4)\n",
    "partsr = [l.tolist() for l in partsr]\n",
    "parts1r = [l.tolist() for l in parts1r]\n",
    "parts2r.append(np.linspace(parts1r[0], parts1r[1], 20,endpoint=False))\n",
    "parts3r.append(np.linspace(parts1r[1], parts1r[2], 10,endpoint=False))\n",
    "parts4r.append(np.linspace(parts1r[2], parts1r[3], 10))\n",
    "parts2r = [l2.tolist() for l2 in parts2r]\n",
    "parts2r = list(np.concatenate(parts2r).flat)\n",
    "parts3r = [l3.tolist() for l3 in parts3r]\n",
    "parts3r = list(np.concatenate(parts3r).flat)\n",
    "parts4r = [l4.tolist() for l4 in parts4r]\n",
    "parts4r = list(np.concatenate(parts4r).flat)"
   ]
  },
  {
   "cell_type": "code",
   "execution_count": null,
   "id": "23e0accd-9d5a-4f03-96ff-b2126bac64e1",
   "metadata": {},
   "outputs": [],
   "source": [
    "partsr = partsr + parts2r + parts3r + parts4r\n",
    "del partsr[0]\n",
    "partsr"
   ]
  },
  {
   "cell_type": "code",
   "execution_count": null,
   "id": "a772bcd9-b967-4247-a922-4d8138c21e24",
   "metadata": {},
   "outputs": [],
   "source": [
    "partsr = [ '%.2f' % elem for elem in partsr ]"
   ]
  },
  {
   "cell_type": "code",
   "execution_count": null,
   "id": "bad16638-8bcc-4d4f-b00c-b1a649145af2",
   "metadata": {},
   "outputs": [],
   "source": [
    "partsr = np.asarray(partsr, dtype = float)"
   ]
  },
  {
   "cell_type": "code",
   "execution_count": null,
   "id": "6b33f446-aca6-4437-a0fd-5a4fdf06478f",
   "metadata": {},
   "outputs": [],
   "source": [
    "coun = 0\n",
    "for idx,row in slurm3.iterrows():\n",
    "    for index, elem in enumerate(partsr):\n",
    "        if slurm3.loc[idx,'MaxRSS'] <= partsr[0]:\n",
    "            slurm3.loc[idx,'M 0-{}'.format(partsr[0])] = 1    \n",
    "        else:\n",
    "            slurm3.loc[idx,'M 0-{}'.format(partsr[0])] = 0   \n",
    "        prevele = partsr[index - 1]      \n",
    "        if slurm3.loc[idx,'MaxRSS'] > prevele and slurm3.loc[idx,'MaxRSS'] <= elem:\n",
    "            slurm3.loc[idx,'M {}-{}'.format(prevele,elem)] = 1\n",
    "        else:\n",
    "            slurm3.loc[idx,'M {}-{}'.format(prevele,elem)] = 0\n",
    "    coun = coun + 1\n",
    "    if coun % 10000 == 0:\n",
    "        print(coun)"
   ]
  },
  {
   "cell_type": "code",
   "execution_count": null,
   "id": "f53707a2-d624-40c6-a8b3-a4ee72265225",
   "metadata": {},
   "outputs": [],
   "source": [
    "slurm3.head()"
   ]
  },
  {
   "cell_type": "code",
   "execution_count": null,
   "id": "ad74da55-d37d-4d9f-91fd-b23bd02d43d4",
   "metadata": {},
   "outputs": [],
   "source": [
    "slurm3 = slurm3.drop(['M 1291493.68-672.76'], axis=1)\n",
    "col = slurm3.columns\n",
    "col = col.tolist()\n",
    "col"
   ]
  },
  {
   "cell_type": "code",
   "execution_count": null,
   "id": "2e99b8f8-26f0-4a1a-8403-b51993c2d270",
   "metadata": {},
   "outputs": [],
   "source": [
    "crs = slurm3.groupby('Account', as_index=False)[\n",
    " 'M 0-672.76',\n",
    " 'M 672.76-1345.53',\n",
    " 'M 1345.53-2018.29',\n",
    " 'M 2018.29-2691.06',\n",
    " 'M 2691.06-3363.82',\n",
    " 'M 3363.82-4036.58',\n",
    " 'M 4036.58-4709.35',\n",
    " 'M 4709.35-5382.11',\n",
    " 'M 5382.11-6054.87',\n",
    " 'M 6054.87-6727.64',\n",
    " 'M 6727.64-28140.41',\n",
    " 'M 28140.41-49553.17',\n",
    " 'M 49553.17-70965.94',\n",
    " 'M 70965.94-92378.71',\n",
    " 'M 92378.71-113791.47',\n",
    " 'M 113791.47-135204.24',\n",
    " 'M 135204.24-156617.01',\n",
    " 'M 156617.01-178029.78',\n",
    " 'M 178029.78-199442.54',\n",
    " 'M 199442.54-220855.31',\n",
    " 'M 220855.31-242268.08',\n",
    " 'M 242268.08-263680.85',\n",
    " 'M 263680.85-285093.61',\n",
    " 'M 285093.61-306506.38',\n",
    " 'M 306506.38-327919.15',\n",
    " 'M 327919.15-349331.92',\n",
    " 'M 349331.92-370744.68',\n",
    " 'M 370744.68-392157.45',\n",
    " 'M 392157.45-413570.22',\n",
    " 'M 413570.22-434982.99',\n",
    " 'M 434982.99-477808.52',\n",
    " 'M 477808.52-520634.05',\n",
    " 'M 520634.05-563459.59',\n",
    " 'M 563459.59-606285.12',\n",
    " 'M 606285.12-649110.66',\n",
    " 'M 649110.66-691936.19',\n",
    " 'M 691936.19-734761.73',\n",
    " 'M 734761.73-777587.26',\n",
    " 'M 777587.26-820412.8',\n",
    " 'M 820412.8-863238.33',\n",
    " 'M 863238.33-910822.26',\n",
    " 'M 910822.26-958406.19',\n",
    " 'M 958406.19-1005990.12',\n",
    " 'M 1005990.12-1053574.04',\n",
    " 'M 1053574.04-1101157.97',\n",
    " 'M 1101157.97-1148741.9',\n",
    " 'M 1148741.9-1196325.83',\n",
    " 'M 1196325.83-1243909.75',\n",
    " 'M 1243909.75-1291493.68'].sum()"
   ]
  },
  {
   "cell_type": "code",
   "execution_count": null,
   "id": "7f5c579e-b98b-4f49-a196-3a5a0a8951d7",
   "metadata": {
    "scrolled": true,
    "tags": []
   },
   "outputs": [],
   "source": [
    "coun = 0\n",
    "rcParams['figure.figsize'] = 20, 10\n",
    "for idx,row in crs.iterrows():\n",
    "        count = row.Account\n",
    "        temp = row.drop(labels = ['Account'])\n",
    "        print(temp)\n",
    "        fig,ax = plt.subplots()\n",
    "        ax.grid(False)\n",
    "        ax.set_title(\"Number of jobs according to MaxRSS for the Account {}\".format(str(count)),size=18)\n",
    "        width = .5 \n",
    "        temp.plot(kind = 'bar')\n",
    "        ax.set_xlabel('MaxRSS criteria', fontsize=18)\n",
    "        ax.set_ylabel('Number of jobs', fontsize=18)\n",
    "        ax.set_xticklabels( [\n",
    " '0-672',\n",
    " '672-1345',\n",
    " '1345-2018',\n",
    " '2018-2691',\n",
    " '2691-3363',\n",
    " '3363-4036',\n",
    " '4036-4709',\n",
    " '4709-5382',\n",
    " '5382-6054',\n",
    " '6054-6727',\n",
    " '6727-28140',\n",
    " '28140-49553',\n",
    " '49553-70965',\n",
    " '70965-92378',\n",
    " '92378-113791',\n",
    " '113791-135204',\n",
    " '135204-156617',\n",
    " '156617-178029',\n",
    " '178029-199442',\n",
    " '199442-220855',\n",
    " '220855-242268',\n",
    " '242268-263680',\n",
    " '263680-285093',\n",
    " '285093-306506',\n",
    " '306506-327919',\n",
    " '327919-349331',\n",
    " '349331-370744',\n",
    " '370744-392157',\n",
    " '392157-413570',\n",
    " '413570-434982',\n",
    " '434982-477808',\n",
    " '477808-520634',\n",
    " '520634-563459',\n",
    " '563459-606285',\n",
    " '606285-649110',\n",
    " '649110-691936',\n",
    " '691936-734761',\n",
    " '734761-777587',\n",
    " '777587-820412',\n",
    " '820412-863238',\n",
    " '863238-910822',\n",
    " '910822-958406',\n",
    " '958406-1005990',\n",
    " '1005990-1053574',\n",
    " '1053574-1101157',\n",
    " '1101157-1148741',\n",
    " '1148741-1196325',\n",
    " '1196325-1243909',\n",
    " '1243909-1291493'],size = 16)\n",
    "        for tick in ax.get_yticklabels():\n",
    "            tick.set_fontsize(\"16\")\n",
    "        plt.show()\n",
    "        coun = coun + 1\n",
    "        if not os.path.exists('Histogram_MaxRSS'):\n",
    "            os.makedirs('Histogram_MaxRSS')\n",
    "        fig.savefig('Histogram_MaxRSS/{}.png'.format(str(coun)),bbox_inches='tight', dpi=100)"
   ]
  },
  {
   "cell_type": "code",
   "execution_count": null,
   "id": "00d8c064-90d1-4085-ba26-3148812974ed",
   "metadata": {},
   "outputs": [],
   "source": []
  },
  {
   "cell_type": "markdown",
   "id": "c8cc0468-ba09-41a5-b9f5-16764fb15d08",
   "metadata": {},
   "source": [
    "## mean of MaxRSS according to job size"
   ]
  },
  {
   "cell_type": "code",
   "execution_count": null,
   "id": "1c2aa9d6-74cc-47d9-91eb-41cd8df8799c",
   "metadata": {},
   "outputs": [],
   "source": [
    "waittimee_JS = waittimee.groupby('NNodes', as_index=False).agg({'MaxRSS':'mean','Jcount':'sum'})"
   ]
  },
  {
   "cell_type": "code",
   "execution_count": null,
   "id": "e468fd55-423d-48fa-ac9c-4792fc2a3280",
   "metadata": {},
   "outputs": [],
   "source": []
  },
  {
   "cell_type": "code",
   "execution_count": null,
   "id": "39fcc4fb-7cb8-4c99-9f4c-fee4be07be7d",
   "metadata": {},
   "outputs": [],
   "source": [
    "from pylab import rcParams\n",
    "rcParams['figure.figsize'] = 60, 10\n",
    "waittimee_JS['NNodes'] = waittimee_JS['NNodes'].apply(str)\n",
    "plots = sns.barplot(x ='NNodes',y = 'MaxRSS',data =  waittimee_JS)\n",
    "plots.set_title('Mean Maximum RSS according to different job size',size = 22)\n",
    "for bar in plots.patches:\n",
    "    plots.annotate(format(bar.get_height(), '.2f'),\n",
    "                   (bar.get_x() + bar.get_width() / 2,\n",
    "                    bar.get_height()), ha='center', va='center',\n",
    "                   size=12, xytext=(0, 8),\n",
    "                   textcoords='offset points')\n",
    "plt.xticks(fontsize=20)\n",
    "plt.yticks(fontsize=20)\n",
    "if not os.path.exists('RSS_Analysis'):\n",
    "    os.makedirs('RSS_Analysis')\n",
    "plt.savefig('RSS_Analysis/RSS_Analysis_JS.png')"
   ]
  },
  {
   "cell_type": "markdown",
   "id": "fe4cd402-5b80-47cd-a28f-4ac04cfda58b",
   "metadata": {},
   "source": [
    "# report purpose"
   ]
  },
  {
   "cell_type": "code",
   "execution_count": null,
   "id": "1ef050cc-66dd-47e1-9470-893811f76447",
   "metadata": {},
   "outputs": [],
   "source": [
    "waittimee_JS1 = waittimee_JS.loc[waittimee_JS.NNodes <= 50]"
   ]
  },
  {
   "cell_type": "code",
   "execution_count": null,
   "id": "d48ac996-b2fd-4443-8a1f-818bd3037446",
   "metadata": {},
   "outputs": [],
   "source": [
    "from pylab import rcParams\n",
    "rcParams['figure.figsize'] = 38, 10\n",
    "waittimee_JS1['NNodes'] = waittimee_JS1['NNodes'].apply(str)\n",
    "plots = sns.barplot(x ='NNodes',y = 'MaxRSS',data =  waittimee_JS1)\n",
    "plots.set_title('Average MaxRSS according to different job sizes',size = 22)\n",
    "for bar in plots.patches:\n",
    "    plots.annotate(int(bar.get_height()),\n",
    "                   (bar.get_x() + bar.get_width() / 2,\n",
    "                    bar.get_height()), ha='center', va='center',\n",
    "                   size=18, xytext=(0, 8),\n",
    "                   textcoords='offset points',rotation = 20)\n",
    "plt.xticks(fontsize=22)\n",
    "plt.yticks(fontsize=22)\n",
    "plt.xlabel('Job size',size = 22)\n",
    "plt.ylabel('MaxRSS in megabytes',size = 22)\n",
    "if not os.path.exists('RSS_Analysis'):\n",
    "    os.makedirs('RSS_Analysis')\n",
    "plt.savefig('RSS_Analysis/RSS_Analysis_JS1.png')"
   ]
  },
  {
   "cell_type": "code",
   "execution_count": null,
   "id": "166dd1c8-290e-4bef-bc3a-a0136cf01a16",
   "metadata": {},
   "outputs": [],
   "source": [
    "waittimee_JS2 = waittimee_JS.loc[waittimee_JS.NNodes > 50]"
   ]
  },
  {
   "cell_type": "code",
   "execution_count": null,
   "id": "652805ed-7f3c-4c5f-8668-4bc9705db7cb",
   "metadata": {},
   "outputs": [],
   "source": [
    "from pylab import rcParams\n",
    "rcParams['figure.figsize'] = 30, 10\n",
    "waittimee_JS2['NNodes'] = waittimee_JS2['NNodes'].apply(str)\n",
    "plots = sns.barplot(x ='NNodes',y = 'MaxRSS',data =  waittimee_JS2)\n",
    "plots.set_title('Average MaxRSS according to different job sizes',size = 22)\n",
    "for bar in plots.patches:\n",
    "    plots.annotate(int(bar.get_height()),\n",
    "                   (bar.get_x() + bar.get_width() / 2,\n",
    "                    bar.get_height()), ha='center', va='center',\n",
    "                   size=18, xytext=(0, 8),\n",
    "                   textcoords='offset points',rotation = 20)\n",
    "plt.xticks(fontsize=22)\n",
    "plt.yticks(fontsize=22)\n",
    "plt.xlabel('Job size',size = 22)\n",
    "plt.ylabel('MaxRSS in megabytes',size = 22)\n",
    "if not os.path.exists('RSS_Analysis'):\n",
    "    os.makedirs('RSS_Analysis')\n",
    "plt.savefig('RSS_Analysis/RSS_Analysis_JS2.png')"
   ]
  },
  {
   "cell_type": "code",
   "execution_count": null,
   "id": "02e9ed90-69e8-4398-a498-2f6f7bb29f1d",
   "metadata": {},
   "outputs": [],
   "source": []
  },
  {
   "cell_type": "markdown",
   "id": "5e5a7427-8470-455f-9e11-58faea95e53c",
   "metadata": {},
   "source": [
    "## MaxRSS mean according to project"
   ]
  },
  {
   "cell_type": "code",
   "execution_count": null,
   "id": "b85b6ac6-3fb6-4228-b89e-6f0fb2c2f879",
   "metadata": {},
   "outputs": [],
   "source": [
    "waittimee_PJ = waittimee.groupby('Account', as_index=False).agg({'MaxRSS':'mean','Jcount':'sum'})"
   ]
  },
  {
   "cell_type": "code",
   "execution_count": null,
   "id": "3bdbc828-81ac-4f89-8694-87b98ab97fd4",
   "metadata": {},
   "outputs": [],
   "source": [
    "from pylab import rcParams\n",
    "rcParams['figure.figsize'] = 80, 10\n",
    "waittimee_PJ['Account'] = waittimee_PJ['Account'].apply(str)\n",
    "plots = sns.barplot(x ='Account',y = 'MaxRSS',data =  waittimee_PJ)\n",
    "plots.set_title('Mean Maximum RSS according to different projects',size = 22)\n",
    "for bar in plots.patches:\n",
    "    plots.annotate(format(bar.get_height(), '.2f'),\n",
    "                   (bar.get_x() + bar.get_width() / 2,\n",
    "                    bar.get_height()), ha='center', va='center',\n",
    "                   size=12, xytext=(0, 8),\n",
    "                   textcoords='offset points')\n",
    "plt.xticks(fontsize=20)\n",
    "plt.yticks(fontsize=20)\n",
    "if not os.path.exists('RSS_Analysis'):\n",
    "    os.makedirs('RSS_Analysis')\n",
    "plt.savefig('RSS_Analysis/RSS_Analysis_PJ.png')"
   ]
  },
  {
   "cell_type": "markdown",
   "id": "77e561e0-2308-4136-a261-a9d442e5cab8",
   "metadata": {},
   "source": [
    "## MaxRSS mean according to QOS"
   ]
  },
  {
   "cell_type": "code",
   "execution_count": null,
   "id": "5a4d0714-e844-4a69-be4f-780ff1aff08a",
   "metadata": {},
   "outputs": [],
   "source": [
    "waittimee_QOS = waittimee.groupby('QOS', as_index=False).agg({'MaxRSS':'mean','Jcount':'sum'})"
   ]
  },
  {
   "cell_type": "code",
   "execution_count": null,
   "id": "90d70f26-28a2-4214-9a2c-be0682533e93",
   "metadata": {},
   "outputs": [],
   "source": [
    "from pylab import rcParams\n",
    "rcParams['figure.figsize'] = 10, 8\n",
    "waittimee_QOS['QOS'] = waittimee_QOS['QOS'].apply(str)\n",
    "plots = sns.barplot(x ='QOS',y = 'MaxRSS',data =  waittimee_QOS)\n",
    "plots.set_title('Mean Maximum RSS according to job QOS',size = 22)\n",
    "for bar in plots.patches:\n",
    "    plots.annotate(format(bar.get_height(), '.2f'),\n",
    "                   (bar.get_x() + bar.get_width() / 2,\n",
    "                    bar.get_height()), ha='center', va='center',\n",
    "                   size=16, xytext=(0, 8),\n",
    "                   textcoords='offset points')\n",
    "plt.xticks(fontsize=20)\n",
    "plt.yticks(fontsize=20)\n",
    "plt.xlabel('QoS',size = 22)\n",
    "plt.ylabel('MaxRSS in megabytes',size = 22)\n",
    "if not os.path.exists('RSS_Analysis'):\n",
    "    os.makedirs('RSS_Analysis')\n",
    "plt.savefig('RSS_Analysis/RSS_Analysis_QOS.png')"
   ]
  },
  {
   "cell_type": "markdown",
   "id": "957a381f-00ef-4282-a95e-d54392372a7c",
   "metadata": {},
   "source": [
    "## MaxRSS mean according to partition"
   ]
  },
  {
   "cell_type": "code",
   "execution_count": null,
   "id": "afb1fede-cd31-4298-92bc-0abcad79f1d3",
   "metadata": {},
   "outputs": [],
   "source": [
    "waittimee_rss = waittimee.groupby('Partition', as_index=False).agg({'MaxRSS':'mean','Jcount':'sum'})"
   ]
  },
  {
   "cell_type": "code",
   "execution_count": null,
   "id": "6dbd8c93-cc93-47ce-910d-04bb03ae2234",
   "metadata": {},
   "outputs": [],
   "source": [
    "from pylab import rcParams\n",
    "rcParams['figure.figsize'] = 10, 8\n",
    "waittimee_rss['Partition'] = waittimee_rss['Partition'].apply(str)\n",
    "plots = sns.barplot(x ='Partition',y = 'MaxRSS',data =  waittimee_rss)\n",
    "plots.set_title('Mean Maximum RSS according to Partitions',size = 22)\n",
    "for bar in plots.patches:\n",
    "    plots.annotate(format(bar.get_height(), '.2f'),\n",
    "                   (bar.get_x() + bar.get_width() / 2,\n",
    "                    bar.get_height()), ha='center', va='center',\n",
    "                   size=16, xytext=(0, 8),\n",
    "                   textcoords='offset points')\n",
    "plt.xticks(fontsize=20)\n",
    "plt.yticks(fontsize=20)\n",
    "plt.xlabel('Partition',size = 22)\n",
    "plt.ylabel('MaxRSS in megabytes',size = 22)\n",
    "if not os.path.exists('RSS_Analysis'):\n",
    "    os.makedirs('RSS_Analysis')\n",
    "plt.savefig('RSS_Analysis/RSS_Analysis_part.png')"
   ]
  },
  {
   "cell_type": "markdown",
   "id": "3237995f-506d-4ebb-a881-110a92c852dc",
   "metadata": {},
   "source": [
    "## Number of jobs according to MaxRSS every year"
   ]
  },
  {
   "cell_type": "code",
   "execution_count": null,
   "id": "aa36048b-b08b-47dc-bde6-053e30162c60",
   "metadata": {},
   "outputs": [],
   "source": [
    "def fun(row):\n",
    "    if row['MaxRSS'] <= 500:\n",
    "        val = 1\n",
    "    else:\n",
    "        val = 0\n",
    "    return val\n",
    "waittimee['upto500MB'] = waittimee.apply(fun,axis =1)\n",
    "def fun1(row):\n",
    "    if row['MaxRSS'] <= 1000 and row['MaxRSS'] > 500:\n",
    "        val = 1\n",
    "    else:\n",
    "        val = 0\n",
    "    return val\n",
    "waittimee['uptooneGB'] = waittimee.apply(fun1,axis =1)\n",
    "def fun2(row):\n",
    "    if row['MaxRSS'] <= 10000 and row['MaxRSS'] > 1000:\n",
    "        val = 1\n",
    "    else:\n",
    "        val = 0\n",
    "    return val\n",
    "waittimee['upto10GB'] = waittimee.apply(fun2,axis =1)\n",
    "\n",
    "def fun3(row):\n",
    "    if row['MaxRSS'] > 10000 and row['MaxRSS'] <= 50000:\n",
    "        val = 1\n",
    "    else:\n",
    "        val = 0\n",
    "    return val\n",
    "waittimee['upto50GB'] = waittimee.apply(fun3,axis =1)\n",
    "# def fun4(row):\n",
    "#     if math.isnan(row.MaxRSS):\n",
    "#         val = 1\n",
    "#     else:\n",
    "#         val = 0\n",
    "#     return val\n",
    "# waittimee['RSSNaN'] = waittimee.apply(fun4,axis =1)\n",
    "def fun5(row):\n",
    "    if row['MaxRSS'] > 50000:\n",
    "        val = 1\n",
    "    else:\n",
    "        val = 0\n",
    "    return val\n",
    "waittimee['morethan50GB'] = waittimee.apply(fun5,axis =1)"
   ]
  },
  {
   "cell_type": "code",
   "execution_count": null,
   "id": "7e413209-771b-4abd-ab2a-0ed612895bae",
   "metadata": {},
   "outputs": [],
   "source": [
    "def function8(years):\n",
    "    coun = 10000\n",
    "    df_list = []\n",
    "    df_list2 = []\n",
    "    for i in years:\n",
    "        temp = waittimee[waittimee.yearmonth.str.contains(i,regex = False)]\n",
    "        df_list.append(temp)\n",
    "    for j in df_list:\n",
    "        temp1 = j.groupby(['month','year'], as_index=False).agg({'Jcount':'sum','upto500MB':'sum','uptooneGB':'sum','upto10GB':'sum','upto50GB':'sum','morethan50GB':'sum'})\n",
    "        temp1['month'] = temp1['month'].apply(int)\n",
    "        temp1 = temp1.sort_values('month')\n",
    "        df_list2.append(temp1)\n",
    "    for l in df_list2:\n",
    "        count = 0\n",
    "        num = l.month\n",
    "        datetime_object = []\n",
    "        month_name = []\n",
    "        for m in num:\n",
    "            datetime_object.append(datetime.strptime(str(m), \"%m\"))\n",
    "        for d in datetime_object:\n",
    "            month_name.append(d.strftime(\"%b\"))\n",
    "        fig,ax = plt.subplots()\n",
    "        ax.grid(False)\n",
    "        ax.set_title(\"Number of jobs according to RSS usage for the year {}\".format(str(l.year[0])),size=22)\n",
    "        width = .5 \n",
    "        ax.bar(l.month, l.upto500MB, width, color='g',alpha = 0.5)\n",
    "        ax.bar(l.month, l.uptooneGB, width,bottom =l.upto500MB, color='b',alpha = 0.5)\n",
    "        ax.bar(l.month, l.upto10GB, width,bottom =l.upto500MB + l.uptooneGB, color='brown',alpha = 0.5)\n",
    "        ax.bar(l.month, l.upto50GB, width,bottom =l.upto500MB + l.uptooneGB + l.upto10GB , color='k',alpha = 0.5)\n",
    "        ax.bar(l.month, l.morethan50GB, width,bottom =l.upto500MB + l.uptooneGB + l.upto10GB + l.upto50GB, color='yellow',alpha = 0.5)\n",
    "        fig.set_figheight(12)\n",
    "        fig.set_figwidth(16)\n",
    "        # for p in ax.patches:\n",
    "        #     ax.annotate(str(p.get_height()), (p.get_x() * 1.005, p.get_height() * 1.005),fontsize=10)\n",
    "        ax.set_xlabel('Months', fontsize=16)\n",
    "        ax.set_ylabel('Number of RSS usage jobs', fontsize=18)\n",
    "        ax.set(xticks = l.month)\n",
    "        ax.set_xticklabels(month_name, fontsize=18)\n",
    "        for tick in ax.get_yticklabels():\n",
    "            tick.set_fontsize(\"16\")\n",
    "        plt.subplots_adjust(left=0, bottom=0)\n",
    "        plt.legend([\"RSS upto 500 MB\",'RSS from 500MB to 1 GB', \"RSS upto 10 GB\",\"RSS upto 50 GB\",'RSS more than 50 GB'],prop={'size': 22})\n",
    "        coun = coun + 1\n",
    "        if not os.path.exists('RSS_Analysis'):\n",
    "            os.makedirs('RSS_Analysis')\n",
    "        fig.savefig('RSS_Analysis/{}.png'.format(str(coun)),bbox_inches='tight', dpi=100)\n",
    "        plt.show()"
   ]
  },
  {
   "cell_type": "code",
   "execution_count": null,
   "id": "16ea9d96-aabf-477f-aeeb-4418098f2ddc",
   "metadata": {},
   "outputs": [],
   "source": [
    "years = ['2019', '2020', '2021', '2022']\n",
    "function8(years)"
   ]
  },
  {
   "cell_type": "code",
   "execution_count": null,
   "id": "a0afe279-34df-4d0c-96a8-18392fee36a1",
   "metadata": {},
   "outputs": [],
   "source": [
    "# years = ['2019', '2020', '2021', '2022']\n",
    "# function9(years)"
   ]
  },
  {
   "cell_type": "code",
   "execution_count": null,
   "id": "f5f90539-d4d7-43f9-9ce8-498ed9b52046",
   "metadata": {},
   "outputs": [],
   "source": [
    "# years = ['2019', '2020', '2021', '2022']\n",
    "# function10(years)"
   ]
  },
  {
   "cell_type": "code",
   "execution_count": null,
   "id": "cc99830d-2e27-4453-bc3c-991eb4a5ea09",
   "metadata": {},
   "outputs": [],
   "source": []
  },
  {
   "cell_type": "code",
   "execution_count": null,
   "id": "b5c0caa5-c789-41ba-9111-48dccb35f3b4",
   "metadata": {},
   "outputs": [],
   "source": []
  }
 ],
 "metadata": {
  "kernelspec": {
   "display_name": "Python 3 (ipykernel)",
   "language": "python",
   "name": "python3"
  },
  "language_info": {
   "codemirror_mode": {
    "name": "ipython",
    "version": 3
   },
   "file_extension": ".py",
   "mimetype": "text/x-python",
   "name": "python",
   "nbconvert_exporter": "python",
   "pygments_lexer": "ipython3",
   "version": "3.9.12"
  }
 },
 "nbformat": 4,
 "nbformat_minor": 5
}
