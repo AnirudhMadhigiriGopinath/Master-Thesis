{
 "cells": [
  {
   "cell_type": "code",
   "execution_count": null,
   "id": "f3f44cd6-5fbe-4167-b273-0d5e00533fe8",
   "metadata": {},
   "outputs": [],
   "source": [
    "import pandas as pd\n",
    "import numpy as np\n",
    "pd.set_option('display.max_columns', 50000)\n",
    "pd.set_option('display.max_rows', 1000000)\n",
    "pd.set_option('display.max_colwidth',None)\n",
    "pd.set_option('display.float_format',lambda x: '%.4f' % x)\n",
    "import warnings\n",
    "warnings.filterwarnings(\"ignore\")\n",
    "import matplotlib.pyplot as plt\n",
    "import seaborn as sns\n",
    "import plotly as pl\n",
    "import plotly.express as px\n",
    "import plotly.graph_objects as go\n",
    "from matplotlib.pyplot import figure\n",
    "import matplotlib.pylab as pll\n",
    "from collections import Counter\n",
    "from datetime import datetime\n",
    "import time\n",
    "import random\n",
    "import math\n",
    "import os\n",
    "from sklearn import metrics\n",
    "import sklearn\n",
    "from sklearn.preprocessing import MinMaxScaler\n",
    "from sklearn.preprocessing import StandardScaler\n",
    "from sklearn.cluster import KMeans\n",
    "from sklearn.preprocessing import LabelEncoder\n",
    "import pandas as pd\n",
    "import numpy as np\n",
    "from matplotlib import pyplot as plt\n",
    "from sklearn.cluster import AgglomerativeClustering\n",
    "import scipy.cluster.hierarchy as sch\n",
    "from sklearn.neighbors import NearestNeighbors\n",
    "from sklearn.cluster import DBSCAN\n",
    "import hdbscan\n",
    "import colorcet as cc\n",
    "import kaleido"
   ]
  },
  {
   "cell_type": "code",
   "execution_count": null,
   "id": "2ca62222-0159-41d4-a157-fe8c053baea4",
   "metadata": {
    "scrolled": true,
    "tags": []
   },
   "outputs": [],
   "source": [
    "slurm1 = pd.read_csv('SlurmPlot2.csv')\n",
    "slurm1.tail(100)"
   ]
  },
  {
   "cell_type": "code",
   "execution_count": null,
   "id": "186136bf-cf49-4127-aeb7-33634aec3a1d",
   "metadata": {},
   "outputs": [],
   "source": [
    "slurm1['year'] = pd.DatetimeIndex(slurm1['Submit']).year\n",
    "slurm1['month'] = pd.DatetimeIndex(slurm1['Submit']).month\n",
    "slurm1['year'] = slurm1['year'].apply(str)\n",
    "slurm1['month'] = slurm1['month'].apply(str)\n",
    "slurm1['JobID'] = slurm1['JobID'].astype(str)\n",
    "slurm1['yearmonth'] = slurm1['year'] + '-' + slurm1['month']\n",
    "slurm1 = slurm1[slurm1[\"Starttimestamp\"] != 'Unknown']\n",
    "slurm1 = slurm1[slurm1[\"Endtimestamp\"] != 'Unknown']\n",
    "slurm1['JobLen'] = slurm1['Endtimestamp'].astype(float) - slurm1['Starttimestamp'].astype(float)\n",
    "slurm1['Totalres'] = slurm1['JobLen'] * slurm1['NNodes']\n",
    "discard = [\".\"]\n",
    "slurm = slurm1[~slurm1.JobID.str.contains('|'.join(discard),regex = False)]"
   ]
  },
  {
   "cell_type": "code",
   "execution_count": null,
   "id": "3902d225-6f1e-4813-b56e-0ece67cc77db",
   "metadata": {},
   "outputs": [],
   "source": [
    "df_list = []\n",
    "def function1(years):\n",
    "    for i in years:\n",
    "        temp = slurm[slurm.yearmonth.str.contains(i,regex = False)]\n",
    "        df_list.append(temp)"
   ]
  },
  {
   "cell_type": "code",
   "execution_count": null,
   "id": "a6233fff-276e-4344-bf83-03091c83367c",
   "metadata": {},
   "outputs": [],
   "source": [
    "years = ['2019','2020','2021','2022']\n",
    "function1(years)"
   ]
  },
  {
   "cell_type": "code",
   "execution_count": null,
   "id": "4c814256-889f-4d32-9b1d-9969872471b3",
   "metadata": {},
   "outputs": [],
   "source": [
    "for c in years:\n",
    "    exec('year_{} = pd.DataFrame()'.format(c))\n",
    "year_2019 = df_list[0]\n",
    "year_2020 = df_list[1]\n",
    "year_2021 = df_list[2]\n",
    "year_2022 = df_list[3]\n",
    "Year_2019 = year_2019.sample(frac = 0.10)\n",
    "Year_2020 = year_2020.sample(frac = 0.15)\n",
    "Year_2021 = year_2021.sample(frac = 0.15)\n",
    "Year_2022 = year_2022.sample(frac = 0.01)       "
   ]
  },
  {
   "cell_type": "code",
   "execution_count": null,
   "id": "a5b85b3c-67c8-47ea-b336-e9cf5fcadd7c",
   "metadata": {},
   "outputs": [],
   "source": [
    "sample = pd.concat([Year_2019, Year_2020,Year_2021,Year_2022])\n",
    "cluster = sample.sample(n = 50000)\n"
   ]
  },
  {
   "cell_type": "code",
   "execution_count": null,
   "id": "a47a92c0-06d6-48c7-8a0e-add83cfbe13b",
   "metadata": {},
   "outputs": [],
   "source": [
    "ClusterData = cluster[['JobID','NNodes','TimelimitRaw']]\n",
    "ax = sns.pairplot(ClusterData)\n",
    "if not os.path.exists('Clustering_par1'):\n",
    "    os.makedirs('Clustering_par1')\n",
    "plt.savefig('Clustering_par1/pairplot1.png',bbox_inches='tight', dpi=100)\n",
    "plt.show()"
   ]
  },
  {
   "cell_type": "markdown",
   "id": "273fd385-2426-4f4f-8159-0361bd1669db",
   "metadata": {},
   "source": [
    "# Cubic root scale"
   ]
  },
  {
   "cell_type": "code",
   "execution_count": null,
   "id": "7b8441c8-6e03-4c0c-8463-81dce8928cc7",
   "metadata": {},
   "outputs": [],
   "source": [
    "ClusterData.head()"
   ]
  },
  {
   "cell_type": "code",
   "execution_count": null,
   "id": "fc5574e5-3eb3-40de-8326-20420e571784",
   "metadata": {},
   "outputs": [],
   "source": [
    "# ClusterDataa = ClusterData.drop(['Clustered','Dendcluster','DBcluster'], axis=1)"
   ]
  },
  {
   "cell_type": "code",
   "execution_count": null,
   "id": "12605b8a-44c7-4870-a7b4-8a4b16b8526c",
   "metadata": {},
   "outputs": [],
   "source": [
    "ClusterDataa2 = ClusterData.copy()"
   ]
  },
  {
   "cell_type": "code",
   "execution_count": null,
   "id": "33aaad80-6fd3-47a5-ac7d-f6d401961ed1",
   "metadata": {},
   "outputs": [],
   "source": [
    "ClusterDataa2['NNodes'] = np.power(ClusterData['NNodes'],(1/2))\n",
    "ClusterDataa2['TimelimitRaw'] = np.power(ClusterData['TimelimitRaw'],(1/2))"
   ]
  },
  {
   "cell_type": "code",
   "execution_count": null,
   "id": "63119483-2f17-4d57-8b6e-0143b5384151",
   "metadata": {},
   "outputs": [],
   "source": [
    "#Dropping the JobID column to keep only numerical values to cluster\n",
    "ClusterDataacs = ClusterDataa2.drop(['JobID'], axis=1)\n",
    "sc_x = StandardScaler()\n",
    "ClusterDataacs = sc_x.fit_transform(ClusterDataacs)"
   ]
  },
  {
   "cell_type": "markdown",
   "id": "3f26f13e-1c3d-49fe-8267-453f062fe74d",
   "metadata": {},
   "source": [
    "## K-Means"
   ]
  },
  {
   "cell_type": "code",
   "execution_count": null,
   "id": "2614a9fa-a406-4e61-a69a-f40c35ec548f",
   "metadata": {},
   "outputs": [],
   "source": [
    "#K-Means Clustering Algorithm\n",
    "n_clusters = 10\n",
    "kmeanss = KMeans(n_clusters=n_clusters)\n",
    "kmeanss.fit(ClusterDataacs)\n",
    "ClusterData['Clustered'] = pd.Series(kmeanss.labels_, index=ClusterData.index)\n",
    "ClusterData['Clustered'].value_counts()"
   ]
  },
  {
   "cell_type": "code",
   "execution_count": null,
   "id": "a5fcb710-fde5-4721-b048-ec2dc7264d25",
   "metadata": {},
   "outputs": [],
   "source": [
    "\n",
    "plt.figure(figsize=(15, 5))\n",
    "fig = px.scatter(ClusterData, x='NNodes', y='TimelimitRaw', color='Clustered')\n",
    "fig.show()"
   ]
  },
  {
   "cell_type": "code",
   "execution_count": null,
   "id": "50e41e58-3711-4574-9c97-7efa0cbb91f3",
   "metadata": {},
   "outputs": [],
   "source": [
    "plt.figure(figsize=(15, 5))\n",
    "sns.scatterplot(x='NNodes', y='TimelimitRaw', hue='Clustered',data=ClusterData,palette=\"bright\")"
   ]
  },
  {
   "cell_type": "markdown",
   "id": "1ee4d20c-ae8e-4ebe-9745-99ed7f0f971b",
   "metadata": {},
   "source": [
    "## Standard Scaling"
   ]
  },
  {
   "cell_type": "code",
   "execution_count": null,
   "id": "be96b0c5-446e-4998-bfff-7ae828f4b7d5",
   "metadata": {},
   "outputs": [],
   "source": [
    "#Dropping the JobID column to keep only numerical values to cluster\n",
    "ClusterData1s = ClusterData.drop(['JobID'], axis=1)\n",
    "sc_x = StandardScaler()\n",
    "ClusterData1s = sc_x.fit_transform(ClusterData1s)"
   ]
  },
  {
   "cell_type": "code",
   "execution_count": null,
   "id": "bf033c3c-5269-42f8-ae26-b062993d6d46",
   "metadata": {},
   "outputs": [],
   "source": [
    "ClusterData1s = ClusterData.drop(['Clustered','DBcluster','JobID'], axis=1)"
   ]
  },
  {
   "cell_type": "code",
   "execution_count": null,
   "id": "46a7c33d-387a-4975-9bbb-f29b39a3bf24",
   "metadata": {},
   "outputs": [],
   "source": [
    "ClusterData.head(1)"
   ]
  },
  {
   "cell_type": "code",
   "execution_count": null,
   "id": "8f0aea23-c331-490f-a9be-4ad372126bf5",
   "metadata": {},
   "outputs": [],
   "source": [
    "sc_x = StandardScaler()\n",
    "ClusterData1s = sc_x.fit_transform(ClusterData1s)"
   ]
  },
  {
   "cell_type": "markdown",
   "id": "1091257f-0002-444f-842f-98c1da4a90f3",
   "metadata": {},
   "source": [
    "# K - Means"
   ]
  },
  {
   "cell_type": "code",
   "execution_count": null,
   "id": "819119d5-2f1a-466d-aa1f-5ac5073bc37e",
   "metadata": {},
   "outputs": [],
   "source": [
    "\n",
    "#Elbow Method to determine the best K value\n",
    "distortions = []\n",
    "K = range(1,10)\n",
    "for k in K:\n",
    "    kmeanModel = KMeans(n_clusters=k)\n",
    "    kmeanModel.fit(ClusterData1s)\n",
    "    distortions.append(kmeanModel.inertia_)\n",
    "plt.figure(figsize=(12,8))\n",
    "plt.plot(K, distortions, 'bx-')\n",
    "plt.xlabel('k')\n",
    "plt.ylabel('Distortion')\n",
    "plt.title('The Elbow Method showing the optimal k')\n",
    "if not os.path.exists('Clustering_par1'):\n",
    "    os.makedirs('Clustering_par1')\n",
    "plt.savefig('Clustering_par1/elbow1.png',bbox_inches='tight', dpi=100)\n",
    "plt.show()"
   ]
  },
  {
   "cell_type": "code",
   "execution_count": null,
   "id": "6996eb0b-2cde-41c8-a3bd-8b7a9e7454f9",
   "metadata": {},
   "outputs": [],
   "source": [
    "temp = 0\n",
    "best = 0\n",
    "from sklearn.metrics import silhouette_score\n",
    "silhouette_avg = []\n",
    "K = range(2,15)\n",
    "for num_clusters in K:\n",
    "    kmeans = KMeans(n_clusters=num_clusters)\n",
    "    kmeans.fit(ClusterData1s)\n",
    "    cluster_labels = kmeans.labels_\n",
    "    temp = silhouette_score(ClusterData1s, cluster_labels)\n",
    "    silhouette_avg.append(temp)\n",
    "    max_value = max(silhouette_avg)\n",
    "    best = silhouette_avg.index(max_value) + 2\n",
    "    print(silhouette_avg)\n",
    "    print(best)\n"
   ]
  },
  {
   "cell_type": "code",
   "execution_count": null,
   "id": "41b14ef6-b4f3-4f55-9da9-6c59eaa7f51d",
   "metadata": {},
   "outputs": [],
   "source": []
  },
  {
   "cell_type": "code",
   "execution_count": null,
   "id": "c8f190c2-78e1-475e-8cee-c1ef305b6bb1",
   "metadata": {},
   "outputs": [],
   "source": [
    "#K-Means Clustering Algorithm\n",
    "kmeans = KMeans(n_clusters=3)\n",
    "kmeans.fit(ClusterData1s)\n",
    "ClusterData['Clustered'] = pd.Series(kmeans.labels_, index=ClusterData.index)\n",
    "ClusterData['Clustered'].value_counts()"
   ]
  },
  {
   "cell_type": "code",
   "execution_count": null,
   "id": "765eec25-1b8a-4dcd-b69d-54cc8ab25561",
   "metadata": {},
   "outputs": [],
   "source": [
    "plt.figure(figsize=(8, 6))\n",
    "ax = sns.scatterplot(x='NNodes', y='TimelimitRaw', hue='Clustered',data=ClusterData,palette=\"bright\")\n",
    "ax.set_ylabel(\"Time limit in minutes\", fontsize = 14)\n",
    "ax.set_xlabel(\"Number of nodes\", fontsize = 14)\n",
    "if not os.path.exists('Clustering_par1'):\n",
    "    os.makedirs('Clustering_par1')\n",
    "plt.savefig('Clustering_par1/scatterplot_k-means1.png',bbox_inches='tight', dpi=100)\n",
    "plt.show()"
   ]
  },
  {
   "cell_type": "code",
   "execution_count": null,
   "id": "998cab46-376c-4203-89e2-90fbe0ae7b7a",
   "metadata": {},
   "outputs": [],
   "source": [
    "plt.figure(figsize=(15, 5))\n",
    "fig = px.scatter(ClusterData, x='NNodes', y='TimelimitRaw', color='Clustered')\n",
    "fig.show()"
   ]
  },
  {
   "cell_type": "markdown",
   "id": "be25a6e0-3103-4ba7-a93a-9c4121880f09",
   "metadata": {},
   "source": [
    "# Aglomerative Clustering"
   ]
  },
  {
   "cell_type": "code",
   "execution_count": null,
   "id": "cfee8e7c-5b12-4609-a350-d66f5d7a660b",
   "metadata": {},
   "outputs": [],
   "source": [
    "temp = 0\n",
    "best = 0\n",
    "from sklearn.metrics import silhouette_score\n",
    "silhouette_avg = []\n",
    "K = range(2,15)\n",
    "for num_clusters in K:\n",
    "    agg = AgglomerativeClustering(n_clusters= num_clusters, affinity='euclidean', linkage='ward')\n",
    "    agg.fit(ClusterData1s)\n",
    "    cluster_labels = agg.labels_\n",
    "    temp = silhouette_score(ClusterData1s, cluster_labels)\n",
    "    silhouette_avg.append(temp)\n",
    "    max_value = max(silhouette_avg)\n",
    "    best = silhouette_avg.index(max_value) + 2\n",
    "    print(silhouette_avg)\n",
    "    print(best)"
   ]
  },
  {
   "cell_type": "code",
   "execution_count": null,
   "id": "cc5972e4-6582-4a54-b119-c16006e94139",
   "metadata": {},
   "outputs": [],
   "source": [
    "model = AgglomerativeClustering(n_clusters=2, affinity='euclidean', linkage='ward')\n",
    "model.fit(ClusterData1s)\n",
    "ClusterData['Dendcluster'] = pd.Series(model.labels_, index=ClusterData.index)\n",
    "ClusterData['Dendcluster'].value_counts()"
   ]
  },
  {
   "cell_type": "code",
   "execution_count": null,
   "id": "7515e556-c292-4d6c-af42-4af52b6be59e",
   "metadata": {},
   "outputs": [],
   "source": [
    "plt.figure(figsize=(10,8))\n",
    "sns.scatterplot(x='NNodes', y='TimelimitRaw', hue='Dendcluster',data=ClusterData,palette=\"bright\")\n",
    "if not os.path.exists('Clustering_par1'):\n",
    "    os.makedirs('Clustering_par1')\n",
    "plt.savefig('Clustering_par1/agglomerative.png',bbox_inches='tight', dpi=100)\n",
    "plt.show()"
   ]
  },
  {
   "cell_type": "markdown",
   "id": "0eaf45e7-6646-4b32-bca6-25b202a2b71a",
   "metadata": {},
   "source": [
    "# HDB Scan"
   ]
  },
  {
   "cell_type": "markdown",
   "id": "23a2320c-cf24-4895-9842-de907be01548",
   "metadata": {},
   "source": [
    "### Drop the clustered columns created previously for example clustered, dendcluster"
   ]
  },
  {
   "cell_type": "code",
   "execution_count": null,
   "id": "06d6bf12-19a2-40f0-ad96-18633fcb5c32",
   "metadata": {},
   "outputs": [],
   "source": [
    "\n",
    "#ClusterDataa = ClusterData.drop(['JobID','Clustered','Dendcluster','DBcluster'], axis=1)"
   ]
  },
  {
   "cell_type": "code",
   "execution_count": null,
   "id": "2403a21a-e67a-4c23-98c3-a63da226447b",
   "metadata": {},
   "outputs": [],
   "source": [
    "ClusterDataa.head()"
   ]
  },
  {
   "cell_type": "code",
   "execution_count": null,
   "id": "eedf5ff2-81eb-4e2c-9e5f-d2a94ecaf16b",
   "metadata": {
    "scrolled": true,
    "tags": []
   },
   "outputs": [],
   "source": [
    "DB = hdbscan.HDBSCAN(min_samples =5,cluster_selection_epsilon =0.08,min_cluster_size = 50)\n",
    "DB.fit_predict(ClusterData1s)\n",
    "ClusterData['DBcluster'] = pd.Series(DB.labels_, index=ClusterData.index)\n",
    "ClusterData['DBcluster'].value_counts()"
   ]
  },
  {
   "cell_type": "code",
   "execution_count": null,
   "id": "3240fe13-e97e-4c31-af3d-ef740d7be813",
   "metadata": {
    "scrolled": true,
    "tags": []
   },
   "outputs": [],
   "source": [
    "fig = px.scatter(ClusterData, x='NNodes', y='TimelimitRaw', color='DBcluster',width=2000, height=1000)\n",
    "fig.show()"
   ]
  },
  {
   "cell_type": "code",
   "execution_count": null,
   "id": "5195d54d-9d58-48c8-b058-0a92326249e3",
   "metadata": {},
   "outputs": [],
   "source": [
    "plt.figure(figsize=(15, 5))\n",
    "\n",
    "palette = sns.color_palette(cc.glasbey, n_colors=57)\n",
    "ax = sns.scatterplot(x='NNodes', y='TimelimitRaw', hue='DBcluster',data=ClusterData,palette=palette, legend = False)\n",
    "ax.set_xlabel(\"Time limit in minutes\", fontsize = 14)\n",
    "ax.set_ylabel(\"Number of nodes\", fontsize = 14)\n",
    "if not os.path.exists('Clustering_par1'):\n",
    "    os.makedirs('Clustering_par1')\n",
    "plt.savefig('Clustering_par1/HDBSCAN.png',bbox_inches='tight', dpi=100)\n",
    "plt.show()"
   ]
  },
  {
   "cell_type": "markdown",
   "id": "91a6a16b-8b53-45b1-b7a0-07376e6a9d6c",
   "metadata": {},
   "source": [
    "## Normalization"
   ]
  },
  {
   "cell_type": "code",
   "execution_count": null,
   "id": "d02c2621-f786-43f9-9e96-b326b92b5bd5",
   "metadata": {},
   "outputs": [],
   "source": [
    "ClusterData2s = ClusterData.drop(['JobID','Clustered','Dendcluster','DBcluster'], axis=1)\n",
    "sc_x2 = MinMaxScaler()\n",
    "ClusterData2s = sc_x2.fit_transform(ClusterData2s)\n",
    "#Elbow Method to determine the best K value\n",
    "distortions = []\n",
    "K = range(1,10)\n",
    "for k in K:\n",
    "    kmeanModel = KMeans(n_clusters=k)\n",
    "    kmeanModel.fit(ClusterData2s)\n",
    "    distortions.append(kmeanModel.inertia_)\n",
    "plt.figure(figsize=(16,8))\n",
    "plt.plot(K, distortions, 'bx-')\n",
    "plt.xlabel('k')\n",
    "plt.ylabel('Distortion')\n",
    "plt.title('The Elbow Method showing the optimal k')\n",
    "plt.show()"
   ]
  },
  {
   "cell_type": "code",
   "execution_count": null,
   "id": "07feb835-b1a3-4ea2-8f63-0a987138020f",
   "metadata": {},
   "outputs": [],
   "source": [
    "ClusterData2s"
   ]
  },
  {
   "cell_type": "code",
   "execution_count": null,
   "id": "1c90b4a0-cd05-468f-9b46-aa6a8fb0da45",
   "metadata": {},
   "outputs": [],
   "source": [
    "temp = 0\n",
    "best = 0\n",
    "from sklearn.metrics import silhouette_score\n",
    "silhouette_avg = []\n",
    "K = range(2,15)\n",
    "for num_clusters in K:\n",
    "    kmeans = KMeans(n_clusters=num_clusters)\n",
    "    kmeans.fit(ClusterData2s)\n",
    "    cluster_labels = kmeans.labels_\n",
    "    temp = silhouette_score(ClusterData2s, cluster_labels)\n",
    "    silhouette_avg.append(temp)\n",
    "    max_value = max(silhouette_avg)\n",
    "    best = silhouette_avg.index(max_value) + 2\n",
    "    print(silhouette_avg)\n",
    "    print(best)\n"
   ]
  },
  {
   "cell_type": "code",
   "execution_count": null,
   "id": "e154a017-868d-4902-a812-ad2852160be5",
   "metadata": {},
   "outputs": [],
   "source": [
    "#K-Means Clustering Algorithm\n",
    "kmeans4 = KMeans(n_clusters=2)\n",
    "kmeans4.fit(ClusterData2s)\n",
    "ClusterData['Clustered'] = pd.Series(kmeans4.labels_, index=ClusterData.index)\n",
    "ClusterData['Clustered'].value_counts()"
   ]
  },
  {
   "cell_type": "code",
   "execution_count": null,
   "id": "919d3ea4-4ce9-4b6f-b7ac-5945b0c4873e",
   "metadata": {},
   "outputs": [],
   "source": [
    "plt.figure(figsize=(15, 5))\n",
    "sns.scatterplot(x='NNodes', y='TimelimitRaw', hue='Clustered',data=ClusterData,palette=\"bright\")"
   ]
  },
  {
   "cell_type": "markdown",
   "id": "f470c870-8b85-4c98-8c3f-42c9db2281ef",
   "metadata": {},
   "source": [
    "# For all the records"
   ]
  },
  {
   "cell_type": "code",
   "execution_count": null,
   "id": "1d04481b-16df-41c4-875b-504e19a2e263",
   "metadata": {},
   "outputs": [],
   "source": [
    "Data = slurm[['JobID','NNodes','TimelimitRaw']]\n",
    "sns.pairplot(Data)\n",
    "if not os.path.exists('Clustering_par1'):\n",
    "    os.makedirs('Clustering_par1')\n",
    "plt.savefig('Clustering_par1/pairplot2.png',bbox_inches='tight', dpi=100)\n",
    "plt.show()"
   ]
  },
  {
   "cell_type": "code",
   "execution_count": null,
   "id": "d41804b3-c561-4087-aaa0-86b2acf27999",
   "metadata": {},
   "outputs": [],
   "source": [
    "plt.figure(figsize=(10, 8))\n",
    "p = sns.scatterplot(x='NNodes', y='TimelimitRaw',data=Data,palette=\"bright\")\n",
    "p.set_xlabel(\"Nodes\", fontsize = 20)\n",
    "p.set_ylabel(\"Timelimit in minutes\", fontsize = 16)\n",
    "if not os.path.exists('Clustering_par1'):\n",
    "    os.makedirs('Clustering_par1')\n",
    "plt.savefig('Clustering_par1/data.png',bbox_inches='tight', dpi=100)\n",
    "plt.show()"
   ]
  },
  {
   "cell_type": "code",
   "execution_count": null,
   "id": "23b9d214-89a2-4b6a-9b2d-f7d93a45a9e8",
   "metadata": {},
   "outputs": [],
   "source": [
    "Data.info()"
   ]
  },
  {
   "cell_type": "code",
   "execution_count": null,
   "id": "6cc0db8b-c855-4f87-8a0a-5f97e74ea95e",
   "metadata": {},
   "outputs": [],
   "source": [
    "Data1s = Data.drop(['JobID'], axis=1)\n",
    "sc_x = StandardScaler()\n",
    "Data1s = sc_x.fit_transform(Data1s)\n",
    "#Elbow Method to determine the best K value\n",
    "distortions = []\n",
    "K = range(1,10)\n",
    "for k in K:\n",
    "    kmeanModel = KMeans(n_clusters=k)\n",
    "    kmeanModel.fit(Data1s)\n",
    "    distortions.append(kmeanModel.inertia_)\n",
    "plt.figure(figsize=(16,8))\n",
    "plt.plot(K, distortions, 'bx-')\n",
    "plt.xlabel('k')\n",
    "plt.ylabel('Distortion')\n",
    "plt.title('The Elbow Method showing the optimal k')\n",
    "plt.show()"
   ]
  },
  {
   "cell_type": "code",
   "execution_count": null,
   "id": "ec5dbe88-c5e4-4221-b1db-6c5bc2d624c7",
   "metadata": {},
   "outputs": [],
   "source": [
    "Data1s"
   ]
  },
  {
   "cell_type": "code",
   "execution_count": null,
   "id": "73b0d1c8-4314-4730-9151-54558d0cb973",
   "metadata": {},
   "outputs": [],
   "source": [
    "temp = 0\n",
    "best = 0\n",
    "from sklearn.metrics import silhouette_score\n",
    "silhouette_avg = []\n",
    "K = range(2,15)\n",
    "for num_clusters in K:\n",
    "    kmeans = KMeans(n_clusters=num_clusters)\n",
    "    kmeans.fit(Data1s)\n",
    "    cluster_labels = kmeans.labels_\n",
    "    temp = silhouette_score(Data1s, cluster_labels)\n",
    "    silhouette_avg.append(temp)\n",
    "    max_value = max(silhouette_avg)\n",
    "    best = silhouette_avg.index(max_value) + 2\n",
    "    print(silhouette_avg)\n",
    "    print(best)\n"
   ]
  },
  {
   "cell_type": "code",
   "execution_count": null,
   "id": "f2c678f6-3d88-4532-88ac-19adb23249be",
   "metadata": {},
   "outputs": [],
   "source": [
    "#K-Means Clustering Algorithm\n",
    "kmeansa = KMeans(n_clusters=10)\n",
    "kmeansa.fit(Data1s)\n",
    "Data['Clustered'] = pd.Series(kmeansa.labels_, index=Data.index)\n",
    "Data['Clustered'].value_counts()"
   ]
  },
  {
   "cell_type": "code",
   "execution_count": null,
   "id": "4a92647f-b953-4aab-a02c-392e89f218df",
   "metadata": {},
   "outputs": [],
   "source": [
    "from pylab import rcParams\n",
    "rcParams['figure.figsize'] = 10, 10\n",
    "\n",
    "import matplotlib.pyplot as plt\n",
    "import seaborn as sns\n",
    "palette = sns.color_palette(cc.glasbey, n_colors=10)\n",
    "ax = sns.scatterplot(x='NNodes', y='TimelimitRaw', hue='Clustered',data=Data,palette=palette)\n",
    "ax.set_ylabel(\"Time limit in minutes\", fontsize = 14)\n",
    "ax.set_xlabel(\"Number of nodes\", fontsize = 14)\n",
    "if not os.path.exists('clustering_all'):\n",
    "    os.makedirs('clustering_all')\n",
    "plt.savefig('clustering_all/clustering1.png')"
   ]
  },
  {
   "cell_type": "markdown",
   "id": "ee7a2cf8-860d-49f1-80a1-289bb062e93e",
   "metadata": {},
   "source": [
    "# HDB Scan"
   ]
  },
  {
   "cell_type": "code",
   "execution_count": null,
   "id": "029e53eb-adc3-4bd5-b702-61192d883ba9",
   "metadata": {},
   "outputs": [],
   "source": [
    "DB = hdbscan.HDBSCAN(min_samples = 2,cluster_selection_epsilon = 0.1,min_cluster_size = 50)\n",
    "DB.fit_predict(Data1s)\n",
    "Data['DBcluster'] = pd.Series(DB.labels_, index=Data.index)\n",
    "a = Data['DBcluster'].value_counts()"
   ]
  },
  {
   "cell_type": "code",
   "execution_count": null,
   "id": "a4bb7acf-abbe-44e0-a5a1-223f950c87ef",
   "metadata": {},
   "outputs": [],
   "source": [
    "a"
   ]
  },
  {
   "cell_type": "code",
   "execution_count": null,
   "id": "ae508710-ccd6-4d41-af0e-3aa9197a1e5a",
   "metadata": {},
   "outputs": [],
   "source": [
    "from pylab import rcParams\n",
    "rcParams['figure.figsize'] = 15, 10\n",
    "import colorcet as cc\n",
    "import matplotlib.pyplot as plt\n",
    "import seaborn as sns\n",
    "palette = sns.color_palette(cc.glasbey, n_colors=len(a))\n",
    "ax = sns.scatterplot(x='NNodes', y='TimelimitRaw', hue='DBcluster',data=Data,palette = palette,legend = False )\n",
    "ax.set_ylabel(\"Time limit in minutes\", fontsize = 14)\n",
    "ax.set_xlabel(\"Number of nodes\", fontsize = 14)\n",
    "if not os.path.exists('clustering_all'):\n",
    "    os.makedirs('clustering_all')\n",
    "plt.savefig('clustering_all/clustering3.png',bbox_inches='tight', dpi=100)"
   ]
  },
  {
   "cell_type": "code",
   "execution_count": null,
   "id": "48772f44-7e1a-494e-b8d6-d34767d6123f",
   "metadata": {},
   "outputs": [],
   "source": []
  },
  {
   "cell_type": "code",
   "execution_count": null,
   "id": "4a2ffbed-4276-40b9-b230-b65b6aadd866",
   "metadata": {},
   "outputs": [],
   "source": []
  },
  {
   "cell_type": "code",
   "execution_count": null,
   "id": "c1fea344-6928-415c-85f1-c10e7ef7e50a",
   "metadata": {},
   "outputs": [],
   "source": []
  },
  {
   "cell_type": "code",
   "execution_count": null,
   "id": "686da352-ac2b-4e27-8dbd-252f7fa3dfd5",
   "metadata": {},
   "outputs": [],
   "source": []
  }
 ],
 "metadata": {
  "kernelspec": {
   "display_name": "Python 3 (ipykernel)",
   "language": "python",
   "name": "python3"
  },
  "language_info": {
   "codemirror_mode": {
    "name": "ipython",
    "version": 3
   },
   "file_extension": ".py",
   "mimetype": "text/x-python",
   "name": "python",
   "nbconvert_exporter": "python",
   "pygments_lexer": "ipython3",
   "version": "3.9.12"
  }
 },
 "nbformat": 4,
 "nbformat_minor": 5
}
